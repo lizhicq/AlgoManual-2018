{
  "nbformat": 4,
  "nbformat_minor": 0,
  "metadata": {
    "colab": {
      "name": "Lintcode Solutions",
      "version": "0.3.2",
      "provenance": [],
      "collapsed_sections": [
        "GAJTOZc_HSNN",
        "JF1PH6BYyFqc",
        "8-veu44AzpHb",
        "oTcS_Evw6hRs"
      ],
      "include_colab_link": true
    },
    "kernelspec": {
      "name": "python2",
      "display_name": "Python 2"
    },
    "accelerator": "GPU"
  },
  "cells": [
    {
      "cell_type": "markdown",
      "metadata": {
        "id": "view-in-github",
        "colab_type": "text"
      },
      "source": [
        "[View in Colaboratory](https://colab.research.google.com/github/lizhicq/TestProjects/blob/master/Lintcode_Solutions.ipynb)"
      ]
    },
    {
      "metadata": {
        "id": "2pw5MeNIp-qu",
        "colab_type": "text"
      },
      "cell_type": "markdown",
      "source": [
        "# Introduction\n",
        "\n",
        "Hack the coding interview with this manual !"
      ]
    },
    {
      "metadata": {
        "id": "iPg-jJ3uqLK2",
        "colab_type": "text"
      },
      "cell_type": "markdown",
      "source": [
        "### 667. Longest Palindromic Subsequence\n",
        "\n",
        "Description\n",
        "Given a string s, find the longest palindromic subsequence's length in s. You may assume that the maximum length of s is 1000.\n",
        "\n",
        "Have you met this question in a real interview?  \n",
        "```\n",
        "Example\n",
        "Given s = \"bbbab\" return 4\n",
        "One possible longest palindromic subsequence is \"bbbb\".\n",
        "```\n",
        "\n",
        "\n"
      ]
    },
    {
      "metadata": {
        "id": "6ClzufgOqVGG",
        "colab_type": "code",
        "colab": {
          "base_uri": "https://localhost:8080/",
          "height": 52
        },
        "outputId": "d9e6e739-3db5-4015-eeed-280dc98c93a7"
      },
      "cell_type": "code",
      "source": [
        "class Solution(object):\n",
        "    \"\"\"\n",
        "    @param s: the maximum length of s is 1000\n",
        "    @return: the longest palindromic subsequence's length\n",
        "    \"\"\"\n",
        "    def longestPalindromeSubseq(self, s):\n",
        "        if s == \"\":\n",
        "            return 0 \n",
        "        f = [[0 for j in range(len(s))] \n",
        "                for i in range(len(s))]\n",
        "        for i in range(len(s)-1, -1, -1):\n",
        "            f[i][i] = 1 \n",
        "            for j in range(i+1, len(s)):\n",
        "                if s[i] == s[j]:\n",
        "                    f[i][j] = f[i+1][j-1] + 2\n",
        "                else:\n",
        "                    f[i][j] = max(f[i+1][j], f[i][j-1])\n",
        "        print f \n",
        "        return f[0][-1]\n",
        "\n",
        "      \n",
        "if __name__ == \"__main__\":\n",
        "    print Solution().longestPalindromeSubseq(s = \"bbbab\")\n",
        "        "
      ],
      "execution_count": 13,
      "outputs": [
        {
          "output_type": "stream",
          "text": [
            "[[1, 2, 3, 3, 4], [0, 1, 2, 2, 3], [0, 0, 1, 1, 3], [0, 0, 0, 1, 1], [0, 0, 0, 0, 1]]\n",
            "4\n"
          ],
          "name": "stdout"
        }
      ]
    },
    {
      "metadata": {
        "id": "1rB-nh0RhwaR",
        "colab_type": "text"
      },
      "cell_type": "markdown",
      "source": [
        "### 200. Longest Palindromic Substring\n",
        "Given a string S, find the longest palindromic substring in S. You may assume that the maximum length of S is 1000, and there exists one unique longest palindromic substring.\n",
        "\n",
        "Example\n",
        "Given the string = \"abcdzdcab\", return \"cdzdc\".\n",
        "\n",
        "Challenge\n",
        "O(n2) time is acceptable. Can you do it in O(n) time."
      ]
    },
    {
      "metadata": {
        "id": "JTakmp2Mh8Sg",
        "colab_type": "code",
        "colab": {
          "base_uri": "https://localhost:8080/",
          "height": 34
        },
        "outputId": "29a173a2-c56e-464e-f8ed-59b913fb015f"
      },
      "cell_type": "code",
      "source": [
        "class Solution:\n",
        "    \"\"\"\n",
        "    @param s: input string\n",
        "    @return: the longest palindromic substring\n",
        "    \"\"\"\n",
        "    def longestPalindrome(self, s):\n",
        "        res = ''\n",
        "        for i in range(len(s)):\n",
        "            tmp1 = self.helper(s, i, i)\n",
        "            tmp2 = self.helper(s, i, i+1)\n",
        "            res = max(res, tmp1, tmp2, key=len)\n",
        "        return res \n",
        "    \n",
        "    def helper(self, s, i, j):\n",
        "        while i >= 0 and j < len(s) and s[i] == s[j]:\n",
        "            i -= 1\n",
        "            j += 1\n",
        "        return s[i+1:j]\n",
        "    \n",
        "if __name__ == \"__main__\":\n",
        "    print Solution().longestPalindrome(\"abcdzdcab\")"
      ],
      "execution_count": 2,
      "outputs": [
        {
          "output_type": "stream",
          "text": [
            "cdzdc\n"
          ],
          "name": "stdout"
        }
      ]
    },
    {
      "metadata": {
        "id": "LNfsww28z1dE",
        "colab_type": "text"
      },
      "cell_type": "markdown",
      "source": [
        "# Binary Search & Log N\n",
        "\n",
        "```\n",
        "二分法(binary search)是面试中常见的算法。如果你的学校有算法课，那么你可能已经学习过二分这个算法了。\n",
        "\n",
        "但是很多同学在二分法的问题上，依然无法熟练掌握，以下问题经常会不断发生：\n",
        "\n",
        "写出来的二分法总是死循环\n",
        "start + 1 < end 还是 start <= end 还是 start < end 总是搞不清楚\n",
        "start = mid + 1 还是 start = mid 也总是搞不清楚\n",
        "在这一章的学习中，我们要会学到：\n",
        "\n",
        "一个通用的二分模板\n",
        "为什么会出现死循环\n",
        "哪些题目可以用二分法来做\n",
        "通过时间复杂度倒推算法的技巧\n",
        "其他的 Log N 算法（倍增法，辗转相除法，快速幂算法）\n",
        "先修内容有：\n",
        "\n",
        "基本的二分法该如何写\n",
        "第一个位置，最后一个位置该如何变化\n",
        "Big O，时间复杂度，空间复杂度\n",
        "什么是递归，二分法用递归如何实现\n",
        "内存中的栈空间和堆空间有什么区别\n",
        "什么是 Stack Overflow，什么情况下会造成 Stack Overflow\n",
        "补充内容有：\n",
        "\n",
        "三步翻转法\n",
        "递增矩阵找数\n",
        "快速幂算法\n",
        "辗转相除法\n",
        "LintCode 上的二分法题目\n",
        "可以看到，二分的题目非常的多\n",
        "http://www.lintcode.com/tag/binary-search\n",
        "  ```\n",
        "  "
      ]
    },
    {
      "metadata": {
        "id": "UbZz3EB67rFk",
        "colab_type": "text"
      },
      "cell_type": "markdown",
      "source": [
        "## 带check 函数的二分"
      ]
    },
    {
      "metadata": {
        "id": "o-ejMEPU_Jz1",
        "colab_type": "text"
      },
      "cell_type": "markdown",
      "source": [
        "### 437. Copy Books\n",
        "Given n books and the ith book has A[i] pages. You are given k people to copy the n books.\n",
        "\n",
        "n books list in a row and each person can claim a continous range of the n books. For example one copier can copy the books from ith to jth continously, but he can not copy the 1st book, 2nd book and 4th book (without 3rd book).\n",
        "\n",
        "They start copying books at the same time and they all cost 1 minute to copy 1 page of a book. What's the best strategy to assign books so that the slowest copier can finish at earliest time?\n",
        "\n",
        "Example\n",
        "Given array A = [3,2,4], k = 2.\n",
        "\n",
        "Return 5( First person spends 5 minutes to copy book 1 and book 2 and second person spends 4 minutes to copy book 3. )\n",
        "```"
      ]
    },
    {
      "metadata": {
        "id": "l7GqxHNi7TMt",
        "colab_type": "code",
        "colab": {}
      },
      "cell_type": "code",
      "source": [
        "from sys import maxsize\n",
        "class Solution:\n",
        "    \"\"\"\n",
        "    @param pages: an array of integers\n",
        "    @param k: An integer\n",
        "    @return: an integer\n",
        "    \"\"\"\n",
        "    def copyBooks(self, pages, k):\n",
        "\n",
        "        def check(mid): # if mid is large enough to make k people finish their work before mid\n",
        "            page_left = num = 0 \n",
        "            for page in pages:\n",
        "                if page > mid:\n",
        "                    return False\n",
        "                if page > page_left:\n",
        "                    page_left = mid \n",
        "                    num += 1 \n",
        "                if page <= page_left:\n",
        "                    page_left -= page\n",
        "            return num <= k \n",
        "        \n",
        "        start, end = 0, maxsize\n",
        "        while start + 1 < end:\n",
        "            mid = start + (end - start) / 2 \n",
        "            if check(mid):\n",
        "                end = mid\n",
        "            else:\n",
        "                start = mid\n",
        "        \n",
        "        if check(start): # start is large enough \n",
        "            return start\n",
        "        return end"
      ],
      "execution_count": 0,
      "outputs": []
    },
    {
      "metadata": {
        "id": "4CkMuhgX_OGL",
        "colab_type": "text"
      },
      "cell_type": "markdown",
      "source": [
        "### 183. Wood Cut\n",
        "Given n pieces of wood with length L[i] (integer array). Cut them into small pieces to guarantee you could have equal or more than k pieces with the same length. What is the longest length you can get from the n pieces of wood? Given L & k, return the maximum length of the small pieces.\n",
        "```\n",
        "Example\n",
        "For L=[232, 124, 456], k=7, return 114.\n",
        "\n",
        "Challenge\n",
        "O(n log Len), where Len is the longest length of the wood.\n",
        "```"
      ]
    },
    {
      "metadata": {
        "id": "jL_9KStj_Shm",
        "colab_type": "code",
        "colab": {}
      },
      "cell_type": "code",
      "source": [
        "class Solution:\n",
        "    \"\"\"\n",
        "    @param L: Given n pieces of wood with length L[i]\n",
        "    @param k: An integer\n",
        "    @return: The maximum length of the small pieces\n",
        "    \"\"\"\n",
        "    def woodCut(self, L, k):\n",
        "        if L == []:\n",
        "            return 0 \n",
        "        start, end = 0, max(L)\n",
        "        while start + 1 < end:\n",
        "            mid = start + (end - start) // 2\n",
        "            if self.check(mid, L, k):\n",
        "                start = mid\n",
        "            else:\n",
        "                end = mid\n",
        "        if self.check(end, L, k):\n",
        "            return end\n",
        "        return start\n",
        "\n",
        "    def check(self, mid, L, k):# check if mid is small enough to make more than k woods\n",
        "        num = 0\n",
        "        for wood in L:\n",
        "            num += wood // mid\n",
        "        return num >= k"
      ],
      "execution_count": 0,
      "outputs": []
    },
    {
      "metadata": {
        "id": "ljJZmr_xqi_U",
        "colab_type": "text"
      },
      "cell_type": "markdown",
      "source": [
        "### Maximum Average Subarray II\n",
        "Given an array with positive and negative numbers, find the maximum average subarray which length should be greater or equal to given length k.\n",
        "\n",
        "```\n",
        "Example\n",
        "Given nums = [1, 12, -5, -6, 50, 3], k = 3\n",
        "\n",
        "Return 15.667 // (-6 + 50 + 3) / 3 = 15.667\n",
        "```\n",
        "\n",
        "我们建立一个累加和数组sums，然后求出原数组中最小值赋给left，最大值赋给right，题目中说了误差是1e-5，所以我们的循环条件就是right比left大1e-5，然后我们算出来mid，定义一个minSum初始化为0，布尔型变量check，初始化为false。然后开始遍历数组，先更新累加和数组sums，注意这个累加和数组不是原始数字的累加，而是它们和mid相减的差值累加。我们的目标是找长度大于等于k的子数组的平均值大于mid，由于我们每个数组都减去了mid，那么就转换为找长度大于等于k的子数组的差累积值大于0。我们建立差值累加数组的意义就在于通过sums[i] - sums[j]来快速算出j和i位置中间数字之和，那么我们只要j和i中间正好差k个数字即可，然后minSum就是用来保存j位置之前的子数组差累积的最小值，所以当i >= k时，我们用sums[i - k]来更新minSum，这里的i - k就是j的位置，然后判断如果sums[i] - minSum > 0了，说明我们找到了一段长度大于等k的子数组平均值大于mid了，就可以更新left为mid了，我们标记check为true，并退出循环。在for循环外面，当check为true的时候，left更新为mid，否则right更新为mid，参见代码如下："
      ]
    },
    {
      "metadata": {
        "id": "cHQ0Oi4eqiUH",
        "colab_type": "code",
        "colab": {
          "base_uri": "https://localhost:8080/",
          "height": 34
        },
        "outputId": "2807ab6a-ce5e-4616-bfe5-78079ba9235c"
      },
      "cell_type": "code",
      "source": [
        "class Solution:\n",
        "    \"\"\"\n",
        "    @param: nums: an array with positive and negative numbers\n",
        "    @param: k: an integer\n",
        "    @return: the maximum average\n",
        "    \"\"\"\n",
        "    def maxAverage(self, nums, k):\n",
        "        left = min(nums) * 1.0\n",
        "        right = max(nums)\n",
        "        eps = 1e-5\n",
        "        csum = [0 for i in range(len(nums)+1)]\n",
        "        min_pre = [0 for i in range(len(nums)+1)]\n",
        "        \n",
        "        def check(mid):\n",
        "            csum[0] = 0.0\n",
        "            min_pre[0] = 0.0\n",
        "          \n",
        "            for i in range(1, len(nums)+1):\n",
        "                csum[i] = csum[i-1] + nums[i-1] - mid\n",
        "                min_pre[i] = min(min_pre[i-1], csum[i])\n",
        "            \n",
        "            if i >= k and csum[i] - min_pre[i-k] >= 0:\n",
        "                return True\n",
        "            return False\n",
        "        \n",
        "        while left + eps < right:\n",
        "            mid = left + (right -left)/2\n",
        "            if check(mid):\n",
        "                left = mid\n",
        "            else:\n",
        "                right = mid\n",
        "        \n",
        "        return left\n",
        "      \n",
        "if __name__ == \"__main__\":\n",
        "    print Solution().maxAverage([1,2,3,4], 2)"
      ],
      "execution_count": 1,
      "outputs": [
        {
          "output_type": "stream",
          "text": [
            "3.4999961853\n"
          ],
          "name": "stdout"
        }
      ]
    },
    {
      "metadata": {
        "id": "2eUwVTsKjTIB",
        "colab_type": "text"
      },
      "cell_type": "markdown",
      "source": [
        "### Maximum Average Subarray III\n",
        "Given an array with positive and negative numbers, find the maximum average subarray which length should be [k1, k2].\n",
        "\n",
        "```\n",
        "Example\n",
        "Given nums = [1, 12, -5, -6, 50, 3], k = 3\n",
        "\n",
        "Return 15.667 // (-6 + 50 + 3) / 3 = 15.667\n",
        "```"
      ]
    },
    {
      "metadata": {
        "id": "TbT7k2d36y_E",
        "colab_type": "text"
      },
      "cell_type": "markdown",
      "source": [
        "### 600. Smallest Rectangle Enclosing Black Pixels\n",
        "An image is represented by a binary matrix with 0 as a white pixel and 1 as a black pixel. The black pixels are connected, i.e., there is only one black region. Pixels are connected horizontally and vertically. Given the location (x, y) of one of the black pixels, return the area of the smallest (axis-aligned) rectangle that encloses all black pixels.\n",
        "```\n",
        "Example\n",
        "For example, given the following image:\n",
        "\n",
        "[\n",
        "  \"0010\",\n",
        "  \"0110\",\n",
        "  \"0100\"\n",
        "]\n",
        "and x = 0, y = 2,\n",
        "Return 6.\n",
        "```"
      ]
    },
    {
      "metadata": {
        "id": "JsEH3yrL65Oc",
        "colab_type": "code",
        "colab": {}
      },
      "cell_type": "code",
      "source": [
        "class Solution(object):\n",
        "    # param image {List[List[str]]}  a binary matrix with '0' and '1'\n",
        "    # param x, y {int} the location of one of the black pixels\n",
        "    # return an integer\n",
        "\n",
        "    def minArea(self, image, x, y):\n",
        "        m = len(image)\n",
        "        if m == 0:\n",
        "            return 0\n",
        "        n = len(image[0])\n",
        "        if n == 0:\n",
        "            return 0\n",
        "\n",
        "        # search left\n",
        "        start, end = 0, y\n",
        "        while start + 1 < end:\n",
        "            mid = start + (end - start) // 2\n",
        "            if self.checkCol(image, mid):\n",
        "                end = mid\n",
        "            else:\n",
        "                start = mid\n",
        "        left = start if self.checkCol(image, start) else end\n",
        "\n",
        "        # search right\n",
        "        start, end = y, len(image[0]) - 1\n",
        "        while start + 1 < end:\n",
        "            mid = start + (end - start) // 2\n",
        "            if self.checkCol(image, mid):\n",
        "                start = mid\n",
        "            else:\n",
        "                end = mid\n",
        "        right = end if self.checkCol(image, end) else start\n",
        "\n",
        "        start, end = 0, x\n",
        "        while start + 1 < end:\n",
        "            mid = start + (end - start) // 2\n",
        "            if self.checkRow(image, mid):\n",
        "                end = mid\n",
        "            else:\n",
        "                start = mid\n",
        "\n",
        "        up = start if self.checkRow(image, start) else end\n",
        "\n",
        "        start, end = x, len(image) - 1\n",
        "        while start + 1 < end:\n",
        "            mid = start + (end - start) // 2\n",
        "            if self.checkRow(image, mid):\n",
        "                start = mid\n",
        "            else:\n",
        "                end = mid\n",
        "        down = end if self.checkRow(image, end) else start\n",
        "        \n",
        "        return (right - left + 1) * (down - up + 1)\n",
        "\n",
        "    def checkCol(self, image, col):\n",
        "        for i in range(len(image)):\n",
        "            if image[i][col] == '1':\n",
        "                return True\n",
        "        return False\n",
        "\n",
        "    def checkRow(self, image, row):\n",
        "        for j in range(len(image[0])):\n",
        "            if image[row][j] == '1':\n",
        "                return True\n",
        "        return False"
      ],
      "execution_count": 0,
      "outputs": []
    },
    {
      "metadata": {
        "id": "930gphMJ-7LB",
        "colab_type": "text"
      },
      "cell_type": "markdown",
      "source": [
        "## 通用二分\n",
        "\n"
      ]
    },
    {
      "metadata": {
        "id": "cPixPeFRh2Ro",
        "colab_type": "code",
        "colab": {}
      },
      "cell_type": "code",
      "source": [
        "class Solution:\n",
        "    \"\"\"\n",
        "    @param: nums: An integer array sorted in ascending order\n",
        "    @param: target: An integer\n",
        "    @return: An integer\n",
        "    \"\"\"\n",
        "    def findPosition(self, nums, target):\n",
        "        if len(nums) == 0:\n",
        "            return -1 \n",
        "        start, end = 0, len(nums)-1\n",
        "        while start + 1 < end:\n",
        "            mid = start + (end - start) // 2\n",
        "            if nums[mid] < target:\n",
        "                start = mid\n",
        "            else:\n",
        "                end = mid\n",
        "        if nums[end] == target:\n",
        "            return end\n",
        "        if nums[start] == target:\n",
        "            return start \n",
        "        return -1"
      ],
      "execution_count": 0,
      "outputs": []
    },
    {
      "metadata": {
        "id": "4mPwJmOX-5TQ",
        "colab_type": "text"
      },
      "cell_type": "markdown",
      "source": [
        "### 458. Last Position of Target\n",
        "\n",
        "Description\n",
        "Find the last position of a target number in a sorted array. Return -1 if target does not exist.\n",
        "\n",
        "Have you met this question in a real interview?  \n",
        "Example\n",
        "Given [1, 2, 2, 4, 5, 5].\n",
        "\n",
        "For target = 2, return 2.\n",
        "\n",
        "For target = 5, return 5.\n",
        "\n",
        "For target = 6, return -1."
      ]
    },
    {
      "metadata": {
        "id": "0UkWrIJ-_CWC",
        "colab_type": "code",
        "colab": {}
      },
      "cell_type": "code",
      "source": [
        "class Solution(object):\n",
        "    def lastPosition(self, nums, target):\n",
        "        if len(nums) == 0:\n",
        "            return -1\n",
        "        start, end = 0, len(nums) - 1\n",
        "        while start + 1 < end:\n",
        "            mid = start + (end - start) // 2 \n",
        "            if nums[mid] <= target:\n",
        "                start = mid\n",
        "            else:\n",
        "                end = mid\n",
        "        if nums[end] == target:\n",
        "            return end\n",
        "        elif nums[start] == target:\n",
        "            return start\n",
        "        else:\n",
        "            return -1"
      ],
      "execution_count": 0,
      "outputs": []
    },
    {
      "metadata": {
        "id": "tPWp_JDw-5eG",
        "colab_type": "text"
      },
      "cell_type": "markdown",
      "source": [
        "### 585. Maximum Number in Mountain Sequence\n",
        "\n",
        "Description\n",
        "Given a mountain sequence of n integers which increase firstly and then decrease, find the mountain top.\n",
        "```\n",
        "Example\n",
        "Given nums = [1, 2, 4, 8, 6, 3] return 8\n",
        "Given nums = [10, 9, 8, 7], return 10\n",
        "```"
      ]
    },
    {
      "metadata": {
        "id": "wD1b4RVd_lEQ",
        "colab_type": "code",
        "colab": {}
      },
      "cell_type": "code",
      "source": [
        "class Solution:\n",
        "    \"\"\"\n",
        "    @param: nums: a mountain sequence which increase firstly and then decrease\n",
        "    @return: then mountain top\n",
        "    \"\"\"\n",
        "    def mountainSequence(self, nums):\n",
        "        if len(nums) == 0: \n",
        "            return None\n",
        "        if len(nums) == 1:\n",
        "            return nums[0]\n",
        "        if len(nums) == 2:\n",
        "            return nums[0] if nums[0] > nums[1] else nums[1]\n",
        "    \n",
        "        start, end = 0, len(nums) - 1 \n",
        "        \n",
        "        while start + 1 < end:\n",
        "            mid = start + (end - start) // 2 \n",
        "            if nums[mid] < nums[mid+1]:\n",
        "                start = mid\n",
        "            elif nums[mid] > nums[mid+1]:\n",
        "                end = mid\n",
        "        if nums[start] > nums[end]:\n",
        "            return nums[start]\n",
        "        elif nums[start] < nums[end]:\n",
        "            return nums[end]\n",
        "        else:\n",
        "            return -1"
      ],
      "execution_count": 0,
      "outputs": []
    },
    {
      "metadata": {
        "id": "GgpFs8cK3FTG",
        "colab_type": "text"
      },
      "cell_type": "markdown",
      "source": [
        "460. Find K Closest Elements\n",
        "Given a target number, a non-negative integer k and an integer array A sorted in ascending order, find the k closest numbers to target in A, sorted in ascending order by the difference between the number and target. Otherwise, sorted in ascending order by number if the difference is same.\n",
        "```\n",
        "Example\n",
        "Given A = [1, 2, 3], target = 2 and k = 3, return [2, 1, 3].\n",
        "\n",
        "Given A = [1, 4, 6, 8], target = 3 and k = 3, return [4, 1, 6].\n",
        "\n",
        "Challenge\n",
        "O(logn + k) time complexity.\n",
        "```"
      ]
    },
    {
      "metadata": {
        "id": "Pus_y80V3HhD",
        "colab_type": "code",
        "colab": {
          "base_uri": "https://localhost:8080/",
          "height": 37
        },
        "outputId": "d0ef632a-60ac-40a5-edeb-fd0775571293"
      },
      "cell_type": "code",
      "source": [
        "class Solution:\n",
        "    \"\"\"\n",
        "    @param A: an integer array\n",
        "    @param target: An integer\n",
        "    @param k: An integer\n",
        "    @return: an integer array\n",
        "    \"\"\"\n",
        "\n",
        "    def kClosestNumbers(self, A, target, k):\n",
        "        start, end = 0, len(A) - 1\n",
        "        while start + 1 < end:\n",
        "            mid = start + (end - start) // 2\n",
        "            if A[mid] < target:\n",
        "                start = mid\n",
        "            else:\n",
        "                end = mid\n",
        "        res = []\n",
        "        while len(res) != k:\n",
        "            left_diff = target - A[start] if start >= 0 else None\n",
        "            right_diff = A[end] - target if end < len(A) else None\n",
        "\n",
        "            if left_diff is not None and right_diff is not None:\n",
        "                if right_diff < left_diff:\n",
        "                    res.append(A[end])\n",
        "                    end = end + 1\n",
        "                else:\n",
        "                    res.append(A[start])\n",
        "                    start = start - 1\n",
        "            elif left_diff is None and right_diff is not None:\n",
        "                res.append(A[end])\n",
        "                end = end + 1\n",
        "            elif left_diff is not None and right_diff is None:\n",
        "                res.append(A[start])\n",
        "                start = start - 1\n",
        "            else:\n",
        "                break  # K is larger than len(A)\n",
        "        return res"
      ],
      "execution_count": 40,
      "outputs": []
    },
    {
      "metadata": {
        "id": "CVi9lutj3JON",
        "colab_type": "text"
      },
      "cell_type": "markdown",
      "source": [
        "### 447. Search in a Big Sorted Array\n",
        "Given a big sorted array with positive integers sorted by ascending order. The array is so big so that you can not get the length of the whole array directly, and you can only access the kth number by ArrayReader.get(k) (or ArrayReader->get(k) for C++). Find the first index of a target number. Your algorithm should be in O(log k), where k is the first index of the target number.\n",
        "\n",
        "Return -1, if the number doesn't exist in the array.\n",
        "```\n",
        "Example\n",
        "Given [1, 3, 6, 9, 21, ...], and target = 3, return 1.\n",
        "\n",
        "Given [1, 3, 6, 9, 21, ...], and target = 4, return -1.\n",
        "\n",
        "Challenge\n",
        "O(log k), k is the first index of the given target number.\n",
        "```"
      ]
    },
    {
      "metadata": {
        "id": "KPFKD5uS3O0j",
        "colab_type": "code",
        "colab": {
          "base_uri": "https://localhost:8080/",
          "height": 37
        },
        "outputId": "62abac5f-9018-46cd-d89b-04ec45e12fa1"
      },
      "cell_type": "code",
      "source": [
        "class Solution(object):\n",
        "    def searchBigSortedArray(self, reader, target):\n",
        "        start, end = 0, 1\n",
        "        while reader.get(end) < target:\n",
        "            end = 2 * end + 1\n",
        "        while start + 1 < end:\n",
        "            mid = start + (end - start) // 2      \n",
        "            if reader.get(mid) < target:\n",
        "                start = mid\n",
        "            elif reader.get(mid) >= target:\n",
        "                end = mid\n",
        "        if reader.get(start) == target:\n",
        "            return start\n",
        "        elif reader.get(end) == target:\n",
        "            return end\n",
        "        return -1 "
      ],
      "execution_count": 41,
      "outputs": []
    },
    {
      "metadata": {
        "id": "9ggxQacS8Zjk",
        "colab_type": "text"
      },
      "cell_type": "markdown",
      "source": [
        "## 数学二分\n",
        "### 快速幂算法\n",
        "```\n",
        "原本O(n)O(n)的问题，我们可以用O(logn)O(logn)复杂度的算法来解决。\n",
        "\n",
        "递归版本的快速幂算法\n",
        "int power(int x, int n) {\n",
        "    if (n == 0) return 1;\n",
        "    if (n % 2 == 0) {\n",
        "        int tmp = power(x, n / 2);\n",
        "        return tmp * tmp;\n",
        "    } else {\n",
        "        int tmp = power(x, n / 2);\n",
        "        return tmp * tmp * x;\n",
        "    }\n",
        "}\n",
        "非递归版本\n",
        "int power(int x, int n) {\n",
        "    int ans = 1, base = x;\n",
        "    while (n != 0) {\n",
        "        if (n % 2 == 1) {\n",
        "            ans *= base;\n",
        "        }\n",
        "        base *= base;\n",
        "        n = n / 2;\n",
        "    }\n",
        "    return ans;\n",
        "}\n",
        "非递归版本与递归版本原理相同，计算顺序略有不同。因为递归是从大问题进入，划分子问题然后层层返回再求解大问题。这里要从小问题开始，直接求解大问题。你可以打印出每次循环中 basebase 和 ansans 的值，来理清楚其中的算法思路。递归版本和非递归版本都应该熟练掌握，虽然递归版本更容易掌握和理解，且 lognlogn 的计算深度也不会导致 Stack Overflow。但是面试官是很有可能为了加大难度让你在用非递归的版本写一遍的。\n",
        "```\n",
        "\n",
        "### 辗转相除法\n",
        "\n"
      ]
    },
    {
      "metadata": {
        "id": "hBQkHiOw3Qqb",
        "colab_type": "text"
      },
      "cell_type": "markdown",
      "source": [
        "### 428. Pow(x, n)\n",
        "Implement pow(x, n).\n",
        "```\n",
        "Example\n",
        "Pow(2.1, 3) = 9.261\n",
        "Pow(0, 1) = 0\n",
        "Pow(1, 0) = 1\n",
        "Challenge\n",
        "O(logn) time\n",
        "```"
      ]
    },
    {
      "metadata": {
        "id": "NsVDpyQJ3Yb6",
        "colab_type": "code",
        "colab": {}
      },
      "cell_type": "code",
      "source": [
        "class Solution:\n",
        "    \"\"\"\n",
        "    @param: x: the base number, float\n",
        "    @param: n: the power number, int\n",
        "    @return: the results\n",
        "    \"\"\"\n",
        "    def myPow(self, x, n):\n",
        "        if n < 0:\n",
        "            n = -n \n",
        "            x = 1 / x\n",
        "        \n",
        "        ans = 1\n",
        "        tmp = x\n",
        "\n",
        "        while n != 0:\n",
        "            if n % 2 == 1:\n",
        "                ans *= tmp\n",
        "            tmp *= tmp\n",
        "            n //= 2 \n",
        "            \n",
        "        return ans \n",
        "            \n",
        "            \n",
        "            \n",
        "            "
      ],
      "execution_count": 0,
      "outputs": []
    },
    {
      "metadata": {
        "id": "sOPQ2ogi3js2",
        "colab_type": "text"
      },
      "cell_type": "markdown",
      "source": [
        "###  140. Fast Power\n",
        "Calculate the an % b where a, b and n are all 32bit integers.\n",
        "```\n",
        "Example\n",
        "For 231 % 3 = 2\n",
        "\n",
        "For 1001000 % 1000 = 0\n",
        "\n",
        "Challenge\n",
        "O(logn)\n",
        "```"
      ]
    },
    {
      "metadata": {
        "id": "_Q0TFxHB3p7a",
        "colab_type": "code",
        "colab": {}
      },
      "cell_type": "code",
      "source": [
        "class Solution:\n",
        "    \"\"\"\n",
        "    @param a: A 32bit integer\n",
        "    @param b: A 32bit integer\n",
        "    @param n: A 32bit integer\n",
        "    @return: An integer\n",
        "    \"\"\"\n",
        "    def fastPower(self, a, b, n):\n",
        "        \n",
        "        ans = 1\n",
        "        tmp = a\n",
        "        \n",
        "        while n != 0:\n",
        "            if n % 2 == 1:\n",
        "                ans = ans * tmp % b\n",
        "            tmp = tmp * tmp % b\n",
        "            n /= 2 \n",
        "        ans = ans % b\n",
        "        \n",
        "        return ans\n"
      ],
      "execution_count": 0,
      "outputs": []
    },
    {
      "metadata": {
        "id": "FdgSPVOB-Ibc",
        "colab_type": "text"
      },
      "cell_type": "markdown",
      "source": [
        "### 141. Sqrt(x)\n",
        "Implement int sqrt(int x).\n",
        "\n",
        "Compute and return the square root of x.\n",
        "```\n",
        "Example\n",
        "sqrt(3) = 1\n",
        "\n",
        "sqrt(4) = 2\n",
        "\n",
        "sqrt(5) = 2\n",
        "\n",
        "sqrt(10) = 3\n",
        "\n",
        "Challenge\n",
        "O(log(x))\n",
        "```"
      ]
    },
    {
      "metadata": {
        "id": "jTpt5zDp-TpV",
        "colab_type": "code",
        "colab": {}
      },
      "cell_type": "code",
      "source": [
        "class Solution:\n",
        "    \"\"\"\n",
        "    @param x: An integer\n",
        "    @return: The sqrt of x\n",
        "    \"\"\"\n",
        "    def sqrt(self, x):\n",
        "        start, end = 0.0, 65535\n",
        "        eps = 1e-1\n",
        "        while start + eps < end:\n",
        "            mid = start + (end - start) / 2\n",
        "            if mid * mid < x:\n",
        "                start = mid\n",
        "            else:\n",
        "                end = mid\n",
        "        return int(end)"
      ],
      "execution_count": 0,
      "outputs": []
    },
    {
      "metadata": {
        "id": "lD_heWY73ZjB",
        "colab_type": "text"
      },
      "cell_type": "markdown",
      "source": [
        "### 159. Find Minimum in Rotated Sorted Array\n",
        "Suppose a sorted array is rotated at some pivot unknown to you beforehand.\n",
        "\n",
        "(i.e., 0 1 2 4 5 6 7 might become 4 5 6 7 0 1 2).\n",
        "\n",
        "Find the minimum element.\n",
        "```\n",
        "Example\n",
        "Given [4, 5, 6, 7, 0, 1, 2] return 0\n",
        "\n",
        "```"
      ]
    },
    {
      "metadata": {
        "id": "3aHn153F3fgx",
        "colab_type": "code",
        "colab": {}
      },
      "cell_type": "code",
      "source": [
        "class Solution(object):\n",
        "    def findMin(self, nums) :\n",
        "        if len(nums) == 0:\n",
        "            return -1\n",
        "        start, end = 0, len(nums) - 1 \n",
        "        while start + 1 < end:\n",
        "            mid = start + (end - start) // 2 \n",
        "            if nums[mid] > nums[-1]:\n",
        "                start = mid\n",
        "            else:\n",
        "                end = mid\n",
        "        if nums[start] < nums[end]:\n",
        "            return nums[start]\n",
        "        else:\n",
        "            return nums[end]"
      ],
      "execution_count": 0,
      "outputs": []
    },
    {
      "metadata": {
        "id": "UhM2GYzz3rpU",
        "colab_type": "text"
      },
      "cell_type": "markdown",
      "source": [
        "### 74. First Bad Version\n",
        "The code base version is an integer start from 1 to n. One day, someone committed a bad version in the code case, so it caused this version and the following versions are all failed in the unit tests. Find the first bad version.\n",
        "\n",
        "You can call isBadVersion to help you determine which version is the first bad one. The details interface can be found in the code's annotation part.\n",
        "```\n",
        "Example\n",
        "Given n = 5:\n",
        "\n",
        "isBadVersion(3) -> false\n",
        "isBadVersion(5) -> true\n",
        "isBadVersion(4) -> true\n",
        "Here we are 100% sure that the 4th version is the first bad version.\n",
        "\n",
        "Challenge\n",
        "You should call isBadVersion as few as possible.\n",
        "\n",
        "```"
      ]
    },
    {
      "metadata": {
        "id": "z868kUJj32s3",
        "colab_type": "code",
        "colab": {
          "base_uri": "https://localhost:8080/",
          "height": 17
        },
        "outputId": "e1ce6979-1673-4b0c-931b-6450fed17c3f"
      },
      "cell_type": "code",
      "source": [
        "class SVNRepo:\n",
        "    @classmethod\n",
        "    def isBadVersion(cls, id):\n",
        "        pass\n",
        "        # Run unit tests to check whether verison `id` is a bad version\n",
        "        # return true if unit tests passed else false.\n",
        "# You can use SVNRepo.isBadVersion(10) to check whether version 10 is a \n",
        "# bad version.\n",
        "\n",
        "class Solution:\n",
        "    \"\"\"\n",
        "    @param n: An integers.\n",
        "    @return: An integer which is the first bad version.\n",
        "    \"\"\"\n",
        "    def findFirstBadVersion(self, n):\n",
        "        start, end = 1, n\n",
        "        while start + 1 < end:\n",
        "            mid = start + (end - start) // 2\n",
        "            if SVNRepo.isBadVersion(mid):\n",
        "                end = mid\n",
        "            else:\n",
        "                start = mid\n",
        "        if SVNRepo.isBadVersion(start):\n",
        "            return start\n",
        "        return end"
      ],
      "execution_count": 43,
      "outputs": []
    },
    {
      "metadata": {
        "id": "LTbWxqcE-5h9",
        "colab_type": "text"
      },
      "cell_type": "markdown",
      "source": [
        "###75. Find Peak Element\n",
        "There is an integer array which has the following features:\n",
        "```\n",
        "The numbers in adjacent positions are different.\n",
        "A[0] < A[1] && A[A.length - 2] > A[A.length - 1].\n",
        "We define a position P is a peak if:\n",
        "\n",
        "A[P] > A[P-1] && A[P] > A[P+1]\n",
        "Find a peak element in this array. Return the index of the peak.\n",
        "\n",
        "Example\n",
        "Given [1, 2, 1, 3, 4, 5, 7, 6]\n",
        "\n",
        "Return index 1 (which is number 2) or 6 (which is number 7)\n",
        "\n",
        "Challenge\n",
        "Time complexity O(logN)\n",
        "```"
      ]
    },
    {
      "metadata": {
        "id": "813gsL6YA0SG",
        "colab_type": "code",
        "colab": {
          "base_uri": "https://localhost:8080/",
          "height": 17
        },
        "outputId": "38da0256-80c9-4fd8-e2e5-35c2fcc8329e"
      },
      "cell_type": "code",
      "source": [
        "class Solution(object):\n",
        "    def findPeak(self, nums):\n",
        "        start, end = 0, len(nums) - 2 # prevent overlap\n",
        "        while start + 1 < end:\n",
        "            mid = start + (end - start) // 2\n",
        "\n",
        "            if nums[mid] < nums[mid + 1]:\n",
        "                 start = mid\n",
        "            else:\n",
        "                 end = mid\n",
        "        if nums[start] < nums[end]:\n",
        "            return end\n",
        "        else:\n",
        "            return start"
      ],
      "execution_count": 44,
      "outputs": []
    },
    {
      "metadata": {
        "id": "MXqlaJ7GBoOH",
        "colab_type": "text"
      },
      "cell_type": "markdown",
      "source": [
        "### 62. Search in Rotated Sorted Array\n",
        "Suppose a sorted array is rotated at some pivot unknown to you beforehand.\n",
        "\n",
        "(i.e., 0 1 2 4 5 6 7 might become 4 5 6 7 0 1 2).\n",
        "\n",
        "You are given a target value to search. If found in the array return its index, otherwise return -1.\n",
        "\n",
        "You may assume no duplicate exists in the array.\n",
        "```\n",
        "Example\n",
        "For [4, 5, 1, 2, 3] and target=1, return 2.\n",
        "\n",
        "For [4, 5, 1, 2, 3] and target=0, return -1.\n",
        "\n",
        "Challenge\n",
        "O(logN) time\n",
        "\n",
        "```"
      ]
    },
    {
      "metadata": {
        "id": "UNjkL2g1Bm2_",
        "colab_type": "code",
        "colab": {}
      },
      "cell_type": "code",
      "source": [
        "class Solution:\n",
        "    \"\"\"\n",
        "    @param A : a list of integers\n",
        "    @param target : an integer to be searched\n",
        "    @return : an integer\n",
        "    \"\"\"\n",
        "    def search(self, A, target):\n",
        "        if A == None or len(A) == 0:\n",
        "            return -1\n",
        "        start, end = 0, len(A) - 1,\n",
        "        while start + 1 < end:\n",
        "            mid = start + (end - start) / 2\n",
        "            if A[mid] == target:\n",
        "                return mid\n",
        "            if A[start] < A[mid]:\n",
        "                if A[start] <= target <= A[mid]:\n",
        "                    end = mid\n",
        "                else:\n",
        "                    start = mid\n",
        "            else:\n",
        "                if A[mid] <= target <= A[end]:\n",
        "                    start = mid\n",
        "                else:\n",
        "                    end = mid\n",
        "        if A[start] == target:\n",
        "            return start\n",
        "        if A[end] == target:\n",
        "            return end\n",
        "        return -1"
      ],
      "execution_count": 0,
      "outputs": []
    },
    {
      "metadata": {
        "id": "E3r1OStq5H_y",
        "colab_type": "text"
      },
      "cell_type": "markdown",
      "source": [
        "### 462. Total Occurrence of Target\n",
        "Given a target number and an integer array sorted in ascending order. Find the total number of occurrences of target in the array.\n",
        "```\n",
        "Example\n",
        "Given [1, 3, 3, 4, 5] and target = 3, return 2.\n",
        "\n",
        "Given [2, 2, 3, 4, 6] and target = 4, return 1.\n",
        "\n",
        "Given [1, 2, 3, 4, 5] and target = 6, return 0.\n",
        "\n",
        "Challenge\n",
        "Time complexity in O(logn)\n",
        "```"
      ]
    },
    {
      "metadata": {
        "id": "l7HlAarr5KBE",
        "colab_type": "code",
        "colab": {}
      },
      "cell_type": "code",
      "source": [
        "class Solution:\n",
        "    # param {int[]} A an integer array sorted in ascending order\n",
        "    # param {int} target an integer\n",
        "    # return {int} an integer\n",
        "    def totalOccurrence(self, A, target):\n",
        "        # Write your code here\n",
        "        if not A:\n",
        "            return 0\n",
        "\n",
        "        length = len(A)\n",
        "\n",
        "        start = 0\n",
        "        end = length - 1\n",
        "        while start + 1 < end:\n",
        "            mid = start + (end - start) / 2\n",
        "            if A[mid] < target:\n",
        "                start = mid\n",
        "            else:\n",
        "                end = mid\n",
        "        if A[start] == target:\n",
        "            head = start\n",
        "        elif A[end] == target:\n",
        "            head = end\n",
        "        else:\n",
        "            head = -1\n",
        "\n",
        "        start = head\n",
        "        end = length - 1\n",
        "        while start + 1 < end:\n",
        "            mid = start + (end - start) / 2\n",
        "            if A[mid] <= target:\n",
        "                start = mid\n",
        "            else:\n",
        "                end = mid\n",
        "        if A[end] == target:\n",
        "            tail = end\n",
        "        elif A[start] == target:\n",
        "            tail = start\n",
        "        else:\n",
        "            tail = -1\n",
        "\n",
        "        if head >= 0 and tail >= 0:\n",
        "            return tail - head + 1\n",
        "        else:\n",
        "            return 0"
      ],
      "execution_count": 0,
      "outputs": []
    },
    {
      "metadata": {
        "id": "HRGc9jjW513S",
        "colab_type": "text"
      },
      "cell_type": "markdown",
      "source": [
        "### 14. First Position of Target\n",
        "For a given sorted array (ascending order) and a target number, find the first index of this number in O(log n) time complexity.\n",
        "\n",
        "If the target number does not exist in the array, return -1.\n",
        "```\n",
        "Example\n",
        "If the array is [1, 2, 3, 3, 4, 5, 10], for given target 3, return 2.\n",
        "\n",
        "Challenge\n",
        "If the count of numbers is bigger than 2^32, can your code work properly?\n",
        "```"
      ]
    },
    {
      "metadata": {
        "id": "Do_9Qcm856hN",
        "colab_type": "code",
        "colab": {
          "base_uri": "https://localhost:8080/",
          "height": 37
        },
        "outputId": "cfde4678-2ec9-409c-967e-8c392cda260a"
      },
      "cell_type": "code",
      "source": [
        "class Solution:\n",
        "    # param nums: The integer array\n",
        "    # param target: Target number to find\n",
        "    # return the first position of target in nums, position start from 0 \n",
        "    def binarySearch(self, nums, target):\n",
        "        # write your code here\n",
        "        left, right = 0, len(nums)\n",
        "        while left + 1 < right :\n",
        "            mid = (left + right) / 2\n",
        "            if nums[mid] < target :\n",
        "                left = mid\n",
        "            else :\n",
        "                right = mid\n",
        "        if nums[left] == target :\n",
        "            return left\n",
        "        elif nums[right] == target :\n",
        "            return right\n",
        "        return -1;"
      ],
      "execution_count": 45,
      "outputs": []
    },
    {
      "metadata": {
        "id": "81-mV2P_4UE7",
        "colab_type": "text"
      },
      "cell_type": "markdown",
      "source": [
        "### 28. Search a 2D Matrix\n",
        "Write an efficient algorithm that searches for a value in an m x n matrix.\n",
        "\n",
        "This matrix has the following properties:\n",
        "\n",
        "Integers in each row are sorted from left to right.\n",
        "The first integer of each row is greater than the last integer of the previous row.\n",
        "```\n",
        "Example\n",
        "Consider the following matrix:\n",
        "\n",
        "[\n",
        "    [1, 3, 5, 7],\n",
        "    [10, 11, 16, 20],\n",
        "    [23, 30, 34, 50]\n",
        "]\n",
        "Given target = 3, return true.\n",
        "\n",
        "Challenge\n",
        "O(log(n) + log(m)) time\n",
        " \n",
        "```"
      ]
    },
    {
      "metadata": {
        "id": "CtuGSELy4zIh",
        "colab_type": "code",
        "colab": {}
      },
      "cell_type": "code",
      "source": [
        "class Solution:\n",
        "    \"\"\"\n",
        "    @param matrix, a list of lists of integers\n",
        "    @param target, an integer\n",
        "    @return a boolean, indicate whether matrix contains target\n",
        "    \"\"\"\n",
        "\n",
        "    def searchMatrix(self, matrix, target):\n",
        "        if len(matrix) == 0:\n",
        "            return False\n",
        "        row_start, row_end = 0, len(matrix) - 1\n",
        "        \n",
        "        while row_start + 1 < row_end:\n",
        "            row_mid = row_start + (row_end - row_start) // 2\n",
        "            if matrix[row_mid][0] == target:\n",
        "                return True\n",
        "            elif matrix[row_mid][0] < target:\n",
        "                row_start = row_mid\n",
        "            elif matrix[row_mid][0] > target:\n",
        "                row_end = row_mid\n",
        "\n",
        "        if self.searchRow(matrix[row_start], target) or self.searchRow(matrix[row_end], target):\n",
        "            return True\n",
        "\n",
        "        return False\n",
        "\n",
        "    def searchRow(self, nums, target):\n",
        "        start, end = 0, len(nums) - 1\n",
        "        while start + 1 < end:\n",
        "            mid = start + (end - start) // 2\n",
        "            if nums[mid] == target:\n",
        "                return True\n",
        "            elif nums[mid] < target:\n",
        "                start = mid\n",
        "            else:\n",
        "                end = mid\n",
        "        if nums[start] == target or nums[end] == target:\n",
        "            return True\n",
        "        return False"
      ],
      "execution_count": 0,
      "outputs": []
    },
    {
      "metadata": {
        "id": "SsA6KxiY6fBs",
        "colab_type": "text"
      },
      "cell_type": "markdown",
      "source": [
        "### 38. Search a 2D Matrix II\n",
        "Write an efficient algorithm that searches for a value in an m x n matrix, return the occurrence of it.\n",
        "\n",
        "This matrix has the following properties:\n",
        "\n",
        "Integers in each row are sorted from left to right.\n",
        "Integers in each column are sorted from up to bottom.\n",
        "No duplicate integers in each row or column.\n",
        "```\n",
        "Example\n",
        "Consider the following matrix:\n",
        "\n",
        "[\n",
        "  [1, 3, 5, 7],\n",
        "  [2, 4, 7, 8],\n",
        "  [3, 5, 9, 10]\n",
        "]\n",
        "Given target = 3, return 2.\n",
        "\n",
        "Challenge\n",
        "O(m+n) time and O(1) extra space\n",
        "```"
      ]
    },
    {
      "metadata": {
        "id": "H6uJI8lV6iC5",
        "colab_type": "code",
        "colab": {
          "base_uri": "https://localhost:8080/",
          "height": 37
        },
        "outputId": "01556f18-989c-417d-dd41-40551c73277d"
      },
      "cell_type": "code",
      "source": [
        "class Solution:\n",
        "    \"\"\"\n",
        "    @param matrix: An list of lists of integers\n",
        "    @param target: An integer you want to search in matrix\n",
        "    @return: An integer indicates the total occurrence of target in the given matrix\n",
        "    \"\"\"\n",
        "    def searchMatrix(self, matrix, target):\n",
        "        count = 0        \n",
        "        for l in matrix:\n",
        "            count += l.count(target)\n",
        "        return count"
      ],
      "execution_count": 46,
      "outputs": []
    },
    {
      "metadata": {
        "id": "UuPxxIyd6XOD",
        "colab_type": "text"
      },
      "cell_type": "markdown",
      "source": [
        "### 61. Search for a Range\n",
        "Given a sorted array of n integers, find the starting and ending position of a given target value.\n",
        "\n",
        "If the target is not found in the array, return [-1, -1].\n",
        "```\n",
        "Example\n",
        "Given [5, 7, 7, 8, 8, 10] and target value 8,\n",
        "return [3, 4].\n",
        "\n",
        "Challenge\n",
        "O(log n) time.\n",
        "```"
      ]
    },
    {
      "metadata": {
        "id": "Djo5rUtJ6Z0s",
        "colab_type": "code",
        "colab": {}
      },
      "cell_type": "code",
      "source": [
        "class Solution:\n",
        "    \"\"\"\n",
        "    @param A : a list of integers\n",
        "    @param target : an integer to be searched\n",
        "    @return : a list of length 2, [index1, index2]\n",
        "    \"\"\"\n",
        "    def searchRange(self, A, target):\n",
        "        try:\n",
        "            pos = A.index(target)\n",
        "        except:\n",
        "            return [-1,-1]\n",
        "        res = [pos]\n",
        "        for i in range(pos + 1,len(A)):\n",
        "            if A[pos] == A[pos + 1]:\n",
        "                pos += 1\n",
        "            else:\n",
        "                break\n",
        "        res.append(pos)\n",
        "        return res\n",
        "        \n",
        "        "
      ],
      "execution_count": 0,
      "outputs": []
    },
    {
      "metadata": {
        "id": "wjhBDAN35O7s",
        "colab_type": "text"
      },
      "cell_type": "markdown",
      "source": [
        "### 459. Closest Number in Sorted Array\n",
        "Given a target number and an integer array A sorted in ascending order, find the index i in A such that A[i] is closest to the given target.\n",
        "\n",
        "Return -1 if there is no element in the array.\n",
        "```\n",
        "Example\n",
        "Given [1, 2, 3] and target = 2, return 1.\n",
        "\n",
        "Given [1, 4, 6] and target = 3, return 1.\n",
        "\n",
        "Given [1, 4, 6] and target = 5, return 1 or 2.\n",
        "\n",
        "Given [1, 3, 3, 4] and target = 2, return 0 or 1 or 2.\n",
        "\n",
        "Challenge\n",
        "O(logn) time complexity.\n",
        "```"
      ]
    },
    {
      "metadata": {
        "id": "1j84paxN5Skc",
        "colab_type": "code",
        "colab": {}
      },
      "cell_type": "code",
      "source": [
        "class Solution:\n",
        "    def closestNumber(self, A, target):\n",
        "        nums = A\n",
        "        start, end = 0, len(nums) - 1\n",
        "        while start + 1 < end:\n",
        "            mid = start + (end - start) // 2 \n",
        "            if nums[mid] == target:\n",
        "                return mid\n",
        "            elif nums[mid] > target:\n",
        "                end = mid\n",
        "            elif nums[mid] < target:\n",
        "                start = mid\n",
        "        if A[end] - target < target - A[start]:\n",
        "            return end\n",
        "        else:\n",
        "            return start\n"
      ],
      "execution_count": 0,
      "outputs": []
    },
    {
      "metadata": {
        "id": "OBzuk2LW-6z9",
        "colab_type": "text"
      },
      "cell_type": "markdown",
      "source": [
        "### 235. Prime Factorization\n",
        "Prime factorize a given integer.\n",
        "```\n",
        "Example\n",
        "Given 10, return [2, 5].\n",
        "\n",
        "Given 660, return [2, 2, 3, 5, 11].\n",
        "```"
      ]
    },
    {
      "metadata": {
        "id": "cA6KRCkQ5Aev",
        "colab_type": "code",
        "colab": {}
      },
      "cell_type": "code",
      "source": [
        "class Solution:\n",
        "    \"\"\"\n",
        "    @param num: An integer\n",
        "    @return: an integer array\n",
        "    \"\"\"\n",
        "    def primeFactorization(self, num):\n",
        "        import math\n",
        "        up = int(math.sqrt(num)) + 1\n",
        "        prime = []\n",
        "        f = [0 for x in range(up)]\n",
        "        for i in range(2, up): # up >= 2\n",
        "            if f[i] == 0:\n",
        "                prime.append(i)\n",
        "                for j in range(i*i, up, i):\n",
        "                    f[j] = 1\n",
        "        ret = []\n",
        "        for a in prime:\n",
        "            while num % a == 0:\n",
        "                ret.append(a)\n",
        "                num /= a\n",
        "        if num != 1:\n",
        "            ret.append(num)\n",
        "        return ret"
      ],
      "execution_count": 0,
      "outputs": []
    },
    {
      "metadata": {
        "id": "Hmw5-Z_b6Ffq",
        "colab_type": "text"
      },
      "cell_type": "markdown",
      "source": [
        "### 414. Divide Two Integers\n",
        "Divide two integers without using multiplication, division and mod operator.\n",
        "\n",
        "If it is overflow, return 2147483647\n",
        "```\n",
        "Example\n",
        "Given dividend = 100 and divisor = 9, return 11.\n",
        "```"
      ]
    },
    {
      "metadata": {
        "id": "xw96OFPD6H4L",
        "colab_type": "code",
        "colab": {}
      },
      "cell_type": "code",
      "source": [
        "class Solution(object):\n",
        "    def divide(self, dividend, divisor):\n",
        "        maxsize = 2147483647\n",
        "        if divisor == 0:\n",
        "            return maxsize\n",
        "        if abs(dividend) < abs(divisor):\n",
        "            return 0\n",
        "\n",
        "        is_negtive = (dividend < 0 and divisor > 0\n",
        "                     ) or (dividend > 0 and divisor < 0)\n",
        "        a = abs(dividend)\n",
        "        b = abs(divisor)\n",
        "\n",
        "        ans = 0\n",
        "        while a >= b:\n",
        "            shift = 0\n",
        "            while a >= (b << shift):\n",
        "                shift += 1\n",
        "            a -= b << (shift - 1)\n",
        "            ans += 1 << (shift - 1)\n",
        "        if is_negtive:\n",
        "            ans = - ans\n",
        "        if ans > maxsize:\n",
        "            return maxsize\n",
        "        return ans\n",
        "    \n",
        "\n",
        "\n",
        "if __name__ == \"__main__\":\n",
        "    print Solution().divide(100, 2)"
      ],
      "execution_count": 0,
      "outputs": []
    },
    {
      "metadata": {
        "id": "oGzHqcQI5VC7",
        "colab_type": "text"
      },
      "cell_type": "markdown",
      "source": [
        "### 254. Drop Eggs\n",
        "There is a building of n floors. If an egg drops from the k th floor or above, it will break. If it's dropped from any floor below, it will not break.\n",
        "\n",
        "You're given two eggs, Find k while minimize the number of drops for the worst case. Return the number of drops in the worst case.\n",
        "```\n",
        "Example\n",
        "Given n = 10, return 4.\n",
        "Given n = 100, return 14.\n",
        "```"
      ]
    },
    {
      "metadata": {
        "id": "3CagoFO_5Wvk",
        "colab_type": "code",
        "colab": {}
      },
      "cell_type": "code",
      "source": [
        "import math\n",
        "class Solution(object):\n",
        "    def dropEggs(self, n):\n",
        "        return int(math.ceil((math.sqrt(8*n+1)-1)/2))"
      ],
      "execution_count": 0,
      "outputs": []
    },
    {
      "metadata": {
        "id": "e_x-zxOx5dda",
        "colab_type": "text"
      },
      "cell_type": "markdown",
      "source": [
        "### 584. Drop Eggs II\n",
        "There is a building of n floors. If an egg drops from the k th floor or above, it will break. If it's dropped from any floor below, it will not break.\n",
        "\n",
        "You're given m eggs, Find k while minimize the number of drops for the worst case. Return the number of drops in the worst case.\n",
        "\n",
        "Example\n",
        "Given m = 2, n = 100 return 14\n",
        "Given m = 2, n = 36 return 8"
      ]
    },
    {
      "metadata": {
        "id": "MJneE3k05czU",
        "colab_type": "code",
        "colab": {}
      },
      "cell_type": "code",
      "source": [
        "class Solution(object):\n",
        "    def dropEggs2(self, m, n):\n",
        "        maxint = 65535\n",
        "        f = [[maxint for j in range(n+1)]\n",
        "                      for i in range(m+1)]\n",
        "        f[1][1] = 1\n",
        "        for i in range(1, m+1):\n",
        "            f[i][1] = 1\n",
        "\n",
        "        for j in range(1, n+1):\n",
        "            f[1][j] = j\n",
        "\n",
        "        for i in range(2, m+1):\n",
        "            for j in range(2, n+1):\n",
        "                for k in range(2, j):\n",
        "                    f[i][j] = min(f[i][j], 1 + max(f[i-1][k-1], f[i][j-k]))\n",
        "                    #print i, j, k, f[i][j]\n",
        "        return f[m][n]"
      ],
      "execution_count": 0,
      "outputs": []
    },
    {
      "metadata": {
        "id": "qRgfOvCdz1aE",
        "colab_type": "text"
      },
      "cell_type": "markdown",
      "source": [
        "# Two Pointers"
      ]
    },
    {
      "metadata": {
        "id": "0YhRJecLmE7Q",
        "colab_type": "text"
      },
      "cell_type": "markdown",
      "source": [
        "## 同向双指针（数组去重，滑动窗口，两数之差，链表中点，带环链表）"
      ]
    },
    {
      "metadata": {
        "id": "GAJTOZc_HSNN",
        "colab_type": "text"
      },
      "cell_type": "markdown",
      "source": [
        "### 228. Middle of Linked List\n",
        "Description\n",
        "Find the middle node of a linked list.\n",
        "\n",
        "Have you met this question in a real interview?  \n",
        "```\n",
        "Example\n",
        "Given 1->2->3, return the node with value 2.\n",
        "\n",
        "Given 1->2, return the node with value 1.\n",
        "\n",
        "Challenge\n",
        "If the linked list is in a data stream, can you find the middle without iterating the linked list again?\n",
        "```"
      ]
    },
    {
      "metadata": {
        "id": "729mg0sEI8_N",
        "colab_type": "code",
        "colab": {}
      },
      "cell_type": "code",
      "source": [
        "class Solution:\n",
        "    # @ head: the head of linked list.\n",
        "    # @ return: a middle node of the linked list\n",
        "    def middleNode(self, head):\n",
        "        if head is None:\n",
        "            return None\n",
        "        slow = head\n",
        "        fast = slow.next\n",
        "        while fast is not None and fast.next is not None:\n",
        "            slow = slow.next\n",
        "            fast = fast.next.next\n",
        "\n",
        "        return slow"
      ],
      "execution_count": 0,
      "outputs": []
    },
    {
      "metadata": {
        "id": "7kFwcxhmHSqE",
        "colab_type": "text"
      },
      "cell_type": "markdown",
      "source": [
        "### 539. Move Zeroes\n",
        "\n",
        "Description\n",
        "Given an array nums, write a function to move all 0's to the end of it while maintaining the relative order of the non-zero elements.\n",
        "\n",
        "You must do this in-place without making a copy of the array.\n",
        "Minimize the total number of operations.\n",
        "Have you met this question in a real interview?  \n",
        "```\n",
        "Example\n",
        "Given nums = [0, 1, 0, 3, 12], after calling your function, nums should be [1, 3, 12, 0, 0].\n",
        "```"
      ]
    },
    {
      "metadata": {
        "id": "W8I_EajoKIB7",
        "colab_type": "code",
        "colab": {
          "base_uri": "https://localhost:8080/",
          "height": 34
        },
        "outputId": "49088211-f07b-4c03-d4ba-4e7c9e30fed3"
      },
      "cell_type": "code",
      "source": [
        "class Solution:\n",
        "    # @{int[]} nums an integer array\n",
        "    # @return nothing, do this in-place\n",
        "    def moveZeroes(self, nums):\n",
        "        left = right = 0\n",
        "        while right < len(nums):\n",
        "            if nums[right] != 0:\n",
        "                nums[left], nums[right] = nums[right], nums[left]\n",
        "                left += 1\n",
        "            right += 1\n",
        "        return nums\n",
        "      \n",
        "if __name__ == \"__main__\":\n",
        "    print Solution().moveZeroes([0, 1, 0, 3, 12])"
      ],
      "execution_count": 3,
      "outputs": [
        {
          "output_type": "stream",
          "text": [
            "[1, 3, 12, 0, 0]\n"
          ],
          "name": "stdout"
        }
      ]
    },
    {
      "metadata": {
        "id": "5-JSiUxbHSJL",
        "colab_type": "text"
      },
      "cell_type": "markdown",
      "source": [
        "### 521. Remove Duplicate Numbers in Array\n",
        "\n",
        "Description\n",
        "Given an array of integers, remove the duplicate numbers in it.\n",
        "\n",
        "You should:\n",
        "\n",
        "Do it in place in the array.\n",
        "Move the unique numbers to the front of the array.\n",
        "Return the total number of the unique numbers.\n",
        "You don't need to keep the original order of the integers.\n",
        "\n",
        "Have you met this question in a real interview?  \n",
        "\n",
        "```\n",
        "Example\n",
        "Given nums = [1,3,1,4,4,2], you should:\n",
        "\n",
        "Move duplicate integers to the tail of nums => nums = [1,3,4,2,?,?].\n",
        "Return the number of unique integers in nums => 4.\n",
        "Actually we don't care about what you place in ?, we only care about the part which has no duplicate integers.\n",
        "\n",
        "Challenge\n",
        "Do it in O(n) time complexity.\n",
        "Do it in O(nlogn) time without extra space.\n",
        "```"
      ]
    },
    {
      "metadata": {
        "id": "IMzlFyQ6K_qs",
        "colab_type": "code",
        "colab": {
          "base_uri": "https://localhost:8080/",
          "height": 34
        },
        "outputId": "1da968e5-7e79-471a-c828-c0a4a40049fb"
      },
      "cell_type": "code",
      "source": [
        "class Solution:\n",
        "    # @{int[]} nums an array of integers\n",
        "    # @return {int} the number of unique integers\n",
        "    def deduplication(self, nums):\n",
        "        return len(set(nums)) \n",
        "    \n",
        "    def deduplication2(self, nums):\n",
        "        nums.sort()\n",
        "        pvt = 0\n",
        "        for i in range(len(nums)):\n",
        "            if nums[i] != nums[pvt]:\n",
        "                pvt += 1\n",
        "                nums[pvt] = nums[i]\n",
        "        return pvt + 1\n",
        "      \n",
        "if __name__ == \"__main__\":\n",
        "    print(Solution().deduplication2([1,2,3,4,5,1,3,2]))"
      ],
      "execution_count": 3,
      "outputs": [
        {
          "output_type": "stream",
          "text": [
            "5\n"
          ],
          "name": "stdout"
        }
      ]
    },
    {
      "metadata": {
        "id": "QusJcqafmUdP",
        "colab_type": "text"
      },
      "cell_type": "markdown",
      "source": [
        "### 610. Two Sum - Difference equals to target\n",
        "\n",
        "610. Two Sum - Difference equals to target\n",
        "Given an array of integers, find two numbers that their difference equals to a target value.\n",
        "where index1 must be less than index2. Please note that your returned answers (both index1 and index2) are NOT zero-based.\n",
        "\n",
        "Example\n",
        "Given nums = [2, 7, 15, 24], target = 5\n",
        "return [1, 2] (7 - 2 = 5)"
      ]
    },
    {
      "metadata": {
        "id": "oRR4dtmPqmDu",
        "colab_type": "code",
        "colab": {
          "base_uri": "https://localhost:8080/",
          "height": 34
        },
        "outputId": "09dd49e9-608b-45f3-8573-21e60f5dc0a1"
      },
      "cell_type": "code",
      "source": [
        "class Solution:\n",
        "    \"\"\"\n",
        "    @param nums {int[]} n array of Integer\n",
        "    @param target {int} an integer\n",
        "    @return {int[]} [index1 + 1, index2 + 1] (index1 < index2)\n",
        "    \"\"\"\n",
        "\n",
        "    def twoSum7(self, nums, target):\n",
        "        # Write your code here\n",
        "        dct = {}\n",
        "        for i in range(len(nums)):\n",
        "            if nums[i] - target in dct:\n",
        "                return (dct[nums[i] - target] + 1, i + 1)\n",
        "            if nums[i] + target in dct:\n",
        "                return (dct[nums[i] + target] + 1, i + 1)\n",
        "            dct[nums[i]] = i ## 5+5 = 10?\n",
        "\n",
        "\n",
        "if __name__ == \"__main__\":\n",
        "    print Solution().twoSum7([2, 7, 15, 24], 5)"
      ],
      "execution_count": 2,
      "outputs": [
        {
          "output_type": "stream",
          "text": [
            "(1, 2)\n"
          ],
          "name": "stdout"
        }
      ]
    },
    {
      "metadata": {
        "id": "DLTBKQBet-fH",
        "colab_type": "text"
      },
      "cell_type": "markdown",
      "source": [
        "### 380. Intersection of Two Linked Lists\n",
        "Write a program to find the node at which the intersection of two singly linked lists begins.\n",
        "```\n",
        "Example\n",
        "The following two linked lists:\n",
        "\n",
        "A:          a1 → a2\n",
        "                   ↘\n",
        "                     c1 → c2 → c3\n",
        "                   ↗            \n",
        "B:     b1 → b2 → b3\n",
        "begin to intersect at node c1.\n",
        "```\n",
        "Challenge\n",
        "Your code should preferably run in O(n) time and use only O(1) memory.\n",
        "\n"
      ]
    },
    {
      "metadata": {
        "id": "x1btOrLXt-i7",
        "colab_type": "code",
        "colab": {
          "base_uri": "https://localhost:8080/",
          "height": 34
        },
        "outputId": "f791e671-0916-429a-8bad-9832e3533755"
      },
      "cell_type": "code",
      "source": [
        "# Definition for singly-linked list.\n",
        "class ListNode:\n",
        "     def __init__(self, x):\n",
        "        self.val = x\n",
        "        self.next = None\n",
        "\n",
        "\n",
        "class Solution:\n",
        "    # param headA: the first list\n",
        "    # param headB: the second list\n",
        "    # @return: a ListNode\n",
        "    def getIntersectionNode(self, headA, headB):\n",
        "        # Write your code here\n",
        "        lenA, lenB = 0, 0\n",
        "        node1, node2 = headA, headB\n",
        "        while node1 is not None:\n",
        "            lenA += 1\n",
        "            node1 = node1.next\n",
        "        while node2 is not None:\n",
        "            lenB += 1\n",
        "            node2 = node2.next\n",
        "\n",
        "        node1, node2 = headA, headB\n",
        "        while lenA > lenB:\n",
        "            node1 = node1.next\n",
        "            lenA -= 1\n",
        "        while lenB > lenA:\n",
        "            node2 = node2.next\n",
        "            lenB -= 1\n",
        "        while node1 is not node2:\n",
        "            node1 = node1.next\n",
        "            node2 = node2.next\n",
        "        return node1\n",
        "\n",
        "\n",
        "print Solution().getIntersectionNode(None, None)"
      ],
      "execution_count": 5,
      "outputs": [
        {
          "output_type": "stream",
          "text": [
            "None\n"
          ],
          "name": "stdout"
        }
      ]
    },
    {
      "metadata": {
        "id": "ZgIlhz3_xbvE",
        "colab_type": "text"
      },
      "cell_type": "markdown",
      "source": [
        "### 102. Linked List Cycle\n",
        "Given a linked list, determine if it has a cycle in it.\n",
        "\n",
        "\n",
        "```\n",
        "Example\n",
        "Given -21->10->4->5, tail connects to node index 1, return true\n",
        "\n",
        "Challenge\n",
        "Follow up:\n",
        "Can you solve it without using extra space?\n",
        "```\n",
        "这题要问的是，会不会永远不相遇，绝对不会，因为fast同奇偶，slow变奇偶，所以一定有相遇的时候。\n"
      ]
    },
    {
      "metadata": {
        "id": "2Iq8qvfZxbzG",
        "colab_type": "code",
        "colab": {
          "base_uri": "https://localhost:8080/",
          "height": 34
        },
        "outputId": "2e211f12-4d2b-4dab-d527-c16071a745c8"
      },
      "cell_type": "code",
      "source": [
        "class ListNode:\n",
        "     def __init__(self, x):\n",
        "        self.val = x\n",
        "        self.next = None\n",
        "class Solution:\n",
        "    \"\"\"\n",
        "    @param head: The first node of the linked list.\n",
        "    @return: True if it has a cycle, or false\n",
        "    \"\"\"\n",
        "    def hasCycle(self, head):\n",
        "        # write your code here\n",
        "        if head is None:\n",
        "            return False\n",
        "        fast = head\n",
        "        slow = head\n",
        "        while fast.next is not None:\n",
        "            fast = fast.next.next\n",
        "            slow = slow.next\n",
        "            if fast is None:\n",
        "                return False\n",
        "            elif fast == slow:\n",
        "                return True\n",
        "        return False\n",
        "\n",
        "print Solution().hasCycle(None)"
      ],
      "execution_count": 4,
      "outputs": [
        {
          "output_type": "stream",
          "text": [
            "False\n"
          ],
          "name": "stdout"
        }
      ]
    },
    {
      "metadata": {
        "id": "2LyK4vzQLnDH",
        "colab_type": "text"
      },
      "cell_type": "markdown",
      "source": [
        "### 103. Linked List Cycle II\n",
        "Given a linked list, return the node where the cycle begins.\n",
        "\n",
        "If there is no cycle, return null.\n",
        "```\n",
        "Example\n",
        "Given -21->10->4->5, tail connects to node index 1，return 10\n",
        "\n",
        "Challenge\n",
        "Follow up:\n",
        "\n",
        "Can you solve it without using extra space?\n",
        "\n",
        "    a            b\n",
        "A ------ B --------+\n",
        "         |         |\n",
        "       c |         |\n",
        "         +-------- C\n",
        "\n",
        "\n",
        "\n",
        "* A: 起始点\n",
        "* B: Cycle Begins\n",
        "* C: 1st 快慢指针相遇点\n",
        "\n",
        "\n",
        "* A->B: a\n",
        "* B->C: b\n",
        "* C->B: c\n",
        "* 环的长度 (b+c) 为 R\n",
        "\n",
        "第一次相遇时，慢指针所走步数为\n",
        "a + b + mR\n",
        "快指针走的步数为\n",
        "a + b + nR\n",
        "我们知道快指针是慢指针速度的2倍，因此\n",
        "2(a + b + mR) = a + b + nR\n",
        "那么\n",
        "a + b = (n-2m)R\n",
        "同时\n",
        "b + c = R\n",
        "所以\n",
        "a = (n - 2m - 1)R + c;\n",
        "也就是说，从A点和C点同时出发，以相同的速度前进，那么下一次相遇的位置将是B。\n",
        "```"
      ]
    },
    {
      "metadata": {
        "id": "3KACQWwtLnK3",
        "colab_type": "code",
        "colab": {
          "base_uri": "https://localhost:8080/",
          "height": 34
        },
        "outputId": "20ed8e02-c5a6-4b5d-bac0-4fcd2d7de7bc"
      },
      "cell_type": "code",
      "source": [
        "class ListNode(object):\n",
        "    def __init__(self, val, next=None):\n",
        "        self.val = val\n",
        "        self.next =Vnext\n",
        "\n",
        "\n",
        "class Solution:\n",
        "    \"\"\"\n",
        "    @param: head: The first node of linked list.\n",
        "    @return: The node where the cycle begins. if there is no cycle, return null\n",
        "    \"\"\"\n",
        "    def detectCycle(self, head):\n",
        "        if head is None:\n",
        "            return False\n",
        "        fast = head\n",
        "        slow = head\n",
        "        while fast.next is not None:\n",
        "            fast = fast.next.next\n",
        "            slow = slow.next\n",
        "            if fast is None:\n",
        "                return False\n",
        "            elif fast == slow:\n",
        "                fast = head\n",
        "                while fast != slow:\n",
        "                    fast = fast.next\n",
        "                    slow = slow.next\n",
        "                return fast\n",
        "        return False\n",
        "      \n",
        "if __name__ == \"__main__\":\n",
        "    #21->10->4->5\n",
        "\n",
        "    root = ListNode(21)\n",
        "    root.next = ListNode(10)\n",
        "    root.next.next = ListNode(4)\n",
        "    root.next.next.next = ListNode(5)\n",
        "    root.next.next.next.next = root\n",
        "    print Solution().detectCycle(root).val"
      ],
      "execution_count": 2,
      "outputs": [
        {
          "output_type": "stream",
          "text": [
            "21\n"
          ],
          "name": "stdout"
        }
      ]
    },
    {
      "metadata": {
        "id": "aYgSHjiOVkXO",
        "colab_type": "text"
      },
      "cell_type": "markdown",
      "source": [
        "###406. Minimum Size Subarray Sum\n",
        "Given an array of n positive integers and a positive integer s, find the minimal length of a subarray of which the sum ≥ s. If there isn't one, return -1 instead.\n",
        "```\n",
        "Example\n",
        "Given the array [2,3,1,2,4,3] and s = 7, the subarray [4,3] has the minimal length under the problem constraint.\n",
        "\n",
        "Challenge\n",
        "If you have figured out the O(n) solution, try coding another solution of which the time complexity is O(n log n).\n",
        "\n",
        "```"
      ]
    },
    {
      "metadata": {
        "id": "0UHZK_MTVxJd",
        "colab_type": "code",
        "colab": {
          "base_uri": "https://localhost:8080/",
          "height": 35
        },
        "outputId": "ccf2add2-9707-4c7d-c31d-c6508e798bcc"
      },
      "cell_type": "code",
      "source": [
        "class Solution:\n",
        "    \"\"\"\n",
        "    @param nums: an array of integers\n",
        "    @param s: An integer\n",
        "    @return: an integer representing the minimum size of subarray\n",
        "    \"\"\"\n",
        "    def minimumSize1(self, nums, s): # 34.40%\n",
        "        n = len(nums)\n",
        "        if n == 0 or sum(nums) < s:\n",
        "            return -1\n",
        "        start, end = 1, n\n",
        "        cum = [0]\n",
        "        for i in range(1, n+1):\n",
        "            cum.append(nums[i-1] + cum[i-1])\n",
        "        def check(k):  # k is large enough\n",
        "            for i in range(len(nums) - k + 1):\n",
        "                if cum[i+k] - cum[i] >= s:\n",
        "                    return True\n",
        "            return False\n",
        "\n",
        "        while start + 1 < end:\n",
        "            mid = start + (end - start) // 2\n",
        "            if check(mid):\n",
        "                end = mid\n",
        "            else:\n",
        "                start = mid\n",
        "\n",
        "        if check(start):\n",
        "            return start\n",
        "        if check(end):\n",
        "            return end\n",
        "        return -1\n",
        "\n",
        "    def minimumSize(self, nums, s): # 34.40%\n",
        "        from sys import maxsize\n",
        "        i = j = 0\n",
        "        cum = 0\n",
        "        ans = maxsize\n",
        "        for i in range(len(nums)):\n",
        "            while j < len(nums) and cum < s:\n",
        "                cum += nums[j]\n",
        "                j += 1\n",
        "            if cum >= s:\n",
        "                ans = min(ans, j-i)\n",
        "            cum -= nums[i]\n",
        "\n",
        "        return ans if ans != maxsize else -1\n",
        "\n",
        "\n",
        "if __name__ == \"__main__\":\n",
        "    nums = [100,50,99,50,100,50,99,50,100,50]\n",
        "    s = 250\n",
        "    print Solution().minimumSize(nums, s)"
      ],
      "execution_count": 1,
      "outputs": [
        {
          "output_type": "stream",
          "text": [
            "4\n"
          ],
          "name": "stdout"
        }
      ]
    },
    {
      "metadata": {
        "id": "wyQFcNc0mj7T",
        "colab_type": "text"
      },
      "cell_type": "markdown",
      "source": [
        "### 362. Sliding Window Maximum\n",
        "Given an array of n integer with duplicate number, and a moving window(size k), move the window at each iteration from the start of the array, find the maximum number inside the window at each moving.\n",
        "```\n",
        "Example\n",
        "For array [1, 2, 7, 7, 8], moving window size k = 3. return [7, 7, 8]\n",
        "\n",
        "At first the window is at the start of the array like this\n",
        "\n",
        "[|1, 2, 7| ,7, 8] , return the maximum 7;\n",
        "\n",
        "then the window move one step forward.\n",
        "\n",
        "[1, |2, 7 ,7|, 8], return the maximum 7;\n",
        "\n",
        "then the window move one step forward again.\n",
        "\n",
        "[1, 2, |7, 7, 8|], return the maximum 8;\n",
        "\n",
        "Challenge\n",
        "o(n) time and O(k) memory.\n",
        "```"
      ]
    },
    {
      "metadata": {
        "id": "X9187ikvmntS",
        "colab_type": "code",
        "colab": {
          "base_uri": "https://localhost:8080/",
          "height": 37
        },
        "outputId": "69eaf593-9978-40c5-ce4b-9fd1b0729538"
      },
      "cell_type": "code",
      "source": [
        "from collections import deque\n",
        "class Solution:\n",
        "    \"\"\"\n",
        "    @param nums: A list of integers.\n",
        "    @return: The maximum number inside the window at each moving.\n",
        "    \"\"\"\n",
        "    def maxSlidingWindow(self, nums, k):\n",
        "        # write your code here\n",
        "        q = deque()\n",
        "        result = []\n",
        "        if len(nums) < k or k == 0:\n",
        "            return []\n",
        "\n",
        "        n = len(nums)\n",
        "        for i in xrange(n):\n",
        "            while len(q) and nums[q[-1]] < nums[i]:\n",
        "                q.pop()\n",
        "            q.append(i)\n",
        "\n",
        "            if i < k - 1:                        \n",
        "                continue\n",
        "\n",
        "            while len(q) and q[0] <= i - k:\n",
        "                q.popleft()\n",
        "            \n",
        "            result.append(nums[q[0]])\n",
        "\n",
        "        return result;"
      ],
      "execution_count": 47,
      "outputs": []
    },
    {
      "metadata": {
        "id": "lpW2GTuaVqLM",
        "colab_type": "text"
      },
      "cell_type": "markdown",
      "source": [
        "### 384. Longest Substring Without Repeating Characters\n",
        "Given a string, find the length of the longest substring without repeating characters.\n",
        "```\n",
        "Example\n",
        "For example, the longest substring without repeating letters for \"abcabcbb\" is \"abc\", which the length is 3.\n",
        "\n",
        "For \"bbbbb\" the longest substring is \"b\", with the length of 1.\n",
        "\n",
        "Challenge\n",
        "O(n) time\n",
        "```"
      ]
    },
    {
      "metadata": {
        "id": "2BpXqFI3Y-o3",
        "colab_type": "code",
        "colab": {}
      },
      "cell_type": "code",
      "source": [
        "class Solution:\n",
        "    \"\"\"\n",
        "    @param s: a string\n",
        "    @return: an integer\n",
        "    \"\"\"\n",
        "    def lengthOfLongestSubstring(self, s):\n",
        "        i = j = 0\n",
        "        ch_set = set()\n",
        "        ans = 0\n",
        "        for i in range(len(s)):\n",
        "            while j < len(s) and s[j] not in ch_set:\n",
        "                ch_set.add(s[j])\n",
        "                j += 1\n",
        "            ans = max(ans, j-i)\n",
        "            ch_set.remove(s[i])\n",
        "        return ans\n",
        "\n",
        "\n",
        "if __name__ == \"__main__\":\n",
        "    s = \"abcabcbb\"\n",
        "    print Solution().lengthOfLongestSubstring(s)\n"
      ],
      "execution_count": 0,
      "outputs": []
    },
    {
      "metadata": {
        "id": "WNFiFll1ZBu-",
        "colab_type": "text"
      },
      "cell_type": "markdown",
      "source": [
        "###386. Longest Substring with At Most K Distinct Characters\n",
        "Given a string s, find the length of the longest substring T that contains at most k distinct characters.\n",
        "```\n",
        "Example\n",
        "For example, Given s = \"eceba\", k = 3,\n",
        "\n",
        "T is \"eceb\" which its length is 4.\n",
        "\n",
        "Challenge\n",
        "O(n), n is the size of the string s.\n",
        "\n",
        "```"
      ]
    },
    {
      "metadata": {
        "id": "zQCUOonXZB51",
        "colab_type": "code",
        "colab": {
          "base_uri": "https://localhost:8080/",
          "height": 35
        },
        "outputId": "03fb9efe-8c0f-4812-ce79-74a42e639c61"
      },
      "cell_type": "code",
      "source": [
        "class Solution:\n",
        "    \"\"\"\n",
        "    @param s: A string\n",
        "    @param k: An integer\n",
        "    @return: An integer\n",
        "    \"\"\"\n",
        "    def lengthOfLongestSubstringKDistinct(self, s, k):\n",
        "        j = 0\n",
        "        ch_dic = {}\n",
        "        ans = 0\n",
        "        for i in range(len(s)):\n",
        "            while j < len(s):\n",
        "                if s[j] in ch_dic:\n",
        "                    ch_dic[s[j]] += 1\n",
        "                else:\n",
        "                    if len(ch_dic) == k:\n",
        "                        break\n",
        "                    ch_dic[s[j]] = 1\n",
        "                j += 1\n",
        "\n",
        "            ans = max(ans, j-i)\n",
        "            if s[i] in ch_dic:\n",
        "                if ch_dic[s[i]] > 1:\n",
        "                    ch_dic[s[i]] -= 1\n",
        "                else:\n",
        "                    ch_dic.pop(s[i])\n",
        "        return ans\n",
        "\n",
        "if __name__ ==\"__main__\":\n",
        "    s = \"eqgkcwGFvjjmxutystqdfhuMblWbylgjxsxgnoh\"\n",
        "    k = 16\n",
        "    print Solution().lengthOfLongestSubstringKDistinct(s, k)\n"
      ],
      "execution_count": 2,
      "outputs": [
        {
          "output_type": "stream",
          "text": [
            "27\n"
          ],
          "name": "stdout"
        }
      ]
    },
    {
      "metadata": {
        "id": "NwxnnextlXnI",
        "colab_type": "text"
      },
      "cell_type": "markdown",
      "source": [
        "## 相向双指针（两数之和,  判断回文串）\n"
      ]
    },
    {
      "metadata": {
        "id": "-24yfHjfHSFy",
        "colab_type": "text"
      },
      "cell_type": "markdown",
      "source": [
        "### 608. Two Sum II - Input array is sorted\n",
        "Description\n",
        "Given an array of integers that is already sorted in ascending order, find two numbers such that they add up to a specific target number.\n",
        "\n",
        "The function twoSum should return indices of the two numbers such that they add up to the target, where index1 must be less than index2. Please note that your returned answers (both index1 and index2) are not zero-based.\n",
        "\n",
        "You may assume that each input would have exactly one solution.\n",
        "\n",
        "```\n",
        "Example\n",
        "Given nums = [2, 7, 11, 15], target = 9\n",
        "return [1, 2]\n",
        "```"
      ]
    },
    {
      "metadata": {
        "id": "eyuutwY1Fq__",
        "colab_type": "code",
        "colab": {}
      },
      "cell_type": "code",
      "source": [
        "class Solution:\n",
        "    \"\"\"\n",
        "    @param nums: an array of Integer\n",
        "    @param target: target = nums[index1] + nums[index2]\n",
        "    @return: [index1 + 1, index2 + 1] (index1 < index2)\n",
        "    \"\"\"\n",
        "    def twoSum(self, nums, target):\n",
        "        start, end = 0, len(nums) - 1\n",
        "        while start < end :\n",
        "            csum = nums[start] + nums[end]\n",
        "            if csum == target:\n",
        "                return [start+1, end+1]\n",
        "            elif csum < target:\n",
        "                start += 1\n",
        "            else:\n",
        "                end -=1\n",
        "        return []"
      ],
      "execution_count": 0,
      "outputs": []
    },
    {
      "metadata": {
        "id": "b700s9htdFsY",
        "colab_type": "text"
      },
      "cell_type": "markdown",
      "source": [
        "### 607. Two Sum III - Data structure design\n",
        "\n",
        "Description\n",
        "Design and implement a TwoSum class. It should support the following operations: add and find.\n",
        "\n",
        "add - Add the number to an internal data structure.\n",
        "find - Find if there exists any pair of numbers which sum is equal to the value.\n",
        "```\n",
        "Have you met this question in a real interview?  \n",
        "Example\n",
        "add(1); add(3); add(5);\n",
        "find(4) // return true\n",
        "find(7) // return false\n",
        "```"
      ]
    },
    {
      "metadata": {
        "id": "Z231__usdOvU",
        "colab_type": "code",
        "colab": {}
      },
      "cell_type": "code",
      "source": [
        "class TwoSum(object):\n",
        "\n",
        "    def __init__(self):\n",
        "        # initialize your data structure here\n",
        "        self.count = {}\n",
        "\n",
        "    # Add the number to an internal data structure.\n",
        "    # @number {int}\n",
        "    # @return nothing\n",
        "    def add(self, number):\n",
        "        # Write your code here\n",
        "        if number in self.count:\n",
        "            self.count[number] += 1\n",
        "        else:\n",
        "            self.count[number] = 1\n",
        "            \n",
        "    # Find if there exists any pair of numbers which sum is equal to the value.\n",
        "    # @value {int}\n",
        "    # @return true if can be found or false\n",
        "    def find(self, value):\n",
        "        # Write your code here\n",
        "        for num in self.count:\n",
        "            if (value - num in self.count and \n",
        "                value - num != num or self.count[num] > 1):\n",
        "                return True\n",
        "        return False"
      ],
      "execution_count": 0,
      "outputs": []
    },
    {
      "metadata": {
        "id": "JMKPNByxob3g",
        "colab_type": "text"
      },
      "cell_type": "markdown",
      "source": [
        "### 609. Two Sum - Less than or equal to target\n",
        "Given an array of integers, find how many pairs in the array such that their sum is less than or equal to a specific target number. Please return the number of pairs.\n",
        "```\n",
        "Example\n",
        "Given nums = [2, 7, 11, 15], target = 24.\n",
        "Return 5.\n",
        "2 + 7 < 24\n",
        "2 + 11 < 24\n",
        "2 + 15 < 24\n",
        "7 + 11 < 24\n",
        "7 + 15 < 25\n",
        "```"
      ]
    },
    {
      "metadata": {
        "id": "Z4Kmu1sSohwI",
        "colab_type": "code",
        "colab": {
          "base_uri": "https://localhost:8080/",
          "height": 50
        },
        "outputId": "ef552b0c-e8db-465e-c579-e17bf0c90cd1"
      },
      "cell_type": "code",
      "source": [
        "class Solution:\n",
        "    \"\"\"\n",
        "    @param nums: an array of integer\n",
        "    @param target: an integer\n",
        "    @return: an integer\n",
        "    \"\"\"\n",
        "    def twoSum5_method1(self, nums, target):\n",
        "        n = len(nums)\n",
        "        if n <= 0:\n",
        "            return 0\n",
        "        nums.sort()\n",
        "        count = 0\n",
        "        for i in range(n):\n",
        "            for j in range(n-1, i, -1):\n",
        "                if nums[i] + nums[j] > target:\n",
        "                    continue\n",
        "                count += j - i\n",
        "                break\n",
        "        return count\n",
        "\n",
        "    def twoSum5(self, nums, target):\n",
        "        # Write your code here\n",
        "    v     l, r = 0, len(nums) - 1\n",
        "        cnt = 0\n",
        "        nums.sort()\n",
        "        while l < r:\n",
        "            value = nums[l] + nums[r]\n",
        "            if value > target:\n",
        "                r -= 1\n",
        "            else:\n",
        "                cnt += r - l\n",
        "                l += 1\n",
        "        return cnt\n",
        "\n",
        "\n",
        "if __name__ == \"__main__\":\n",
        "    nums = [2,7,11,15]\n",
        "    target = 24\n",
        "    from timeit import timeit\n",
        "    print timeit(\"Solution().twoSum5(nums, target)\", \n",
        "           setup=\"from __main__ import Solution, nums, target\", number=10000)\n",
        "    print timeit(\"Solution().twoSum5_method1(nums, target)\", \n",
        "           setup=\"from __main__ import Solution, nums, target\", number=10000)"
      ],
      "execution_count": 10,
      "outputs": [
        {
          "output_type": "stream",
          "text": [
            "0.00830793380737\n",
            "0.0209789276123\n"
          ],
          "name": "stdout"
        }
      ]
    },
    {
      "metadata": {
        "id": "1KR5TAcjdV4R",
        "colab_type": "text"
      },
      "cell_type": "markdown",
      "source": [
        "### 587. Two Sum - Unique pairs\n",
        "Given an array of integers, find how many unique pairs in the array such that their sum is equal to a specific target number. Please return the number of pairs.\n",
        "```\n",
        "Example\n",
        "Given nums = [1,1,2,45,46,46], target = 47\n",
        "return 2\n",
        "\n",
        "1 + 46 = 47\n",
        "2 + 45 = 47\n",
        "```"
      ]
    },
    {
      "metadata": {
        "id": "IvsTHJlagk2S",
        "colab_type": "code",
        "colab": {
          "base_uri": "https://localhost:8080/",
          "height": 68
        },
        "outputId": "ac609359-4c2c-452c-8012-4f45607cad51"
      },
      "cell_type": "code",
      "source": [
        "class Solution:\n",
        "    \"\"\"\n",
        "    @param nums: an array of integer\n",
        "    @param target: An integer\n",
        "    @return: An integer\n",
        "    \"\"\"\n",
        "    def twoSum6_method1(self, nums, target):\n",
        "        nums.sort()\n",
        "        left, right = 0, len(nums) - 1\n",
        "        count = 0\n",
        "        while left < right:\n",
        "            value = nums[left] + nums[right]\n",
        "            if value < target:\n",
        "                left += 1\n",
        "            elif value == target:\n",
        "                if left == 0 or nums[left-1] != nums[left]:\n",
        "                    count += 1\n",
        "                left += 1\n",
        "            else: # value > target\n",
        "                right -= 1\n",
        "        return count\n",
        "    def twoSum6(self, nums, target):\n",
        "        nums.sort()\n",
        "        left, right = 0, len(nums) - 1\n",
        "        count = 0\n",
        "        while left < right:\n",
        "            value = nums[left] + nums[right]\n",
        "            if value < target:\n",
        "                left += 1\n",
        "            elif value == target:\n",
        "                count += 1\n",
        "                left += 1\n",
        "                right -= 1\n",
        "                while left < right and nums[right] == nums[right+1]:\n",
        "                    right -= 1\n",
        "                while left < right and nums[left] == nums[left-1]:\n",
        "                    left += 1\n",
        "            else: # value > target\n",
        "                right -= 1\n",
        "        return count\n",
        "\n",
        "if __name__ == \"__main__\":\n",
        "    nums, k = [1,1,2,45,46,46], 47\n",
        "    print Solution().twoSum6(nums, k)\n",
        "    from timeit import timeit\n",
        "    print timeit(\"Solution().twoSum6_method1(nums, k)\",\n",
        "                 setup=\"from __main__ import nums, k, Solution\", number=10000)\n",
        "    print timeit(\"Solution().twoSum6(nums, k)\",\n",
        "                 setup=\"from __main__ import nums, k, Solution\", number=10000)"
      ],
      "execution_count": 1,
      "outputs": [
        {
          "output_type": "stream",
          "text": [
            "2\n",
            "0.0146870613098\n",
            "0.0122129917145\n"
          ],
          "name": "stdout"
        }
      ]
    },
    {
      "metadata": {
        "id": "OmpzOWI3dWBp",
        "colab_type": "text"
      },
      "cell_type": "markdown",
      "source": [
        "### 533. Two Sum - Closest to target\n",
        "Given an array nums of n integers, find two integers in nums such that the sum is closest to a given number, target.\n",
        "\n",
        "Return the difference between the sum of the two integers and the target.\n",
        "```\n",
        "Example\n",
        "Given array nums = [-1, 2, 1, -4], and target = 4.\n",
        "\n",
        "The minimum difference is 1. (4 - (2 + 1) = 1).\n",
        "\n",
        "Challenge\n",
        "Do it in O(nlogn) time complexity.\n",
        "```\n"
      ]
    },
    {
      "metadata": {
        "id": "cxVvEKwCjDL6",
        "colab_type": "code",
        "colab": {
          "base_uri": "https://localhost:8080/",
          "height": 34
        },
        "outputId": "f554ab30-f28f-4e26-c42e-795abfc72a36"
      },
      "cell_type": "code",
      "source": [
        "class Solution:\n",
        "    \"\"\"\n",
        "    @param nums: an integer array\n",
        "    @param target: An integer\n",
        "    @return: the difference between the sum and the target\n",
        "    \"\"\"\n",
        "    def twoSumClosest(self, nums, target):\n",
        "        if len(nums) < 2:\n",
        "            return -1 \n",
        "        nums.sort()\n",
        "        left, right = 0, len(nums) - 1\n",
        "        min_diff = 65535 # MAX_INT\n",
        "        while left < right:\n",
        "            value = nums[left] + nums[right]\n",
        "            if value < target:\n",
        "                min_diff = min(min_diff, target-value)\n",
        "                left += 1\n",
        "            elif value == target:\n",
        "                return 0\n",
        "            else: # value >  target\n",
        "                min_diff = min(min_diff, value-target)\n",
        "                right -= 1\n",
        "        return min_diff\n",
        "\n",
        "if __name__ == \"__main__\":\n",
        "    nums, target = [-1,2,1,-4], 4\n",
        "    print Solution().twoSumClosest(nums, target)"
      ],
      "execution_count": 2,
      "outputs": [
        {
          "output_type": "stream",
          "text": [
            "1\n"
          ],
          "name": "stdout"
        }
      ]
    },
    {
      "metadata": {
        "id": "QsiK49IsdWJx",
        "colab_type": "text"
      },
      "cell_type": "markdown",
      "source": [
        "### 443. Two Sum - Greater than target\n",
        "Given an array of integers, find how many pairs in the array such that their sum is bigger than a specific target number. Please return the number of pairs.\n",
        "```\n",
        "Example\n",
        "Given numbers = [2, 7, 11, 15], target = 24. Return 1. (11 + 15 is the only pair)\n",
        "\n",
        "Challenge\n",
        "Do it in O(1) extra space and O(nlogn) time.\n",
        "```"
      ]
    },
    {
      "metadata": {
        "id": "6aGFy4XRmDOw",
        "colab_type": "code",
        "colab": {
          "base_uri": "https://localhost:8080/",
          "height": 34
        },
        "outputId": "2de09e93-6cef-4550-a002-f4e37937cd0f"
      },
      "cell_type": "code",
      "source": [
        "class Solution:\n",
        "    \"\"\"\n",
        "    @param nums: an array of integer\n",
        "    @param target: An integer\n",
        "    @return: an integer\n",
        "    \"\"\"\n",
        "    def twoSum2(self, nums, target):\n",
        "        if len(nums) < 2:\n",
        "            return -1\n",
        "        nums.sort()\n",
        "        left, right = 0, len(nums) - 1\n",
        "        count = 0\n",
        "        while left < right:\n",
        "            value = nums[left] + nums[right]\n",
        "            if value <= target:\n",
        "                left += 1\n",
        "            else:\n",
        "                count += right - left\n",
        "                right -= 1\n",
        "        return count\n",
        "\n",
        "if __name__ == \"__main__\":\n",
        "    nums, target = [2,7,11,15], 24\n",
        "    print Solution().twoSum2(nums, target)"
      ],
      "execution_count": 3,
      "outputs": [
        {
          "output_type": "stream",
          "text": [
            "1\n"
          ],
          "name": "stdout"
        }
      ]
    },
    {
      "metadata": {
        "id": "QH3CkLZ_HR-F",
        "colab_type": "text"
      },
      "cell_type": "markdown",
      "source": [
        "### 57. 3Sum\n",
        "Description\n",
        "Given an array S of n integers, are there elements a, b, c in S such that a + b + c = 0? Find all unique triplets in the array which gives the sum of zero.\n",
        "\n",
        "Elements in a triplet (a,b,c) must be in non-descending order. (ie, a ≤ b ≤ c)\n",
        "\n",
        "The solution set must not contain duplicate triplets.\n",
        "```\n",
        "Example\n",
        "For example, given array S = {-1 0 1 2 -1 -4}, A solution set is:\n",
        "\n",
        "(-1, 0, 1)\n",
        "(-1, -1, 2)\n",
        "```"
      ]
    },
    {
      "metadata": {
        "id": "jWLw_p3fgKW-",
        "colab_type": "code",
        "colab": {
          "base_uri": "https://localhost:8080/",
          "height": 33
        },
        "outputId": "cf1f608b-5ad5-422b-b7aa-1d7ef6d5fa72"
      },
      "cell_type": "code",
      "source": [
        "class Solution:\n",
        "    \"\"\"\n",
        "    @param numbers: Give an array numbers of n integer\n",
        "    @return: Find all unique triplets in the array which gives the sum of zero.\n",
        "    \"\"\"\n",
        "    def threeSum(self, numbers):\n",
        "        res = []\n",
        "        numbers.sort()\n",
        "        self.dfs([], 0, res, numbers)\n",
        "        return res\n",
        "\n",
        "    def dfs(self, tmp, start_index, res, S):\n",
        "        #print tmp, start_index\n",
        "        if len(tmp) == 3:\n",
        "            if sum(tmp) == 0:\n",
        "                #print tmp, start_index\n",
        "                res.append(tuple(tmp))\n",
        "            #print 'return'\n",
        "            return\n",
        "        for i in range(start_index, len(S)):\n",
        "            if i == start_index or S[i-1] != S[i]: # duplicate or not ?\n",
        "                self.dfs(tmp + [S[i]], i+1, res, S)\n",
        "\n",
        "if __name__ == \"__main__\":\n",
        "    nums = [-11, -7, -5, -4, 3, 1, 2, 3, 4, 5, 5, 7]\n",
        "    print Solution().threeSum(nums)"
      ],
      "execution_count": 4,
      "outputs": [
        {
          "output_type": "stream",
          "text": [
            "[(-11, 4, 7), (-7, 2, 5), (-7, 3, 4), (-5, 1, 4), (-5, 2, 3), (-4, 1, 3)]\n"
          ],
          "name": "stdout"
        }
      ]
    },
    {
      "metadata": {
        "id": "dQaFDifSv7WE",
        "colab_type": "text"
      },
      "cell_type": "markdown",
      "source": [
        "### 382. Triangle Count\n",
        "Given an array of integers, how many three numbers can be found in the array, so that we can build an triangle whose three edges length is the three numbers that we find?\n",
        "```\n",
        "Example\n",
        "Given array S = [3,4,6,7], return 3. They are:\n",
        "\n",
        "[3,4,6]\n",
        "[3,6,7]\n",
        "[4,6,7]\n",
        "Given array S = [4,4,4,4], return 4. They are:\n",
        "\n",
        "[4(1),4(2),4(3)]\n",
        "[4(1),4(2),4(4)]\n",
        "[4(1),4(3),4(4)]\n",
        "[4(2),4(3),4(4)]\n",
        "```"
      ]
    },
    {
      "metadata": {
        "id": "k3R9ib36v-eO",
        "colab_type": "code",
        "colab": {
          "base_uri": "https://localhost:8080/",
          "height": 34
        },
        "outputId": "690106c5-ea7c-43bc-c3a6-592794b5d216"
      },
      "cell_type": "code",
      "source": [
        "class Solution:\n",
        "    \"\"\"\n",
        "    @param S: A list of integers\n",
        "    @return: An integer\n",
        "    \"\"\"\n",
        "    def triangleCount(self, S):\n",
        "        S.sort()\n",
        "        left, right = 0, len(S) - 1\n",
        "        ans = 0\n",
        "        for i in range(len(S)):\n",
        "            left, right = 0, i-1\n",
        "            while left < right:\n",
        "                if S[left] + S[right] > S[i]:\n",
        "                    ans += right - left\n",
        "                    right -= 1\n",
        "                else:\n",
        "                    left += 1\n",
        "        return ans\n",
        "\n",
        "\n",
        "\n",
        "if __name__ == \"__main__\":\n",
        "    nums = [1, 2, 3, 4, 5, 5, 7]\n",
        "    print Solution().triangleCount(nums)"
      ],
      "execution_count": 5,
      "outputs": [
        {
          "output_type": "stream",
          "text": [
            "14\n"
          ],
          "name": "stdout"
        }
      ]
    },
    {
      "metadata": {
        "id": "QSO8ZHXRl0lr",
        "colab_type": "text"
      },
      "cell_type": "markdown",
      "source": [
        "## 经典排序算法，快速选择"
      ]
    },
    {
      "metadata": {
        "id": "u2zcpuCUmGoa",
        "colab_type": "text"
      },
      "cell_type": "markdown",
      "source": [
        "### 461. Kth Smallest Numbers in Unsorted Array\n",
        "Find the kth smallest numbers in an unsorted integer array.\n",
        "\n",
        "```\n",
        "Example\n",
        "Given [3, 4, 1, 2, 5], k = 3, the 3rd smallest numbers are [1, 2, 3].\n",
        "\n",
        "Challenge\n",
        "An O(nlogn) algorithm is acceptable, if you can do it in O(n), that would be great.\n",
        "```"
      ]
    },
    {
      "metadata": {
        "id": "A5JG5vlPdVLw",
        "colab_type": "code",
        "colab": {
          "base_uri": "https://localhost:8080/",
          "height": 34
        },
        "outputId": "88f70958-301f-47d7-ece2-14c61c2f9997"
      },
      "cell_type": "code",
      "source": [
        "class Solution:\n",
        "    \"\"\"\n",
        "    @param k: An integer\n",
        "    @param nums: An integer array\n",
        "    @return: kth smallest element\n",
        "    \"\"\"\n",
        "    def kthSmallest(self, k, nums):\n",
        "        return self.quickselect(k-1, nums)\n",
        "\n",
        "    def quickselect(self, k, nums, lo=None, hi=None):\n",
        "        lo = 0 if lo is None else lo\n",
        "        hi = len(nums) - 1 if hi is None else hi\n",
        "        while True:\n",
        "            if lo == hi:\n",
        "                return nums[lo]\n",
        "            pvt = self.partition(nums, lo, hi)\n",
        "            if k == pvt:\n",
        "                return nums[k]\n",
        "            elif k < pvt:\n",
        "                hi = pvt - 1\n",
        "            else:\n",
        "                lo = pvt + 1\n",
        "\n",
        "    def partition(self, nums, lo=None, hi=None):\n",
        "        lo = 0 if lo is None else lo\n",
        "        hi = len(nums) - 1 if hi is None else hi\n",
        "        pvt = lo\n",
        "        for i in range(lo, hi):\n",
        "            if nums[i] < nums[hi]:\n",
        "                nums[i], nums[pvt] = nums[pvt], nums[i]\n",
        "                pvt += 1\n",
        "        nums[hi], nums[pvt] = nums[pvt], nums[hi]\n",
        "        return pvt\n",
        "\n",
        "\n",
        "if __name__ == \"__main__\":\n",
        "    k, nums = 3, [2,3,4,8,9]\n",
        "    print Solution().kthSmallest(k, nums)"
      ],
      "execution_count": 4,
      "outputs": [
        {
          "output_type": "stream",
          "text": [
            "4\n"
          ],
          "name": "stdout"
        }
      ]
    },
    {
      "metadata": {
        "id": "rj0OHnQ7caEI",
        "colab_type": "text"
      },
      "cell_type": "markdown",
      "source": [
        "### 464. Sort Integers II (Quick, Merge, Heap)\n",
        "\n",
        "Description\n",
        "Given an integer array, sort it in ascending order. Use quick sort, merge sort, heap sort or any O(nlogn) algorithm.\n",
        "```\n",
        "Example\n",
        "Given [3, 2, 1, 4, 5], return [1, 2, 3, 4, 5].\n",
        "```"
      ]
    },
    {
      "metadata": {
        "id": "bmumzlo58DdQ",
        "colab_type": "code",
        "colab": {
          "base_uri": "https://localhost:8080/",
          "height": 85
        },
        "outputId": "948a3905-414d-4eb7-f1f2-e436e852e99f"
      },
      "cell_type": "code",
      "source": [
        "# quick sort \n",
        "# Your submission beats 67.20% Submissions!\n",
        "class Solution:\n",
        "    \"\"\"\n",
        "    @param A: an integer array\n",
        "    @return: nothing\n",
        "    \"\"\"\n",
        "    def quicksort(self, nums, lo=None, hi=None):\n",
        "        lo = 0 if lo is None else lo\n",
        "        hi = len(nums) - 1 if hi is None else hi\n",
        "        if lo < hi:\n",
        "            p = self.partition(nums, lo, hi)\n",
        "            self.quicksort(nums, lo, p-1)\n",
        "            self.quicksort(nums, p+1, hi)\n",
        "\n",
        "    def quickselect(self, nums, k, lo=None, hi=None):\n",
        "        lo = 0 if lo is None else lo\n",
        "        hi = len(nums) - 1 if hi is None else hi\n",
        "        while True:\n",
        "            if lo == hi:\n",
        "                return nums[lo]\n",
        "            pvt = self.partition(nums, lo, hi)\n",
        "            if k == pvt:\n",
        "                return nums[k]\n",
        "            elif k < pvt:\n",
        "                hi = pvt - 1\n",
        "            else:\n",
        "                lo = pvt + 1\n",
        "\n",
        "    def partition(self, nums, lo=None, hi=None):\n",
        "        lo = 0 if lo is None else lo\n",
        "        hi = len(nums) - 1 if hi is None else hi\n",
        "        pvt = lo\n",
        "        for i in range(lo, hi):\n",
        "            if nums[i] < nums[hi]:\n",
        "                nums[i], nums[pvt] = nums[pvt], nums[i]\n",
        "                pvt += 1\n",
        "        nums[pvt], nums[hi] = nums[hi], nums[pvt]\n",
        "        return pvt\n",
        "    \n",
        "    # Merge sort \n",
        "    # Your submission beats 33.00% Submissions!\n",
        "    def mergesort(self, nums, lo=None, hi=None):\n",
        "        lo = 0 if lo is None else lo\n",
        "        hi = len(nums) - 1 if hi is None else hi\n",
        "        if lo == hi:\n",
        "            return [nums[lo]]\n",
        "        mid = (lo + hi) // 2\n",
        "        left = self.mergesort(nums, lo, mid)\n",
        "        right = self.mergesort(nums, mid+1, hi)\n",
        "        return self.merge(left, right)\n",
        "\n",
        "    def merge(self, left, right): # merge two sorted list\n",
        "        res = []\n",
        "        i = j = 0\n",
        "        while i < len(left) and j < len(right):\n",
        "                res.append(left[i])\n",
        "                i += 1\n",
        "            else:\n",
        "                res.append(right[j])\n",
        "                j += 1\n",
        "        while i < len(left):\n",
        "            res.append(left[i])\n",
        "            i += 1\n",
        "        while j < len(right):\n",
        "            res.append(right[j])\n",
        "            j += 1\n",
        "        return res\n",
        "    \n",
        "    # Heap sort \n",
        "    # Your submission beats 16.40% Submissions!\n",
        "    def heapsort(self, nums, lo=None, hi=None):\n",
        "        lo = 0 if lo is None else lo\n",
        "        hi = len(nums) - 1 if hi is None else hi\n",
        "\n",
        "        # 1. build the heap\n",
        "        for i in range(hi//2, lo-1, -1):\n",
        "            self.maxheapify(nums, i, hi)\n",
        "        # 2. delete top\n",
        "        for i in range(hi, lo, -1):\n",
        "            nums[lo], nums[i] = nums[i], nums[lo]\n",
        "            # after each iteration, largest goes to ith, next end at i-1\n",
        "            self.maxheapify(nums, lo, i-1)\n",
        "\n",
        "    def maxheapify(self, nums, lo=None, hi=None):\n",
        "        lo = 0 if lo is None else lo\n",
        "        hi = len(nums) - 1 if hi is None else hi\n",
        "        parent = lo\n",
        "        while parent <= hi:\n",
        "            left = parent * 2 + 1\n",
        "            right = parent * 2 + 2\n",
        "            child = -1\n",
        "\n",
        "            if left <= hi and right <= hi:\n",
        "                child = left if nums[left] > nums[right] else right\n",
        "            elif left <= hi:\n",
        "                child = left\n",
        "            else:\n",
        "                return\n",
        "            # max heap root >= left and root >= right\n",
        "            if nums[parent] >= nums[child]:\n",
        "                return\n",
        "            nums[parent], nums[child] = nums[child], nums[parent]\n",
        "            parent = child\n",
        "\n",
        "            \n",
        "if __name__ == \"__main__\":\n",
        "    \n",
        "    nums = [1,5,4,2,1,3,2,1,4,2,12,3,2,2,2]\n",
        "    print Solution().quickselect(nums, 10)\n",
        "    Solution().quicksort(nums)\n",
        "    print nums\n",
        "    \n",
        "    nums = [1, 5, 4, 2, 1, 3, 2, 1, 4, 2, 12, 3, 2, 2, 2]\n",
        "    print Solution().mergesort(nums)\n",
        "\n",
        "    nums = [1,5,4,2,1,3,2,1,4,2,12,3,2,2,2]\n",
        "    # build maxheap\n",
        "    s = Solution()\n",
        "    s.heapsort(nums)\n",
        "    print nums"
      ],
      "execution_count": 7,
      "outputs": [
        {
          "output_type": "stream",
          "text": [
            "3\n",
            "[1, 1, 1, 2, 2, 2, 2, 2, 2, 3, 3, 4, 4, 5, 12]\n",
            "[1, 1, 1, 2, 2, 2, 2, 2, 2, 3, 3, 4, 4, 5, 12]\n",
            "[1, 1, 1, 2, 2, 2, 2, 2, 2, 3, 3, 4, 4, 5, 12]\n"
          ],
          "name": "stdout"
        }
      ]
    },
    {
      "metadata": {
        "id": "_fXiQvyaHSB2",
        "colab_type": "text"
      },
      "cell_type": "markdown",
      "source": [
        "### 143. Sort Colors II (计数排序）\n",
        "Description\n",
        "Given an array of n objects with k different colors (numbered from 1 to k), sort them so that objects of the same color are adjacent, with the colors in the order 1, 2, ... k.\n",
        "```\n",
        "Example\n",
        "Given colors=[3, 2, 2, 1, 4], k=4, your code should sort colors in-place to [1, 2, 2, 3, 4].\n",
        "\n",
        "Challenge\n",
        "A rather straight forward solution is a two-pass algorithm using counting sort. That will cost O(k) extra memory. Can you do it without using extra memory?\n",
        "```"
      ]
    },
    {
      "metadata": {
        "id": "2vhuUsYwXavd",
        "colab_type": "code",
        "colab": {
          "base_uri": "https://localhost:8080/",
          "height": 35
        },
        "outputId": "1d97d79b-7fe6-4d5f-81ff-fe093ac555d5"
      },
      "cell_type": "code",
      "source": [
        "class Solution:\n",
        "    \"\"\"\n",
        "    @param colors: A list of integer\n",
        "    @param k: An integer\n",
        "    @return: nothing\n",
        "    \"\"\"\n",
        "    def sortColors2(self, colors, k):\n",
        "        count = [0 for _ in range(k)]\n",
        "        for color in colors:\n",
        "            count[color - 1] += 1\n",
        "        i = 0\n",
        "        for j in range(len(count)):\n",
        "            while count[j] > 0:\n",
        "                colors[i] = j + 1\n",
        "                i += 1\n",
        "                count[j] -= 1\n",
        "        print colors\n",
        "        \n",
        "if __name__ == \"__main__\":\n",
        "    colors = [2,1,1,2,2]\n",
        "    k = 2\n",
        "    Solution().sortColors2(colors, k)"
      ],
      "execution_count": 3,
      "outputs": [
        {
          "output_type": "stream",
          "text": [
            "[1, 1, 2, 2, 2]\n"
          ],
          "name": "stdout"
        }
      ]
    },
    {
      "metadata": {
        "id": "BUlLbDFoHR5o",
        "colab_type": "text"
      },
      "cell_type": "markdown",
      "source": [
        "### 31. Partition Array\n",
        "Description\n",
        "Given an array nums of integers and an int k, partition the array (i.e move the elements in \"nums\") such that:\n",
        "\n",
        "All elements < k are moved to the left\n",
        "All elements >= k are moved to the right\n",
        "Return the partitioning index, i.e the first index i nums[i] >= k.\n",
        "```\n",
        "Example\n",
        "If nums = [3,2,2,1] and k=2, a valid answer is 1.\n",
        "\n",
        "Challenge\n",
        "Can you partition the array in-place and in O(n)?\n",
        "```"
      ]
    },
    {
      "metadata": {
        "id": "9dGr2O3e9Bwi",
        "colab_type": "code",
        "colab": {
          "base_uri": "https://localhost:8080/",
          "height": 35
        },
        "outputId": "ea314f9d-4b3c-484f-860e-4cb6bb6b5127"
      },
      "cell_type": "code",
      "source": [
        "class Solution:\n",
        "    \"\"\"\n",
        "    @param nums: The integer array you should partition\n",
        "    @param k: An integer\n",
        "    @return: The index after partition\n",
        "    \"\"\"\n",
        "    def partitionArray(self, nums, k):\n",
        "        if len(nums) == 0:\n",
        "            return 0 \n",
        "        pvt = 0\n",
        "        while pvt < len(nums):\n",
        "            if nums[pvt] == k: # find the element = k, O(n) as it is not sorted\n",
        "                break\n",
        "            pvt += 1\n",
        "        if pvt == len(nums):\n",
        "            return pvt if k > max(nums) else 0 \n",
        "        nums[pvt], nums[-1] = nums[-1], nums[pvt]\n",
        "        pvt = self.partition(nums, 0, len(nums)-1)\n",
        "        return pvt \n",
        "\n",
        "    def partition(self, nums, lo, hi):\n",
        "        pvt = lo\n",
        "        for i in range(lo, hi):\n",
        "            if nums[i] < nums[hi]:\n",
        "                nums[i], nums[pvt] = nums[pvt], nums[i]\n",
        "                pvt += 1\n",
        "        nums[pvt], nums[hi] = nums[hi], nums[pvt]\n",
        "        return pvt\n",
        "\n",
        "if __name__ == \"__main__\":\n",
        "    nums = [9,9,9,8,9,8,7,9,8,8,8,9,8,9,8,8,6,9]\n",
        "    print Solution().partitionArray(nums, 9)\n",
        "    #print Solution().partition([3, 1, 3, 3, 2, 2], 0, 5)\n",
        "\n",
        "\n"
      ],
      "execution_count": 2,
      "outputs": [
        {
          "output_type": "stream",
          "text": [
            "10\n"
          ],
          "name": "stdout"
        }
      ]
    },
    {
      "metadata": {
        "id": "8C0ePY_OW_2o",
        "colab_type": "text"
      },
      "cell_type": "markdown",
      "source": [
        "### 625. Partition Array II\n",
        "Partition an unsorted integer array into three parts:\n",
        "\n",
        "The front part < low\n",
        "The middle part >= low & <= high\n",
        "The tail part > high\n",
        "Return any of the possible solutions.\n",
        "```\n",
        "Example\n",
        "Given [4,3,4,1,2,3,1,2], and low = 2 and high = 3.\n",
        "\n",
        "Change to [1,1,2,3,2,3,4,4].\n",
        "\n",
        "([1,1,2,2,3,3,4,4] is also a correct answer, but [1,2,1,2,3,3,4,4] is not)\n",
        "\n",
        "Challenge\n",
        "Do it in place.\n",
        "Do it in one pass (one loop).\n",
        "\n",
        "```\n",
        "注意这道题，没有要求low 和high要在该在的位置上，即便要求了， 也先这样做，把前后排好了，去中间找low, high 这也效率要高很多。算法也不容易错。用这道题也可以做 彩虹排序1， 只有三种颜色的情况 "
      ]
    },
    {
      "metadata": {
        "id": "Qd2rNJ19XAPB",
        "colab_type": "code",
        "colab": {}
      },
      "cell_type": "code",
      "source": [
        "class Solution:\n",
        "    \"\"\"\n",
        "    @param: nums: an integer array\n",
        "    @param: low: An integer\n",
        "    @param: high: An integer\n",
        "    @return:\n",
        "    \"\"\"\n",
        "    def partition2(self, nums, low, high):\n",
        "        left, right = 0, len(nums) - 1\n",
        "        i = 0\n",
        "        while i < right:\n",
        "            if nums[i] < low:\n",
        "                nums[i], nums[left] = nums[left], nums[i]\n",
        "                i += 1\n",
        "                left += 1\n",
        "            elif nums[i] > high:\n",
        "                nums[i], nums[right] = nums[right], nums[i]\n",
        "                right -= 1\n",
        "            else:\n",
        "                i += 1\n",
        "        return nums\n",
        "\n",
        "if __name__ == \"__main__\":\n",
        "    nums, low, high = [4,3,4,1,2,3,1,2], 2, 3\n",
        "    print Solution().partition2(nums, low, high)\n"
      ],
      "execution_count": 0,
      "outputs": []
    },
    {
      "metadata": {
        "id": "NjeLqoHWZthv",
        "colab_type": "text"
      },
      "cell_type": "markdown",
      "source": [
        "### 894. Pancake Sorting\n",
        "Given an an unsorted array, sort the given array. You are allowed to do only following operation on array.\n",
        "\n",
        "flip(arr, i): Reverse array from 0 to i \n",
        "Unlike a traditional sorting algorithm, which attempts to sort with the fewest comparisons possible, the goal is to sort the sequence in as few reversals as possible.\n",
        "```\n",
        "Example\n",
        "Given array = [6, 7, 10, 11, 12, 20, 23]\n",
        "Use flip(arr, i) function to sort the array.\n",
        "```\n",
        "找到最大值的index，翻转到头，再翻转到最尾，尾巴-1\n",
        "\n"
      ]
    },
    {
      "metadata": {
        "id": "DsAxGA5iZtmd",
        "colab_type": "code",
        "colab": {}
      },
      "cell_type": "code",
      "source": [
        "class FlipTool:\n",
        "    @classmethod\n",
        "    def flip(cls, arr, i):\n",
        "        left, right = 0, i\n",
        "        while left < right:\n",
        "            arr[left], arr[right] = arr[right], arr[left]\n",
        "            left += 1\n",
        "            right -=1\n",
        "\n",
        "class Solution:\n",
        "    \"\"\"\n",
        "    @param array: an integer array\n",
        "    @return: nothing\n",
        "    \"\"\"\n",
        "    def pancakeSort(self, arr):\n",
        "        cur_size = len(arr) - 1\n",
        "        while cur_size > 0:\n",
        "            mi = self.findMax(arr, cur_size)\n",
        "            FlipTool.flip(arr, mi)\n",
        "            FlipTool.flip(arr, cur_size)\n",
        "            cur_size -= 1\n",
        "        return arr\n",
        "\n",
        "    def findMax(self, arr, n):\n",
        "        mi = 0\n",
        "        for i in range(n+1):\n",
        "            mi = i if arr[i] > arr[mi] else mi\n",
        "        return mi\n",
        "\n",
        "if __name__ == \"__main__\":\n",
        "    nums = [1,2,3]\n",
        "    print Solution().pancakeSort(nums)"
      ],
      "execution_count": 0,
      "outputs": []
    },
    {
      "metadata": {
        "id": "dX6MXc3SSoBk",
        "colab_type": "text"
      },
      "cell_type": "markdown",
      "source": [
        "### 5. Kth Largest Element\n",
        "Find K-th largest element in an array.\n",
        "```\n",
        "Example\n",
        "In array [9,3,2,4,8], the 3rd largest element is 4.\n",
        "\n",
        "In array [1,2,3,4,5], the 1st largest element is 5, 2nd largest element is 4, 3rd largest element is 3 and etc.\n",
        "\n",
        "Challenge\n",
        "O(n) time, O(1) extra memory.\n",
        "```\n",
        "快速选择算法非常容易写错，要记忆模板，和模板写的一模一样，基于模板改。"
      ]
    },
    {
      "metadata": {
        "id": "pbLEqqmxStNh",
        "colab_type": "code",
        "colab": {
          "base_uri": "https://localhost:8080/",
          "height": 33
        },
        "outputId": "5a3f5384-1cc8-454b-bfef-8e4000c41f37"
      },
      "cell_type": "code",
      "source": [
        "class Solution:\n",
        "    # k & A a integer and an array\n",
        "    # ans a integer\n",
        "    def kthLargestElement(self, k, A):\n",
        "        # method 1\n",
        "        # return self.quickselect(A, len(A)-k)\n",
        "        # method 2 \n",
        "        import heapq\n",
        "        heapq.heapify(A)\n",
        "        return heapq.nlargest(k, A)[-1]\n",
        "\n",
        "    def quickselect(self, nums, k, lo=None, hi=None):\n",
        "        lo = 0 if lo is None else lo\n",
        "        hi = len(nums) - 1 if hi is None else hi\n",
        "        while True:\n",
        "            if lo == hi:\n",
        "                return nums[lo]\n",
        "            pvt = self.partition(nums, lo, hi)\n",
        "            if k == pvt:\n",
        "                return nums[k]\n",
        "            elif k < pvt:\n",
        "                hi = pvt - 1\n",
        "            else:\n",
        "                lo = pvt + 1\n",
        "\n",
        "    def partition(self, nums, lo=None, hi=None):\n",
        "        if lo >= hi: return lo\n",
        "        lo = 0 if lo is None else lo\n",
        "        hi = len(nums) - 1 if hi is None else hi\n",
        "        pvt = lo\n",
        "        for i in range(lo, hi):\n",
        "            if nums[i] < nums[hi]:\n",
        "                nums[i], nums[pvt] = nums[pvt], nums[i]\n",
        "                pvt += 1\n",
        "        nums[hi], nums[pvt] = nums[pvt], nums[hi]\n",
        "        return pvt\n",
        "\n",
        "\n",
        "if __name__ == \"__main__\":\n",
        "    k = 10\n",
        "    A = [1,2,3,4,5,6,8,9,10,7]\n",
        "    print Solution().kthLargestElement(k, A)\n",
        "    "
      ],
      "execution_count": 1,
      "outputs": [
        {
          "output_type": "stream",
          "text": [
            "1\n"
          ],
          "name": "stdout"
        }
      ]
    },
    {
      "metadata": {
        "id": "vwvcvdcWobu5",
        "colab_type": "text"
      },
      "cell_type": "markdown",
      "source": [
        ""
      ]
    },
    {
      "metadata": {
        "id": "7mvWXGVyz1Xc",
        "colab_type": "text"
      },
      "cell_type": "markdown",
      "source": [
        "# BFS & Topological Sort\n",
        "```\n",
        "\n",
        "如下的一些场景是使用宽度优先搜索的常见场景：\n",
        "\n",
        "Traversal in Graph\n",
        "图的遍历，比如给出无向连通图(Undirected Connected Graph)中的一个点，找到这个图里的所有点。这就是一个常见的场景。LintCode 上的 Clone Graph 就是一个典型的练习题。\n",
        "\n",
        "\n",
        " \n",
        "\n",
        "Level Order Traversal\n",
        "层级遍历，也就是说我不仅仅需要知道从一个点出发可以到达哪些点，还需要知道这些点，分别离出发点是第几层遇到的，比如 Binary Tree Level Order Traversal 就是一个典型的练习题。\n",
        "什么时候需要分层遍历？\n",
        "1. 如果问题需要你区分开不同层级的结果信息，如 二叉树的分层遍历 Binary Tree Level Order Traversal\n",
        "2. 简单图最短路径问题，如 单词接龙 Word Ladder\n",
        "\n",
        "Connected Component\n",
        "由点及面，前面已经提到。\n",
        "\n",
        "Topological Sort\n",
        "\n",
        "最短路径 Shortest Path in Simple Graph\n",
        "最短路径算法有很多种，BFS 是其中一种，但是他有特殊的使用场景，即必须是在简单图中求最短路径。\n",
        "大部分简单图中使用 BFS 算法时，都是无向图。当然也有可能是有向图，但是在面试中极少会出现。\n",
        "\n",
        "什么是简单图（Simple Graph）？\n",
        "即，图中每条边长度都是1（或边长都相同）。\n",
        "```\n",
        "宽搜一般用队列实现:\n",
        "\n",
        "什么是队列（Queue）？\n",
        "队列（queue）是一种采用先进先出（FIFO，first in first out）策略的抽象数据结构。比如生活中排队，总是按照先来的先服务，后来的后服务。队列在数据结构中举足轻重，其在算法中应用广泛，最常用的就是在宽度优先搜索(BFS）中，记录待扩展的节点。\n",
        "\n",
        "队列内部存储元素的方式，一般有两种，数组（array）和链表（linked list）。两者的最主要区别是：\n",
        "\n",
        "数组对随机访问有较好性能。\n",
        "链表对插入和删除元素有较好性能。\n",
        "在各语言的标准库中：\n",
        "\n",
        "Java常用的队列包括如下几种：\n",
        "ArrayDeque：数组存储。实现Deque接口，而Deque是Queue接口的子接口，代表双端队列（double-ended queue）。\n",
        "LinkedList：链表存储。实现List接口和Duque接口，不仅可做队列，还可以作为双端队列，或栈（stack）来使用。\n",
        "C++中，使用<queue>中的queue模板类，模板需两个参数，元素类型和容器类型，元素类型必要，而容器类型可选，默认deque，可改用list（链表）类型。\n",
        "Python中，使用Queue.Queue类，其由双端队列实现，并可指定队列大小maxsize，如果不大于0，表示大小无限制。\n",
        "如何自己用数组实现一个队列？\n",
        "队列的主要操作有：\n",
        "\n",
        "add()队尾追加元素\n",
        "poll()弹出队首元素\n",
        "size()返回队列长度\n",
        "empty()判断队列为空\n",
        "下面利用Java的ArrayList和一个头指针实现一个简单的队列。（注意：为了将重点放在实现队列上，做了适当简化。该队列仅支持整数类型，若想实现泛型，可用反射机制和object对象传参；此外，可多做安全检查并抛出异常）\n",
        "\n",
        "class MyQueue {\n",
        "    private ArrayList<Integer> elements;  // 用ArrayList存储队列内部元素\n",
        "    private int pointer;  // 表示队头的位置\n",
        "\n",
        "    // 队列初始化\n",
        "    public MyQueue() {\n",
        "        this.elements = new ArrayList<>();\n",
        "        pointer = 0;\n",
        "    }\n",
        "\n",
        "    // 获取队列中元素个数\n",
        "    public int size() {\n",
        "        return this.elements.size() - pointer;\n",
        "    }\n",
        "\n",
        "    // 判断队列是否为空\n",
        "    public boolean empty() {\n",
        "        return this.size() == 0;\n",
        "    }\n",
        "\n",
        "    // 在队尾添加一个元素\n",
        "    public void add(Integer e) {\n",
        "        this.elements.add(e);\n",
        "    }\n",
        "\n",
        "    // 弹出队首元素，如果为空则返回null\n",
        "    public Integer poll() {\n",
        "        if (this.empty()) {\n",
        "            return null;\n",
        "        }\n",
        "        return this.elements.get(pointer++);\n",
        "    }\n",
        "}\n",
        "队列在工业界的应用\n",
        "队列可用于实现消息队列（message queue），以完成异步（asynchronous）任务。\n",
        "\n",
        "“消息”是计算机间传送的数据，可以只包含文本；也可复杂到包含嵌入对象。当消息“生产”和“消费”的速度不一致时，就需要消息队列，临时保存那些已经发送而并未接收的消息。例如集体打包调度，服务器繁忙时的任务处理，事件驱动等等。\n",
        "\n",
        "常用的消息队列实现包括RabbitMQ，ZeroMQ等等。\n",
        "\n",
        "更多消息队列的参考资料：\n",
        "\n",
        "为什么需要消息队列，及使用消息队列的好处？\n",
        "RabbitMQ的应用场景以及基本原理介绍\n",
        "\n",
        "\n",
        "宽度优先搜索有很多种实现方法，这里为了大家记忆方便和教学的方便，我们只介绍最实用的一种方法，即使用一个队列的方法。\n",
        "这种方法也根据 BFS 时的需求不同，有两个版本，即需要分层遍历的版本和不需要分层遍历的版本。\n",
        "\n"
      ]
    },
    {
      "metadata": {
        "id": "0s1zynFqUr1r",
        "colab_type": "text"
      },
      "cell_type": "markdown",
      "source": [
        "## BFS 的模板(层级遍历与否)\n",
        "\n",
        "**无需分层的BFS** \n",
        "\n",
        "```\n",
        "// T 指代任何你希望存储的类型\n",
        "Queue<T> queue = new LinkedList<>();\n",
        "Set<T> set = new HashSet<>();\n",
        "\n",
        "set.add(start);\n",
        "queue.offer(start);\n",
        "while (!queue.isEmpty()) {\n",
        "    T head = queue.poll();\n",
        "    for (T neighbor : head.neighbors) {\n",
        "        if (!set.contains(neighbor)) {\n",
        "            set.add(neighbor);\n",
        "            queue.offer(neighbor);\n",
        "        }\n",
        "    }\n",
        "}\n",
        "\n",
        "```\n",
        "\n",
        "上述代码中, neighbor 表示从某个点 head 出发，可以走到的下一层的节点。\n",
        "set 存储已经访问过的节点（已经丢到 queue 里去过的节点）\n",
        "queue 存储等待被拓展到下一层的节点\n",
        "set 与 queue 是一对好基友，无时无刻都一起出现，往 queue 里新增一个节点，就要同时丢到 set 里。neighbor 表示从某个点 head 出发，可以走到的下一层的节点。\n",
        "set 存储已经访问过的节点（已经丢到 queue 里去过的节点）\n",
        "queue 存储等待被拓展到下一层的节点\n",
        "set 与 queue 是一对好基友，无时无刻都一起出现，往 queue 里新增一个节点，就要同时丢到 set 里。\n",
        "\n",
        " **分层 BFS **\n",
        "\n",
        "``` \n",
        "// T 指代任何你希望存储的类型\n",
        "Queue<T> queue = new LinkedList<>();\n",
        "Set<T> set = new HashSet<>();\n",
        "\n",
        "set.add(start);\n",
        "queue.offer(start);\n",
        "while (!queue.isEmpty()) {\n",
        "    int size = queue.size();\n",
        "    for (int i = 0; i < size; i++) {\n",
        "        T head = queue.poll();\n",
        "        for (T neighbor : head.neighbors) {\n",
        "            if (!set.contains(neighbor)) {\n",
        "                set.add(neighbor);\n",
        "                queue.offer(neighbor);\n",
        "            }\n",
        "        }\n",
        "    }\n",
        "}\n",
        "```\n",
        "上述代码中：\n",
        "\n",
        "size = queue.size() 是一个必须的步骤。如果在 for 循环中使用 for (int i = 0; i < queue.size(); i++) 会出错，因为 queue.size() 是一个动态变化的值。所以必须先把当前层一共有多少个节点存在局部变量 size 中，才不会把下一层的节点也在当前层进行扩展。\n"
      ]
    },
    {
      "metadata": {
        "id": "YjH1D-5bdhZL",
        "colab_type": "text"
      },
      "cell_type": "markdown",
      "source": [
        "### 433. Number of Islands\n",
        "Given a boolean 2D matrix, 0 is represented as the sea, 1 is represented as the island. If two 1 is adjacent, we consider them in the same island. We only consider up/down/left/right adjacent.\n",
        "\n",
        "Find the number of islands.\n",
        "```\n",
        "Example\n",
        "Given graph:\n",
        "\n",
        "[\n",
        "  [1, 1, 0, 0, 0],\n",
        "  [0, 1, 0, 0, 1],\n",
        "  [0, 0, 0, 1, 1],\n",
        "  [0, 0, 0, 0, 0],\n",
        "  [0, 0, 0, 0, 1]\n",
        "]\n",
        "return 3.\n",
        "\n",
        "```"
      ]
    },
    {
      "metadata": {
        "id": "TS3Suq1geUgk",
        "colab_type": "code",
        "colab": {}
      },
      "cell_type": "code",
      "source": [
        "class Solution:\n",
        "    \"\"\"\n",
        "    @param grid: a boolean 2D matrix\n",
        "    @return: an integer\n",
        "    \"\"\"\n",
        "    def numIslands(self, grid):\n",
        "        from collections import deque\n",
        "        if len(grid) == 0 or len(grid[0]) == 0:\n",
        "            return 0\n",
        "        m, n = len(grid), len(grid[0])\n",
        "        visited = [[False for j in range(n)]\n",
        "                      for i in range(m)]\n",
        "\n",
        "\n",
        "        def check(x, y): # pos(x,y)\n",
        "            if 0 <= x < m and 0 <= y < n and not visited[x][y] and grid[x][y] == 1:\n",
        "                return True\n",
        "            return False\n",
        "\n",
        "        def bfs(x, y):\n",
        "            deck = deque()\n",
        "            deck.append((x,y))\n",
        "            direction = [(1, 0), (0, 1), (-1, 0), (0, -1)]\n",
        "            while len(deck) > 0:\n",
        "                x, y = deck.pop()\n",
        "                for i in range(4):\n",
        "                    xd = x + direction[i][0]\n",
        "                    yd = y + direction[i][1]\n",
        "                    if check(xd, yd):\n",
        "                        deck.appendleft((xd, yd))\n",
        "                        visited[xd][yd] = 1\n",
        "\n",
        "        count = 0\n",
        "        for x in range(m):\n",
        "            for y in range(n):\n",
        "                if grid[x][y] == 1 and not visited[x][y]:\n",
        "                    count += 1\n",
        "                    bfs(x, y)\n",
        "        \n",
        "        return count"
      ],
      "execution_count": 0,
      "outputs": []
    },
    {
      "metadata": {
        "id": "pxnzpqZpJkKe",
        "colab_type": "text"
      },
      "cell_type": "markdown",
      "source": [
        "### Number of Distinct Islands II\n",
        "\n",
        "Description\n",
        "Given a non-empty 2D array grid of 0's and 1's, an island is a group of 1's (representing land) connected 4-directionally (horizontal or vertical.) You may assume all four edges of the grid are surrounded by water.\n",
        "\n",
        "Count the number of distinct islands. An island is considered to be the same as another if they have the same shape, or have the same shape after rotation (90, 180, or 270 degrees only) or reflection (left/right direction or up/down direction).\n",
        "\n",
        "The length of each dimension in the given grid does not exceed 50.\n",
        "\n",
        "```\n",
        "Example\n",
        "Example 1:\n",
        "\n",
        "11000\n",
        "10000\n",
        "00001\n",
        "00011\n",
        "Given the above grid map, return 1.\n",
        "\n",
        "Notice that:\n",
        "\n",
        "11\n",
        "1\n",
        "and\n",
        "\n",
        " 1\n",
        "11\n",
        "are considered same island shapes. Because if we make a 180 degrees clockwise rotation on the first island, then two islands will have the same shapes.\n",
        "\n",
        "Example 2:\n",
        "\n",
        "11100\n",
        "10001\n",
        "01001\n",
        "01110\n",
        "Given the above grid map, return 2.\n",
        "\n",
        "Here are the two distinct islands:\n",
        "\n",
        "111\n",
        "1\n",
        "and\n",
        "\n",
        "1\n",
        "1\n",
        "Notice that:\n",
        "\n",
        "111\n",
        "1\n",
        "and\n",
        "\n",
        "1\n",
        "111\n",
        "are considered same island shapes. Because if we flip the first array in the up/down direction, then they have the same shapes.\n",
        "```"
      ]
    },
    {
      "metadata": {
        "id": "GREal4FT2ZC5",
        "colab_type": "code",
        "colab": {}
      },
      "cell_type": "code",
      "source": [
        "public class Solution {\n",
        "    /**\n",
        "     * @param n an integer\n",
        "     * @param m an integer\n",
        "     * @param operators an array of point\n",
        "     * @return an integer array\n",
        "     */\n",
        "    int converttoId(int x, int y, int m){\n",
        "        return x*m + y;\n",
        "    }\n",
        "    class UnionFind{\n",
        "        HashMap<Integer, Integer> father = new HashMap<Integer, Integer>();\n",
        "        UnionFind(int n, int m){\n",
        "            for(int i = 0 ; i < n; i++) {\n",
        "                for(int j = 0 ; j < m; j++) {\n",
        "                    int id = converttoId(i,j,m);\n",
        "                    father.put(id, id); \n",
        "                }\n",
        "            }\n",
        "        }\n",
        "        int compressed_find(int x){\n",
        "            int parent =  father.get(x);\n",
        "            while(parent!=father.get(parent)) {\n",
        "                parent = father.get(parent);\n",
        "            }\n",
        "            int temp = -1;\n",
        "            int fa = x;\n",
        "            while(fa!=father.get(fa)) {\n",
        "                temp = father.get(fa);\n",
        "                father.put(fa, parent) ;\n",
        "                fa = temp;\n",
        "            }\n",
        "            return parent;\n",
        "                \n",
        "        }\n",
        "        \n",
        "        void union(int x, int y){\n",
        "            int fa_x = compressed_find(x);\n",
        "            int fa_y = compressed_find(y);\n",
        "            if(fa_x != fa_y)\n",
        "                father.put(fa_x, fa_y);\n",
        "        }\n",
        "    }\n",
        "    \n",
        "    public List<Integer> numIslands2(int n, int m, Point[] operators) {\n",
        "        // Write your code here\n",
        "        List<Integer> ans = new ArrayList<Integer>();\n",
        "        if(operators == null) {\n",
        "            return ans;\n",
        "        }\n",
        "        \n",
        "        int []dx = {0,-1, 0, 1};\n",
        "        int []dy = {1, 0, -1, 0};\n",
        "        int [][]island = new int[n][m];\n",
        "       \n",
        "        \n",
        "        UnionFind uf = new UnionFind(n, m);\n",
        "        int count = 0;\n",
        "        \n",
        "        for(int i = 0; i < operators.length; i++) {\n",
        "            int x = operators[i].x;\n",
        "            int y = operators[i].y;\n",
        "            if(island[x][y] != 1) {\n",
        "                count ++;\n",
        "                island[x][y]  = 1;\n",
        "                int id = converttoId(x,y , m);\n",
        "                for(int j = 0 ; j < 4; j++) {\n",
        "                    int nx = x + dx[j];\n",
        "                    int ny = y + dy[j];\n",
        "                    if(0 <= nx && nx < n && 0 <= ny && ny < m && island[nx][ny] == 1) \n",
        "                    {\n",
        "                        int nid = converttoId(nx, ny, m);\n",
        "                        \n",
        "                        int fa = uf.compressed_find(id);\n",
        "                        int nfa = uf.compressed_find(nid);\n",
        "                        if(fa != nfa) {\n",
        "                            count--;\n",
        "                            uf.union(id, nid);\n",
        "                        }\n",
        "                    }\n",
        "                }\n",
        "            }\n",
        "            ans.add(count);\n",
        "        }\n",
        "        return ans;\n",
        "    }\n",
        "}"
      ],
      "execution_count": 0,
      "outputs": []
    },
    {
      "metadata": {
        "id": "TXPoFhIWdtnS",
        "colab_type": "text"
      },
      "cell_type": "markdown",
      "source": [
        "### 69. Binary Tree Level Order Traversal\n",
        "Given a binary tree, return the level order traversal of its nodes' values. (ie, from left to right, level by level).\n",
        "```\n",
        "Example\n",
        "Given binary tree {3,9,20,#,#,15,7},\n",
        "\n",
        "    3\n",
        "   / \\\n",
        "  9  20\n",
        "    /  \\\n",
        "   15   7\n",
        " \n",
        "\n",
        "return its level order traversal as:\n",
        "\n",
        "[\n",
        "  [3],\n",
        "  [9,20],\n",
        "  [15,7]\n",
        "]\n",
        "Challenge\n",
        "Challenge 1: Using only 1 queue to implement it.\n",
        "\n",
        "Challenge 2: Use DFS algorithm to do it.\n",
        "```"
      ]
    },
    {
      "metadata": {
        "id": "_eeJYoyUeWtm",
        "colab_type": "code",
        "colab": {}
      },
      "cell_type": "code",
      "source": [
        "\"\"\"\n",
        "Definition of TreeNode:\n",
        "class TreeNode:\n",
        "    def __init__(self, val):\n",
        "        self.val = val\n",
        "        self.left, self.right = None, None\n",
        "\"\"\"\n",
        "\n",
        "class Solution:\n",
        "    \"\"\"\n",
        "    @param root: A Tree\n",
        "    @return: Level order a list of lists of integer\n",
        "    \"\"\"\n",
        "    def levelOrder(self, root):\n",
        "        result = []\n",
        "        if root is None:\n",
        "            return result\n",
        "        q = [root]\n",
        "\n",
        "        while len(q) > 0:\n",
        "            new_q = []\n",
        "            result.append([n.val for n in q])\n",
        "            for i in q:\n",
        "                if i.left is not None:\n",
        "                    new_q.append(i.left)\n",
        "                if i.right is not None:\n",
        "                    new_q.append(i.right)\n",
        "            q = new_q\n",
        "        return result"
      ],
      "execution_count": 0,
      "outputs": []
    },
    {
      "metadata": {
        "id": "gJQ_mbRC-Vsm",
        "colab_type": "code",
        "colab": {}
      },
      "cell_type": "code",
      "source": [
        "class Solution(object):\n",
        "    def updateMatrix(self, matrix):\n",
        "        \"\"\"\n",
        "        :type matrix: List[List[int]]\n",
        "        :rtype: List[List[int]]\n",
        "        \"\"\"\n",
        "        \n",
        "        if not matrix or not matrix[0]:\n",
        "            return []\n",
        "        \n",
        "        n, m = len(matrix), len(matrix[0])\n",
        "        \n",
        "        queue = []\n",
        "        for i in xrange(n):\n",
        "            for j in xrange(m):\n",
        "                # 将所有的0当做起始点\n",
        "                if matrix[i][j] == 0:\n",
        "                    queue.append((i, j))\n",
        "                else:\n",
        "                    matrix[i][j] = n + m  \n",
        "            # 曼哈顿距离在一个矩阵中的最大值（不严格，反正比最大值大就行）\n",
        "        \n",
        "        while queue:\n",
        "            point = queue.pop(0)\n",
        "            \n",
        "            for dx, dy in [[-1, 0], [1, 0], [0, -1], [0, 1]]:\n",
        "                x = dx + point[0]\n",
        "                y = dy + point[1]\n",
        "                \n",
        "                if x < 0 or x >= n or y < 0 or y >= m:\n",
        "                    continue\n",
        "                \n",
        "                # 当前是洼地，四周比它高\n",
        "                if matrix[point[0]][point[1]] < matrix[x][y]:\n",
        "                    matrix[x][y] = matrix[point[0]][point[1]] + 1\n",
        "                    queue.append((x, y))\n",
        "        return matrix"
      ],
      "execution_count": 0,
      "outputs": []
    },
    {
      "metadata": {
        "id": "TxnMkrwyiSWC",
        "colab_type": "text"
      },
      "cell_type": "markdown",
      "source": [
        "## 最短路径 Shortest Path in Simple Graph\n",
        "\n",
        "最短路径 Shortest Path in Simple Graph\n",
        "最短路径算法有很多种，BFS 是其中一种，但是他有特殊的使用场景，即必须是在简单图中求最短路径。大部分简单图中使用 BFS 算法时，都是无向图。当然也有可能是有向图，但是在面试中极少会出现。\n",
        "\n",
        "**什么是简单图（Simple Graph）？**\n",
        "即，图中每条边长度都是1（或边长都相同）。"
      ]
    },
    {
      "metadata": {
        "id": "3HkHyIr7eW7M",
        "colab_type": "text"
      },
      "cell_type": "markdown",
      "source": [
        "### 611. Knight Shortest Path\n",
        "Given a knight in a chessboard (a binary matrix with 0 as empty and 1 as barrier) with a source position, find the shortest path to a destination position, return the length of the route.\n",
        "Return -1 if knight can not reached.\n",
        "```\n",
        "Example\n",
        "[[0,0,0],\n",
        " [0,0,0],\n",
        " [0,0,0]]\n",
        "source = [2, 0] destination = [2, 2] return 2\n",
        "\n",
        "[[0,1,0],\n",
        " [0,0,0],\n",
        " [0,0,0]]\n",
        "source = [2, 0] destination = [2, 2] return 6\n",
        "\n",
        "[[0,1,0],\n",
        " [0,0,1],\n",
        " [0,0,0]]\n",
        "source = [2, 0] destination = [2, 2] return -1\n",
        "\n",
        "\n",
        "```\n"
      ]
    },
    {
      "metadata": {
        "id": "9EOnkYyUeZ96",
        "colab_type": "code",
        "colab": {}
      },
      "cell_type": "code",
      "source": [
        "class Solution:\n",
        "    \"\"\"\n",
        "    @param grid: a chessboard included 0 (false) and 1 (true)\n",
        "    @param source: a point\n",
        "    @param destination: a point\n",
        "    @return: the shortest path\n",
        "    \"\"\"\n",
        "    def shortestPath(self, grid, source, destination):\n",
        "        from sys import maxsize\n",
        "        if len(grid) == 0 or len(grid[0]) == 0:\n",
        "            return -1\n",
        "        m, n = len(grid), len(grid[0])\n",
        "        record = [[maxsize for j in range(n)]\n",
        "                           for i in range(m)]\n",
        "\n",
        "        directions = [[1,2],[1,-2],[-1,2],[-1,-2],\n",
        "                      [2,1],[2,-1],[-2,1],[-2,-1]]\n",
        "\n",
        "        def check(x, y):\n",
        "            if 0 <= x < m and 0 <= y < n and grid[x][y] != 1:\n",
        "                return True\n",
        "            return False\n",
        "\n",
        "        def bfs(x, y):\n",
        "            from collections import deque\n",
        "            deck = deque()\n",
        "            record[x][y] = 0\n",
        "            deck.appendleft((x,y))\n",
        "            while len(deck) > 0 :\n",
        "                x, y = deck.pop()\n",
        "                for i in range(len(directions)):\n",
        "                    xd = x + directions[i][0]\n",
        "                    yd = y + directions[i][1]\n",
        "                    if check(xd, yd) and record[xd][yd] > record[x][y] + 1:\n",
        "                        record[xd][yd] = record[x][y] + 1\n",
        "                        deck.appendleft((xd, yd))\n",
        "\n",
        "        x, y = source.x, source.y\n",
        "        bfs(x, y)\n",
        "        x, y = destination.x, destination.y\n",
        "        return record[x][y] if record[x][y] != maxsize else -1"
      ],
      "execution_count": 0,
      "outputs": []
    },
    {
      "metadata": {
        "id": "iHYeah4z-RHs",
        "colab_type": "text"
      },
      "cell_type": "markdown",
      "source": [
        "### 974. 01 Matrix\n",
        "Given a matrix consists of 0 and 1, find the distance of the nearest 0 for each cell.\n",
        "\n",
        "The distance between two adjacent cells is 1.\n",
        "```\n",
        "Example\n",
        "input:\n",
        "[[0,0,0],\n",
        "[0,1,0],\n",
        "[1,1,1]]\n",
        "output:\n",
        "[[0,0,0],\n",
        "[0,1,0],\n",
        "[1,2,1]]\n",
        "```\n",
        "不管BFS还是DFS的思路都要从0开始往1搜索，从洼地向高山搜索。"
      ]
    },
    {
      "metadata": {
        "id": "_LtcPk2zkyP-",
        "colab_type": "code",
        "colab": {
          "base_uri": "https://localhost:8080/",
          "height": 68
        },
        "outputId": "9b474c54-fee2-4b48-bcf3-38e3fd0b07ce"
      },
      "cell_type": "code",
      "source": [
        "\n",
        "class Solution:\n",
        "    \"\"\"\n",
        "    @param matrix: a 0-1 matrix\n",
        "    @return: return a matrix\n",
        "    \"\"\"\n",
        "    def updateMatrix_dfs(self, matrix):\n",
        "        if len(matrix) == 0 or len(matrix[0]) == 0:\n",
        "            return matrix\n",
        "        m, n = len(matrix), len(matrix[0])\n",
        "        directions = [(1,0), (0,1), (-1,0), (0,-1)]\n",
        "        import collections\n",
        "        que = collections.deque()\n",
        "        for i in range(m):\n",
        "            for j in range(n):\n",
        "                if matrix[i][j]:\n",
        "                    matrix[i][j] = m+n\n",
        "                else:\n",
        "                    que.append((i,j))\n",
        "\n",
        "        def dfs(x, y): # search nearest distance for 0 to x, y\n",
        "            for d in directions:\n",
        "                xd = x + d[0]\n",
        "                yd = y + d[1]\n",
        "                if not (0 <= xd < m and 0 <= yd < n):\n",
        "                    continue\n",
        "                if matrix[x][y] + 1 < matrix[xd][yd]:\n",
        "                    matrix[xd][yd] = matrix[x][y] + 1\n",
        "                    dfs(xd, yd)\n",
        "\n",
        "\n",
        "        while que:\n",
        "            x, y = que.popleft()\n",
        "            dfs(x,y)\n",
        "\n",
        "        return matrix\n",
        "\n",
        "    def updateMatrix_bfs(self, matrix):\n",
        "        if len(matrix) == 0 or len(matrix[0]) == 0:\n",
        "            return matrix\n",
        "        m, n = len(matrix), len(matrix[0])\n",
        "        directions = [(1, 0), (0, 1), (-1, 0), (0, -1)]\n",
        "        import  collections\n",
        "        deck = collections.deque()\n",
        "        for i in range(m):\n",
        "            for j in range(n):\n",
        "                if matrix[i][j]:\n",
        "                    matrix[i][j] = m + n\n",
        "                else:\n",
        "                    deck.append((i,j))\n",
        "        while deck:\n",
        "            x, y = deck.popleft()\n",
        "            for d in directions:\n",
        "                xd = x + d[0]\n",
        "                yd = y + d[1]\n",
        "                if not (0 <= xd < m and 0 <= yd < n):\n",
        "                    continue\n",
        "                if matrix[x][y] + 1 < matrix[xd][yd]:\n",
        "                    matrix[xd][yd] = matrix[x][y] + 1\n",
        "                    deck.append((xd, yd))\n",
        "        return matrix\n",
        "    \n",
        "    def updateMatrix_dp(self, matrix):\n",
        "        answer = [[10 * x for x in row] for row in matrix]\n",
        "        #print answer\n",
        "        for _ in range(4):\n",
        "            for row in answer:\n",
        "                for j in range(1, len(row)):\n",
        "                    row[j] = min(row[j], row[j-1] + 1)\n",
        "            #print  answer, '|', zip(*answer[::-1]), '|', map(list, zip(*answer[::-1]))\n",
        "            answer = map(list, zip(*answer[::-1])) # 矩阵转置操作\n",
        "        return answer\n",
        "\n",
        "if __name__ == \"__main__\":\n",
        "    input= [ [0, 0, 0],\n",
        "             [0, 1, 0],\n",
        "             [1, 1, 1]]\n",
        "    s = Solution()\n",
        "    print s.updateMatrix_dfs(input)\n",
        "    print s.updateMatrix_bfs(input)\n",
        "    print s.updateMatrix_dp(input)"
      ],
      "execution_count": 38,
      "outputs": [
        {
          "output_type": "stream",
          "text": [
            "[[0, 0, 0], [0, 1, 0], [1, 2, 1]]\n",
            "[[0, 0, 0], [0, 1, 0], [1, 2, 1]]\n",
            "[[0, 0, 0], [0, 1, 0], [1, 2, 1]]\n"
          ],
          "name": "stdout"
        }
      ]
    },
    {
      "metadata": {
        "id": "upDhOfxJen0-",
        "colab_type": "code",
        "colab": {
          "base_uri": "https://localhost:8080/",
          "height": 86
        },
        "outputId": "afcc1346-1992-41eb-e1f9-5b9e44e5c6d7"
      },
      "cell_type": "code",
      "source": [
        "data = [[0, 0, 0], [0, 1, 0], [1, 1, 1]]\n",
        "print map(list, zip(*data[::-1]))\n",
        "from timeit import timeit\n",
        "s = Solution()\n",
        "print timeit(\"s.updateMatrix_bfs(data)\", \n",
        "             setup=\"from __main__ import data, s\", number=10)\n",
        "print timeit(\"s.updateMatrix_dfs(data)\", \n",
        "             setup=\"from __main__ import data, s\", number=10)\n",
        "print timeit(\"s.updateMatrix_dp(data)\", \n",
        "             setup=\"from __main__ import data, s\", number=10)"
      ],
      "execution_count": 36,
      "outputs": [
        {
          "output_type": "stream",
          "text": [
            "[[1, 0, 0], [1, 1, 0], [1, 0, 0]]\n",
            "0.00016188621521\n",
            "0.000417947769165\n",
            "0.000192880630493\n"
          ],
          "name": "stdout"
        }
      ]
    },
    {
      "metadata": {
        "id": "p-472J6yjO3Y",
        "colab_type": "text"
      },
      "cell_type": "markdown",
      "source": [
        "### 598. Zombie in Matrix\n",
        "Given a 2D grid, each cell is either a wall 2, a zombie 1 or people 0 (the number zero, one, two).Zombies can turn the nearest people(up/down/left/right) into zombies every day, but can not through wall. How long will it take to turn all people into zombies? Return -1 if can not turn all people into zombies.\n",
        "```\n",
        "Example\n",
        "Given a matrix:\n",
        "\n",
        "0 1 2 0 0\n",
        "1 0 0 2 1\n",
        "0 1 0 0 0\n",
        "return 2\n",
        "\n",
        "```\n",
        "\n",
        "Think:\n",
        "\n",
        "1. deck should append all starting point\n",
        "2. Do I really need a record matrix? \n",
        "3.                     if grid[x][y] + 1 < grid[xd][yd]:\n",
        "\n",
        "                        grid[xd][yd] = grid[x][y] + 1\n",
        "                        \n",
        "                        deck.append((xd,yd))\n",
        "\n"
      ]
    },
    {
      "metadata": {
        "id": "S573YcG9jkWx",
        "colab_type": "code",
        "colab": {
          "base_uri": "https://localhost:8080/",
          "height": 34
        },
        "outputId": "f63bb446-b6ea-4d4d-92f4-c7d8c6f0b060"
      },
      "cell_type": "code",
      "source": [
        "class Solution:\n",
        "    \"\"\"\n",
        "    @param grid: a 2D integer grid\n",
        "    @return: an integer\n",
        "    \"\"\"\n",
        "    def zombie(self, grid):\n",
        "        if len(grid) == 0 or len(grid[0]) == 0:\n",
        "            return -1\n",
        "        \n",
        "        m, n = len(grid), len(grid[0])\n",
        "        MAX_INT = 65535\n",
        "        \n",
        "        import collections\n",
        "        deck = collections.deque()\n",
        "        # init \n",
        "        for i in range(m):\n",
        "            for j in range(n):\n",
        "                if grid[i][j] == 2:\n",
        "                    grid[i][j] = -1\n",
        "                elif grid[i][j] == 1:# zombie\n",
        "                    grid[i][j] = 0\n",
        "                    deck.append((i,j))\n",
        "                else: #grid[i][j] == 0:# people\n",
        "                    grid[i][j] = MAX_INT\n",
        "          \n",
        "        # bfs\n",
        "        directions = [(1,0), (0,1), (-1,0), (0,-1)]\n",
        "        while deck:\n",
        "            x, y = deck.popleft()\n",
        "            for dx, dy in directions:\n",
        "                xd = x + dx \n",
        "                yd = y + dy\n",
        "                \n",
        "                if 0 <= xd < m and 0 <= yd < n and grid[xd][yd] != -1:\n",
        "                    if grid[x][y] + 1 < grid[xd][yd]:\n",
        "                        grid[xd][yd] = grid[x][y] + 1\n",
        "                        deck.append((xd,yd))\n",
        "        max_day = 0\n",
        "        for i in range(m):\n",
        "            for j in range(n):\n",
        "                max_day = max(max_day, grid[i][j])\n",
        " \n",
        "        return max_day if max_day != MAX_INT else -1\n",
        "    \n",
        "if __name__ == \"__main__\":\n",
        "    s = Solution()\n",
        "    grid = [[0,1,2,0,0],[1,0,0,2,1],[0,1,0,0,0]]\n",
        "    print s.zombie(grid)\n",
        "    \n",
        "        \n",
        "        "
      ],
      "execution_count": 12,
      "outputs": [
        {
          "output_type": "stream",
          "text": [
            "2\n"
          ],
          "name": "stdout"
        }
      ]
    },
    {
      "metadata": {
        "id": "oYST91y6JOcu",
        "colab_type": "text"
      },
      "cell_type": "markdown",
      "source": [
        "### The Maze \n",
        "\n",
        "Description\n",
        "There is a ball in a maze with empty spaces and walls. The ball can go through empty spaces by rolling up, down, left or right, but it won't stop rolling until hitting a wall. When the ball stops, it could choose the next direction.\n",
        "\n",
        "Given the ball's start position, the destination and the maze, determine whether the ball could stop at the destination.\n",
        "\n",
        "The maze is represented by a binary 2D array. 1 means the wall and 0 means the empty space. You may assume that the borders of the maze are all walls. The start and destination coordinates are represented by row and column indexes.\n",
        "\n",
        ">1.There is only one ball and one destination in the maze.\n",
        "\n",
        ">2.Both the ball and the destination exist on an empty space, and they will not be at the same position initially.\n",
        "\n",
        ">3.The given maze does not contain border (like the red rectangle in the example pictures), but you could assume the border of the maze are all walls.\n",
        "5.The maze contains at least 2 empty spaces, and both the width and height of the maze won't exceed 100.\n",
        "\n",
        "```\n",
        "Example\n",
        "Given:\n",
        "a maze represented by a 2D array\n",
        "\n",
        "0 0 1 0 0\n",
        "0 0 0 0 0\n",
        "0 0 0 1 0\n",
        "1 1 0 1 1\n",
        "0 0 0 0 0\n",
        "\n",
        "start coordinate (rowStart, colStart) = (0, 4)\n",
        "destination coordinate (rowDest, colDest) = (4, 4)\n",
        "\n",
        "Return:true\n",
        "```\n",
        "\n",
        "Think: need to make sure if the ball can stop at x, y, if it can, then check if true. "
      ]
    },
    {
      "metadata": {
        "id": "FuZXWDWZJY0V",
        "colab_type": "code",
        "colab": {
          "base_uri": "https://localhost:8080/",
          "height": 52
        },
        "outputId": "dacf9268-461f-4f2a-b288-350723e15f2e"
      },
      "cell_type": "code",
      "source": [
        "class Solution:\n",
        "    \"\"\"\n",
        "    @param maze: the maze\n",
        "    @param start: the start\n",
        "    @param destination: the destination\n",
        "    @return: whether the ball could stop at the destination\n",
        "    \"\"\"\n",
        "    def hasPath(self, maze, start, destination):\n",
        "        if len(maze) == 0 or len(maze[0]) == 0:\n",
        "            return False\n",
        "        m, n = len(maze), len(maze[0])      \n",
        "        x, y = start\n",
        "        xd, yd = destination\n",
        "        if maze[x][y] == 1 or maze[xd][yd] == 1:\n",
        "            return False\n",
        "        directs = [(1,0), (0,1), (-1,0), (0,-1)]\n",
        "        from collections import deque\n",
        "        deck = deque()\n",
        "        visited = set()\n",
        "        \n",
        "        for dx, dy in directs:\n",
        "            xd, yd = x + dx, y + dy\n",
        "            if 0 <= xd < m and 0 <= yd < n and maze[xd][yd] != 1:\n",
        "                deck.append((xd, yd, dx, dy))\n",
        "                visited.add((xd, yd, dx, dy))\n",
        "        \n",
        "        while deck:\n",
        "            x, y, dx, dy = deck.popleft()\n",
        "            xd, yd = x + dx, y + dy\n",
        "            if (0 <= xd < m and 0 <= yd < n and maze[xd][yd] != 1 \n",
        "                and (xd, yd, dx, dy) not in visited):\n",
        "                deck.append((xd, yd, dx, dy))\n",
        "                visited.add((xd, yd, dx, dy))\n",
        "            else:# stop at x, y\n",
        "                if destination == [x, y]:\n",
        "                    return True\n",
        "                \n",
        "                for dx, dy in directs:\n",
        "                    xd, yd = x + dx, y + dy\n",
        "                    if (0 <= xd < m and 0 <= yd < n and maze[xd][yd] != 1 \n",
        "                        and (xd, yd, dx, dy) not in visited):\n",
        "                        deck.append((xd, yd, dx, dy))\n",
        "                        visited.add((xd, yd, dx, dy))\n",
        "        return False \n",
        "\n",
        "    \n",
        "if __name__ == \"__main__\":\n",
        "    S = Solution()\n",
        "    print S.hasPath(maze = [[0,0,1,0,0],[0,0,0,0,0],[0,0,0,1,0],\n",
        "                            [1,1,0,1,1],[0,0,0,0,0]],\n",
        "                    start = [0,4], destination = [3,2])\n",
        "    print S.hasPath(maze = [[0,0,1,0,0],[0,0,0,0,0],[0,0,0,1,0],\n",
        "                                [1,1,0,1,1],[0,0,0,0,0]],\n",
        "                    start = [0,4], destination = [4,4])"
      ],
      "execution_count": 27,
      "outputs": [
        {
          "output_type": "stream",
          "text": [
            "False\n",
            "True\n"
          ],
          "name": "stdout"
        }
      ]
    },
    {
      "metadata": {
        "id": "V4MqA5-SLBGG",
        "colab_type": "code",
        "colab": {
          "base_uri": "https://localhost:8080/",
          "height": 35
        },
        "outputId": "1da6c194-a6bd-4a83-9333-801642122882"
      },
      "cell_type": "code",
      "source": [
        "asd[[0,0,1,0,0],[0,0,0,0,0],[0,0,0,1,0],[1,1,0,1,1],[0,0,0,0,0]][3][2]"
      ],
      "execution_count": 23,
      "outputs": [
        {
          "output_type": "execute_result",
          "data": {
            "text/plain": [
              "0"
            ]
          },
          "metadata": {
            "tags": []
          },
          "execution_count": 23
        }
      ]
    },
    {
      "metadata": {
        "id": "kvhwHArRCwpa",
        "colab_type": "text"
      },
      "cell_type": "markdown",
      "source": [
        "### 788. The Maze II\n",
        "There is a ball in a maze with empty spaces and walls. The ball can go through empty spaces by rolling up, down, left or right, but it won't stop rolling until hitting a wall. When the ball stops, it could choose the next direction.\n",
        "\n",
        "Given the ball's start position, the destination and the maze, find the shortest distance for the ball to stop at the destination. The distance is defined by the number of empty spaces traveled by the ball from the start position (excluded) to the destination (included). If the ball cannot stop at the destination, return -1.\n",
        "\n",
        "The maze is represented by a binary 2D array. 1 means the wall and 0 means the empty space. You may assume that the borders of the maze are all walls. The start and destination coordinates are represented by row and column indexes.\n",
        "```\n",
        "Example\n",
        "Given:\n",
        "a maze represented by a 2D array\n",
        "\n",
        "0 0 1 0 0\n",
        "0 0 0 0 0\n",
        "0 0 0 1 0\n",
        "1 1 0 1 1\n",
        "0 0 0 0 0\n",
        "\n",
        "start coordinate (rowStart, colStart) = (0, 4)\n",
        "destination coordinate (rowDest, colDest) = (4, 4)\n",
        "\n",
        "Return:12\n",
        "```"
      ]
    },
    {
      "metadata": {
        "id": "MdSi8EPZCwbW",
        "colab_type": "text"
      },
      "cell_type": "markdown",
      "source": [
        "### 789. The Maze III\n",
        "There is a ball in a maze with empty spaces and walls. The ball can go through empty spaces by rolling up (u), down (d), left (l) or right (r), but it won't stop rolling until hitting a wall. When the ball stops, it could choose the next direction. There is also a hole in this maze. The ball will drop into the hole if it rolls on to the hole.\n",
        "\n",
        "Given the ball position, the hole position and the maze, find out how the ball could drop into the hole by moving the shortest distance. The distance is defined by the number of empty spaces traveled by the ball from the start position (excluded) to the hole (included). Output the moving directions by using 'u', 'd', 'l' and 'r'. Since there could be several different shortest ways, you should output the lexicographically smallest way. If the ball cannot reach the hole, output \"impossible\".\n",
        "\n",
        "The maze is represented by a binary 2D array. 1 means the wall and 0 means the empty space. You may assume that the borders of the maze are all walls. The ball and the hole coordinates are represented by row and column indexes.\n",
        "```\n",
        "Example\n",
        "Input:\n",
        "a maze represented by a 2D array\n",
        "\n",
        "0 0 0 0 0\n",
        "1 1 0 0 1\n",
        "0 0 0 0 0\n",
        "0 1 0 0 1\n",
        "0 1 0 0 0\n",
        "\n",
        "ball coordinate (rowBall, colBall) = (4, 3)\n",
        "hole coordinate (rowHole, colHole) = (0, 1)\n",
        "\n",
        "Output:\"lul\"\n",
        "```"
      ]
    },
    {
      "metadata": {
        "id": "9AFqKjdwfsCA",
        "colab_type": "text"
      },
      "cell_type": "markdown",
      "source": [
        "### 574. Build Post Office I\n",
        "Given a 2D grid, each cell is either an house 1 or empty 0 (the number zero, one), find the place to build a post office, the distance that post office to all the house sum is smallest. Return the smallest distance. Return -1 if it is not possible.\n",
        "```\n",
        "Example\n",
        "Given a grid:\n",
        "\n",
        "0 1 0 0\n",
        "1 0 1 1\n",
        "0 1 0 0\n",
        "return 6. (Placing a post office at (1,1), the distance that post office to all the house sum is smallest.)\n",
        "```\n",
        "\n",
        "Notes:\n",
        "   1. This is a binary search problem. "
      ]
    },
    {
      "metadata": {
        "id": "fWuaxYoAkNoZ",
        "colab_type": "code",
        "colab": {
          "base_uri": "https://localhost:8080/",
          "height": 68
        },
        "outputId": "3c56da49-ec27-4604-853b-dfc74c02e43a"
      },
      "cell_type": "code",
      "source": [
        "from copy import deepcopy\n",
        "class Solution:\n",
        "    \"\"\"\n",
        "    @param grid: a 2D grid\n",
        "    @return: An integer\n",
        "    \"\"\"\n",
        "    def shortestDistance(self, grid):\n",
        "        if len(grid) == 0 or len(grid[0]) == 0:\n",
        "            return -1 \n",
        "        MAX_INT = 65535\n",
        "        m, n = len(grid), len(grid[0])\n",
        "        sumx, sumy, x, y = [0], [0], [], []       \n",
        "        ret = MAX_INT\n",
        "        \n",
        "        for i in range(m):\n",
        "            for j in range(n):\n",
        "                if grid[i][j] == 1:\n",
        "                    x.append(i)\n",
        "                    y.append(j)\n",
        "        x.sort()\n",
        "        y.sort()\n",
        "        \n",
        "        total = len(x)\n",
        "        for i in range(1, total + 1):\n",
        "            sumx.append(sumx[i-1] + x[i-1])\n",
        "            sumy.append(sumy[i-1] + y[i-1])\n",
        "        \n",
        "        for i in range(m):\n",
        "            for j in range(n):\n",
        "                if grid[i][j] == 0:\n",
        "                    cost_x = self.get_cost(x, sumx, i, total)\n",
        "                    cost_y = self.get_cost(y, sumy, j, total)\n",
        "                    #print i, j, cost_x, cost_y\n",
        "                    ret = min(ret, cost_x + cost_y)\n",
        "        return ret\n",
        "        \n",
        "    def get_cost(self, x, sumx, pos, n):\n",
        "        if n == 0:\n",
        "            return 0\n",
        "        if x[0] > pos:\n",
        "            return sumx[n] - pos * n\n",
        "\n",
        "        start, end = 0, n - 1\n",
        "        while start + 1 < end:\n",
        "            mid = start + (end - start) // 2 \n",
        "            if x[mid] <= pos:\n",
        "                start = mid\n",
        "            else:\n",
        "                end = mid\n",
        "\n",
        "        index = end if x[end] <= pos else start\n",
        "        return ( sumx[n] - sumx[index+1] - pos * (n - index -1) \n",
        "                 + (index+1) * pos - sumx[index+1])\n",
        "\n",
        "\n",
        "if __name__ == \"__main__\":\n",
        "    S = Solution()\n",
        "    print S.shortestDistance(grid=[[0,1,0,0,0],\n",
        "                                   [1,0,0,1,1],\n",
        "                                   [0,1,0,0,0]])\n",
        "    \n",
        "    print S.shortestDistance(grid=[[0,1,0,0],\n",
        "                                   [1,0,1,1],\n",
        "                                   [0,1,0,0]]) \n",
        "    \n",
        "    print S.shortestDistance(grid=[[1,1,1,1,1,0],\n",
        "                                   [0,0,0,0,0,1],\n",
        "                                   [0,1,1,0,0,1],\n",
        "                                   [1,0,0,1,0,1],\n",
        "                                   [1,0,1,0,0,1],\n",
        "                                   [1,0,0,0,0,1],\n",
        "                                   [0,1,1,1,1,0]])"
      ],
      "execution_count": 41,
      "outputs": [
        {
          "output_type": "stream",
          "text": [
            "8\n",
            "6\n",
            "72\n"
          ],
          "name": "stdout"
        }
      ]
    },
    {
      "metadata": {
        "id": "DBq9iu78debv",
        "colab_type": "text"
      },
      "cell_type": "markdown",
      "source": [
        "### 573. Build Post Office II\n",
        "Given a 2D grid, each cell is either a wall 2, an house 1 or empty 0 (the number zero, one, two), find a place to build a post office so that the sum of the distance from the post office to all the houses is smallest.\n",
        "\n",
        "Return the smallest sum of distance. Return -1 if it is not possible.\n",
        "```\n",
        "Example\n",
        "Given a grid:\n",
        "\n",
        "0 1 0 0 0\n",
        "1 0 0 2 1\n",
        "0 1 0 0 0\n",
        "return 8, You can build at (1,1). (Placing a post office at (1,1), the distance that post office to all the house sum is smallest.)\n",
        "\n",
        "Challenge\n",
        "Solve this problem within O(n^3) time.\n",
        "```"
      ]
    },
    {
      "metadata": {
        "id": "VWz1gPIedfNw",
        "colab_type": "code",
        "colab": {
          "base_uri": "https://localhost:8080/",
          "height": 106
        },
        "outputId": "2db0ce67-9243-4370-ff95-436e3248a079"
      },
      "cell_type": "code",
      "source": [
        "from copy import deepcopy\n",
        "class Solution:\n",
        "    \"\"\"\n",
        "    @param grid: a 2D grid\n",
        "    @return: An integer\n",
        "    \"\"\"\n",
        "    def shortestDistance(self, grid):\n",
        "        if len(grid) == 0 or len(grid[0]) == 0:\n",
        "            return -1\n",
        "        from collections import deque\n",
        "        m, n = len(grid), len(grid[0])\n",
        "        MAX_INT = 65535\n",
        "        deck = deque()\n",
        "        directions = [(1,0),(0,1),(-1,0),(0,-1)]\n",
        "        house_list = []\n",
        "\n",
        "        for i in range(m):\n",
        "            for j in range(n):\n",
        "                if grid[i][j] == 1:\n",
        "                    house_list.append((i, j))\n",
        "                    grid[i][j] = -1\n",
        "                \n",
        "                elif grid[i][j] == 2:\n",
        "                    grid[i][j] = -1 \n",
        "                \n",
        "                else:\n",
        "                    grid[i][j] = MAX_INT\n",
        "\n",
        "        if len(house_list) == 0:\n",
        "            return 0\n",
        "\n",
        "        # find all pos dis to the house.\n",
        "        def bfs_grid(x, y, _grid):\n",
        "            _grid[x][y] = 0\n",
        "            deck = deque()\n",
        "            deck.append((x,y))\n",
        "            while deck:\n",
        "                x, y = deck.popleft()\n",
        "                for dx, dy in directions:\n",
        "                    xd = x + dx\n",
        "                    yd = y + dy\n",
        "                    if 0 <= xd < m and 0 <= yd < n and _grid[xd][yd] != -1:\n",
        "                        if _grid[xd][yd] > _grid[x][y] + 1:\n",
        "                            _grid[xd][yd] = _grid[x][y] + 1\n",
        "                            deck.append((xd, yd))\n",
        "            return _grid\n",
        "        \n",
        "        def add(grid1, grid2):\n",
        "            for i in range(m):\n",
        "                for j in range(n):\n",
        "                    grid1[i][j] += grid2[i][j]\n",
        "\n",
        "        ans = [[0 for j in range(n)]\n",
        "                  for i in range(m)]\n",
        "\n",
        "        # add distance together to ans matrix\n",
        "        for house in house_list:\n",
        "            x, y = house\n",
        "            tmp = bfs_grid(x, y, deepcopy(grid))\n",
        "            add(ans, tmp)\n",
        "\n",
        "        print ans \n",
        "        ret = MAX_INT\n",
        "        for i in range(m):\n",
        "            for j in range(n):\n",
        "                if (i,j) not in house_list and ans[i][j] > 0:\n",
        "                    ret = min(ans[i][j], ret)\n",
        "        \n",
        "        return -1 if ret >= MAX_INT else ret\n",
        "\n",
        "if __name__ == \"__main__\":\n",
        "    S = Solution()\n",
        "    print S.shortestDistance(grid=[[0,1,0,0,0],\n",
        "                                   [1,0,0,2,1],\n",
        "                                   [0,1,0,0,0]])\n",
        "    \n",
        "    print S.shortestDistance(grid=[[0,1,0,0],\n",
        "                                   [1,0,2,1],\n",
        "                                   [0,1,0,0]])"
      ],
      "execution_count": 1,
      "outputs": [
        {
          "output_type": "stream",
          "text": [
            "[[131072, -3, 10, 12, 14], [-3, 8, 10, -4, -3], [131072, -3, 10, 12, 14]]\n",
            "8\n",
            "[[131072, -3, 131073, 131073], [-3, 65538, -4, -3], [131072, -3, 131073, 131073]]\n",
            "-1\n"
          ],
          "name": "stdout"
        }
      ]
    },
    {
      "metadata": {
        "id": "x7pqJaBDVxgw",
        "colab_type": "text"
      },
      "cell_type": "markdown",
      "source": [
        "### 794. Sliding Puzzle II\n",
        "On a 3x3 board, there are 8 tiles represented by the integers 1 through 8, and an empty square represented by 0.\n",
        "\n",
        "A move consists of choosing 0 and a 4-directionally adjacent number and swapping it.\n",
        "\n",
        "Given an initial state of the puzzle board and final state, return the least number of moves required so that the initial state to final state.\n",
        "\n",
        "If it is impossible to move from initial state to final state, return -1.\n",
        "```\n",
        "Example\n",
        "Given an initial state:\n",
        "\n",
        "[\n",
        " [2,8,3],\n",
        " [1,0,4],\n",
        " [7,6,5]\n",
        "]\n",
        "and a final state:\n",
        "\n",
        "[\n",
        " [1,2,3],\n",
        " [8,0,4],\n",
        " [7,6,5]\n",
        "]\n",
        "Return 4\n",
        "Explanation:\n",
        "\n",
        "[                 [\n",
        " [2,8,3],          [2,0,3],\n",
        " [1,0,4],   -->    [1,8,4],\n",
        " [7,6,5]           [7,6,5]\n",
        "]                 ]\n",
        "\n",
        "[                 [\n",
        " [2,0,3],          [0,2,3],\n",
        " [1,8,4],   -->    [1,8,4],\n",
        " [7,6,5]           [7,6,5]\n",
        "]                 ]\n",
        "\n",
        "[                 [\n",
        " [0,2,3],          [1,2,3],\n",
        " [1,8,4],   -->    [0,8,4],\n",
        " [7,6,5]           [7,6,5]\n",
        "]                 ]\n",
        "\n",
        "[                 [\n",
        " [1,2,3],          [1,2,3],\n",
        " [0,8,4],   -->    [8,0,4],\n",
        " [7,6,5]           [7,6,5]\n",
        "]                 ]\n",
        "Challenge\n",
        "How to optimize the memory?\n",
        "Can you solve it with A* algorithm?\n",
        "```\n",
        "\n",
        "Notes:\n",
        "1. use bfs but needs to record the state, the state cannot be saved as matrix as it exceeds memory limites\n",
        "\n",
        "2. use level order travers, or pass (state, step) into deck "
      ]
    },
    {
      "metadata": {
        "id": "zu4tvrsziuse",
        "colab_type": "code",
        "colab": {
          "base_uri": "https://localhost:8080/",
          "height": 34
        },
        "outputId": "cab5fbb7-7e6b-4491-8668-388f65fa4cf5"
      },
      "cell_type": "code",
      "source": [
        "class Solution:\n",
        "    \"\"\"\n",
        "    @param init_state: the initial state of chessboard\n",
        "    @param final_state: the final state of chessboard\n",
        "    @return: return an integer, denote the number of minimum moving\n",
        "    \"\"\"\n",
        "    def minMoveStep(self, init_state, final_state):\n",
        "        source = self.state_to_str(init_state)\n",
        "        target = self.state_to_str(final_state)\n",
        "        \n",
        "        from collections import deque\n",
        "        deck = deque()\n",
        "        visited = set()\n",
        "        \n",
        "        deck.append(source)\n",
        "        visited.add(source)\n",
        "        \n",
        "        \n",
        "        step = 0\n",
        "        while deck:\n",
        "            size = len(deck)\n",
        "            for i in range(size):\n",
        "                curt = deck.popleft()\n",
        "                if curt == target:\n",
        "                    return step\n",
        "        \n",
        "                for nex in self.get_next(curt):\n",
        "                    if nex not in visited:\n",
        "                        deck.append(nex)\n",
        "                        visited.add(nex)\n",
        "            step += 1\n",
        "            \n",
        "        return -1\n",
        "\n",
        "\n",
        "            \n",
        "    def get_next(self, state_str):\n",
        "        states = []\n",
        "        directions = [(1,0), (0,1), (-1,0), (0,-1)]\n",
        "        \n",
        "        zero_idx = state_str.index('0')\n",
        "        x = zero_idx / 3\n",
        "        y = zero_idx % 3 \n",
        "        \n",
        "        for dx, dy in directions:\n",
        "            xd, yd = x + dx , y + dy\n",
        "            if 0 <= xd < 3 and 0 <= yd < 3:\n",
        "                chars = list(state_str)\n",
        "                chars[x*3 + y] = chars[xd*3 + yd]\n",
        "                chars[xd*3 + yd] = '0'\n",
        "                states.append(''.join(chars))\n",
        "        return states\n",
        "        \n",
        "        \n",
        "    def state_to_str(self, state):\n",
        "        sb = ''\n",
        "        for i in range(3):\n",
        "            for j in range(3):\n",
        "                sb += str(state[i][j])\n",
        "        return sb\n",
        "    \n",
        "    \n",
        "if __name__ == \"__main__\":\n",
        "    S = Solution()\n",
        "    print S.minMoveStep(init_state = [[2,8,3],[1,0,4],[7,6,5]], \n",
        "                       final_state = [[1,2,3],[8,0,4],[7,6,5]])\n",
        "        "
      ],
      "execution_count": 27,
      "outputs": [
        {
          "output_type": "stream",
          "text": [
            "4\n"
          ],
          "name": "stdout"
        }
      ]
    },
    {
      "metadata": {
        "id": "Hob-eeQHfkux",
        "colab_type": "text"
      },
      "cell_type": "markdown",
      "source": [
        "## 拓扑排序"
      ]
    },
    {
      "metadata": {
        "id": "KaA5qca3eDK3",
        "colab_type": "text"
      },
      "cell_type": "markdown",
      "source": [
        "### 615. Course Schedule\n",
        "There are a total of n courses you have to take, labeled from 0 to n - 1.\n",
        "\n",
        "Some courses may have prerequisites, for example to take course 0 you have to first take course 1, which is expressed as a pair: [0,1]\n",
        "\n",
        "Given the total number of courses and a list of prerequisite pairs, is it possible for you to finish all courses?\n",
        "```\n",
        "Example\n",
        "Given n = 2, prerequisites = [[1,0]]\n",
        "Return true\n",
        "\n",
        "Given n = 2, prerequisites = [[1,0],[0,1]]\n",
        "Return false\n",
        "```"
      ]
    },
    {
      "metadata": {
        "id": "N2F6H00FeHmK",
        "colab_type": "code",
        "colab": {}
      },
      "cell_type": "code",
      "source": [
        "class Solution:\n",
        "    \"\"\"\n",
        "    @param: numCourses: a total of n courses\n",
        "    @param: prerequisites: a list of prerequisite pairs\n",
        "    @return: true if can finish all courses or false\n",
        "    \"\"\"\n",
        "    def canFinish(self, numCourses, prerequisites):\n",
        "        from Queue import deque\n",
        "        edges = {i: [] for i in range(numCourses)}\n",
        "        degrees = [0 for i in range(numCourses)]\n",
        "\n",
        "        # 1. count indegree\n",
        "        for i, j in prerequisites:\n",
        "            edges[j].append(i)\n",
        "            degrees[i] += 1\n",
        "        queue, count = deque(), 0\n",
        "\n",
        "        # 2. init queue\n",
        "        for i in range(numCourses):\n",
        "            if degrees[i] == 0:\n",
        "                queue.appendleft(i)\n",
        "\n",
        "        # 3. bfs\n",
        "        while len(queue) > 0:\n",
        "            node = queue.pop()\n",
        "            count += 1\n",
        "\n",
        "            for x in edges[node]:\n",
        "                degrees[x] -= 1\n",
        "                if degrees[x] == 0:\n",
        "                    queue.appendleft(x)\n",
        "\n",
        "        return count == numCourses\n"
      ],
      "execution_count": 0,
      "outputs": []
    },
    {
      "metadata": {
        "id": "XOOOoFGweJs6",
        "colab_type": "text"
      },
      "cell_type": "markdown",
      "source": [
        "### 616. Course Schedule II\n",
        "There are a total of n courses you have to take, labeled from 0 to n - 1.\n",
        "Some courses may have prerequisites, for example to take course 0 you have to first take course 1, which is expressed as a pair: [0,1]\n",
        "\n",
        "Given the total number of courses and a list of prerequisite pairs, return the ordering of courses you should take to finish all courses.\n",
        "\n",
        "There may be multiple correct orders, you just need to return one of them. If it is impossible to finish all courses, return an empty array.\n",
        "```\n",
        "Example\n",
        "Given n = 2, prerequisites = [[1,0]]\n",
        "Return [0,1]\n",
        "\n",
        "Given n = 4, prerequisites = [1,0],[2,0],[3,1],[3,2]]\n",
        "Return [0,1,2,3] or [0,2,1,3] \n",
        "```"
      ]
    },
    {
      "metadata": {
        "id": "53Ew-lu4eJTU",
        "colab_type": "code",
        "colab": {}
      },
      "cell_type": "code",
      "source": [
        "class Solution:\n",
        "    \"\"\"\n",
        "    @param: numCourses: a total of n courses\n",
        "    @param: prerequisites: a list of prerequisite pairs\n",
        "    @return: the course order\n",
        "    \"\"\"\n",
        "    def findOrder(self, numCourses, prerequisites):\n",
        "        edges = {i: [] for i in range(numCourses)}\n",
        "        indegrees = [0 for i in range(numCourses)]\n",
        "\n",
        "        for req in prerequisites:\n",
        "            aft, pre = req\n",
        "            edges[pre].append(aft)\n",
        "            indegrees[aft] += 1\n",
        "\n",
        "        #from collections import deque\n",
        "        deck = []\n",
        "\n",
        "        for i in range(numCourses):\n",
        "            if indegrees[i] == 0:\n",
        "                deck.append(i)\n",
        "        count = 0\n",
        "        res = []\n",
        "        while len(deck) > 0:\n",
        "            size = len(deck)\n",
        "            tmp = []\n",
        "            for i in range(size):\n",
        "                course_take = deck.pop()\n",
        "                tmp.append(course_take)\n",
        "                count += 1\n",
        "                for aft in edges[course_take]:\n",
        "                    indegrees[aft] -= 1\n",
        "                    if indegrees[aft] == 0:\n",
        "                        deck.append(aft)\n",
        "            res.extend(tmp)\n",
        "        return res if count == numCourses else []"
      ],
      "execution_count": 0,
      "outputs": []
    },
    {
      "metadata": {
        "id": "681Uc8JfhCv0",
        "colab_type": "text"
      },
      "cell_type": "markdown",
      "source": [
        "### 605. Sequence Reconstruction\n",
        "Check whether the original sequence org can be uniquely reconstructed from the sequences in seqs. The org sequence is a permutation of the integers from 1 to n, with 1 ≤ n ≤ 10^4. Reconstruction means building a shortest common supersequence of the sequences in seqs (i.e., a shortest sequence so that all sequences in seqs are subsequences of it). Determine whether there is only one sequence that can be reconstructed from seqs and it is the org sequence.\n",
        "```\n",
        "Example\n",
        "Given org = [1,2,3], seqs = [[1,2],[1,3]]\n",
        "Return false\n",
        "Explanation:\n",
        "[1,2,3] is not the only one sequence that can be reconstructed, because [1,3,2] is also a valid sequence that can be reconstructed.\n",
        "\n",
        "Given org = [1,2,3], seqs = [[1,2]]\n",
        "Return false\n",
        "Explanation:\n",
        "The reconstructed sequence can only be [1,2].\n",
        "\n",
        "Given org = [1,2,3], seqs = [[1,2],[1,3],[2,3]]\n",
        "Return true\n",
        "Explanation:\n",
        "The sequences [1,2], [1,3], and [2,3] can uniquely reconstruct the original sequence [1,2,3].\n",
        "\n",
        "Given org = [4,1,5,2,6,3], seqs = [[5,2,6,3],[4,1,5,2]]\n",
        "Return true\n",
        "```\n",
        "\n"
      ]
    },
    {
      "metadata": {
        "id": "-VhEZVy2hKGs",
        "colab_type": "code",
        "colab": {
          "base_uri": "https://localhost:8080/",
          "height": 52
        },
        "outputId": "44e3d208-deba-4251-a7e9-1b312a0bf9eb"
      },
      "cell_type": "code",
      "source": [
        "class Solution:\n",
        "    # param {int[]} org a permutation of the integers from 1 to n\n",
        "    # param {int[][]} seqs a list of sequences\n",
        "    # return {boolean} true if it can be reconstructed only one or false\n",
        "    def sequenceReconstruction(self, org, seqs):\n",
        "        from collections import defaultdict\n",
        "        edges = defaultdict(list)\n",
        "        indegrees = defaultdict(int)\n",
        "        nodes = set()\n",
        "        for seq in seqs:\n",
        "            nodes |= set(seq)\n",
        "            for i in range(len(seq)):\n",
        "                if i == 0:\n",
        "                    indegrees[seq[i]] += 0\n",
        "                else:\n",
        "                    indegrees[seq[i]] += 1\n",
        "                    edges[seq[i-1]].append(seq[i])\n",
        "        que = [k for k in indegrees if indegrees[k] == 0]\n",
        "        res = []\n",
        "        while len(que) == 1:\n",
        "            pre = que.pop()\n",
        "            res.append(pre)\n",
        "            for aft in edges[pre]:\n",
        "                indegrees[aft] -= 1\n",
        "                if indegrees[aft] == 0:\n",
        "                    que.append(aft)\n",
        "        if len(que) > 1:\n",
        "            return False\n",
        "        return len(res) == len(nodes) and res == org\n",
        "\n",
        "if __name__ == \"__main__\":\n",
        "    org = [1,2,3]\n",
        "    seqs = [[1,2]]\n",
        "    print Solution().sequenceReconstruction(org, seqs)\n",
        "    print Solution().sequenceReconstruction(org = [1,2,3], seqs = [[1,2],[1,3],[2,3]])"
      ],
      "execution_count": 4,
      "outputs": [
        {
          "output_type": "stream",
          "text": [
            "False\n",
            "True\n"
          ],
          "name": "stdout"
        }
      ]
    },
    {
      "metadata": {
        "id": "T87IA4H6hskk",
        "colab_type": "text"
      },
      "cell_type": "markdown",
      "source": [
        "### 127. Topological Sorting\n",
        "Given an directed graph, a topological order of the graph nodes is defined as follow:\n",
        "\n",
        "For each directed edge A -> B in graph, A must before B in the order list.\n",
        "The first node in the order can be any node in the graph with no nodes direct to it.\n",
        "Find any topological order for the given graph.\n",
        "```\n",
        "Example\n",
        "For graph as follow:\n",
        "\n",
        "The topological order can be:\n",
        "\n",
        "[0, 1, 2, 3, 4, 5]\n",
        "[0, 2, 3, 1, 5, 4]\n",
        "...\n",
        "Challenge\n",
        "Can you do it in both BFS and DFS?\n",
        "```\n",
        "\n",
        "![alt text](https://encrypted-tbn0.gstatic.com/images?q=tbn:ANd9GcThE9AgZZszyhwe0o9qpp3VyizdIj9kWwMY50HiQEysXvkSLsoZ)"
      ]
    },
    {
      "metadata": {
        "id": "XRVsDU2Qhwt9",
        "colab_type": "code",
        "colab": {}
      },
      "cell_type": "code",
      "source": [
        "\"\"\"\n",
        "Definition for a Directed graph node\n",
        "class DirectedGraphNode:\n",
        "    def __init__(self, x):\n",
        "        self.label = x\n",
        "        self.neighbors = []\n",
        "\"\"\"\n",
        "\n",
        "\n",
        "class Solution:\n",
        "    \"\"\"\n",
        "    @param: graph: A list of Directed graph node\n",
        "    @return: Any topological order for the given graph.\n",
        "    \"\"\"\n",
        "    def topSort_bfs(self, graph):\n",
        "        from collections import defaultdict\n",
        "        indegree = defaultdict(int)\n",
        "        for node in graph:\n",
        "            indegree[node] += 0\n",
        "            for nb in node.neighbors:\n",
        "                indegree[nb] += 1\n",
        "        que = [node for node in indegree if indegree[node] == 0]\n",
        "        res = [] \n",
        "        while len(que) > 0:\n",
        "            curt = que.pop()\n",
        "            res.append(curt)\n",
        "            for nb in curt.neighbors:\n",
        "                indegree[nb] -= 1\n",
        "                if indegree[nb] == 0:\n",
        "                    que.append(nb)\n",
        "        \n",
        "        return res if len(res) == len(graph) else -1 \n",
        "        \n",
        "    def topSort(self, graph):\n",
        "        from collections import defaultdict\n",
        "        indegree = defaultdict(int)\n",
        "        for node in graph:\n",
        "            indegree[node] += 0\n",
        "            for nb in node.neighbors:\n",
        "                indegree[nb] += 1\n",
        "        \n",
        "        res = [] \n",
        "        \n",
        "        def dfs(root):\n",
        "            res.append(root)\n",
        "            indegree[root] = -1 # remove from list \n",
        "            for nb in root.neighbors:\n",
        "                indegree[nb] -= 1\n",
        "                if indegree[nb] == 0:\n",
        "                    dfs(nb)\n",
        "        for node in graph:\n",
        "            if indegree[node] == 0:\n",
        "                dfs(node)\n",
        "        return res"
      ],
      "execution_count": 0,
      "outputs": []
    },
    {
      "metadata": {
        "id": "9h7Hdi9MevN0",
        "colab_type": "text"
      },
      "cell_type": "markdown",
      "source": [
        "## 图的遍历(BFS)\n",
        "BFS 大部分的时候是在图上进行的。\n",
        "\n",
        "什么是图（Graph）\n",
        "图在离线数据中的表示方法为 <E, V>，E表示 Edge，V 表示 Vertex。也就是说，图是顶点（Vertex）和边（Edge）的集合。\n",
        "\n",
        "图分为：\n",
        "\n",
        "有向图（Directed Graph）\n",
        "无向图（Undirected Graph）\n",
        "\n",
        "\n",
        "BFS 在两种图上都适用。另外，树（Tree）也是一种特殊的图。\n",
        "有很多种方法可以存储一个图，最常用的莫过于：\n",
        "\n",
        "邻接矩阵\n",
        "\n",
        "\n",
        "```\n",
        "邻接矩阵 Adjacent Matrix\n",
        "\n",
        "[\n",
        "  [1,0,0,1],\n",
        "  [0,1,1,0],\n",
        "  [0,1,1,0],\n",
        "  [1,0,0,1]\n",
        "]\n",
        "例如上图表示0号点和3号点有连边。1号点和2号店有连边。\n",
        "当然，每个点和自己也是默认有连边的。\n",
        "图中的 0 表示不连通，1 表示连通。\n",
        "我们也可以用一个更具体的整数值来表示连边的长度。\n",
        "邻接矩阵我们可以直接用一个二维数组表示，如int[][] matrix;。这种数据结构因为耗费 O(n^2) 的空间，所以在稀疏图上浪费很大，因此并不常用。\n",
        "```\n",
        "\n",
        "\n",
        "\n",
        "邻接表\n",
        "而邻接矩阵因为耗费空间过大，我们通常在工程中都是使用邻接表作为图的存储结构。\n",
        "\n",
        "\n",
        "\n",
        "```\n",
        "邻接表 (Adjacent List)\n",
        "\n",
        "[\n",
        "  [1],\n",
        "  [0,2,3],\n",
        "  [1],\n",
        "  [1]\n",
        "]\n",
        "这个图表示 0 和 1 之间有连边，1 和 2 之间有连边，1 和 3 之间有连边。即每个点上存储自己有哪些邻居（有哪些连通的点）。\n",
        "这种方式下，空间耗费和边数成正比，可以记做 O(m)，m代表边数。m最坏情况下虽然也是 O(n^2)，但是邻接表的存储方式大部分情况下会比邻接矩阵更省空间。\n",
        "\n",
        "自定义邻接表\n",
        "可以用自定义的类来实现邻接表\n",
        "\n",
        "class DirectedGraphNode {\n",
        "    int label;\n",
        "    List<DirectedGraphNode> neighbors;\n",
        "    ...\n",
        "}\n",
        "其中 neighbors 表示和该点连通的点有哪些。\n",
        "\n",
        "使用 Map 和 Set（面试时）\n",
        "也可以使用 HashMap 和 HashSet 搭配的方式来存储邻接表\n",
        "\n",
        "Map<T, Set<T>> = new HashMap<Integer, HashSet<Integer>>();\n",
        "其中 T 代表节点类型。通常可能是整数(Integer)。\n",
        "这种方式虽然没有上面的方式更加直观和容易理解，但是在面试中比较节约代码量。\n",
        "而自定义的方法，更加工程化，所以在面试中如果时间不紧张题目不难的情况下，推荐使用自定义邻接表的方式。\n",
        "```\n",
        "\n"
      ]
    },
    {
      "metadata": {
        "id": "tnu3qS6BvOu5",
        "colab_type": "text"
      },
      "cell_type": "markdown",
      "source": [
        "### Graph Serialization & Deserialization\n",
        "\n",
        "```\n",
        "Example\n",
        "\n",
        "{1,2,3,4#2,1,3#3,1#4,1,5#5,4}\n",
        "\n",
        "2------3  5\n",
        " \\     |  | \n",
        "  \\    |  |\n",
        "   \\   |  |\n",
        "    \\  |  |\n",
        "      1 --4\n",
        "      \n",
        "```\n",
        "\n",
        "think:\n",
        "1. hashmap to save Adjacent List\n",
        "    \n",
        "\n",
        "2. How to deal with duplicated values? \n",
        " \n",
        "    No, this kind of serialization cannot deal with duplicates, not enough data is stored. \n",
        "\n",
        "\n",
        "\n",
        "\n"
      ]
    },
    {
      "metadata": {
        "id": "TawkQYE4vYzy",
        "colab_type": "code",
        "colab": {
          "base_uri": "https://localhost:8080/",
          "height": 35
        },
        "outputId": "24946152-bc89-4d9b-8d08-592ba8b19f36"
      },
      "cell_type": "code",
      "source": [
        "class UndirectedGraphNode:\n",
        "    def __init__(self, x):\n",
        "        self.label = x\n",
        "        self.neighbors = []\n",
        "    \n",
        "    @staticmethod\n",
        "    def deserialize(data):\n",
        "        data = data[1:-1]\n",
        "        nodes = [node[0] for node in data.split('#')]\n",
        "        mapping = {}\n",
        "        for node in nodes:\n",
        "            mapping[node] = UndirectedGraphNode(node)         \n",
        "        graph = []\n",
        "        data = data.split('#')    \n",
        "        for node_str in data:\n",
        "            node_list = node_str.split(',')\n",
        "            base = mapping[node_list[0]]\n",
        "            for nb in node_list[1:]:\n",
        "                base.neighbors.append(mapping[nb])\n",
        "            graph.append(base)\n",
        "        \n",
        "        return graph\n",
        "   \n",
        "    @staticmethod \n",
        "    def serialize(graph):\n",
        "        ser = ''\n",
        "        for node in graph:\n",
        "            tmp = str(node.label)\n",
        "            for nb in node.neighbors:\n",
        "                tmp += ',' + str(nb.label)\n",
        "            ser += '#' + tmp\n",
        "        return '{' + ser[1:] + '}'\n",
        "    \n",
        "if __name__ == \"__main__\":\n",
        "    graph = UndirectedGraphNode.deserialize(\"{1,2,3,4#2,1,3#3,1#4,1,5#5,4}\")\n",
        "    print UndirectedGraphNode.serialize(graph)"
      ],
      "execution_count": 2,
      "outputs": [
        {
          "output_type": "stream",
          "text": [
            "{1,2,3,4#2,1,3#3,1#4,1,5#5,4}\n"
          ],
          "name": "stdout"
        }
      ]
    },
    {
      "metadata": {
        "id": "8FBHYO1FlF2X",
        "colab_type": "text"
      },
      "cell_type": "markdown",
      "source": [
        "### 137. Clone Graph\n",
        "Clone an undirected graph. Each node in the graph contains a label and a list of its neighbors.\n",
        "\n",
        "How we serialize an undirected graph:\n",
        "\n",
        "Nodes are labeled uniquely.\n",
        "\n",
        "We use # as a separator for each node, and , as a separator for node label and each neighbor of the node.\n",
        "```\n",
        "As an example, consider the serialized graph {0,1,2#1,2#2,2}.\n",
        "\n",
        "The graph has a total of three nodes, and therefore contains three parts as separated by #.\n",
        "\n",
        "First node is labeled as 0. Connect node 0 to both nodes 1 and 2.\n",
        "Second node is labeled as 1. Connect node 1 to node 2.\n",
        "Third node is labeled as 2. Connect node 2 to node 2 (itself), thus forming a self-cycle.\n",
        "Visually, the graph looks like the following:\n",
        "\n",
        "   1\n",
        "  / \\\n",
        " /   \\\n",
        "0 --- 2\n",
        "     / \\\n",
        "     \\_/\n",
        "Example\n",
        "return a deep copied graph.\n",
        "```"
      ]
    },
    {
      "metadata": {
        "id": "-FLJyqyAlNyQ",
        "colab_type": "code",
        "colab": {}
      },
      "cell_type": "code",
      "source": [
        "class UndirectedGraphNode:\n",
        "    def __init__(self, x):\n",
        "        self.label = x\n",
        "        self.neighbors = []\n",
        "\n",
        "class Solution:\n",
        "    \"\"\"\n",
        "    @param: node: A undirected graph node\n",
        "    @return: A undirected graph node\n",
        "    \"\"\"\n",
        "    def cloneGraph_bfs(self, root):\n",
        "        if root is None:\n",
        "            return None\n",
        "        que = [root]\n",
        "        nodes = set()\n",
        "\n",
        "        while len(que) > 0:\n",
        "            curt = que.pop()\n",
        "            nodes.add(curt)\n",
        "            for node in curt.neighbors:\n",
        "                if node not in nodes:\n",
        "                    que.append(node)     \n",
        "        mapping = {}\n",
        "        for node in nodes:\n",
        "            mapping[node] = UndirectedGraphNode(node.label)\n",
        "\n",
        "        for node in nodes:\n",
        "            mapping[node].neighbors = [mapping[nb] for nb in node.neighbors]\n",
        "        return mapping[root]\n",
        "\n",
        "    def __init__(self):\n",
        "        self.dict = {}\n",
        "\n",
        "    def cloneGraph(self, node):\n",
        "        if node == None:\n",
        "            return None\n",
        "        if node.label in self.dict:\n",
        "            return self.dict[node.label]\n",
        "        root = UndirectedGraphNode(node.label)\n",
        "        self.dict[node.label] = root\n",
        "        for item in node.neighbors:\n",
        "            root.neighbors.append(self.cloneGraph(item))\n",
        "        return root"
      ],
      "execution_count": 0,
      "outputs": []
    },
    {
      "metadata": {
        "id": "MtZOZPOQiN1J",
        "colab_type": "text"
      },
      "cell_type": "markdown",
      "source": [
        "### 618. Search Graph Nodes\n",
        "Given a undirected graph, a node and a target, return the nearest node to given node which value of it is target, return NULL if you can't find.\n",
        "\n",
        "There is a mapping store the nodes' values in the given parameters.\n",
        "```\n",
        "Example\n",
        "\n",
        "{1,2,3,4#2,1,3#3,1#4,1,5#5,4}\n",
        "\n",
        "2------3  5\n",
        " \\     |  | \n",
        "  \\    |  |\n",
        "   \\   |  |\n",
        "    \\  |  |\n",
        "      1 --4\n",
        "Give a node 1, target is 50\n",
        "\n",
        "there a hash named values which is [3,4,10,50,50], represent:\n",
        "Value of node 1 is 3\n",
        "Value of node 2 is 4\n",
        "Value of node 3 is 10\n",
        "Value of node 4 is 50\n",
        "Value of node 5 is 50\n",
        "\n",
        "Return node 4 \n",
        "\n",
        "```"
      ]
    },
    {
      "metadata": {
        "id": "tSzYx8-7iXdP",
        "colab_type": "code",
        "colab": {
          "base_uri": "https://localhost:8080/",
          "height": 52
        },
        "outputId": "d9d7ee64-c519-4b4b-da38-cb8bc4bfd9b0"
      },
      "cell_type": "code",
      "source": [
        "class UndirectedGraphNode:\n",
        "    def __init__(self, x):\n",
        "        self.label = x\n",
        "        self.neighbors = []\n",
        "    \n",
        "    @staticmethod\n",
        "    def deserialize(data):\n",
        "        data = data[1:-1]\n",
        "        nodes = [node[0] for node in data.split('#')]\n",
        "        mapping = {}\n",
        "        for node in nodes:\n",
        "            mapping[node] = UndirectedGraphNode(node)         \n",
        "        graph = []\n",
        "        data = data.split('#')    \n",
        "        for node_str in data:\n",
        "            node_list = node_str.split(',')\n",
        "            base = mapping[node_list[0]]\n",
        "            for nb in node_list[1:]:\n",
        "                base.neighbors.append(mapping[nb])\n",
        "            graph.append(base)\n",
        "        \n",
        "        return graph\n",
        "   \n",
        "    @staticmethod \n",
        "    def serialize(graph):\n",
        "        ser = ''\n",
        "        for node in graph:\n",
        "            tmp = str(node.label)\n",
        "            for nb in node.neighbors:\n",
        "                tmp += ',' + str(nb.label)\n",
        "            ser += '#' + tmp\n",
        "        return '{' + ser[1:] + '}'\n",
        "\n",
        "class Solution:\n",
        "    \"\"\"\n",
        "    @param: graph: a list of Undirected graph node\n",
        "    @param: values: a hash mapping, <UndirectedGraphNode, (int)value>\n",
        "    @param: node: an Undirected graph node\n",
        "    @param: target: An integer\n",
        "    @return: a node\n",
        "    \"\"\"\n",
        "    def searchNode(self, graph, values, node, target):\n",
        "        import collections\n",
        "        deck = collections.deque()\n",
        "        deck.append(node)\n",
        "        dis = {}\n",
        "        dis[node] = 0 \n",
        "        while deck:\n",
        "            tmp = deck.popleft()\n",
        "            if values[tmp] == target:\n",
        "                return tmp\n",
        "            for nb in tmp.neighbors:\n",
        "                if nb not in dis:\n",
        "                    dis[nb] = dis[tmp] + 1\n",
        "                    deck.append(nb)\n",
        "        return None\n",
        "\n",
        "if __name__ == \"__main__\":\n",
        "    graph = UndirectedGraphNode.deserialize(\"{1,2,3,4#2,1,3#3,1#4,1,5#5,4}\")\n",
        "    print UndirectedGraphNode.serialize(graph)\n",
        "    value = [3,4,5,50,50]\n",
        "    values ={}\n",
        "    for i in range(len(graph)):\n",
        "        values[graph[i]] = value[i]\n",
        "    node = graph[0]\n",
        "    target = 50\n",
        "    \n",
        "    print Solution().searchNode(graph, values, node, target).label\n",
        "    "
      ],
      "execution_count": 20,
      "outputs": [
        {
          "output_type": "stream",
          "text": [
            "{1,2,3,4#2,1,3#3,1#4,1,5#5,4}\n",
            "4\n"
          ],
          "name": "stdout"
        }
      ]
    },
    {
      "metadata": {
        "id": "rWRgebpWug2S",
        "colab_type": "text"
      },
      "cell_type": "markdown",
      "source": [
        "###  531. Six Degrees\n",
        "Six degrees of separation is the theory that everyone and everything is six or fewer steps away, by way of introduction, from any other person in the world, so that a chain of \"a friend of a friend\" statements can be made to connect any two people in a maximum of six steps.\n",
        "\n",
        "Given a friendship relations, find the degrees of two people, return -1 if they can not been connected by friends of friends.\n",
        "```\n",
        "Example\n",
        "Gien a graph:\n",
        "\n",
        "1------2-----4\n",
        " \\          /\n",
        "  \\        /\n",
        "   \\--3--/\n",
        "\n",
        "{1,2,3#2,1,4#3,1,4#4,2,3} \n",
        "\n",
        "and s = 1, t = 4 return 2\n",
        "\n",
        "Gien a graph:\n",
        "\n",
        "1      2-----4\n",
        "             /\n",
        "           /\n",
        "          3\n",
        "{1#2,4#3,4#4,2,3} and s = 1, t = 4 return -1\n",
        "\n",
        "```\n",
        "\n",
        "Think: \n",
        "\n",
        " 1. need to record ? \n",
        " \n",
        " Is the first found the shortest, \n",
        "  it's BFS, thus it's shortest. "
      ]
    },
    {
      "metadata": {
        "id": "cOhIDu2n077D",
        "colab_type": "code",
        "colab": {
          "base_uri": "https://localhost:8080/",
          "height": 52
        },
        "outputId": "db45bc90-643b-4c64-ce8b-32edc977a3de"
      },
      "cell_type": "code",
      "source": [
        "class Solution:\n",
        "    \"\"\"\n",
        "    @param: graph: a list of Undirected graph node\n",
        "    @param: s: Undirected graph node\n",
        "    @param: t: Undirected graph nodes\n",
        "    @return: an integer\n",
        "    \"\"\"\n",
        "    def sixDegrees1(self, graph, s, t):\n",
        "        if len(graph) == 0 or s not in graph or t not in graph:\n",
        "            return -1 \n",
        "        \n",
        "        n = len(graph)\n",
        "        MAX_INT = 65535\n",
        "        record = {}\n",
        "        for node in graph:\n",
        "            record[node] = MAX_INT\n",
        "        record[s] = 0             \n",
        "                \n",
        "        from collections import deque\n",
        "        deck = deque()\n",
        "        # init\n",
        "        for nb in s.neighbors:\n",
        "            record[nb] = 1\n",
        "            deck.append(nb)\n",
        "        \n",
        "        while deck:\n",
        "            node = deck.pop()\n",
        "            for nb in node.neighbors:\n",
        "                if record[nb] > record[node] + 1:\n",
        "                    record[nb] = record[node] + 1\n",
        "                    deck.append(nb)\n",
        "        return record[t] if record[t] != MAX_INT else -1\n",
        "    \n",
        "    def sixDegrees(self, graph, s, t):\n",
        "        from collections import deque\n",
        "        dis = {}\n",
        "        deck = deque(maxlen = len(graph))\n",
        "\n",
        "        deck.append(s)\n",
        "        dis[s] = 0\n",
        "        while deck:\n",
        "            x = deck.popleft()\n",
        "            if x == t:\n",
        "                return dis[x]\n",
        "\n",
        "            for y in x.neighbors:\n",
        "                if y not in dis:\n",
        "                    dis[y] = dis[x] + 1\n",
        "                    deck.append(y)\n",
        "\n",
        "        return -1\n",
        "if __name__ == \"__main__\":\n",
        "    \n",
        "    S = Solution()\n",
        "    graph = UndirectedGraphNode.deserialize(\"{1,2,3#2,1,4#3,1,4#4,2,3}\")\n",
        "    s = graph[0]\n",
        "    t = graph[3]\n",
        "    print s.label, t.label\n",
        "    print S.sixDegrees(graph, s, t)"
      ],
      "execution_count": 40,
      "outputs": [
        {
          "output_type": "stream",
          "text": [
            "1 4\n",
            "2\n"
          ],
          "name": "stdout"
        }
      ]
    },
    {
      "metadata": {
        "id": "vLDYN3y4EbEV",
        "colab_type": "text"
      },
      "cell_type": "markdown",
      "source": [
        "### 178. Graph Valid Tree\n",
        "Given n nodes labeled from 0 to n - 1 and a list of undirected edges (each edge is a pair of nodes), write a function to check whether these edges make up a valid tree.\n",
        "```\n",
        "Example\n",
        "Given n = 5 and edges = [[0, 1], [0, 2], [0, 3], [1, 4]], return true.\n",
        "\n",
        "Given n = 5 and edges = [[0, 1], [1, 2], [2, 3], [1, 3], [1, 4]], return false.\n",
        "```\n",
        "\n",
        "Think:\n",
        "1. pay attend to init deque, which one is the first in deck."
      ]
    },
    {
      "metadata": {
        "id": "bwyYCJb4Ef81",
        "colab_type": "code",
        "colab": {
          "base_uri": "https://localhost:8080/",
          "height": 52
        },
        "outputId": "791f06e2-6c99-4a1c-a3bd-342a49865cef"
      },
      "cell_type": "code",
      "source": [
        "class Solution:\n",
        "    \"\"\"\n",
        "    @param n: An integer\n",
        "    @param edges: a list of undirected edges\n",
        "    @return: true if it's a valid tree, or false\n",
        "    \"\"\"\n",
        "    def validTree(self, n, edges):\n",
        "        if len(edges) == 0 and n == 1:\n",
        "            return True\n",
        "        if len(edges) != n-1:\n",
        "            return False\n",
        "        \n",
        "        from collections import defaultdict, deque\n",
        "        graph = defaultdict(list)\n",
        "        deck = deque()\n",
        "        for node, nb in edges:\n",
        "            graph[node].append(nb)\n",
        "            \n",
        "        visited = set()      \n",
        "        deck.append(edges[0][0])\n",
        "        visited.add(edges[0][0])\n",
        "       \n",
        "        while deck:\n",
        "            node = deck.popleft()\n",
        "            for nb in graph[node]:\n",
        "                if nb in visited:\n",
        "                    print visited\n",
        "                    return False\n",
        "                deck.append(nb)\n",
        "                visited.add(nb)\n",
        "        print visited\n",
        "        return True\n",
        "\n",
        "if __name__ == \"__main__\":\n",
        "    s = Solution()\n",
        "    print s.validTree(n=8, edges=[[0,1],[1,2],[3,2],[4,3],[4,5],[5,6],[6,7]])\n",
        "    #print s.validTree(n=2, edges=[[1,0]])\n",
        "    #print s.validTree(n = 5, edges = [[0, 1], [0, 2], [0, 3], [1, 4]])\n",
        "    #print s.validTree(n = 5, edges = [[0, 1], [1, 2], [2, 3], [1, 3], [1, 4]])"
      ],
      "execution_count": 69,
      "outputs": [
        {
          "output_type": "stream",
          "text": [
            "set([0, 1, 2])\n",
            "True\n"
          ],
          "name": "stdout"
        }
      ]
    },
    {
      "metadata": {
        "id": "ycoMp--gH1ya",
        "colab_type": "text"
      },
      "cell_type": "markdown",
      "source": [
        "### 431. Connected Component in Undirected Graph\n",
        "Find the number connected component in the undirected graph. Each node in the graph contains a label and a list of its neighbors. (a connected component (or just component) of an undirected graph is a subgraph in which any two vertices are connected to each other by paths, and which is connected to no additional vertices in the supergraph.)\n",
        "```\n",
        "Example\n",
        "Given graph:\n",
        "\n",
        "A------B  C\n",
        " \\     |  | \n",
        "  \\    |  |\n",
        "   \\   |  |\n",
        "    \\  |  |\n",
        "      D   E\n",
        "Return {A,B,D}, {C,E}. Since there are two connected component which is {A,B,D}, {C,E}\n",
        "```"
      ]
    },
    {
      "metadata": {
        "id": "-EBVOZFRH4-l",
        "colab_type": "code",
        "colab": {
          "base_uri": "https://localhost:8080/",
          "height": 35
        },
        "outputId": "64f7ae86-8ddd-4278-bca3-3ac53fe75bf5"
      },
      "cell_type": "code",
      "source": [
        "\"\"\"\n",
        "Definition for a undirected graph node\n",
        "class UndirectedGraphNode:\n",
        "    def __init__(self, x):\n",
        "        self.label = x\n",
        "        self.neighbors = []\n",
        "\"\"\"\n",
        "\n",
        "\n",
        "\n",
        "class Solution:\n",
        "    \"\"\"\n",
        "    @param: nodes: a array of Undirected graph node\n",
        "    @return: a connected set of a Undirected graph\n",
        "    \"\"\"\n",
        "    def connectedSet(self, nodes):\n",
        "        from collections import deque\n",
        "        visited = set()\n",
        "        deck = deque()\n",
        "        ans = []\n",
        "        for node in nodes:\n",
        "            if node not in visited:\n",
        "                deck.append(node)\n",
        "                tmp_set = set()\n",
        "                while deck:\n",
        "                    nd = deck.popleft()\n",
        "                    tmp_set.add(nd)\n",
        "                    for nb in nd.neighbors:\n",
        "                        if nb not in tmp_set:\n",
        "                            deck.append(nb)\n",
        "                visited |= tmp_set\n",
        "                ans.append(sorted([x.label for x in tmp_set]))\n",
        "        ans.sort()\n",
        "        return ans\n",
        "                        \n",
        "if __name__ == \"__main__\":\n",
        "    graph = UndirectedGraphNode.deserialize(\"{1,2,4#2,1,4#3,5#4,1,2#5,3}\")\n",
        "    print Solution().connectedSet(graph)"
      ],
      "execution_count": 3,
      "outputs": [
        {
          "output_type": "stream",
          "text": [
            "[['1', '2', '4'], ['3', '5']]\n"
          ],
          "name": "stdout"
        }
      ]
    },
    {
      "metadata": {
        "id": "-zuSPafziN4F",
        "colab_type": "text"
      },
      "cell_type": "markdown",
      "source": [
        "### 120. Word Ladder\n",
        "Given two words (start and end), and a dictionary, find the length of shortest transformation sequence from start to end, such that:\n",
        "\n",
        "Only one letter can be changed at a time\n",
        "Each intermediate word must exist in the dictionary\n",
        "```\n",
        "Example\n",
        "Given:\n",
        "start = \"hit\"\n",
        "end = \"cog\"\n",
        "dict = [\"hot\",\"dot\",\"dog\",\"lot\",\"log\"]\n",
        "As one shortest transformation is \"hit\" -> \"hot\" -> \"dot\" -> \"dog\" -> \"cog\",\n",
        "return its length 5.\n",
        "```"
      ]
    },
    {
      "metadata": {
        "id": "jUYzXWYwiYFl",
        "colab_type": "code",
        "colab": {}
      },
      "cell_type": "code",
      "source": [
        "class Solution:\n",
        "    \"\"\"\n",
        "    @param: start: a string\n",
        "    @param: end: a string\n",
        "    @param: dict: a set of string\n",
        "    @return: An integer\n",
        "    \"\"\"\n",
        "    def ladderLength(self, start, end, wordSet):\n",
        "        import collections\n",
        "        wordSet.add(end)\n",
        "        wordLen = len(start)\n",
        "        deck = collections.deque()\n",
        "        deck.append((start, 1))\n",
        "        char_list = [chr(ord('a') + i) for i in range(26)]\n",
        "        while deck:\n",
        "            curWord, curLen = deck.popleft()\n",
        "            if curWord == end:\n",
        "                return curLen\n",
        "            for i in range(wordLen):\n",
        "                part1 = curWord[:i]\n",
        "                part2 = curWord[i+1:]\n",
        "                for ch in char_list:\n",
        "                    if curWord[i] != ch:\n",
        "                        nextWord = part1 + ch + part2\n",
        "                        if nextWord in wordSet:\n",
        "                            deck.append((nextWord, curLen+1))\n",
        "                            wordSet.remove(nextWord)\n",
        "        return 0"
      ],
      "execution_count": 0,
      "outputs": []
    },
    {
      "metadata": {
        "id": "ENbviJX6SYZF",
        "colab_type": "text"
      },
      "cell_type": "markdown",
      "source": [
        "### Friend Circle\n",
        "\n",
        "There are N students in the class, count how many friend circles inside\n",
        "```\n",
        "Example:\n",
        "\n",
        "4\n",
        "YYNN\n",
        "YYYN\n",
        "NYYN\n",
        "NNNY\n",
        "\n",
        "output 2\n",
        "```\n",
        "\n"
      ]
    },
    {
      "metadata": {
        "id": "j_4XaTfOSn9W",
        "colab_type": "code",
        "colab": {
          "base_uri": "https://localhost:8080/",
          "height": 35
        },
        "outputId": "099a4a6d-6c28-44b8-da7e-413862ba0545"
      },
      "cell_type": "code",
      "source": [
        "# Complete the function below.\n",
        "\n",
        "def friendCircles(friends):\n",
        "    \"\"\"\n",
        "    :type friends: List[List[int]]\n",
        "    :rtype: int\n",
        "    \"\"\"\n",
        "    N = len(friends)\n",
        "    if N == 0:\n",
        "        return 0\n",
        "    visited = [False for i in range(N)]\n",
        "    circles = 0\n",
        "\n",
        "    # Closure helper bfs\n",
        "    def bfs(person):\n",
        "        q = [person]\n",
        "        while len(q) > 0:\n",
        "            person = q.pop(0)\n",
        "            for i in range(N):\n",
        "                if friends[person][i] == 'Y' and not visited[i]:\n",
        "                    visited[i] = True\n",
        "                    q.append(i)\n",
        "\n",
        "    for person in range(N):\n",
        "        for other in range(person, N):\n",
        "            if friends[person][other] == 'Y' and not visited[person]:\n",
        "                visited[person] = True\n",
        "                bfs(person)\n",
        "                circles += 1\n",
        "\n",
        "    return circles\n",
        "\n",
        "\n",
        "if __name__ == \"__main__\":\n",
        "\n",
        "    print friendCircles(friends = ['YYNN','YYYN','NYYN','NNNY'])\n",
        "    \n"
      ],
      "execution_count": 10,
      "outputs": [
        {
          "output_type": "stream",
          "text": [
            "2\n"
          ],
          "name": "stdout"
        }
      ]
    },
    {
      "metadata": {
        "id": "jW64MZfzSYi3",
        "colab_type": "text"
      },
      "cell_type": "markdown",
      "source": [
        "### String Chains\n",
        "\n",
        "Given an array of words representing your dict, find its longest string chains\n",
        "\n",
        "```\n",
        "Example:\n",
        "[a, and, an, bear]\n",
        "\n",
        "longest change is and->an->a\n",
        "\n",
        "return 3\n",
        "\n",
        "```\n"
      ]
    },
    {
      "metadata": {
        "id": "yVcG9Y-ySrYF",
        "colab_type": "code",
        "colab": {
          "base_uri": "https://localhost:8080/",
          "height": 35
        },
        "outputId": "fd97c55e-1715-4e5f-c601-fa6a4080fac8"
      },
      "cell_type": "code",
      "source": [
        "def longestChain(words):\n",
        "    \"\"\"\n",
        "    :type words: list[str]\n",
        "    :rtype: int\n",
        "    \"\"\"\n",
        "    if not words:\n",
        "        return 0\n",
        "    words  = set(words)\n",
        "    ans = {}\n",
        "    \n",
        "    # closure helper \n",
        "    def search(word):\n",
        "        ans[word] = 1\n",
        "        for i in range(len(word)):\n",
        "            new_word = word[0:i] + word[i+1:]\n",
        "            if new_word not in words:\n",
        "                continue\n",
        "            if new_word not in ans:\n",
        "                search(new_word)\n",
        "            ans[word] = max(ans[new_word] + 1, ans[word])\n",
        "    \n",
        "    for word in words:\n",
        "        search(word)\n",
        "\n",
        "    return max(ans.values())\n",
        "\n",
        "if __name__ == \"__main__\":\n",
        "    print longestChain(['a', 'and', 'an', 'bear'])\n"
      ],
      "execution_count": 12,
      "outputs": [
        {
          "output_type": "stream",
          "text": [
            "3\n"
          ],
          "name": "stdout"
        }
      ]
    },
    {
      "metadata": {
        "id": "wi5OEhaFjquV",
        "colab_type": "text"
      },
      "cell_type": "markdown",
      "source": [
        "### 624. Remove Substrings\n",
        "Given a string s and a set of n substrings. You are supposed to remove every instance of those n substrings from s so that s is of the minimum length and output this minimum length.\n",
        "```\n",
        "Example\n",
        "Given s = ccdaabcdbb, substrs = [\"ab\", \"cd\"]\n",
        "Return 2\n",
        "\n",
        "Explanation:\n",
        "ccdaabcdbb -> ccdacdbb -> cabb -> cb (length = 2) \n",
        "```"
      ]
    },
    {
      "metadata": {
        "id": "YHWi8e_hjuNL",
        "colab_type": "code",
        "colab": {
          "base_uri": "https://localhost:8080/",
          "height": 35
        },
        "outputId": "9927c67b-90b1-447a-8bc6-fc9ff91b935e"
      },
      "cell_type": "code",
      "source": [
        "class Solution:\n",
        "    \"\"\"\n",
        "    @param: s: a string\n",
        "    @param: dict: a set of n substrings\n",
        "    @return: the minimum length\n",
        "    \"\"\"\n",
        "    def minLength(self, s, substrs):\n",
        "        #from Queue import Queue\n",
        "        que = []\n",
        "        str_set = set()\n",
        "\n",
        "        que.append(s)\n",
        "        str_set.add(s)\n",
        "        ans = len(s)\n",
        "        while len(que) > 0:\n",
        "            s = que.pop()\n",
        "            for sub in substrs:\n",
        "                found = s.find(sub)\n",
        "                while found != -1:\n",
        "                    new_s = s[:found] + s[found+len(sub):]\n",
        "                    if new_s not in str_set:\n",
        "                        print new_s, '->',\n",
        "                        str_set.add(new_s)\n",
        "                        ans = min(ans, len(new_s))\n",
        "                        que.append(new_s)\n",
        "                        str_set.add(new_s)\n",
        "                    found = s.find(sub, found + 1)\n",
        "\n",
        "        return ans\n",
        "if __name__ == \"__main__\":\n",
        "    print Solution().minLength(s = 'ccdaabcdbb', substrs = [\"ab\", \"cd\"])"
      ],
      "execution_count": 11,
      "outputs": [
        {
          "output_type": "stream",
          "text": [
            "ccdacdbb -> caabcdbb -> ccdaabbb -> ccdabb -> caabbb -> cabb -> cb -> ccdb -> cacdbb -> 2\n"
          ],
          "name": "stdout"
        }
      ]
    },
    {
      "metadata": {
        "id": "j42mxlx2z1Uz",
        "colab_type": "text"
      },
      "cell_type": "markdown",
      "source": [
        "\n",
        "# Binary Tree\n",
        "\n",
        "\n",
        "二叉树（Binary Tree），和基于二叉树上的搜索算法。\n",
        "\n",
        "在二叉树的搜索中，我们主要使用了分治法（Divide Conquer）来解决大部分的问题。之所以大部分二叉树的问题可以使用分治法，是因为二叉树这种数据结构，是一个天然就帮你做好了分治法中“分”这个步骤的结构。\n",
        "\n",
        "本章节的先修内容有：\n",
        "\n",
        "什么是递归（Recursion）—— 请回到第二章节中复习\n",
        "递归（Recursion）、回溯（Backtracking）和搜索（Search）的联系和区别\n",
        "分治法（Divide and Conquer）和遍历法（Traverse）的联系和区别\n",
        "什么是结果类 ResultType，什么时候使用 \n",
        "\n",
        "```\n",
        "\n",
        "分治法（Divide & Conquer）与遍历法（Traverse）是两种常见的递归（Recursion）方法。\n",
        "\n",
        "分治法解决问题的思路\n",
        "先让左右子树去解决同样的问题，然后得到结果之后，再整合为整棵树的结果。\n",
        "\n",
        "遍历法解决问题的思路\n",
        "通过前序/中序/后序的某种遍历，游走整棵树，通过一个全局变量或者传递的参数来记录这个过程中所遇到的点和需要计算的结果。\n",
        "\n",
        "两种方法的区别\n",
        "从程序实现角度分治法的递归函数，通常有一个返回值，遍历法通常没有。\n",
        "```\n",
        "\n",
        "ResultType\n",
        "什么是二叉查找树（Binary Search Tree）\n",
        "什么是平衡二叉树（Balanced Binary Tree）\n",
        "本章节的补充内容有：\n",
        "\n",
        "Morris 算法：使用 O(1) 的额外空间复杂度对二叉树进行先序遍历（Preorder Traversal）\n",
        "用非递归的方法实现先序遍历，中序遍历和后序遍历\n",
        "二叉查找树（Binary Search Tree）的增删查改\n",
        "Java 自带的平衡排序二叉树 TreeMap / TreeSet 的介绍和面试中的应用"
      ]
    },
    {
      "metadata": {
        "id": "hZ5vjPJTllGT",
        "colab_type": "text"
      },
      "cell_type": "markdown",
      "source": [
        "## Tree Traverse"
      ]
    },
    {
      "metadata": {
        "id": "O1r1BMCBbpj1",
        "colab_type": "text"
      },
      "cell_type": "markdown",
      "source": [
        "### 7. Serialize and Deserialize Binary Tree\n",
        "\n",
        "reconstruct the exact same binary tree is 'deserialization'.\n",
        "```\n",
        "Example\n",
        "An example of testdata: Binary tree {3,9,20,#,#,15,7}, denote the following structure:\n",
        "\n",
        "  3\n",
        " / \\\n",
        "9  20\n",
        "  /  \\\n",
        " 15   7\n",
        "Our data serialization use bfs traversal. This is just for when you got wrong answer and want to debug the input.\n",
        "\n",
        "You can use other method to do serializaiton and deserialization.\n",
        "```"
      ]
    },
    {
      "metadata": {
        "id": "OsV-SuuCbqOp",
        "colab_type": "code",
        "colab": {
          "base_uri": "https://localhost:8080/",
          "height": 52
        },
        "outputId": "88eed0f1-c6b7-4ab5-b9a3-76668da6f7ef"
      },
      "cell_type": "code",
      "source": [
        "class TreeNode:\n",
        "    def __init__(self, val):\n",
        "        self.val = val\n",
        "        self.left, self.right = None, None\n",
        "    \n",
        "    @staticmethod\n",
        "    def serialize(root):\n",
        "        \"\"\"\n",
        "        @param root: An object of TreeNode, denote the root of the binary tree.\n",
        "        This method will be invoked first, you should design your own algorithm\n",
        "        to serialize a binary tree which denote by a root node to a string which\n",
        "        can be easily deserialized by your own \"deserialize\" method later.\n",
        "        \"\"\"\n",
        "        if root == None:\n",
        "            return \"{}\"\n",
        "        que = [root]\n",
        "        i = 0\n",
        "        while len(que) > i:\n",
        "            if que[i]:\n",
        "                que.append(que[i].left)\n",
        "                que.append(que[i].right)\n",
        "                que[i] = str(que[i].val)\n",
        "            else:\n",
        "                que[i] = '#' \n",
        "            \n",
        "            i += 1\n",
        "            \n",
        "        while que[-1] is '#':\n",
        "            que.pop()\n",
        "            \n",
        "        ser = \",\".join(que)\n",
        "        return \"{\" + ser + \"}\"\n",
        "    \n",
        "    @staticmethod\n",
        "    def deserialize(data):\n",
        "        \"\"\"\n",
        "        @param data: A string serialized by your serialize method.\n",
        "        This method will be invoked second, the argument data is what exactly\n",
        "        you serialized at method \"serialize\", that means the data is not given by\n",
        "        system, it's given by your own serialize method. So the format of data is\n",
        "        designed by yourself, and deserialize it here as you serialize it in\n",
        "        \"serialize\" method.\n",
        "        \"\"\"\n",
        "        if data == \"{}\":\n",
        "            return None\n",
        "        data = data[1:-1].split(',') # remove {\n",
        "        root = TreeNode(int(data[0]))\n",
        "        que = [root]\n",
        "        index = 0\n",
        "        is_left = True\n",
        "        for i in range(1, len(data)):\n",
        "            if data[i] != '#':\n",
        "                node = TreeNode(int(data[i]))\n",
        "                que.append(node)\n",
        "                if is_left: \n",
        "                    que[index].left = node\n",
        "                else:\n",
        "                    que[index].right = node\n",
        "                \n",
        "            if is_left is False:\n",
        "                index += 1 \n",
        "            is_left = not is_left\n",
        "        return root\n",
        "      \n",
        "if __name__ == \"__main__\":\n",
        "    s = TreeNode\n",
        "    root = TreeNode(3)\n",
        "    root.left = TreeNode(9)\n",
        "    root.right = TreeNode(20)\n",
        "    root.right.left = TreeNode(15)\n",
        "    root.right.right = TreeNode(7)\n",
        "    print s.serialize(root)\n",
        "    root = \"{3,9,20,#,#,15,7}\"\n",
        "    print s.serialize(s.deserialize(root))"
      ],
      "execution_count": 8,
      "outputs": [
        {
          "output_type": "stream",
          "text": [
            "{3,9,20,#,#,15,7}\n",
            "{3,9,20,#,#,15,7}\n"
          ],
          "name": "stdout"
        }
      ]
    },
    {
      "metadata": {
        "id": "MzrkKwRA4j-O",
        "colab_type": "text"
      },
      "cell_type": "markdown",
      "source": [
        "### 596. Minimum Subtree\n",
        "Given a binary tree, find the subtree with minimum sum. Return the root of the subtree.\n",
        "```\n",
        "Example\n",
        "Given a binary tree:\n",
        "\n",
        "     1\n",
        "   /   \\\n",
        " -5     2\n",
        " / \\   /  \\\n",
        "0   2 -4  -5 \n",
        "return the node 1.\n",
        "```"
      ]
    },
    {
      "metadata": {
        "id": "JTqTY1_u47q5",
        "colab_type": "code",
        "colab": {}
      },
      "cell_type": "code",
      "source": [
        "\"\"\"\n",
        "Definition of TreeNode:\n",
        "class TreeNode:\n",
        "    def __init__(self, val):\n",
        "        this.val = val\n",
        "        this.left, this.right = None, None\n",
        "\"\"\"\n",
        "\n",
        "\n",
        "class Solution:\n",
        "    \"\"\"\n",
        "    @param: root: the root of binary tree\n",
        "    @return: the root of the maximum average of subtree\n",
        "    \"\"\"\n",
        "    def findSubtree(self, root):\n",
        "        if root == None:\n",
        "            return\n",
        "        results = ['-1', float('inf')]\n",
        "        self.dfs(root, results)\n",
        "        return results[0]\n",
        "        \n",
        "    def dfs(self, node, results):\n",
        "        sum_node = node.val\n",
        "        if node.left is None and node.right is None:\n",
        "            if sum_node < results[1]:\n",
        "                results[:] = [node, sum_node]\n",
        "            return sum_node\n",
        "        if node.left:\n",
        "            sum_node += self.dfs(node.left, results)\n",
        "        if node.right:\n",
        "            sum_node += self.dfs(node.right, results)\n",
        "        if sum_node < results[1]:\n",
        "            results[:] = [node, sum_node]\n",
        "        return sum_node"
      ],
      "execution_count": 0,
      "outputs": []
    },
    {
      "metadata": {
        "id": "_a2KZfZg4jts",
        "colab_type": "text"
      },
      "cell_type": "markdown",
      "source": [
        "### 480. Binary Tree Paths\n",
        "Given a binary tree, return all root-to-leaf paths.\n",
        "```\n",
        "Example\n",
        "Given the following binary tree:\n",
        "\n",
        "   1\n",
        " /   \\\n",
        "2     3\n",
        " \\\n",
        "  5\n",
        "All root-to-leaf paths are:\n",
        "\n",
        "[\n",
        "  \"1->2->5\",\n",
        "  \"1->3\"\n",
        "]\n",
        "```"
      ]
    },
    {
      "metadata": {
        "id": "W8oIRFbj5Byh",
        "colab_type": "code",
        "colab": {}
      },
      "cell_type": "code",
      "source": [
        "class Solution:\n",
        "    # param {TreeNode} root the root of the binary tree\n",
        "    # return {List[str]} all root-to-leaf paths\n",
        "    def binaryTreePaths(self, root):\n",
        "        if root == None:\n",
        "            return []\n",
        "        results = []\n",
        "        tmp = []\n",
        "        self.dfs(root, results, tmp)\n",
        "        return results\n",
        "\n",
        "    def dfs(self, node, results, tmp):\n",
        "        tmp.append(str(node.val))\n",
        "        if node.left == None and node.right == None:\n",
        "            results.append('->'.join(tmp))\n",
        "            tmp.pop()\n",
        "            return\n",
        "        if node.left != None:\n",
        "            self.dfs(node.left, results, tmp)\n",
        "        if node.right != None:\n",
        "            self.dfs(node.right, results, tmp)\n",
        "        tmp.pop()"
      ],
      "execution_count": 0,
      "outputs": []
    },
    {
      "metadata": {
        "id": "ZaUUOhPfCpx0",
        "colab_type": "text"
      },
      "cell_type": "markdown",
      "source": [
        "### 376. Binary Tree Path Sum I \n",
        "Given a binary tree, find all paths that sum of the nodes in the path equals to a given number target.\n",
        "\n",
        "A valid path is from root node to any of the leaf nodes.\n",
        "```\n",
        "Example\n",
        "Given a binary tree, and target = 5:\n",
        "\n",
        "     1\n",
        "    / \\\n",
        "   2   4\n",
        "  / \\\n",
        " 2   3\n",
        "return\n",
        "\n",
        "[\n",
        "  [1, 2, 2],\n",
        "  [1, 4]\n",
        "]\n",
        "```"
      ]
    },
    {
      "metadata": {
        "id": "n0vpZxF2C2zI",
        "colab_type": "code",
        "colab": {
          "base_uri": "https://localhost:8080/",
          "height": 35
        },
        "outputId": "d71d36f8-e9ce-45f5-f0b7-0e145eee2c9e"
      },
      "cell_type": "code",
      "source": [
        "class Solution:\n",
        "    # param {TreeNode} root the root of the binary tree\n",
        "    # return {List[str]} all root-to-leaf paths\n",
        "    def binaryTreePathSum(self, root, target):\n",
        "        if root == None:\n",
        "            return []\n",
        "        results = []\n",
        "        tmp = []\n",
        "        self.dfs(root, results, tmp, target)\n",
        "        return results\n",
        "\n",
        "    def dfs(self, node, results, tmp, target):\n",
        "        tmp.append(int(node.val))\n",
        "        if node.left == None and node.right == None:\n",
        "            if sum(tmp) == target:\n",
        "                results.append(tmp[:])\n",
        "            tmp.pop()\n",
        "            return\n",
        "        if node.left != None:\n",
        "            self.dfs(node.left, results, tmp, target)\n",
        "        if node.right != None:\n",
        "            self.dfs(node.right, results, tmp, target)\n",
        "        tmp.pop()\n",
        "        \n",
        "        \n",
        "if __name__ == \"__main__\":\n",
        "\n",
        "    S = Solution()\n",
        "    #print S.binaryTreePathSum(s.deserialize(\"{1,2,3,4,#,2}\"), 6)\n",
        "    print S.binaryTreePathSum(s.deserialize(\"{1,-2,#,1,#,2}\"), 2)\n",
        "    #print S.binaryTreePathSum2(s.deserialize(\"{37,-34,-48,#,-100,-100,48,#,#,#,#,-54,#,-71,-22,#,#,#,8}\"), -31)"
      ],
      "execution_count": 13,
      "outputs": [
        {
          "output_type": "stream",
          "text": [
            "[[1, -2, 1, 2]]\n"
          ],
          "name": "stdout"
        }
      ]
    },
    {
      "metadata": {
        "id": "VRrYmwz9pGfs",
        "colab_type": "text"
      },
      "cell_type": "markdown",
      "source": [
        "### 246. Binary Tree Path Sum II\n",
        "Your are given a binary tree in which each node contains a value. Design an algorithm to get all paths which sum to a given value. The path does not need to start or end at the root or a leaf, but it must go in a straight line down.\n",
        "```\n",
        "Example\n",
        "Given a binary tree:\n",
        "\n",
        "    1\n",
        "   / \\\n",
        "  2   3\n",
        " /   /\n",
        "4   2\n",
        "for target = 6, return\n",
        "\n",
        "[\n",
        "  [2, 4],\n",
        "  [1, 3, 2]\n",
        "]\n",
        "```\n",
        "\n",
        "Notes:\n",
        " * 这道题最容易犯的错误就是，从每个节点新开始一个搜索，这样会在树的末端大量重复，而且这种重复没法用Set消除，因为可能存在多条路径整数序列一样。\n",
        "\n",
        "* O(h^2 *n) seems to be the best soluiton, can we have better one?\n",
        "* start at any, end at any, downward.\n",
        "\n",
        "\n",
        "\n"
      ]
    },
    {
      "metadata": {
        "id": "CJNLC8EppKyp",
        "colab_type": "code",
        "colab": {
          "base_uri": "https://localhost:8080/",
          "height": 52
        },
        "outputId": "4583f835-53ed-4211-8772-69174f374b01"
      },
      "cell_type": "code",
      "source": [
        "\"\"\"\n",
        "Definition of TreeNode:\n",
        "class TreeNode:\n",
        "    def __init__(self, val):\n",
        "        self.val = val\n",
        "        self.left, self.right = None, None\n",
        "\"\"\"\n",
        "\n",
        "\n",
        "class Solution:\n",
        "    \"\"\"\n",
        "    @param: root: the root of binary tree\n",
        "    @param: target: An integer\n",
        "    @return: all valid paths\n",
        "    \"\"\"\n",
        "    def binaryTreePathSum2_I(self, root, target):\n",
        "        if root is None:\n",
        "            return []\n",
        "        \n",
        "        res = [] \n",
        "   \n",
        "        def dfs(tmp, node):\n",
        "            if node is None:\n",
        "                return \n",
        "            \n",
        "            tmp.append(int(node.val))\n",
        "            \n",
        "            cum = 0\n",
        "            for i in range(len(tmp)-1, -1,-1):\n",
        "                cum += tmp[i]\n",
        "                if cum == target:\n",
        "                    res.append(tmp[i:])\n",
        "            if node.left:\n",
        "                dfs(tmp, node.left)\n",
        "            if node.right:\n",
        "                dfs(tmp, node.right)\n",
        "            \n",
        "            tmp.pop()     \n",
        "            \n",
        "        dfs([], root)\n",
        "        return res \n",
        "\n",
        "        \n",
        "if __name__ == \"__main__\":\n",
        "    S = Solution()\n",
        "    #print S.binaryTreePathSum2(s.deserialize(\"{1,2,3,4,#,2}\"), 6)\n",
        "    print S.binaryTreePathSum2(s.deserialize(\"{1,-2,#,1,#,2}\"), 2)\n",
        "    print S.binaryTreePathSum1(s.deserialize(\"{1,-2,#,1,#,2}\"), 2)\n",
        "    #print S.binaryTreePathSum2(s.deserialize(\"{37,-34,-48,#,-100,-100,48,#,#,#,#,-54,#,-71,-22,#,#,#,8}\"), -31)"
      ],
      "execution_count": 7,
      "outputs": [
        {
          "output_type": "stream",
          "text": [
            "None\n",
            "[[1, -2, 1, 2]]\n"
          ],
          "name": "stdout"
        }
      ]
    },
    {
      "metadata": {
        "id": "fo-c4Z4YBCQD",
        "colab_type": "text"
      },
      "cell_type": "markdown",
      "source": [
        "### 472. Binary Tree Path Sum III\n",
        "Give a binary tree, and a target number, find all path that the sum of nodes equal to target, the path could be start and end at any node in the tree.\n",
        "```\n",
        "Example\n",
        "Given binary tree:\n",
        "\n",
        "    1\n",
        "   / \\\n",
        "  2   3\n",
        " /\n",
        "4\n",
        "and target = 6. Return :\n",
        "\n",
        "[\n",
        "  [2, 4],\n",
        "  [2, 1, 3],\n",
        "  [3, 1, 2],\n",
        "  [4, 2]\n",
        "]\n",
        "```"
      ]
    },
    {
      "metadata": {
        "id": "PwVtQCVp2No-",
        "colab_type": "code",
        "colab": {}
      },
      "cell_type": "code",
      "source": [
        "\"\"\"\n",
        "Definition of ParentTreeNode:\n",
        "class ParentTreeNode:\n",
        "    def __init__(self, val):\n",
        "        self.val = val\n",
        "        self.parent, self.left, self.right = None, None, None\n",
        "\"\"\"\n",
        "\n",
        "\n",
        "class Solution:\n",
        "    \"\"\"\n",
        "    @param: root: the root of binary tree\n",
        "    @param: target: An integer\n",
        "    @return: all valid paths\n",
        "    \"\"\"\n",
        "    def binaryTreePathSum3(self, root, target):\n",
        "        # write your code here\n"
      ],
      "execution_count": 0,
      "outputs": []
    },
    {
      "metadata": {
        "id": "UkelTBA_Lflv",
        "colab_type": "text"
      },
      "cell_type": "markdown",
      "source": [
        "### 475. Binary Tree Maximum Path Sum II\n",
        "Given a binary tree, find the maximum path sum from root.\n",
        "\n",
        "The path may end at any node in the tree and contain at least one node in it.\n",
        "```\n",
        "Example\n",
        "Given the below binary tree:\n",
        "\n",
        "  1\n",
        " / \\\n",
        "2   3\n",
        "return 4. (1->3)\n",
        "```\n",
        "Notes: \n",
        " * Same as path SUM I, start at root, end at any node"
      ]
    },
    {
      "metadata": {
        "id": "lrtvA7XrLr_B",
        "colab_type": "code",
        "colab": {
          "base_uri": "https://localhost:8080/",
          "height": 35
        },
        "outputId": "daf39438-f415-4dc5-f7fd-614aeab90282"
      },
      "cell_type": "code",
      "source": [
        "\"\"\"\n",
        "Definition of TreeNode:\n",
        "class TreeNode:\n",
        "    def __init__(self, val):\n",
        "        self.val = val\n",
        "        self.left, self.right = None, None\n",
        "\"\"\"\n",
        "\n",
        "class Solution:\n",
        "    \"\"\"\n",
        "    @param root: the root of binary tree.\n",
        "    @return: An integer\n",
        "    \"\"\"\n",
        "    def maxPathSum2(self, root):\n",
        "        from sys import maxsize\n",
        "        self.res = -maxsize\n",
        "        self.dfs(root, [], 0)\n",
        "        return self.res\n",
        "\n",
        "    def dfs(self, node, tmp, cum):\n",
        "        if node is None:\n",
        "            return \n",
        "        tmp.append(node.val)\n",
        "        cum += node.val\n",
        "        self.res = max(self.res, cum)\n",
        "        if node.left:\n",
        "            self.dfs(node.left, tmp, cum)\n",
        "        if node.right:\n",
        "            self.dfs(node.right, tmp, cum)\n",
        "        tmp.pop()\n",
        "        cum -= node.val\n",
        "        \n",
        "if __name__ == \"__main__\":\n",
        "    root = s.deserialize(\"{1,2,3}\")\n",
        "    S = Solution()\n",
        "    print S.maxPathSum2(root)\n"
      ],
      "execution_count": 21,
      "outputs": [
        {
          "output_type": "stream",
          "text": [
            "4\n"
          ],
          "name": "stdout"
        }
      ]
    },
    {
      "metadata": {
        "id": "jwxV8tBhwR4f",
        "colab_type": "text"
      },
      "cell_type": "markdown",
      "source": [
        "###  595. Binary Tree Longest Consecutive Sequence I\n",
        "Given a binary tree, find the length of the longest consecutive sequence path.\n",
        "\n",
        "The path refers to any sequence of nodes from some starting node to any node in the tree along the parent-child connections. The longest consecutive path need to be from parent to child (cannot be the reverse).\n",
        "```\n",
        "Example\n",
        "For example,\n",
        "\n",
        "   1\n",
        "    \\\n",
        "     3\n",
        "    / \\\n",
        "   2   4\n",
        "        \\\n",
        "         5\n",
        "Longest consecutive sequence path is 3-4-5, so return 3.\n",
        "\n",
        "   2\n",
        "    \\\n",
        "     3\n",
        "    / \n",
        "   2    \n",
        "  / \n",
        " 1\n",
        "Longest consecutive sequence path is 2-3,not3-2-1, so return 2.\n",
        "```\n",
        "Notes:\n",
        "1. Return Type(helper)  vs Traverse(dfs)"
      ]
    },
    {
      "metadata": {
        "id": "pNNAg0uMwbA-",
        "colab_type": "code",
        "colab": {
          "base_uri": "https://localhost:8080/",
          "height": 35
        },
        "outputId": "39bd1b32-d580-4fb6-d86f-7f4bbc6e9162"
      },
      "cell_type": "code",
      "source": [
        "\"\"\"\n",
        "Definition of TreeNode:\n",
        "class TreeNode:\n",
        "    def __init__(self, val):\n",
        "        self.val = val\n",
        "        self.left, self.right = None, None\n",
        "\"\"\"\n",
        "\n",
        "class Solution:\n",
        "    \"\"\"\n",
        "    @param root: the root of binary tree\n",
        "    @return: the length of the longest consecutive sequence path\n",
        "    \"\"\"\n",
        "    def longestConsecutive(self, root):\n",
        "        if root is None:\n",
        "            return 0\n",
        "        self.res = 0\n",
        "        self.dfs(None, root, 1)\n",
        "        return self.res \n",
        "    \n",
        "    \n",
        "    def dfs(self, prev, node, curlen):        \n",
        "        if prev is None or prev.val != node.val - 1:\n",
        "            curlen = 1\n",
        "        self.res = max(self.res, curlen)\n",
        "        if node.left:\n",
        "            self.dfs(node, node.left, curlen + 1)\n",
        "        if node.right:\n",
        "            self.dfs(node, node.right, curlen + 1) \n",
        "    \n",
        "    \n",
        "    def longestConsecutiveII(self, root):\n",
        "        max_len, _ = self.helper(root)\n",
        "        return max_len\n",
        "    \n",
        "    def helper(self, root):\n",
        "        if root is None:\n",
        "            return 0, 0\n",
        "\n",
        "        left_len, left_up = self.helper(root.left)\n",
        "        right_len, right_up = self.helper(root.right)\n",
        "        \n",
        "        up = 0         \n",
        "        \n",
        "        if root.left and root.left.val - 1 == root.val:\n",
        "            up = max(up, left_up + 1)\n",
        "\n",
        "        if root.right and root.right.val - 1 == root.val:\n",
        "            up = max(up, right_up + 1)\n",
        "            \n",
        "        len = up + 1\n",
        "        len = max(len, left_len, right_len)\n",
        "        return len, up\n",
        "    \n",
        "    \n",
        "if __name__ == \"__main__\":\n",
        "    tree = TreeNode\n",
        "    root = tree.deserialize(\"{1,#,3,2,4,#,#,#,5}\")\n",
        "    S = Solution()\n",
        "    print S.longestConsecutiveII(root)"
      ],
      "execution_count": 33,
      "outputs": [
        {
          "output_type": "stream",
          "text": [
            "3\n"
          ],
          "name": "stdout"
        }
      ]
    },
    {
      "metadata": {
        "id": "WgnQJPW-2fAG",
        "colab_type": "text"
      },
      "cell_type": "markdown",
      "source": [
        "### 614. Binary Tree Longest Consecutive Sequence II\n",
        "Given a binary tree, find the length of the longest consecutive sequence path.\n",
        "The path could be start and end at any node in the tree\n",
        "```\n",
        "Example\n",
        "    1\n",
        "   / \\\n",
        "  2   0\n",
        " /\n",
        "3\n",
        "Return 4 // 0-1-2-3\n",
        "```"
      ]
    },
    {
      "metadata": {
        "id": "22mioSxf6WRO",
        "colab_type": "code",
        "colab": {
          "base_uri": "https://localhost:8080/",
          "height": 69
        },
        "outputId": "ad5f38f3-94ad-497e-f7d5-1d87a04f17ac"
      },
      "cell_type": "code",
      "source": [
        "\"\"\"\n",
        "Definition of TreeNode:\n",
        "class TreeNode:\n",
        "    def __init__(self, val):\n",
        "        self.val = val\n",
        "        self.left, self.right = None, None\n",
        "\"\"\"\n",
        "\n",
        "class Solution:\n",
        "    \"\"\"\n",
        "    @param root: the root of binary tree\n",
        "    @return: the length of the longest consecutive sequence path\n",
        "    \"\"\"\n",
        "    def longestConsecutive2(self, root):\n",
        "        if root is None:\n",
        "            return 0\n",
        "        from collections import deque\n",
        "        deck = deque()\n",
        "        deck.append([None, root]) \n",
        "        self.parent_dict = {}\n",
        "        self.parent_dict[root] = None\n",
        "        # we don't def parent at node, thus, need to pass\n",
        "        self.res = 1\n",
        "        \n",
        "        while deck:\n",
        "            size = len(deck)\n",
        "            for i in range(size):\n",
        "                parent, node = deck.popleft()\n",
        "                self.parent_dict[node] = parent\n",
        "                if node.left:\n",
        "                    deck.append([node, node.left])\n",
        "                if node.right:\n",
        "                    deck.append([node, node.right])\n",
        "        \n",
        "        for node, parent in self.parent_dict.iteritems():\n",
        "            self.dfs(None, node, parent, 1)\n",
        "        \n",
        "        return self.res\n",
        "    \n",
        "    def dfs(self, prev, node, parent, curlen):\n",
        "        self.res = max(self.res, curlen)\n",
        "        if node.left and node.left is not prev and node.val+1 == node.left.val:\n",
        "            self.dfs(node, node.left, node, curlen + 1)\n",
        "        if node.right and node.right is not prev and node.val+1 == node.right.val:\n",
        "            self.dfs(node, node.right, node, curlen + 1)\n",
        "        if parent and parent is not prev and node.val+1 == parent.val:\n",
        "            self.dfs(node, parent, self.parent_dict[parent], curlen + 1)\n",
        "\n",
        "    def longestConsecutive2II(self, root):\n",
        "        # Write your code here\n",
        "        max_len, _, _, = self.helper(root)\n",
        "        return max_len\n",
        "    \n",
        "    def helper(self, root):\n",
        "        if root is None:\n",
        "            return 0, 0, 0\n",
        "\n",
        "        left_len, left_down, left_up = self.helper(root.left)\n",
        "        right_len, right_down, right_up = self.helper(root.right)\n",
        "\n",
        "        down, up = 0, 0\n",
        "        if root.left is not None and root.left.val + 1 == root.val:\n",
        "            down = max(down, left_down + 1)\n",
        "\n",
        "        if root.left is not None and root.left.val - 1 == root.val:\n",
        "            up = max(up, left_up + 1)\n",
        "\n",
        "        if root.right is not None and root.right.val + 1 == root.val:\n",
        "            down = max(down, right_down + 1)\n",
        "\n",
        "        if root.right is not None and root.right.val - 1 == root.val:\n",
        "            up = max(up, right_up + 1)\n",
        "\n",
        "        len = down + 1 + up\n",
        "        len = max(len, left_len, right_len)\n",
        "\n",
        "        return len, down, up      \n",
        "            \n",
        "if __name__ == \"__main__\":\n",
        "    tree = TreeNode\n",
        "    root = tree.deserialize(\"{1,2,0,3,0,1,2,0,3,0,1,2,0,3}\")\n",
        "    S = Solution()\n",
        "    print S.longestConsecutive2(root)\n",
        "    \n",
        "\n",
        "    from timeit import timeit\n",
        "    print timeit(\"S.longestConsecutive2(root)\", \n",
        "                 setup=\"from __main__ import root, S\", number=1000)\n",
        "    print timeit(\"S.longestConsecutive2II(root)\", \n",
        "                 setup=\"from __main__ import root, S\", number=1000)"
      ],
      "execution_count": 28,
      "outputs": [
        {
          "output_type": "stream",
          "text": [
            "4\n",
            "0.0825941562653\n",
            "0.0131440162659\n"
          ],
          "name": "stdout"
        }
      ]
    },
    {
      "metadata": {
        "id": "B6pm5grrwSBH",
        "colab_type": "text"
      },
      "cell_type": "markdown",
      "source": [
        "### 619. Binary Tree Longest Consecutive Sequence III\n",
        "It's follow up problem for Binary Tree Longest Consecutive Sequence II\n",
        "\n",
        "Given a k-ary tree, find the length of the longest consecutive sequence path.\n",
        "The path could be start and end at any node in the tree\n",
        "```\n",
        "Example\n",
        "An example of test data: k-ary tree 5<6<7<>,5<>,8<>>,4<3<>,5<>,3<>>>, denote the following structure:\n",
        "\n",
        "\n",
        "     5\n",
        "   /   \\\n",
        "  6     4\n",
        " /|\\   /|\\\n",
        "7 5 8 3 5 3\n",
        "\n",
        "Return 5, // 3-4-5-6-7\n",
        "```"
      ]
    },
    {
      "metadata": {
        "id": "K8-JiwaeUmmf",
        "colab_type": "code",
        "colab": {}
      },
      "cell_type": "code",
      "source": [
        "# Definition for a multi tree node.\n",
        "# class MultiTreeNode(object):\n",
        "#     def __init__(self, x):\n",
        "#         self.val = x\n",
        "#         children = [] # children is a list of MultiTreeNode\n",
        "\n",
        "class Solution:\n",
        "    # param {MultiTreeNode} root the root of k-ary tree\n",
        "    # return {int} the length of the longest consecutive sequence path\n",
        "    def longestConsecutive3(self, root):\n",
        "        max_len, _, _, = self.helper(root)\n",
        "        return max_len\n",
        "    \n",
        "    def helper(self, root):\n",
        "        if root is None:\n",
        "            return 0, 0, 0\n",
        "\n",
        "        max_len, up, down = 0, 0, 0\n",
        "        for child in root.children:\n",
        "            result = self.helper(child)\n",
        "            max_len = max(max_len, result[0])\n",
        "            if child.val + 1 == root.val:\n",
        "                down = max(down, result[1] + 1)\n",
        "            if child.val - 1 == root.val:\n",
        "                up = max(up, result[2] + 1)\n",
        "\n",
        "        max_len = max(down + 1 + up, max_len)\n",
        "\n",
        "        return max_len, down, up"
      ],
      "execution_count": 0,
      "outputs": []
    },
    {
      "metadata": {
        "id": "oknG16xZzf-Z",
        "colab_type": "text"
      },
      "cell_type": "markdown",
      "source": [
        "### 155. Minimum Depth of Binary Tree\n",
        "Given a binary tree, find its minimum depth.\n",
        "\n",
        "The minimum depth is the number of nodes along the shortest path from the root node down to the nearest leaf node.\n",
        "```\n",
        "Example\n",
        "Given a binary tree as follow:\n",
        "\n",
        "  1\n",
        " / \\ \n",
        "2   3\n",
        "   / \\\n",
        "  4   5  \n",
        "The minimum depth is 2.\n",
        "```"
      ]
    },
    {
      "metadata": {
        "id": "7wXrzrmCtoKY",
        "colab_type": "code",
        "colab": {
          "base_uri": "https://localhost:8080/",
          "height": 35
        },
        "outputId": "a49000ca-55e1-4fda-ee38-11692dbfee3a"
      },
      "cell_type": "code",
      "source": [
        "\"\"\"\n",
        "Definition of TreeNode:\n",
        "class TreeNode:\n",
        "    def __init__(self, val):\n",
        "        self.val = val\n",
        "        self.left, self.right = None, None\n",
        "\"\"\"\n",
        "\n",
        "class Solution:\n",
        "    \"\"\"\n",
        "    @param root: The root of binary tree\n",
        "    @return: An integer\n",
        "    \"\"\"\n",
        "    def minDepth(self, root):\n",
        "        if root is None:\n",
        "            return 0 \n",
        "        from collections import deque\n",
        "        deck = deque()\n",
        "        deck.append(root)\n",
        "        depth = 1\n",
        "        while deck:\n",
        "            size = len(deck)\n",
        "            for i in range(size):\n",
        "                node = deck.popleft()\n",
        "                if node.left is None and node.right is None:\n",
        "                    return depth\n",
        "                if node.left:\n",
        "                    deck.append(node.left)\n",
        "                if node.right:\n",
        "                    deck.append(node.right)\n",
        "            depth += 1\n",
        "        \n",
        "        return depth\n",
        "    \n",
        "if __name__ == \"__main__\":\n",
        "    S = Solution()\n",
        "    print S.minDepth(s.deserialize(\"{1,-2,#,1,#,2}\"))"
      ],
      "execution_count": 17,
      "outputs": [
        {
          "output_type": "stream",
          "text": [
            "4\n"
          ],
          "name": "stdout"
        }
      ]
    },
    {
      "metadata": {
        "id": "Vx5itH4S4jdn",
        "colab_type": "text"
      },
      "cell_type": "markdown",
      "source": [
        "### 453. Flatten Binary Tree to Linked List\n",
        "Flatten a binary tree to a fake \"linked list\" in pre-order traversal.\n",
        "\n",
        "Here we use the right pointer in TreeNode as the next pointer in ListNode.\n",
        "```\n",
        "Example\n",
        "              1\n",
        "               \\\n",
        "     1          2\n",
        "    / \\          \\\n",
        "   2   5    =>    3\n",
        "  / \\   \\          \\\n",
        " 3   4   6          4\n",
        "                     \\\n",
        "                      5\n",
        "                       \\\n",
        "                        6\n",
        "Challenge\n",
        "Do it in-place without any extra memory.\n",
        "```"
      ]
    },
    {
      "metadata": {
        "id": "9k43qnwO5QWx",
        "colab_type": "code",
        "colab": {}
      },
      "cell_type": "code",
      "source": [
        "class Solution:\n",
        "    def flatten(self, root):\n",
        "        if root is None:\n",
        "            return None\n",
        "        flaten_left, flaten_right = None, None\n",
        "        if root.left:\n",
        "            flaten_left = self.flatten(root.left)\n",
        "        if root.right:\n",
        "            flaten_right = self.flatten(root.right)\n",
        "            \n",
        "        if flaten_left is None:\n",
        "            root.left = None\n",
        "            root.right = flaten_right\n",
        "            return root\n",
        "            \n",
        "        p = flaten_left\n",
        "        while p.right is not None:\n",
        "            p = p.right\n",
        "        p.right = flaten_right\n",
        "        root.left = None\n",
        "        root.right = flaten_left\n",
        "        return root"
      ],
      "execution_count": 0,
      "outputs": []
    },
    {
      "metadata": {
        "id": "BVbcBdewmdAj",
        "colab_type": "text"
      },
      "cell_type": "markdown",
      "source": [
        "### 474. Lowest Common Ancestor II\n",
        "Given the root and two nodes in a Binary Tree. Find the lowest common ancestor(LCA) of the two nodes.\n",
        "\n",
        "The lowest common ancestor is the node with largest depth which is the ancestor of both nodes.\n",
        "\n",
        "The node has an extra attribute parent which point to the father of itself. The root's parent is null.\n",
        "```\n",
        "Example\n",
        "For the following binary tree:\n",
        "\n",
        "  4\n",
        " / \\\n",
        "3   7\n",
        "   / \\\n",
        "  5   6\n",
        "LCA(3, 5) = 4\n",
        "\n",
        "LCA(5, 6) = 7\n",
        "\n",
        "LCA(6, 7) = 7\n",
        "```"
      ]
    },
    {
      "metadata": {
        "id": "JBB8qsIQmhyv",
        "colab_type": "code",
        "colab": {}
      },
      "cell_type": "code",
      "source": [
        "\"\"\"\n",
        "Definition of ParentTreeNode:\n",
        "class ParentTreeNode:\n",
        "    def __init__(self, val):\n",
        "        self.val = val\n",
        "        self.parent, self.left, self.right = None, None, None\n",
        "\"\"\"\n",
        "\n",
        "\n",
        "class Solution:\n",
        "    \"\"\"\n",
        "    @param: root: The root of the tree\n",
        "    @param: A: node in the tree\n",
        "    @param: B: node in the tree\n",
        "    @return: The lowest common ancestor of A and B\n",
        "    \"\"\"\n",
        "    def lowestCommonAncestorII(self, root, A, B):\n",
        "        countA, countB = 0, 0\n",
        "        pa, pb = A, B\n",
        "        \n",
        "        while pa != root:\n",
        "            pa = pa.parent\n",
        "            countA += 1\n",
        "        while pb != root:\n",
        "            pb = pb.parent\n",
        "            countB += 1\n",
        "        \n",
        "        pa, pb = A, B\n",
        "        if countA < countB:\n",
        "            countA, countB = countB, countA\n",
        "            pa, pb = pb, pa\n",
        "        \n",
        "        while countA > countB:\n",
        "            pa = pa.parent\n",
        "            countA -= 1\n",
        "        \n",
        "        while pa != pb:\n",
        "            pa = pa.parent \n",
        "            pb = pb.parent\n",
        "        \n",
        "        return pa\n"
      ],
      "execution_count": 0,
      "outputs": []
    },
    {
      "metadata": {
        "id": "NCTYb7YSlrl8",
        "colab_type": "text"
      },
      "cell_type": "markdown",
      "source": [
        "## Balanced Tree"
      ]
    },
    {
      "metadata": {
        "id": "grmoQ1A_4R3I",
        "colab_type": "text"
      },
      "cell_type": "markdown",
      "source": [
        "### 93. Valid Balanced Binary Tree\n",
        "Given a binary tree, determine if it is height-balanced.\n",
        "\n",
        "For this problem, a height-balanced binary tree is defined as a binary tree in which the depth of the two subtrees of every node never differ by more than 1.\n",
        "```\n",
        "Example\n",
        "Given binary tree A = {3,9,20,#,#,15,7}, B = {3,#,20,15,7}\n",
        "\n",
        "A)  3            B)    3 \n",
        "   / \\                  \\\n",
        "  9  20                 20\n",
        "    /  \\                / \\\n",
        "   15   7              15  7\n",
        "The binary tree A is a height-balanced binary tree, but B is not.\n",
        "```"
      ]
    },
    {
      "metadata": {
        "id": "ZzPTMB5P4c-W",
        "colab_type": "code",
        "colab": {}
      },
      "cell_type": "code",
      "source": [
        "\"\"\"\n",
        "Definition of TreeNode:\n",
        "class TreeNode:\n",
        "    def __init__(self, val):\n",
        "        self.val = val\n",
        "        self.left, self.right = None, None\n",
        "\"\"\"\n",
        "class ResultType:\n",
        "    def __init__(self, isBalanced, maxDepth):\n",
        "        self.isBalanced = isBalanced\n",
        "        self.maxDepth = maxDepth\n",
        "\n",
        "class Solution:\n",
        "    \"\"\"\n",
        "    @param root: The root of binary tree.\n",
        "    @return: True if this Binary tree is Balanced, or false.\n",
        "    \"\"\"\n",
        "\n",
        "    def isBalanced(self, root):\n",
        "        return self.validate(root).isBalanced\n",
        "\n",
        "    def validate(self, root):\n",
        "        if root is None:\n",
        "            return ResultType(True, 0)\n",
        "\n",
        "        left = self.validate(root.left)\n",
        "        right = self.validate(root.right)\n",
        "\n",
        "        # subtree not balance\n",
        "        if (not left.isBalanced) or (not right.isBalanced):\n",
        "            return ResultType(False, -1)\n",
        "\n",
        "        # root not balance\n",
        "        if abs(left.maxDepth - right.maxDepth) > 1:\n",
        "            return ResultType(False, -1)\n",
        "\n",
        "        return ResultType(True, max(left.maxDepth, right.maxDepth) + 1)"
      ],
      "execution_count": 0,
      "outputs": []
    },
    {
      "metadata": {
        "id": "UoTil3FPl4zH",
        "colab_type": "text"
      },
      "cell_type": "markdown",
      "source": [
        "## Binary Search Tree"
      ]
    },
    {
      "metadata": {
        "id": "EMXd8LXDBtXS",
        "colab_type": "text"
      },
      "cell_type": "markdown",
      "source": [
        "### 95. Validate Binary Search Tree\n",
        "Given a binary tree, determine if it is a valid binary search tree (BST).\n",
        "\n",
        "Assume a BST is defined as follows:\n",
        "\n",
        "The left subtree of a node contains only nodes with keys less than the node's key.\n",
        "The right subtree of a node contains only nodes with keys greater than the node's key.\n",
        "Both the left and right subtrees must also be binary search trees.\n",
        "A single node tree is a BST\n",
        "```\n",
        "Example\n",
        "An example:\n",
        "\n",
        "  2\n",
        " / \\\n",
        "1   4\n",
        "   / \\\n",
        "  3   5\n",
        "The above binary tree is serialized as {2,1,4,#,#,3,5} (in level order).\n",
        "```"
      ]
    },
    {
      "metadata": {
        "id": "FbCrmowiB23w",
        "colab_type": "code",
        "colab": {}
      },
      "cell_type": "code",
      "source": [
        "class Solution:\n",
        "    \"\"\"\n",
        "    @param root: The root of binary tree.\n",
        "    @return: True if the binary tree is BST, or false\n",
        "    \"\"\"  \n",
        "    def isValidBST(self, root):\n",
        "        self.lastVal = None\n",
        "        self.isBST = True\n",
        "        self.validate(root)\n",
        "        return self.isBST\n",
        "    def validate(self, root):\n",
        "        if root is None:\n",
        "            return \n",
        "        self.validate(root.left)\n",
        "        if self.lastVal is not None and self.lastVal >= root.val:\n",
        "            self.isBST = False\n",
        "            return \n",
        "        self.lastVal = root.val\n",
        "        self.validate(root.right)"
      ],
      "execution_count": 0,
      "outputs": []
    },
    {
      "metadata": {
        "id": "DaCsnqYU4kKL",
        "colab_type": "text"
      },
      "cell_type": "markdown",
      "source": [
        "### 900. Closest Binary Search Tree Value\n",
        "Given a non-empty binary search tree and a target value, find the value in the BST that is closest to the target.\n",
        "```\n",
        "Example\n",
        "Given root = {1}, target = 4.428571, return 1.\n",
        "```"
      ]
    },
    {
      "metadata": {
        "id": "UYSIyjW2l3jP",
        "colab_type": "code",
        "colab": {}
      },
      "cell_type": "code",
      "source": [
        "class Solution:\n",
        "    \"\"\"\n",
        "    @param root: the given BST\n",
        "    @param target: the given target\n",
        "    @return: the value in the BST that is closest to the target\n",
        "    \"\"\"\n",
        "\n",
        "    def closestValue(self, root, target):\n",
        "        if root is None:\n",
        "            return None\n",
        "        import sys\n",
        "        self.upper =  sys.maxsize \n",
        "        self.lower = -sys.maxsize\n",
        "\n",
        "        \n",
        "        def dfs_up(node):# minimal node larger than target\n",
        "            if node is None:\n",
        "                return\n",
        "            if target == node.val:\n",
        "                self.upper = node.val\n",
        "            elif target > node.val:\n",
        "                dfs_up(node.right)\n",
        "            else:# target < node.val\n",
        "#                print (\"upper debug: node.val \", node.val)\n",
        "                if node.val < self.upper:\n",
        "                    self.upper = node.val\n",
        "                dfs_up(node.left)\n",
        "        \n",
        "        def dfs_down(node):# max node smaller than target\n",
        "            if node is None:\n",
        "                return\n",
        "            if target == node.val:\n",
        "                self.lower = node.val\n",
        "                return\n",
        "            elif target > node.val:\n",
        "                if self.lower < node.val:\n",
        "                    self.lower = node.val\n",
        "                dfs_down(node.right)\n",
        "            else:# target < node.val\n",
        "                dfs_down(node.left)\n",
        "        \n",
        "        dfs_down(root)\n",
        "        dfs_up(root)\n",
        "        \n",
        "#        print (self.upper)\n",
        "#        print (self.lower)\n",
        "        \n",
        "        if target - self.lower > self.upper - target:\n",
        "            return self.upper\n",
        "        else:\n",
        "            return self.lower"
      ],
      "execution_count": 0,
      "outputs": []
    },
    {
      "metadata": {
        "id": "VIZWbGRmD-dQ",
        "colab_type": "text"
      },
      "cell_type": "markdown",
      "source": [
        "### 915. Inorder Predecessor in BST\n",
        "Given a binary search tree and a node in it, find the in-order predecessor of that node in the BST.\n",
        "```\n",
        "Example\n",
        "Given root = {2,1,3}, p = 1, return null.\n",
        "```\n",
        "Notes:\n",
        "* find the upper limit < p.val"
      ]
    },
    {
      "metadata": {
        "id": "iOgEjO7tEBip",
        "colab_type": "code",
        "colab": {
          "base_uri": "https://localhost:8080/",
          "height": 35
        },
        "outputId": "07dc243f-4a95-4d6d-82ef-89e8a91208a3"
      },
      "cell_type": "code",
      "source": [
        "\"\"\"\n",
        "Definition of TreeNode:\n",
        "class TreeNode:\n",
        "    def __init__(self, val):\n",
        "        self.val = val\n",
        "        self.left, self.right = None, None\n",
        "\"\"\"\n",
        "\n",
        "class Solution:\n",
        "    \"\"\"\n",
        "    @param root: the given BST\n",
        "    @param p: the given node\n",
        "    @return: the in-order successor of the given node in the BST\n",
        "    \"\"\"\n",
        "    def inorderPredecessor(self, root, p): # find the upper limit < p.val\n",
        "        predecessor = None\n",
        "        while root:\n",
        "            if root.val >= p.val:\n",
        "                root = root.left\n",
        "            else:\n",
        "                predecessor = root\n",
        "                root = root.right\n",
        "        return predecessor\n",
        "    \n",
        "\n",
        "if __name__ == \"__main__\":\n",
        "    root = s.deserialize(\"{2,1,3}\")\n",
        "    S = Solution()\n",
        "    print S.inorderPredecessor(root, TreeNode(1))"
      ],
      "execution_count": 18,
      "outputs": [
        {
          "output_type": "stream",
          "text": [
            "None\n"
          ],
          "name": "stdout"
        }
      ]
    },
    {
      "metadata": {
        "id": "dT24iq5cJWS4",
        "colab_type": "text"
      },
      "cell_type": "markdown",
      "source": [
        "### 448. Inorder Successor in BST\n",
        "Given a binary search tree (See Definition) and a node in it, find the in-order successor of that node in the BST.\n",
        "\n",
        "If the given node has no in-order successor in the tree, return null.\n",
        "```\n",
        "Example\n",
        "Given tree = [2,1] and node = 1:\n",
        "\n",
        "  2\n",
        " /\n",
        "1\n",
        "return node 2.\n",
        "\n",
        "Given tree = [2,1,3] and node = 2:\n",
        "\n",
        "  2\n",
        " / \\\n",
        "1   3\n",
        "return node 3.\n",
        "\n",
        "Challenge\n",
        "O(h), where h is the height of the BST.\n",
        "```\n",
        "\n",
        "Notes:\n",
        "*   find the lower limit > p.val "
      ]
    },
    {
      "metadata": {
        "id": "dWZwFQ48EBwz",
        "colab_type": "code",
        "colab": {
          "base_uri": "https://localhost:8080/",
          "height": 35
        },
        "outputId": "b820e33b-cc52-4d7d-b2f6-8d0baa1cdff6"
      },
      "cell_type": "code",
      "source": [
        "class Solution:\n",
        "    \"\"\"\n",
        "    @param root: the given BST\n",
        "    @param p: the given node\n",
        "    @return: the in-order successor of the given node in the BST\n",
        "    \"\"\"\n",
        "    def inorderSuccessor(self, root, p): # find the lower limit > p.val \n",
        "        successor = None\n",
        "        while root:\n",
        "            if root.val <= p.val:\n",
        "                root = root.right\n",
        "            else:\n",
        "                successor = root\n",
        "                root = root.left\n",
        "        return successor\n",
        "    \n",
        "    \n",
        "if __name__ == \"__main__\":\n",
        "    root = s.deserialize(\"{2,1,3}\")\n",
        "    S = Solution()\n",
        "    print S.inorderSuccessor(root, TreeNode(1)).val"
      ],
      "execution_count": 20,
      "outputs": [
        {
          "output_type": "stream",
          "text": [
            "2\n"
          ],
          "name": "stdout"
        }
      ]
    },
    {
      "metadata": {
        "id": "4CYD6y8Sz1R-",
        "colab_type": "text"
      },
      "cell_type": "markdown",
      "source": [
        "# Combination DFS"
      ]
    },
    {
      "metadata": {
        "id": "J0aJHO6n972w",
        "colab_type": "text"
      },
      "cell_type": "markdown",
      "source": [
        "### 2 Sum"
      ]
    },
    {
      "metadata": {
        "id": "5ORkb6ET991N",
        "colab_type": "text"
      },
      "cell_type": "markdown",
      "source": [
        "### 3 Sum"
      ]
    },
    {
      "metadata": {
        "id": "--qGSD3Z9_dW",
        "colab_type": "text"
      },
      "cell_type": "markdown",
      "source": [
        "### 58. 4Sum\n",
        "Given an array S of n integers, are there elements a, b, c, and d in S such that a + b + c + d = target?\n",
        "\n",
        "Find all unique quadruplets in the array which gives the sum of target.\n",
        "```\n",
        "Example\n",
        "Given array S = {1 0 -1 0 -2 2}, and target = 0. A solution set is:\n",
        "\n",
        "(-1, 0, 0, 1)\n",
        "(-2, -1, 1, 2)\n",
        "(-2, 0, 0, 2)\n",
        "```\n",
        "\n"
      ]
    },
    {
      "metadata": {
        "id": "EzS4dgX5fUjR",
        "colab_type": "code",
        "colab": {
          "base_uri": "https://localhost:8080/",
          "height": 204
        },
        "outputId": "c08d08c6-b9ac-4047-c7c2-4d4efd825c80"
      },
      "cell_type": "code",
      "source": [
        "class Solution:\n",
        "    \"\"\"\n",
        "    @param numbers: Give an array\n",
        "    @param target: An integer\n",
        "    @return: Find all unique quadruplets in the array which gives the sum of zero\n",
        "    \"\"\"\n",
        "    def fourSum1(self, S, target):\n",
        "        S.sort()\n",
        "        res = []\n",
        "\n",
        "        def dfs(tmp, index):\n",
        "            if len(tmp) == 4:\n",
        "                if sum(tmp) == target:\n",
        "                    res.append(tuple(tmp))\n",
        "                return\n",
        "            for i in range(index, len(S)):\n",
        "                if i == index or S[i-1] != S[i]:\n",
        "                    dfs(tmp + [S[i]], i+1)\n",
        "\n",
        "        dfs([], 0)\n",
        "        return res\n",
        "\n",
        "    def fourSum2(self, S, target):\n",
        "        S.sort()\n",
        "        res = []\n",
        "\n",
        "        def dfs(tmp, index):\n",
        "            if len(tmp) == 4:\n",
        "                if sum(tmp) == target:\n",
        "                    res.append(tuple(tmp))\n",
        "                return\n",
        "            for i in range(index, len(S)):\n",
        "                if i != index and S[i-1] == S[i]:\n",
        "                    continue\n",
        "                dfs(tmp + [S[i]], i+1)\n",
        "\n",
        "        dfs([], 0)\n",
        "        return res\n",
        "\n",
        "    def fourSum3(self, nums, target):\n",
        "        nums.sort()\n",
        "        res = []\n",
        "        length = len(nums)\n",
        "        for i in range(0, length - 3):\n",
        "            if i and nums[i] == nums[i - 1]:\n",
        "                continue\n",
        "            for j in range(i + 1, length - 2):\n",
        "                if j != i + 1 and nums[j] == nums[j - 1]:\n",
        "                    continue\n",
        "                sum = target - nums[i] - nums[j]\n",
        "                left, right = j + 1, length - 1\n",
        "                while left < right:\n",
        "                    if nums[left] + nums[right] == sum:\n",
        "                        res.append([nums[i], nums[j], nums[left], nums[right]])\n",
        "                        right -= 1\n",
        "                        left += 1\n",
        "                        while left < right and nums[left] == nums[left - 1]:\n",
        "                            left += 1\n",
        "                        while left < right and nums[right] == nums[right + 1]:\n",
        "                            right -= 1\n",
        "                    elif nums[left] + nums[right] > sum:\n",
        "                        right -= 1\n",
        "                    else:\n",
        "                        left += 1\n",
        "        return res\n",
        "\n",
        "if __name__ ==\"__main__\":\n",
        "    S = [1, 0, -1, 0, -2, 2]\n",
        "    target = 0\n",
        "    print Solution().fourSum2(S, target)\n",
        "    from timeit import timeit\n",
        "    count = 0\n",
        "    for i in range(10):\n",
        "        a = timeit(\"Solution().fourSum1(S, target)\",\n",
        "                 setup=\"from __main__ import Solution, S, target\", number=1000)\n",
        "        b = timeit(\"Solution().fourSum2(S, target)\",\n",
        "                 setup=\"from __main__ import Solution, S, target\", number=1000)\n",
        "        c = timeit(\"Solution().fourSum3(S, target)\",\n",
        "                 setup=\"from __main__ import Solution, S, target\", number=1000)\n",
        "\n",
        "        print a, b, c\n"
      ],
      "execution_count": 6,
      "outputs": [
        {
          "output_type": "stream",
          "text": [
            "[(-2, -1, 1, 2), (-2, 0, 0, 2), (-1, 0, 0, 1)]\n",
            "0.0273218154907 0.0249488353729 0.00396585464478\n",
            "0.0258979797363 0.0294389724731 0.0040020942688\n",
            "0.0289449691772 0.0254769325256 0.00798201560974\n",
            "0.0306088924408 0.024829864502 0.0039529800415\n",
            "0.0260570049286 0.0245079994202 0.00416207313538\n",
            "0.0265250205994 0.0245368480682 0.00411200523376\n",
            "0.0262768268585 0.0248889923096 0.00402116775513\n",
            "0.025691986084 0.0279319286346 0.00403809547424\n",
            "0.0249879360199 0.0245649814606 0.00402903556824\n",
            "0.025642156601 0.0250790119171 0.00409603118896\n"
          ],
          "name": "stdout"
        }
      ]
    },
    {
      "metadata": {
        "id": "IhWfnO4Dz1Kn",
        "colab_type": "text"
      },
      "cell_type": "markdown",
      "source": [
        "# Permutation DFS"
      ]
    },
    {
      "metadata": {
        "id": "nJFFaBUA3owm",
        "colab_type": "text"
      },
      "cell_type": "markdown",
      "source": [
        "### 829. Word Pattern II\n",
        "Given a pattern and a string str, find if str follows the same pattern.\n",
        "\n",
        "Here follow means a full match, such that there is a bijection between a letter in pattern and a non-empty substring in str.(i.e if a corresponds to s, then b cannot correspond to s. For example, given pattern = \"ab\", str = \"ss\", return false.)\n",
        "```\n",
        "Example\n",
        "Given pattern = \"abab\", str = \"redblueredblue\", return true.\n",
        "Given pattern = \"aaaa\", str = \"asdasdasdasd\", return true.\n",
        "Given pattern = \"aabb\", str = \"xyzabcxzyabc\", return false.\n",
        "```"
      ]
    },
    {
      "metadata": {
        "id": "3xvsTD-P5fK5",
        "colab_type": "code",
        "colab": {}
      },
      "cell_type": "code",
      "source": [
        "class Solution:\n",
        "    \"\"\"\n",
        "    @param pattern: a string,denote pattern string\n",
        "    @param str: a string, denote matching string\n",
        "    @return: a boolean\n",
        "    \"\"\"\n",
        "    def wordPatternMatch(self, pattern, str):\n",
        "        ptn_dic = {}\n",
        "      \n",
        "        def dfs_is_matched(ptn, s):\n",
        "#            print ptn, s, ptn_dic\n",
        "            if len(ptn) == 0:\n",
        "                return len(s) == 0\n",
        "            \n",
        "            c = ptn[0] \n",
        "            if c in ptn_dic:\n",
        "                if not s.startswith(ptn_dic[c]):\n",
        "                    return False # existing pattern not matching\n",
        "                \n",
        "                l_of_ptn = len(ptn_dic[c])\n",
        "                return dfs_is_matched(ptn[1:], s[l_of_ptn:])\n",
        "            \n",
        "            for i in range(len(s)): \n",
        "                word = s[0:i+1]\n",
        "                if word in ptn_dic.values():\n",
        "                    continue\n",
        "                \n",
        "                ptn_dic[c] = word\n",
        "                if dfs_is_matched(ptn[1:], s[i+1:]):\n",
        "                    return True\n",
        "                ptn_dic.pop(c)\n",
        "            \n",
        "            return False\n",
        "        \n",
        "        return dfs_is_matched(pattern, str)"
      ],
      "execution_count": 0,
      "outputs": []
    },
    {
      "metadata": {
        "id": "frBf69gO3oXR",
        "colab_type": "text"
      },
      "cell_type": "markdown",
      "source": [
        "### 132. Word Search II\n",
        "Given a matrix of lower alphabets and a dictionary. Find all words in the dictionary that can be found in the matrix. A word can start from any position in the matrix and go left/right/up/down to the adjacent position. One character only be used once in one word.\n",
        "```\n",
        "Example\n",
        "Given matrix:\n",
        "\n",
        "doaf\n",
        "agai\n",
        "dcan\n",
        "and dictionary:\n",
        "\n",
        "{\"dog\", \"dad\", \"dgdg\", \"can\", \"again\"}\n",
        "\n",
        "return {\"dog\", \"dad\", \"can\", \"again\"}\n",
        "\n",
        "\n",
        "dog:\n",
        "doaf\n",
        "agai\n",
        "dcan\n",
        "dad:\n",
        "\n",
        "doaf\n",
        "agai\n",
        "dcan\n",
        "can:\n",
        "\n",
        "doaf\n",
        "agai\n",
        "dcan\n",
        "again:\n",
        "\n",
        "doaf\n",
        "agai\n",
        "dcan\n",
        "Challenge\n",
        "Using trie to implement your algorithm.\n",
        "```"
      ]
    },
    {
      "metadata": {
        "id": "KiFC4D4c5jQL",
        "colab_type": "code",
        "colab": {
          "base_uri": "https://localhost:8080/",
          "height": 34
        },
        "outputId": "dd546870-f68c-401a-dbb0-c6ebf70fecf8"
      },
      "cell_type": "code",
      "source": [
        "class Solution:\n",
        "    \"\"\"\n",
        "    @param: board: A list of lists of character\n",
        "    @param: word: A string\n",
        "    @return: A boolean\n",
        "    \"\"\"\n",
        "    def exist(self, board, word):\n",
        "        if len(word) == 0:\n",
        "            return True\n",
        "        m, n = len(board), len(board[0])\n",
        "        if m == 0 or n == 0:\n",
        "            return False\n",
        "        # Visited Matrix\n",
        "        visited = [[False for j in range(n)] for i in range(m)]\n",
        "        # DFS\n",
        "        for i in range(m):\n",
        "            for j in range(n):\n",
        "                if self.dfs(board, word, visited, i, j):\n",
        "                    return True\n",
        "        return False\n",
        "\n",
        "\n",
        "    def dfs(self, board, word, visited, row, col):\n",
        "        if word == '':\n",
        "            return True\n",
        "        m, n = len(board), len(board[0])\n",
        "        if row < 0 or row >= m or col < 0 or col >= n:\n",
        "            return False\n",
        "        if board[row][col] == word[0] and not visited[row][col]:\n",
        "            visited[row][col] = True\n",
        "            # row -+ 1, col -+ 1\n",
        "            if self.dfs(board, word[1:], visited, row - 1, col) \\\n",
        "            or self.dfs(board, word[1:], visited, row, col - 1) \\\n",
        "            or self.dfs(board, word[1:], visited, row + 1, col) \\\n",
        "            or self.dfs(board, word[1:], visited, row, col + 1):\n",
        "                return True\n",
        "            else:\n",
        "                visited[row][col] = False\n",
        "\n",
        "\n",
        "    def wordSearchII(self, board, words):\n",
        "        ans = []\n",
        "        for word in words:\n",
        "            if self.exist(board, word):\n",
        "                ans.append(word)\n",
        "        return ans\n",
        "\n",
        "if __name__ == \"__main__\":\n",
        "    test_case = [\"doaf\",\"agai\",\"dcan\"]\n",
        "    words = [\"dog\", \"dad\", \"dgdg\", \"can\", \"again\"]\n",
        "    #print(Solution().exist(test_case, 'SEE'))\n",
        "    print(Solution().wordSearchII(test_case, words))"
      ],
      "execution_count": 81,
      "outputs": [
        {
          "output_type": "stream",
          "text": [
            "['dog', 'dad', 'can', 'again']\n"
          ],
          "name": "stdout"
        }
      ]
    },
    {
      "metadata": {
        "id": "GqkBRrhL3oJx",
        "colab_type": "text"
      },
      "cell_type": "markdown",
      "source": [
        "### 121. Word Ladder II\n",
        "Given two words (start and end), and a dictionary, find all shortest transformation sequence(s) from start to end, such that:\n",
        "\n",
        "Only one letter can be changed at a time\n",
        "Each intermediate word must exist in the dictionary\n",
        "```\n",
        "Example\n",
        "Given:\n",
        "start = \"hit\"\n",
        "end = \"cog\"\n",
        "dict = [\"hot\",\"dot\",\"dog\",\"lot\",\"log\"]\n",
        "Return\n",
        "  [\n",
        "    [\"hit\",\"hot\",\"dot\",\"dog\",\"cog\"],\n",
        "    [\"hit\",\"hot\",\"lot\",\"log\",\"cog\"]\n",
        "  ]\n",
        "  ```"
      ]
    },
    {
      "metadata": {
        "id": "a9eBLTdL5YiU",
        "colab_type": "code",
        "colab": {
          "base_uri": "https://localhost:8080/",
          "height": 37
        },
        "outputId": "0132e8d2-7ea8-40a6-e42e-0355ceae0637"
      },
      "cell_type": "code",
      "source": [
        "class Solution(object):\n",
        "    # param start, a string\n",
        "    # param end, a string\n",
        "    # param dict, a set of string\n",
        "    # return a list of lists of string\n",
        "    def findLadders(self, start, end, dict):\n",
        "        # Write your code here\n",
        "        dict.add(start)\n",
        "        dict.add(end)\n",
        "\n",
        "        def buildPath(path,word):\n",
        "            if len(preMap[word]) == 0:\n",
        "                result.append([word] + path)\n",
        "                return\n",
        "            path.insert(0,word)\n",
        "            for w in preMap[word]:\n",
        "                buildPath(path,w)\n",
        "            path.pop(0)\n",
        "\n",
        "        length = len(start)\n",
        "        preMap = {}\n",
        "        for word in dict:\n",
        "            preMap[word] = []\n",
        "        result = []\n",
        "        cur_level = set()\n",
        "        cur_level.add(start)\n",
        "\n",
        "        while True:\n",
        "            pre_level = cur_level\n",
        "            cur_level = set()\n",
        "            for word in pre_level:\n",
        "                dict.remove(word)\n",
        "            for word in pre_level:\n",
        "                for i in range(length):\n",
        "                    left = word[:i]\n",
        "                    right = word[i+1:]\n",
        "                    for c in 'abcdefghijklmnopqrstuvwxyz':\n",
        "                        if c != word[i]:\n",
        "                            nextWord = left + c + right\n",
        "                            if nextWord in dict:\n",
        "                                preMap[nextWord].append(word)\n",
        "                                cur_level.add(nextWord)\n",
        "            if len(cur_level) == 0:\n",
        "                return []\n",
        "            if end in cur_level:\n",
        "                break\n",
        "        buildPath([],end)\n",
        "        return result"
      ],
      "execution_count": 83,
      "outputs": []
    },
    {
      "metadata": {
        "id": "XEpyX1Ia3n96",
        "colab_type": "text"
      },
      "cell_type": "markdown",
      "source": [
        "### 582. Word Break II\n",
        "Given a string s and a dictionary of words dict, add spaces in s to construct a sentence where each word is a valid dictionary word.\n",
        "\n",
        "Return all such possible sentences.\n",
        "```\n",
        "Example\n",
        "Gieve s = lintcode,\n",
        "dict = [\"de\", \"ding\", \"co\", \"code\", \"lint\"].\n",
        "\n",
        "A solution is [\"lint code\", \"lint co de\"].\n",
        "```"
      ]
    },
    {
      "metadata": {
        "id": "z9FrIiTE5QGJ",
        "colab_type": "code",
        "colab": {}
      },
      "cell_type": "code",
      "source": [
        "class Solution:\n",
        "    \"\"\"\n",
        "    @param: s: A string\n",
        "    @param: wordDict: A set of words.\n",
        "    @return: All possible sentences.\n",
        "    \"\"\"\n",
        "    def wordBreak(self, S, wordDict):\n",
        "\n",
        "        s1 = set(S)\n",
        "        s2 = set(''.join(wordDict))\n",
        "        \n",
        "        if not s2.issuperset(s1):\n",
        "            return []\n",
        "        \n",
        "        \n",
        "        res = []\n",
        "        \n",
        "        def dfs(tmp, start_index):\n",
        "            #print tmp, start_index, len(tmp_dic)\n",
        "            if start_index == len(S):\n",
        "                res.append(' '.join(tmp))\n",
        "            \n",
        "            for i in range(start_index, len(S)+1):\n",
        "                if start_index != i and S[start_index:i] in wordDict:\n",
        "                    #print tmp_dic - set(S[start_index:i])\n",
        "                    dfs(tmp + [S[start_index:i]], i)\n",
        "                    \n",
        "        \n",
        "        dfs([], 0)\n",
        "        return res"
      ],
      "execution_count": 0,
      "outputs": []
    },
    {
      "metadata": {
        "id": "AGZO2YVBzgXx",
        "colab_type": "text"
      },
      "cell_type": "markdown",
      "source": [
        "# Graph\n",
        "\n"
      ]
    },
    {
      "metadata": {
        "id": "bDDISq3A0iS2",
        "colab_type": "text"
      },
      "cell_type": "markdown",
      "source": [
        "# Stack, Queue, Hash, Heap"
      ]
    },
    {
      "metadata": {
        "id": "C4DiAsRuVo9k",
        "colab_type": "text"
      },
      "cell_type": "markdown",
      "source": [
        "### 465. Kth Smallest Sum In Two Sorted Arrays\n",
        "Given two integer arrays sorted in ascending order and an integer k. Define sum = a + b, where a is an element from the first array and b is an element from the second one. Find the kth smallest sum out of all possible sums.\n",
        "```\n",
        "Example\n",
        "Given [1, 7, 11] and [2, 4, 6].\n",
        "\n",
        "For k = 3, return 7.\n",
        "\n",
        "For k = 4, return 9.\n",
        "\n",
        "For k = 8, return 15.\n",
        "\n",
        "Challenge\n",
        "Do it in either of the following time complexity:\n",
        "\n",
        "O(k log min(n, m, k)). where n is the size of A, and m is the size of B.\n",
        "O( (m + n) log maxValue). where maxValue is the max number in A and B. \n",
        "```"
      ]
    },
    {
      "metadata": {
        "id": "6yFP3xX1WFtg",
        "colab_type": "code",
        "colab": {
          "base_uri": "https://localhost:8080/",
          "height": 35
        },
        "outputId": "6f70715b-3d63-45b6-8528-a1c5ac04f46a"
      },
      "cell_type": "code",
      "source": [
        "class Solution:\n",
        "    #param {int[]} A an integer arrays sorted in ascending order\n",
        "    #param {int[]} B an integer arrays sorted in ascending order\n",
        "    #param {int} k an integer\n",
        "    #return {int} an integer\n",
        "    def kthSmallestSum(self, A, B, k):\n",
        "        # Write your code here\n",
        "        if not A or not B:\n",
        "            return 0\n",
        "        from heapq import heappush, heappop\n",
        "        m, n = len(A), len(B)\n",
        "\n",
        "        heap = []\n",
        "        for i in range(min(k, n)):\n",
        "            heappush(heap, (A[0] + B[i], 0, i))\n",
        "        while k > 1:\n",
        "            min_element = heappop(heap)\n",
        "            x, y = min_element[1], min_element[2]\n",
        "            if x + 1 < m:\n",
        "                heappush(heap, (A[x + 1] + B[y], x + 1, y))\n",
        "            k -= 1\n",
        "        return heappop(heap)[0]\n",
        "\n",
        "if __name__ == \"__main__\":\n",
        "    print Solution().kthSmallestSum([11,12,13],[4,5,6], 5)"
      ],
      "execution_count": 1,
      "outputs": [
        {
          "output_type": "stream",
          "text": [
            "17\n"
          ],
          "name": "stdout"
        }
      ]
    },
    {
      "metadata": {
        "id": "Uddtl-vMhxaD",
        "colab_type": "text"
      },
      "cell_type": "markdown",
      "source": [
        "### 543. Kth Largest in N Arrays\n",
        "Find K-th largest element in N arrays.\n",
        "```\n",
        "Example\n",
        "In n=2 arrays [[9,3,2,4,7],[1,2,3,4,8]], the 3rd largest element is 7.\n",
        "\n",
        "In n=2 arrays [[9,3,2,4,8],[1,2,3,4,2]], the 1st largest element is 9, 2nd largest element is 8, 3rd largest element is 7 and etc.\n",
        "\n",
        "```"
      ]
    },
    {
      "metadata": {
        "id": "p13rLvp7h3Uy",
        "colab_type": "code",
        "colab": {
          "base_uri": "https://localhost:8080/",
          "height": 35
        },
        "outputId": "2e130689-8b6d-4b64-d415-1ec47f0c7361"
      },
      "cell_type": "code",
      "source": [
        "class Solution:\n",
        "    \"\"\"\n",
        "    @param arrays: a list of array\n",
        "    @param k: An integer\n",
        "    @return: an integer, K-th largest element in N arrays\n",
        "    \"\"\"\n",
        "    def KthInArrays(self, arrays, k):\n",
        "        from heapq import heappop, heappush\n",
        "        # init\n",
        "        m = len(arrays)\n",
        "        heap = []\n",
        "        for i in range(m):\n",
        "            if arrays[i]:\n",
        "                arrays[i].sort(reverse=True)\n",
        "                heappush(heap, (-arrays[i][0], i, 0))\n",
        "        while k > 1:\n",
        "            max_element = heappop(heap)\n",
        "            x, y = max_element[1], max_element[2]\n",
        "            if y+1 < len(arrays[x]):\n",
        "                heappush(heap, (-arrays[x][y+1], x, y+1))\n",
        "            k -= 1\n",
        "        return - heappop(heap)[0]\n",
        "\n",
        "if __name__ == \"__main__\":\n",
        "    arrays = [[9,3,2,4,7],[1,2,3,4,8]]\n",
        "    print Solution().KthInArrays(arrays, 3)"
      ],
      "execution_count": 2,
      "outputs": [
        {
          "output_type": "stream",
          "text": [
            "7\n"
          ],
          "name": "stdout"
        }
      ]
    },
    {
      "metadata": {
        "id": "lexRlk5b0lTa",
        "colab_type": "text"
      },
      "cell_type": "markdown",
      "source": [
        "# Interval, Array, Martrix, Binary Indexed Tree"
      ]
    },
    {
      "metadata": {
        "id": "7GofdNHzzJ85",
        "colab_type": "text"
      },
      "cell_type": "markdown",
      "source": [
        "# Dynamic Programming"
      ]
    },
    {
      "metadata": {
        "id": "krmlDe01oDwX",
        "colab_type": "text"
      },
      "cell_type": "markdown",
      "source": [
        "## 综述\n",
        "**什么情况下使用动态规划？**\n",
        "\n",
        "\n",
        "\n",
        ">满足下面三个条件之一，极有可能使用动态规划 90% - 95%：\n",
        "\t1. 求最大值，最小值\n",
        "\t2. 判断是否可行\n",
        "\t3. 统计方案个数\n",
        "极不可能使用动态规划的情况：\n",
        "\t1. 求出所有具体的方案而非方案的个数\n",
        "\t2. 输入数据是一个集合而不是序列\n",
        "\t3. 暴力的算法已经是多项式级别\n",
        "\n",
        ">总结：最大值最小值/是否可行/方案总数\n",
        "求所有方案/集合而不是序列/指数级到多项式\n",
        "\n",
        "\n",
        "**动态规划的 4 点要素**\n",
        "1. 状态 State\n",
        "\t灵感，创造⼒，存储小规模问题的结果\n",
        "\t\t○ 最优解 / Maximum / Minimum\n",
        "\t\t○ Yes / No\n",
        "\t\t○ Count(*)\n",
        "2. 状态转移方程 Function\n",
        "\t状态之间的联系，怎么通过⼩的状态，来求得⼤的状态\n",
        "3. 初始化 Intialization\n",
        "\t最极限的小状态是什么，起点\n",
        "4. 答案 Answer\n",
        "\t最⼤的那个状态是什么，终点\n",
        "  \n",
        "  \n",
        "  \n",
        "  \n",
        " **面试常见的动态规划类别及状态特点**\n",
        ">坐标型\n",
        "\n",
        ">接龙型 (单序列,双序列)\n",
        "\n",
        ">划分型\n",
        "\n",
        ">背包型 (背包九讲)\n",
        "\n",
        ">博弈型\n",
        "\n",
        "**两招独孤九剑**\n",
        ">二维DP需要初始化第0行和第0列\n",
        "\n",
        ">n个字符的字符串要开n+1个位置的数组\n"
      ]
    },
    {
      "metadata": {
        "id": "Ui-_FBhCt56j",
        "colab_type": "text"
      },
      "cell_type": "markdown",
      "source": [
        "## 坐标型动态规划\n",
        "\n",
        "\t1. state:\n",
        "\t\t○ f[x] 表示我从起点走到坐标x……\n",
        "\t\t○ f[x][y] 表示我从起点走到坐标x,y……\n",
        "\t2. function: 研究走到x,y这个点之前的一步\n",
        "\t3. initialize: 起点\n",
        "\t4. answer: 终点\n",
        "\n",
        "\n"
      ]
    },
    {
      "metadata": {
        "id": "JF1PH6BYyFqc",
        "colab_type": "text"
      },
      "cell_type": "markdown",
      "source": [
        "### Unique Path I, II"
      ]
    },
    {
      "metadata": {
        "id": "rCshAYNFyNWn",
        "colab_type": "text"
      },
      "cell_type": "markdown",
      "source": [
        "A robot is located at the top-left corner of a m x n grid.\n",
        "\n",
        "The robot can only move either down or right at any point in time. The robot is trying to reach the bottom-right corner of the grid.\n",
        "\n",
        "How many possible unique paths are there?\n",
        "\n",
        "\n",
        "Given m = 3 and n = 3, return 6.\n",
        "Given m = 4 and n = 5, return 35."
      ]
    },
    {
      "metadata": {
        "id": "fC488BXGyQx-",
        "colab_type": "code",
        "colab": {}
      },
      "cell_type": "code",
      "source": [
        "class Solution:\n",
        "    \"\"\"\n",
        "    @param m: positive integer (1 <= m <= 100)\n",
        "    @param n: positive integer (1 <= n <= 100)\n",
        "    @return: An integer\n",
        "    \"\"\"\n",
        "    def uniquePaths(self, m, n):\n",
        "        dp = [[1 for _ in range(n)] for __ in range(m)]\n",
        "        for x in range(1, m):\n",
        "            for y in range(1, n):\n",
        "                dp[x][y] = dp[x-1][y] + dp[x][y-1]\n",
        "        return dp[m-1][n-1]"
      ],
      "execution_count": 0,
      "outputs": []
    },
    {
      "metadata": {
        "id": "CM7zBsciya5u",
        "colab_type": "code",
        "colab": {
          "base_uri": "https://localhost:8080/",
          "height": 34
        },
        "outputId": "43bb612a-d0c8-4850-c3ee-627955598377"
      },
      "cell_type": "code",
      "source": [
        "sample = [3,3]\n",
        "s = Solution()\n",
        "s.uniquePaths(sample[0], sample[1])"
      ],
      "execution_count": 0,
      "outputs": [
        {
          "output_type": "execute_result",
          "data": {
            "text/plain": [
              "6"
            ]
          },
          "metadata": {
            "tags": []
          },
          "execution_count": 5
        }
      ]
    },
    {
      "metadata": {
        "id": "5Av7z5CAy0DB",
        "colab_type": "text"
      },
      "cell_type": "markdown",
      "source": [
        "Follow up for \"Unique Paths\":\n",
        "\n",
        "Now consider if some obstacles are added to the grids. How many unique paths would there be?\n",
        "\n",
        "An obstacle and empty space is marked as 1 and 0 respectively in the grid.\n",
        "\n",
        "For example,\n",
        "There is one obstacle in the middle of a 3x3 grid as illustrated below.\n",
        "\n",
        "[\n",
        "  [0,0,0],\n",
        "  [0,1,0],\n",
        "  [0,0,0]\n",
        "]"
      ]
    },
    {
      "metadata": {
        "id": "FJZ9OICay_N2",
        "colab_type": "code",
        "colab": {}
      },
      "cell_type": "code",
      "source": [
        "class Solution:\n",
        "    \"\"\"\n",
        "    @param obstacleGrid: A list of lists of integers\n",
        "    @return: An integer\n",
        "    \"\"\"\n",
        "    def uniquePathsWithObstacles(self, obstacleGrid):\n",
        "        if len(obstacleGrid) == 0 or len(obstacleGrid[0]) == 0:\n",
        "            return 0\n",
        "        m, n = len(obstacleGrid), len(obstacleGrid[0])\n",
        "        dp = [[0 for _ in range(n)] for __ in range(m)]\n",
        "        # dp[x][y] stands for pos x, y unique path numbers, 0 indexed\n",
        "        # init dp[x][0] = 1 and dp[0][y] = 1\n",
        "\n",
        "        for i in range(m):\n",
        "            if obstacleGrid[i][0] == 0:\n",
        "                dp[i][0] = 1\n",
        "                continue\n",
        "            break\n",
        "        for j in range(n):\n",
        "            if obstacleGrid[0][j] == 0:\n",
        "                dp[0][j] = 1\n",
        "                continue\n",
        "            break\n",
        "\n",
        "        for x in range(1, m):\n",
        "            for y in range(1, n):\n",
        "                dp[x][y] = dp[x-1][y] + dp[x][y-1] if obstacleGrid[x][y] == 0 else 0\n",
        "\n",
        "#        print dp\n",
        "        return dp[m-1][n-1]"
      ],
      "execution_count": 0,
      "outputs": []
    },
    {
      "metadata": {
        "id": "PU1LhBwmyyQN",
        "colab_type": "code",
        "colab": {
          "base_uri": "https://localhost:8080/",
          "height": 34
        },
        "outputId": "9b961a42-5391-43d3-81cb-726b0abf5106"
      },
      "cell_type": "code",
      "source": [
        "sample = [ [0,0,0], [0,1,0], [0,0,0] ]\n",
        "s = Solution()\n",
        "s.uniquePathsWithObstacles(sample)"
      ],
      "execution_count": 0,
      "outputs": [
        {
          "output_type": "execute_result",
          "data": {
            "text/plain": [
              "2"
            ]
          },
          "metadata": {
            "tags": []
          },
          "execution_count": 9
        }
      ]
    },
    {
      "metadata": {
        "id": "8-veu44AzpHb",
        "colab_type": "text"
      },
      "cell_type": "markdown",
      "source": [
        "### Climbing Stairs I, II"
      ]
    },
    {
      "metadata": {
        "id": "bJtPTbFLzwcC",
        "colab_type": "text"
      },
      "cell_type": "markdown",
      "source": [
        "You are climbing a stair case. It takes n steps to reach to the top.\n",
        "\n",
        "Each time you can either climb 1 or 2 steps. In how many distinct ways can you climb to the top?\n",
        "\n",
        "Have you met this question in a real interview?  \n",
        "Example\n",
        "Given an example n=3 , 1+1+1=2+1=1+2=3\n",
        "\n",
        "return 3"
      ]
    },
    {
      "metadata": {
        "id": "s_lphjxmzn3O",
        "colab_type": "code",
        "colab": {}
      },
      "cell_type": "code",
      "source": [
        "class Solution:\n",
        "    \"\"\"\n",
        "    @param n: An integer\n",
        "    @return: An integer\n",
        "    \"\"\"\n",
        "    def climbStairs(self, n):\n",
        "        if n == 0:\n",
        "            return 0\n",
        "        dp = [1 for _ in range(n+1)] \n",
        "        # init dp[1], dp[2] 1 index based \n",
        "        \n",
        "        for i in range(2,n+1):\n",
        "            dp[i] = dp[i-1] + dp[i-2]\n",
        "        return dp[n]"
      ],
      "execution_count": 0,
      "outputs": []
    },
    {
      "metadata": {
        "id": "pMmLnWONzY2m",
        "colab_type": "code",
        "colab": {
          "base_uri": "https://localhost:8080/",
          "height": 34
        },
        "outputId": "e70ef7cd-af29-401d-9b4f-22ddbd264b9c"
      },
      "cell_type": "code",
      "source": [
        "sample = 5\n",
        "s = Solution()\n",
        "print s.climbStairs(sample)"
      ],
      "execution_count": 0,
      "outputs": [
        {
          "output_type": "stream",
          "text": [
            "8\n"
          ],
          "name": "stdout"
        }
      ]
    },
    {
      "metadata": {
        "id": "CB8VMP7l6f6U",
        "colab_type": "text"
      },
      "cell_type": "markdown",
      "source": [
        "Description\n",
        "A child is running up a staircase with n steps, and can hop either 1 step, 2 steps, or 3 steps at a time. Implement a method to count how many possible ways the child can run up the stairs.\n",
        "\n",
        "Have you met this question in a real interview?  \n",
        "Example\n",
        "n=3\n",
        "1+1+1=2+1=1+2=3=3\n",
        "\n",
        "return 4"
      ]
    },
    {
      "metadata": {
        "id": "i9_Nhv_J616T",
        "colab_type": "code",
        "colab": {}
      },
      "cell_type": "code",
      "source": [
        "class Solution:\n",
        "    \"\"\"\n",
        "    @param n: An integer\n",
        "    @return: An Integer\n",
        "    \"\"\"\n",
        "    def climbStairs2(self, n):\n",
        "        if n == 0:\n",
        "            return 1\n",
        "        if n <= 2:\n",
        "            return n\n",
        "        dp = [1 for _ in range(n+1)]\n",
        "        dp[2] = 2\n",
        "        for i in range(3, n+1):\n",
        "            dp[i] = dp[i-1] + dp[i-2] + dp[i-3]\n",
        "        return dp[n]"
      ],
      "execution_count": 0,
      "outputs": []
    },
    {
      "metadata": {
        "id": "zfX1aYOC64ya",
        "colab_type": "code",
        "colab": {
          "base_uri": "https://localhost:8080/",
          "height": 35
        },
        "outputId": "f1252502-462b-49fa-b3cf-68ee7d0ecdfa"
      },
      "cell_type": "code",
      "source": [
        "sample = 5\n",
        "s = Solution()\n",
        "s.climbStairs2(5)"
      ],
      "execution_count": 0,
      "outputs": [
        {
          "output_type": "execute_result",
          "data": {
            "text/plain": [
              "13"
            ]
          },
          "metadata": {
            "tags": []
          },
          "execution_count": 48
        }
      ]
    },
    {
      "metadata": {
        "id": "oTcS_Evw6hRs",
        "colab_type": "text"
      },
      "cell_type": "markdown",
      "source": [
        "### Triangle"
      ]
    },
    {
      "metadata": {
        "id": "PWwhkhGa6lRb",
        "colab_type": "text"
      },
      "cell_type": "markdown",
      "source": [
        "Description\n",
        "Given a triangle, find the minimum path sum from top to bottom. Each step you may move to adjacent numbers on the row below.\n",
        "\n",
        "Bonus point if you are able to do this using only O(n) extra space, where n is the total number of rows in the triangle.\n",
        "\n",
        "Have you met this question in a real interview?  \n",
        "Example\n",
        "Given the following triangle:\n",
        "\n",
        "[\n",
        "     [2],\n",
        "    [3,4],\n",
        "   [6,5,7],\n",
        "  [4,1,8,3]\n",
        "]\n",
        "The minimum path sum from top to bottom is 11 (i.e., 2 + 3 + 5 + 1 = 11)."
      ]
    },
    {
      "metadata": {
        "id": "cKOyfK2a0hdG",
        "colab_type": "code",
        "colab": {}
      },
      "cell_type": "code",
      "source": [
        "class Solution:\n",
        "    \"\"\"\n",
        "    @param triangle: a list of lists of integers\n",
        "    @return: An integer, minimum path sum\n",
        "    \"\"\"\n",
        "    def minimumTotal(self, triangle):\n",
        "        if len(triangle) == 0 or len(triangle[0]) == 0:\n",
        "            return 0\n",
        "        m = len(triangle)\n",
        "        # dp[x][y] stands for position x, y mini sum, 0 indexed\n",
        "        dp = [[0 for j in range(i+1)] for i in range(m)]\n",
        "        dp[0][0] = triangle[0][0]\n",
        "        for x in range(1, m):\n",
        "            for y in range(x+1):\n",
        "                if y == 0:\n",
        "                    dp[x][y] = triangle[x][y] + dp[x - 1][y]\n",
        "                elif y == x:\n",
        "                    dp[x][y] = triangle[x][y] + dp[x-1][y-1]\n",
        "                else:\n",
        "                    dp[x][y] = triangle[x][y] + min(dp[x-1][y], dp[x-1][y-1])\n",
        "        print dp\n",
        "        return min(dp[m-1])"
      ],
      "execution_count": 0,
      "outputs": []
    },
    {
      "metadata": {
        "id": "mv3HWW8E6vBc",
        "colab_type": "code",
        "colab": {
          "base_uri": "https://localhost:8080/",
          "height": 52
        },
        "outputId": "3a17ebdf-8c4e-49de-e26a-2e95fe7f4861"
      },
      "cell_type": "code",
      "source": [
        "sample = [ [2], [3,4], [6,5,7], [4,1,8,3] ] \n",
        "s = Solution()\n",
        "s.minimumTotal(sample)"
      ],
      "execution_count": 0,
      "outputs": [
        {
          "output_type": "stream",
          "text": [
            "[[2], [5, 6], [11, 10, 13], [15, 11, 18, 16]]\n"
          ],
          "name": "stdout"
        },
        {
          "output_type": "execute_result",
          "data": {
            "text/plain": [
              "11"
            ]
          },
          "metadata": {
            "tags": []
          },
          "execution_count": 23
        }
      ]
    },
    {
      "metadata": {
        "id": "5jyniBqS7d3N",
        "colab_type": "text"
      },
      "cell_type": "markdown",
      "source": [
        "### Minimum Sum"
      ]
    },
    {
      "metadata": {
        "id": "DtmKnJ5D7ioW",
        "colab_type": "text"
      },
      "cell_type": "markdown",
      "source": [
        "Description\n",
        "Given a m x n grid filled with non-negative numbers, find a path from top left to bottom right which minimizes the sum of all numbers along its path."
      ]
    },
    {
      "metadata": {
        "id": "uDa8Rlyg7h2T",
        "colab_type": "code",
        "colab": {
          "base_uri": "https://localhost:8080/",
          "height": 34
        },
        "outputId": "0ed9afc9-d07f-4b6d-f2ce-2905f2b4ab64"
      },
      "cell_type": "code",
      "source": [
        "class Solution:\n",
        "    \"\"\"\n",
        "    @param grid: a list of lists of integers\n",
        "    @return: An integer, minimizes the sum of all numbers along its path\n",
        "    \"\"\"\n",
        "    def minPathSum(self, grid):\n",
        "        if len(grid) == 0 or len(grid[0]) == 0:\n",
        "            return 0\n",
        "        m, n = len(grid), len(grid[0])\n",
        "        # dp[x][y] stands for position x, y mini path sum, 0 indexed\n",
        "        dp = [[0 for j in range(n)] for i in range(m)]\n",
        "        # dp init for dp[0][y], dp[x][0]\n",
        "        dp[0][0] = grid[0][0]\n",
        "        for i in range(1, m):\n",
        "            dp[i][0] = grid[i][0] + dp[i-1][0]\n",
        "        for j in range(1, n):\n",
        "            dp[0][j] = grid[0][j] + dp[0][j-1]\n",
        "\n",
        "        for i in range(1, m):\n",
        "            for j in range(1, n):\n",
        "                dp[i][j] = min(dp[i-1][j], dp[i][j-1]) + grid[i][j]\n",
        "        #print dp\n",
        "        return dp[m-1][n-1]\n",
        "if __name__ == \"__main__\":\n",
        "    sample = [[1,2],[3,4]]\n",
        "    s = Solution()\n",
        "    print s.minPathSum(sample)"
      ],
      "execution_count": 39,
      "outputs": [
        {
          "output_type": "stream",
          "text": [
            "7\n"
          ],
          "name": "stdout"
        }
      ]
    },
    {
      "metadata": {
        "id": "XJDvwQTMDcR_",
        "colab_type": "text"
      },
      "cell_type": "markdown",
      "source": [
        "### Knight Shortest Path\n",
        "Description\n",
        "Given a knight in a chessboard (a binary matrix with 0 as empty and 1 as barrier) with a source position, find the shortest path to a destination position, return the length of the route.\n",
        "Return -1 if knight can not reached.\n",
        "\n",
        "这道题可以用BFS 也可以用DFS， 推荐使用BFS，因为使用DFS有可能会超时"
      ]
    },
    {
      "metadata": {
        "id": "M9_rYNHFG3u9",
        "colab_type": "text"
      },
      "cell_type": "markdown",
      "source": [
        "可以看到BFS比DFS访问的步数少， 下面用随机数据测试一下，2000次测试10大小的矩阵，大概相差二十倍\n",
        "Time complexity test: "
      ]
    },
    {
      "metadata": {
        "id": "p80_lbYW6eVi",
        "colab_type": "code",
        "colab": {
          "base_uri": "https://localhost:8080/",
          "height": 51
        },
        "outputId": "4043767b-259f-4b6c-c6f9-346a51c59b97"
      },
      "cell_type": "code",
      "source": [
        "class Point:\n",
        "    def __init__(self, a=0, b=0):\n",
        "        self.x = a\n",
        "        self.y = b\n",
        "        \n",
        "class Solution:\n",
        "    \"\"\"\n",
        "    @param grid: a chessboard included 0 (false) and 1 (true)\n",
        "    @param source: a point\n",
        "    @param destination: a point\n",
        "    @return: the shortest path \n",
        "    \"\"\"\n",
        "    def shortestPath_dfs(self, grid, source, destination):\n",
        "        m, n = len(grid), len(grid[0])\n",
        "        import sys\n",
        "        record = [[sys.maxsize for j in range(n)] for i in range(m)]\n",
        "        steps = [[1,2],[1,-2],[-1,2],[-1,-2],\n",
        "                 [2,1],[2,-1],[-2,1],[-2,-1]]\n",
        "        x,y = source.x, source.y\n",
        "        record[x][y] = 0\n",
        "        \n",
        "        def dfs(x,y):\n",
        "          #print x, y\n",
        "          for step in steps:\n",
        "            new_x, new_y = x + step[0], y + step[1]\n",
        "            if 0 <= new_x < m and 0 <= new_y < n and grid[x][y] != 1 \\\n",
        "              and record[new_x][new_y] > record[x][y] + 1:\n",
        "                record[new_x][new_y] = record[x][y] + 1\n",
        "                dfs(new_x, new_y)\n",
        "        \n",
        "        dfs(x,y)\n",
        "        return record[destination.x][destination.y] if record[destination.x][destination.y] != sys.maxsize else -1\n",
        "  \n",
        "    def shortestPath_bfs(self, grid, source, destination):\n",
        "        # Write your code here\n",
        "        m = len(grid)\n",
        "        n = len(grid[0])\n",
        "\n",
        "        import sys\n",
        "        record = [[sys.maxint for _ in xrange(n)] for i in xrange(m)]\n",
        "        x,y = source.x, source.y\n",
        "        record[x][y] = 0\n",
        "        \n",
        "        q = []\n",
        "        q.append((x,y))\n",
        "        steps = [(-2, -1), (-2, 1), (-1, 2), (1, 2), (2, 1), (2, -1), (1, -2), (-1, -2)]\n",
        "        \n",
        "        while len(q) > 0:\n",
        "            x, y = q.pop(0) # pop(0) will take O(1), not O(n) or o(0) \n",
        "            #print x, y\n",
        "            for dx, dy in steps:\n",
        "                new_x, new_y = x + dx, y + dy\n",
        "                if 0 <= new_x < m and 0 <= new_y < n and grid[new_x][new_y] == 0 \\\n",
        "                and record[new_x][new_y] > record[x][y] + 1:\n",
        "                    record[new_x][new_y] = record[x][y] + 1\n",
        "                    q.append((new_x, new_y))\n",
        "\n",
        "        if record[destination.x][destination.y] == sys.maxint:\n",
        "            return -1\n",
        "\n",
        "        return record[destination.x][destination.y]\n",
        "grid = [[0,1,0], [0,0,0], [0,0,0]]\n",
        "s = Point(2,0)\n",
        "d = Point(2,2)\n",
        "Solution().shortestPath_dfs(grid, s, d)\n",
        "print '-'\n",
        "Solution().shortestPath_bfs(grid, s, d)"
      ],
      "execution_count": 38,
      "outputs": [
        {
          "output_type": "stream",
          "text": [
            "-\n"
          ],
          "name": "stdout"
        },
        {
          "output_type": "execute_result",
          "data": {
            "text/plain": [
              "6"
            ]
          },
          "metadata": {
            "tags": []
          },
          "execution_count": 38
        }
      ]
    },
    {
      "metadata": {
        "id": "G2HCHUrdKEKj",
        "colab_type": "code",
        "colab": {
          "base_uri": "https://localhost:8080/",
          "height": 52
        },
        "outputId": "3c3ff800-53e6-4e3c-9f86-7cd064bd91d9"
      },
      "cell_type": "code",
      "source": [
        "import random, timeit\n",
        "import numpy as np\n",
        "grid = np.array([random.choice([0,0,0,0,0,1]) for i in range(100)]).reshape(10,10).tolist()\n",
        "grid[0][0], grid[9][9] = 0, 0\n",
        "s = Point(0,0)\n",
        "d = Point(9,9)\n",
        "S = Solution()\n",
        "print timeit.timeit('S.shortestPath_dfs(grid, s, d)',  \n",
        "                    setup='from __main__ import s,S,d,grid', number=2000)\n",
        "print timeit.timeit('S.shortestPath_bfs(grid, s, d)', \n",
        "                    setup='from __main__ import s,S,d,grid', number=2000)"
      ],
      "execution_count": 25,
      "outputs": [
        {
          "output_type": "stream",
          "text": [
            "6.25314307213\n",
            "0.345813989639\n"
          ],
          "name": "stdout"
        }
      ]
    },
    {
      "metadata": {
        "id": "9cLA-5SUNaCp",
        "colab_type": "text"
      },
      "cell_type": "markdown",
      "source": [
        "其实这道题考搜索多于考DP，应该放在BFS里面复习，还有一道类似的题目，0-1 matrix, 见BFS"
      ]
    },
    {
      "metadata": {
        "id": "NrG1F5IsuFfF",
        "colab_type": "text"
      },
      "cell_type": "markdown",
      "source": [
        "## 接龙型动态规划\n",
        "单序列\n",
        "以字符串居多\n",
        "\t1. state: f[i]表示前i个位置/数字/字符,第i个…\n",
        "\t2. function: f[i] = f[j] … j 是i之前的一个位置\n",
        "\t3. initialize: f[0]..\n",
        "\t4. answer: f[n]..\n",
        "\t\t○ 一般answer是f(n)而不是f(n-1), 因为对于n个字符,包含前0个字符(空串),前1个字符……前n个字符。\n",
        "双序列\n",
        "一般给两个字符串\n",
        "\t1. state: f[i][j]代表了第一个sequence的前i个数字/字符,配上第二个sequence的前j个…\n",
        "\t2. function: f[i][j] = 研究第i个和第j个的匹配关系\n",
        "\t3. initialize: f[i][0] 和 f[0][i]\n",
        "\t4. answer: f[n][m]\n",
        "\t\t○ n = s1.length()\n",
        "\t\t○ m = s2.length()\n"
      ]
    },
    {
      "metadata": {
        "id": "8yynzYn1GYGq",
        "colab_type": "text"
      },
      "cell_type": "markdown",
      "source": [
        "### Jump Game I, II \n",
        "\n",
        "\n",
        "**Jump Game I Description**\n",
        "\n",
        "Given an array of non-negative integers, you are initially positioned at the first index of the array.\n",
        "\n",
        "Each element in the array represents your maximum jump length at that position.\n",
        "\n",
        "Determine if you are able to reach the last index.\n",
        "\n",
        "his problem have two method which is Greedy and Dynamic Programming.\n",
        "\n",
        "The time complexity of Greedy method is O(n).\n",
        "\n",
        "The time complexity of Dynamic Programming method is O(n^2).\n",
        "\n",
        "We manually set the small data set to allow you pass the test in both ways. This is just to let you learn how to use this problem in dynamic programming ways. If you finish it in dynamic programming ways, you can try greedy method to make it accept again.\n",
        "\n",
        "\n",
        "\n",
        "```\n",
        "Example\n",
        "A = [2,3,1,1,4], return true.\n",
        "\n",
        "A = [3,2,1,0,4], return false.\n",
        "```\n",
        "\n",
        "**Jump Game II Description**\n",
        "\n",
        "Given an array of non-negative integers, you are initially positioned at the first index of the array.\n",
        "\n",
        "Each element in the array represents your maximum jump length at that position.\n",
        "\n",
        "Your goal is to reach the last index in the minimum number of jumps.\n",
        "\n",
        "```\n",
        "Example\n",
        "Given array A = [2,3,1,1,4]\n",
        "```\n",
        "\n",
        "\n",
        "\n",
        "The minimum number of jumps to reach the last index is 2. (Jump 1 step from index 0 to 1, then 3 steps to the last index.)\n"
      ]
    },
    {
      "metadata": {
        "id": "_zLHXRVAGxNO",
        "colab_type": "code",
        "colab": {}
      },
      "cell_type": "code",
      "source": [
        "class Solution:\n",
        "    \"\"\"\n",
        "    @param A: A list of integers\n",
        "    @return: A boolean\n",
        "    \"\"\"\n",
        "    # Jump game I \n",
        "    def canJump(self, A):\n",
        "        if len(A) == 0:\n",
        "            return 0\n",
        "        maxJump, i = A[0], 0\n",
        "        count = 0\n",
        "        while i < len(A):\n",
        "            count += 1 \n",
        "            if maxJump >= len(A) - 1:\n",
        "                return True\n",
        "            if i <= maxJump:\n",
        "                maxJump = max(i+A[i], maxJump)\n",
        "                i += 1\n",
        "            if count > len(A):\n",
        "                return False\n",
        "    # Jump game II \n",
        "    def jump(self, A):\n",
        "        if len(A) == 0 or A[0] == 0:\n",
        "            return 0\n",
        "        if A[0] > len(A) - 1:\n",
        "            return 1\n",
        "        maxJmp, end, numJmp = A[0], A[0], 1\n",
        "        i = 1\n",
        "        while maxJmp < len(A) - 1:\n",
        "            if i <= end: # get maxJmp at the next time\n",
        "                maxJmp = max(maxJmp, i+A[i])\n",
        "                i += 1\n",
        "                continue\n",
        "            numJmp += 1\n",
        "            end = maxJmp\n",
        "        return numJmp+1"
      ],
      "execution_count": 0,
      "outputs": []
    },
    {
      "metadata": {
        "id": "3pJ6kzX1GdmH",
        "colab_type": "code",
        "colab": {
          "base_uri": "https://localhost:8080/",
          "height": 70
        },
        "outputId": "2554f308-31db-4ec6-f829-555f48aa590c"
      },
      "cell_type": "code",
      "source": [
        "s = Solution()\n",
        "print s.canJump([2,3,1,1,4])\n",
        "print s.canJump([1,2,3,4,5])\n",
        "print s.jump([1,2,3,4,5])"
      ],
      "execution_count": 0,
      "outputs": [
        {
          "output_type": "stream",
          "text": [
            "True\n",
            "True\n",
            "3\n"
          ],
          "name": "stdout"
        }
      ]
    },
    {
      "metadata": {
        "id": "H-eZwQxH8-Fm",
        "colab_type": "text"
      },
      "cell_type": "markdown",
      "source": [
        "### Frog Jump\n",
        "\n",
        "A frog is crossing a river. The river is divided into x units and at each unit there may or may not exist a stone. The frog can jump on a stone, but it must not jump into the water.\n",
        "\n",
        "Given a list of stones' positions (in units) in sorted ascending order, determine if the frog is able to cross the river by landing on the last stone. Initially, the frog is on the first stone and assume the first jump must be 1 unit.\n",
        "\n",
        "If the frog's last jump was k units, then its next jump must be either k - 1, k, or k + 1 units. Note that the frog can only jump in the forward direction.\n",
        "\n",
        "The number of stones is ≥ 2 and is < 1100.\n",
        "Each stone's position will be a non-negative integer < 2^31.\n",
        "The first stone's position is always 0.\n",
        "\n",
        "```\n",
        "Example\n",
        "Given stones = [0,1,3,5,6,8,12,17]\n",
        "\n",
        "There are a total of 8 stones.\n",
        "The first stone at the 0th unit, second stone at the 1st unit,\n",
        "third stone at the 3rd unit, and so on...\n",
        "The last stone at the 17th unit.\n",
        "\n",
        "Return true. The frog can jump to the last stone by jumping \n",
        "1 unit to the 2nd stone, then 2 units to the 3rd stone, then \n",
        "2 units to the 4th stone, then 3 units to the 6th stone, \n",
        "4 units to the 7th stone, and 5 units to the 8th stone.\n",
        "\n",
        "Given stones = [0,1,2,3,4,8,9,11]\n",
        "\n",
        "Return false. There is no way to jump to the last stone as \n",
        "the gap between the 5th and 6th stone is too large.\n",
        "```\n",
        "Solution:\n",
        "\n",
        ">state:  dp = {stone: steps can be made at this stone}\n",
        "\n",
        "> Init: dp[i]  = set([]) for i in range(len(stones))\n",
        "\n",
        "> Function: \n",
        "\n",
        "          for stone in stones:\n",
        "           for k in dp[stone]:\n",
        "            if stone + k,k-1,k+1 in dp, \n",
        "             put k, k+1,k-1 to corespond stone\n",
        ">ans:\n",
        "  dp[stones[-1]] has some steps to make"
      ]
    },
    {
      "metadata": {
        "id": "Ht7STKrC3mEt",
        "colab_type": "code",
        "colab": {
          "base_uri": "https://localhost:8080/",
          "height": 106
        },
        "outputId": "61d4ed1b-c460-4d6b-9e77-b563359dd58b"
      },
      "cell_type": "code",
      "source": [
        "class Solution:\n",
        "    \"\"\"\n",
        "    @param stones: a list of stones' positions in sorted ascending order\n",
        "    @return: true if the frog is able to cross the river or false\n",
        "    \"\"\"\n",
        "    def canCross(self, stones):\n",
        "        # dp[stone] = steps can be made at this stone\n",
        "        dp = {}\n",
        "        \n",
        "        for stone in stones:\n",
        "            dp[stone] = set()\n",
        "        \n",
        "        dp[0].add(0)\n",
        "        \n",
        "        for stone in stones:\n",
        "            for k in dp[stone]:\n",
        "                if k-1 > 0 and stone + k - 1 in dp:\n",
        "                    dp[stone+k-1].add(k-1)\n",
        "                if stone + k in dp:\n",
        "                    dp[stone+k].add(k)\n",
        "                if stone + k + 1 in dp:\n",
        "                    dp[stone+k+1].add(k+1)\n",
        "        print dp\n",
        "        return len(dp[stones[-1]]) > 0 # 青蛙能跳到某个石头，那个石头的dp就会有一些青蛙可以走的步数\n",
        "\n",
        "if __name__ == \"__main__\":\n",
        "    s = Solution()\n",
        "    stones1 = [0,1,3,5,6,8,12,17]\n",
        "    stones2 = [0,1,2,3,4,8,9,11]\n",
        "    print s.canCross(stones1)\n",
        "    print s.canCross(stones2)"
      ],
      "execution_count": 37,
      "outputs": [
        {
          "output_type": "stream",
          "text": [
            "{0: set([0]), 1: set([1]), 3: set([2]), 5: set([2]), 6: set([1, 3]), 8: set([2, 3]), 12: set([4]), 17: set([5])}\n",
            "True\n",
            "{0: set([0]), 1: set([1]), 2: set([1]), 3: set([1, 2]), 4: set([1, 2]), 8: set([]), 9: set([]), 11: set([])}\n",
            "False\n"
          ],
          "name": "stdout"
        }
      ]
    },
    {
      "metadata": {
        "id": "vnI4NVX9uI7z",
        "colab_type": "text"
      },
      "cell_type": "markdown",
      "source": [
        "### Longest Increasing Subsequence\n",
        "Description\n",
        "Given a sequence of integers, find the longest increasing subsequence (LIS).\n",
        "\n",
        "You code should return the length of the LIS.\n",
        "\n",
        "\n",
        "Clarification\n",
        "What's the definition of longest increasing subsequence?\n",
        "\n",
        "The longest increasing subsequence problem is to find a subsequence of a given sequence in which the subsequence's elements are in sorted order, lowest to highest, and in which the subsequence is as long as possible. This subsequence is not necessarily contiguous, or unique.\n",
        "\n",
        "https://en.wikipedia.org/wiki/Longest_increasing_subsequence\n",
        "\n",
        "Example\n",
        "\n",
        "\n",
        "```\n",
        "For [5, 4, 1, 2, 3], the LIS is [1, 2, 3], return 3\n",
        "For [4, 2, 4, 5, 3, 7], the LIS is [2, 4, 5, 7], return 4\n",
        "```\n",
        "\n",
        "\n",
        "\n",
        "Challenge\n",
        "Time complexity O(n^2) or O(nlogn)"
      ]
    },
    {
      "metadata": {
        "id": "UKqoJm1NuUtb",
        "colab_type": "code",
        "colab": {}
      },
      "cell_type": "code",
      "source": [
        "class Solution:\n",
        "    \"\"\"\n",
        "    @param nums: An integer array\n",
        "    @return: The length of LIS (longest increasing subsequence)\n",
        "    \"\"\"\n",
        "    \n",
        "    # O(n^2) method\n",
        "    def longestIncreasingSubsequence(self, nums):\n",
        "        if len(nums) <= 1:\n",
        "            return len(nums)\n",
        "        n = len(nums)\n",
        "        # dp[i] stands for len of LIS of dp[:i], 0 index\n",
        "        dp = [1 for i in range(n)]\n",
        "        for i in range(1, n):\n",
        "            for j in range(0, i):\n",
        "                if nums[j] < nums[i]:\n",
        "                    dp[i] = max(dp[i], dp[j] + 1) # dp function\n",
        "        return max(dp)\n",
        "    \n",
        "    # O(nlogn) method\n",
        "    def lis(self, nums):\n",
        "        if len(nums) <= 1:\n",
        "            return len(nums)\n",
        "        import bisect\n",
        "        dp = []\n",
        "        maxlen = 0\n",
        "        for n in nums:\n",
        "            i = bisect.bisect_left(dp, n)\n",
        "            if i == len(dp):\n",
        "              dp.append(n)\n",
        "            else:\n",
        "              dp[i] = n\n",
        "            maxlen = maxlen + 1 if maxlen == i else maxlen\n",
        "        return maxlen"
      ],
      "execution_count": 0,
      "outputs": []
    },
    {
      "metadata": {
        "id": "Us5BJzV1Gx3N",
        "colab_type": "text"
      },
      "cell_type": "markdown",
      "source": [
        "Time Complexity test "
      ]
    },
    {
      "metadata": {
        "id": "QwgNalFVKMiI",
        "colab_type": "code",
        "colab": {
          "base_uri": "https://localhost:8080/",
          "height": 52
        },
        "outputId": "4fad6deb-13e5-4ee4-a5dc-9047d1f1b752"
      },
      "cell_type": "code",
      "source": [
        "import random, timeit\n",
        "s = Solution()\n",
        "sample = random.sample(range(1000), 500)\n",
        "print timeit.timeit('s.longestIncreasingSubsequence(sample)',  \n",
        "                    setup='from __main__ import s, sample', number=100)\n",
        "print timeit.timeit('s.lis(sample)', \n",
        "                    setup='from __main__ import s, sample', number=100)"
      ],
      "execution_count": 0,
      "outputs": [
        {
          "output_type": "stream",
          "text": [
            "1.63590192795\n",
            "0.0157740116119\n"
          ],
          "name": "stdout"
        }
      ]
    },
    {
      "metadata": {
        "id": "7QllN7EmN24D",
        "colab_type": "text"
      },
      "cell_type": "markdown",
      "source": [
        "### Largest Divisible Subset\n",
        "\n",
        "Given a set of distinct positive integers, find the largest subset such that every pair (Si, Sj) of elements in this subset satisfies: Si % Sj = 0 or Sj % Si = 0.\n",
        "\n",
        "If there are multiple solutions, return any subset is fine.\n",
        "\n",
        "```  \n",
        "Example\n",
        "Given nums = [1,2,3], return [1,2] or [1,3]\n",
        "\n",
        "Given nums = [1,2,4,8], return [1,2,4,8]\n",
        "```\n"
      ]
    },
    {
      "metadata": {
        "id": "s80rg1LIN_WE",
        "colab_type": "code",
        "colab": {
          "base_uri": "https://localhost:8080/",
          "height": 52
        },
        "outputId": "b88a7d93-da69-4042-cb73-a677dc4be1e0"
      },
      "cell_type": "code",
      "source": [
        "class Solution:\n",
        "    \"\"\"\n",
        "    @param: nums: a set of distinct positive integers\n",
        "    @return: the largest subset\n",
        "    \"\"\"\n",
        "    def largestDivisibleSubset(self, nums):\n",
        "        # write your code here\n",
        "        if len(nums) <= 1:\n",
        "            return nums\n",
        "        n = len(nums)\n",
        "        nums.sort()\n",
        "        # dp[i] stands for len of LIS of dp[:i], 0 index\n",
        "        dp = [1 for i in range(n)]\n",
        "        father = [-1 for j in range(n)]\n",
        "        for i in range(1, n):\n",
        "            for j in range(0, i):\n",
        "                if nums[i] % nums[j] == 0:\n",
        "                    if dp[j] + 1 > dp[i]:\n",
        "                      dp[i] = max(dp[i], dp[j] + 1)\n",
        "                      father[i] = j\n",
        "        m = max(dp)\n",
        "        index = dp.index(m)\n",
        "        ans = []\n",
        "        for i in range(m, 0, -1):\n",
        "            ans.append(nums[index])\n",
        "            index = father[index]\n",
        "        return ans\n",
        "    \n",
        "s = Solution()\n",
        "sample = [1,2,3]\n",
        "print s.largestDivisibleSubset(sample)\n",
        "sample = [1,2,4,8]\n",
        "print s.largestDivisibleSubset(sample)"
      ],
      "execution_count": 20,
      "outputs": [
        {
          "output_type": "stream",
          "text": [
            "[2, 1]\n",
            "[8, 4, 2, 1]\n"
          ],
          "name": "stdout"
        }
      ]
    },
    {
      "metadata": {
        "id": "8Sq2O8gNOlIL",
        "colab_type": "text"
      },
      "cell_type": "markdown",
      "source": [
        "### Russian Doll Envelopes\n",
        "\n",
        "Description\n",
        "You have a number of envelopes with widths and heights given as a pair of integers (w, h). One envelope can fit into another if and only if both the width and height of one envelope is greater than the width and height of the other envelope.\n",
        "\n",
        "What is the maximum number of envelopes can you Russian doll? (put one inside other)\n",
        "\n",
        "```\n",
        "Example\n",
        "Given envelopes = [[5,4],[6,4],[6,7],[2,3]],\n",
        "the maximum number of envelopes you can Russian doll is 3 ([2,3] => [5,4] => [6,7]).\n",
        "```"
      ]
    },
    {
      "metadata": {
        "id": "XBw0-QvXOzGN",
        "colab_type": "code",
        "colab": {
          "base_uri": "https://localhost:8080/",
          "height": 35
        },
        "outputId": "f44fee36-71d6-42b8-f021-dc799fe5dbbd"
      },
      "cell_type": "code",
      "source": [
        "class Solution:\n",
        "    \"\"\"\n",
        "    @param: envelopes: a number of envelopes with widths and heights\n",
        "    @return: the maximum number of envelopes\n",
        "    \"\"\"\n",
        "    def maxEnvelopes(self, envelopes):\n",
        "        if len(envelopes) == 0:\n",
        "            return 0\n",
        "        envelopes.sort(key = lambda x:(x[0], -x[1]))\n",
        "        nums = [x[1] for x in envelopes]\n",
        "        return self.lis(nums)\n",
        "\n",
        "    def lis(self, nums):\n",
        "        if len(nums) <= 1:\n",
        "            return len(nums)\n",
        "        import bisect\n",
        "        dp = [0 for _ in range(len(nums))]\n",
        "        maxlen = 0\n",
        "        for n in nums:\n",
        "            i = bisect.bisect_left(dp, n, 0, maxlen)\n",
        "            dp[i] = n\n",
        "            maxlen = maxlen + 1 if maxlen == i else maxlen\n",
        "        return maxlen\n",
        "sample = [[3419,8423],[164,2627],[3139,7517],[1751,4154],[9489,86],[6637,3814],\n",
        "          [8056,4472],[1361,7808],[8951,7291],[2729,3128],[3981,8815],[492,3230],\n",
        "          [8077,8257],[1046,8951],[7601,3995],[8077,2335],[7913,6100],[2120,552],\n",
        "          [8052,7377],[3699,4314],[4956,9383],[1398,9645],[5612,3194],[1041,7969],\n",
        "          [9353,9504],[3498,6074],[3778,6387],[6444,926],[8188,3068],[7573,9346],\n",
        "          [1947,2744],[3161,1583],[6931,2466],[3123,2746],[3063,9465],[5436,4950],\n",
        "          [2706,2321],[705,4817],[6848,3079],[7513,2377],[3314,3572],[1932,2535],\n",
        "          [2635,6677],[31,1250],[3553,3075],[8978,2303],[6216,5277],[6544,5712],\n",
        "          [8566,6145],[3541,9898],[7554,842],[1566,7443],[3891,2823],[8698,8532],\n",
        "          [1692,6859],[4094,8342],[5207,9744],[3020,3461],[4752,6631],[2033,1323],\n",
        "          [6094,3315],[16,8209],[3776,2627],[8889,2818],[755,2167],[9267,8809],\n",
        "          [9701,777],[9464,9921],[2657,9329],[8606,8059],[6912,9454],[133,6606],\n",
        "          [7149,5042],[7765,6180],[5361,4592],[7149,1438],[847,9109],[732,786],\n",
        "          [9824,548],[9833,2443],[9920,232],[9957,8386],[1792,5312],[2950,3834],\n",
        "          [3650,7948],[900,5644],[9741,7375]]\n",
        "s = Solution()\n",
        "s.maxEnvelopes(sample)\n",
        "        "
      ],
      "execution_count": 19,
      "outputs": [
        {
          "output_type": "execute_result",
          "data": {
            "text/plain": [
              "19"
            ]
          },
          "metadata": {
            "tags": []
          },
          "execution_count": 19
        }
      ]
    },
    {
      "metadata": {
        "id": "zE3K2JxeOUMJ",
        "colab_type": "text"
      },
      "cell_type": "markdown",
      "source": [
        "### Perfect Square\n",
        "\n",
        "Description\n",
        "Given a positive integer n, find the least number of perfect square numbers (for example, 1, 4, 9, 16, ...) which sum to n.\n",
        "\n",
        "Have you met this question in a real interview?  \n",
        "Example\n",
        "\n",
        "\n",
        "Given n = 12, return 3 because 12 = 4 + 4 + 4\n",
        "\n",
        "Given n = 13, return 2 because 13 = 4 + 9"
      ]
    },
    {
      "metadata": {
        "id": "6Vsky6OzOmHI",
        "colab_type": "text"
      },
      "cell_type": "markdown",
      "source": [
        "这道题写几个数就明白了\n",
        "```\n",
        "dp[0] = 0 \n",
        "dp[1] = dp[0]+1 = 1\n",
        "dp[2] = dp[1]+1 = 2\n",
        "dp[3] = dp[2]+1 = 3\n",
        "dp[4] = Min{ dp[4-1*1]+1, dp[4-2*2]+1 } \n",
        "      = Min{ dp[3]+1, dp[0]+1 } \n",
        "      = 1\t\t\t\t\n",
        "dp[5] = Min{ dp[5-1*1]+1, dp[5-2*2]+1 } \n",
        "      = Min{ dp[4]+1, dp[1]+1 } \n",
        "      = 2\n",
        "\t\t\t\t\t\t.\n",
        "\t\t\t\t\t\t.\n",
        "\t\t\t\t\t\t.\n",
        "dp[13] = Min{ dp[13-1*1]+1, dp[13-2*2]+1, dp[13-3*3]+1 } \n",
        "       = Min{ dp[12]+1, dp[9]+1, dp[4]+1 } \n",
        "       = 2\n",
        "```\n",
        "\n",
        "\n",
        ">$ dp[n] = min(dp[n - i * i] + 1), n - i*i >=0, i >= 1$\n",
        "\n",
        "     "
      ]
    },
    {
      "metadata": {
        "id": "uwn-DYv0Oh25",
        "colab_type": "code",
        "colab": {
          "base_uri": "https://localhost:8080/",
          "height": 35
        },
        "outputId": "55f54cc3-6ed1-4b15-f31d-42f511ccc0e5"
      },
      "cell_type": "code",
      "source": [
        "import sys\n",
        "import math\n",
        "class Solution:\n",
        "    \"\"\"\n",
        "    @param n: a positive integer\n",
        "    @return: An integer\n",
        "    \"\"\"\n",
        "    #O(n * sqrt(n)) method \n",
        "    def numSquares(self, n):\n",
        "      dp = [sys.maxsize for _ in range(n+1)]\n",
        "      dp[0] = 0\n",
        "      for i in range(1, n+1):\n",
        "        for j in range(1, i+1):\n",
        "          if i - j*j < 0: break\n",
        "          dp[i] = min(dp[i], dp[i-j*j] + 1)\n",
        "      \n",
        "      print dp\n",
        "      return dp[n]\n",
        "    \n",
        "if __name__ == \"__main__\":    \n",
        "  n = 12\n",
        "  Solution().numSquares(n)"
      ],
      "execution_count": 18,
      "outputs": [
        {
          "output_type": "stream",
          "text": [
            "[0, 1, 2, 3, 1, 2, 3, 4, 2, 1, 2, 3, 3]\n"
          ],
          "name": "stdout"
        }
      ]
    },
    {
      "metadata": {
        "id": "QCIx_VE2rg9Q",
        "colab_type": "text"
      },
      "cell_type": "markdown",
      "source": [
        "## 划分型动态规划(subarray 20题)\n",
        "\n",
        "\n",
        "题目：给一个序列，求一次划分区间，求区间中的最大值\n",
        "\t1. state: f[i] 表⽰示前 个元素的最大值\n",
        "\t2. function: f[i] = 前 i 个元素里⾯选一个区间的最⼤值\n",
        "\t3. initialize: f[0]..\n",
        "\t4. answer: f[n-1]..\n",
        "\n",
        "优化\n",
        "\t1. state:\n",
        "\t\t○ gobal[i] 表示前 i 个元素的最大值\n",
        "\t\t○ local[i] 表⽰示包含第 i 个元素前 i 个元素的最大值\n",
        "\t2. function:\n",
        "\t\t○ global[i] = 通过 local[i] 更新\n",
        "\t\t○ local[i] = 通过原序列或者 global[i] 更新\n",
        "\t3. initialize: global[0].. Local[i]\n",
        "\t4. answer: global[n-1]..\n",
        "\n",
        "\n",
        "\n"
      ]
    },
    {
      "metadata": {
        "id": "lW46e-AS-5Rd",
        "colab_type": "text"
      },
      "cell_type": "markdown",
      "source": [
        "### Maximum SubArray I\n",
        "\n",
        "Description\n",
        "Given an array of integers, find a contiguous subarray which has the largest sum.\n",
        "\n",
        "Notice\n",
        "The subarray should contain at least one number.\n",
        "```\n",
        "Example\n",
        "Given the array [−2,2,−3,4,−1,2,1,−5,3], \n",
        "the contiguous subarray [4,−1,2,1] has the largest sum = 6.\n",
        "\n",
        "Challenge \n",
        "Can you do it in time complexity O(n)?\n",
        "```\n",
        "\n",
        "$ f[i] = max(f[i-1] + nums[i-1], nums[i-1])$ "
      ]
    },
    {
      "metadata": {
        "id": "MgevrmuV-4pl",
        "colab_type": "code",
        "colab": {
          "base_uri": "https://localhost:8080/",
          "height": 35
        },
        "outputId": "f1776f9d-7fde-45a4-8f3f-de483ebe623f"
      },
      "cell_type": "code",
      "source": [
        "class Solution:\n",
        "    def max_sub_array(self, nums):\n",
        "        if nums == []:\n",
        "            return \n",
        "    \n",
        "        cur_sum = max_sum = nums[0]\n",
        "\n",
        "        for num in nums[1:]:\n",
        "            cur_sum = max(cur_sum + num, num)\n",
        "            max_sum = max(max_sum, cur_sum)\n",
        "\n",
        "        return max_sum\n",
        "\n",
        "if __name__ == \"__main__\":\n",
        "  \n",
        "  print Solution().max_sub_array([-2,2,-3,4,-1,2,1,-5,3])\n",
        "    \n",
        "    "
      ],
      "execution_count": 4,
      "outputs": [
        {
          "output_type": "stream",
          "text": [
            "6\n"
          ],
          "name": "stdout"
        }
      ]
    },
    {
      "metadata": {
        "id": "W0wI3PVKA-tE",
        "colab_type": "text"
      },
      "cell_type": "markdown",
      "source": [
        "### Maximum Subarray II \n",
        "\n",
        "Description\n",
        "Given an array of integers, find two non-overlapping subarrays which have the largest sum.\n",
        "The number in each subarray should be contiguous.\n",
        "Return the largest sum.\n",
        "\n",
        "Notice:\n",
        "\n",
        "The subarray should contain at least one number\n",
        "```\n",
        "Example\n",
        "For given [1, 3, -1, 2, -1, 2], \n",
        "the two subarrays are [1, 3] and [2, -1, 2] or [1, 3, -1, 2] and [2], \n",
        "they both have the largest sum 7.\n",
        "```\n",
        "Challenge: \n",
        "Can you do it in time complexity O(n) ?"
      ]
    },
    {
      "metadata": {
        "id": "4n-bvY0OCeqa",
        "colab_type": "code",
        "colab": {
          "base_uri": "https://localhost:8080/",
          "height": 34
        },
        "outputId": "03f7ec33-8933-4ea2-a6f5-c4fad33b25f1"
      },
      "cell_type": "code",
      "source": [
        "MIN_INT = -65535\n",
        "class Solution(object):\n",
        "    \"\"\"\n",
        "    @param: nums: A list of integers\n",
        "    @return: An integer denotes the sum of max two non-overlapping subarrays\n",
        "    \"\"\"\n",
        "       \n",
        "    def maxTwoSubArrays(self, nums):\n",
        "        if len(nums) == 1: \n",
        "            return nums[0]\n",
        "        # at least there should be 2 elements in nums\n",
        "        # If you need to add/remove at both ends, consider using a collections.deque instead.\n",
        "        left_max = [0 for i in range(len(nums))] \n",
        "        max_sum = cur_sum = left_max[0] = nums[0]\n",
        "        \n",
        "        for i in range(1, len(nums)-1):\n",
        "            cur_sum = max(cur_sum + nums[i], nums[i])\n",
        "            max_sum = max(max_sum, cur_sum)\n",
        "            left_max[i] = max_sum\n",
        "        \n",
        "        right_max = [0 for i in range(len(nums))]\n",
        "        max_sum = cur_sum = right_max[-1] = nums[-1]\n",
        "        \n",
        "        \n",
        "        for i in range(len(nums)-2, 0, -1):\n",
        "            cur_sum = max(cur_sum + nums[i], nums[i])\n",
        "            max_sum = max(max_sum, cur_sum)\n",
        "            right_max[i] = max_sum\n",
        "        \n",
        "        \n",
        "        max_sum = MIN_INT\n",
        "        for i in range(0, len(nums) - 1):\n",
        "            max_sum = max(max_sum, left_max[i] + right_max[i+1])\n",
        "        \n",
        "        return max_sum\n",
        "      \n",
        "if __name__ == \"__main__\":\n",
        "\n",
        "    print Solution().maxTwoSubArrays([1,1,1,1,1,1,1,1,1,1,1,1,1,1,1,1,1,1,1,\n",
        "                                    1,1,1,1,1,1,1,-2,1,-15,1,1,1,1,1,1,1,\n",
        "                                    1,1,1,1,1,1,1,1,1,1,1])"
      ],
      "execution_count": 5,
      "outputs": [
        {
          "output_type": "stream",
          "text": [
            "44\n"
          ],
          "name": "stdout"
        }
      ]
    },
    {
      "metadata": {
        "id": "JN9u0bv-2CLf",
        "colab_type": "text"
      },
      "cell_type": "markdown",
      "source": [
        "### Maximum Subarray III\n",
        "Description\n",
        "Given an array of integers and a number k, \n",
        "find k non-overlapping subarrays which have the largest sum.\n",
        "The number in each subarray should be contiguous.\n",
        "Return the largest sum.\n",
        "```\n",
        "Notice\n",
        "The subarray should contain at least one number\n",
        "\n",
        "Example\n",
        "Given [-1,4,-2,3,-2,3], k=2, return 8\n",
        "```\n",
        "\n",
        "两个思路：\n",
        "1. $ f[i][j]  =   f[i][j-1] + maxSum(num[j:i+1]) $ # 从j开始到i再求maxsubArray, 注意是从j不是从j-1，写成代码，就是j-1不是j-2开始\n",
        "2.  \n",
        "\n",
        "     $dp[i][j][0] = max(dp[i - 1][j][1],\\   dp[i - 1][j][0])$ # 第i个数没有放进背包\n",
        "\n",
        "      $dp[i][j][1] = max( dp[i-1][j][1],\\  dp[i-1][j-1][1],\\ dp[i-1][j-1][0]) + nums[i-1]$ # 第i个数放进背包\n",
        "      \n",
        "      Notes: 为什么要多一个变量来记录，A = [-1，4，-2，3]\n",
        "     \n",
        "     dp[3][1] = max(dp[2][1], dp[2][1]+A[3], dp[2][0] + A[3]) = max(4, 4+3, 3) = 7, 错，dp[3][1] = 5, 因为没有确保连续性，所以dp错了。"
      ]
    },
    {
      "metadata": {
        "id": "qq9LsMBzHWts",
        "colab_type": "code",
        "colab": {
          "base_uri": "https://localhost:8080/",
          "height": 191
        },
        "outputId": "d0f9a354-a073-4117-8522-a34eccc8b766"
      },
      "cell_type": "code",
      "source": [
        "MIN_INT = -2 ** 16\n",
        "class Solution:\n",
        "  \n",
        "    def maxSubArray(self, nums, k):\n",
        "\n",
        "        f = [[[MIN_INT for t in range(2)]\n",
        "                 for j in range(k+1)]\n",
        "                 for i in range(len(nums)+1)]\n",
        "        for i in range(1, len(nums)+1):\n",
        "            f[i][0][0] = 0 # 重要，如果没有这个，[-1,4] 最后出来结果是3S\n",
        "        for j in range(1, k+1):\n",
        "            f[j][j][1] = sum(nums[:j])\n",
        "            for i in range(j+1, len(nums)+1):\n",
        "                f[i][j][0] = max(f[i-1][j][0], f[i-1][j][1])\n",
        "                f[i][j][1] = max(f[i-1][j][1], f[i-1][j-1][0], \n",
        "                             f[i-1][j-1][1]) + nums[i-1]\n",
        "        \n",
        "                print(i,j, f[i][j])\n",
        "        \n",
        "        return max(f[-1][-1])\n",
        "    \n",
        "if __name__ == \"__main__\":\n",
        "    print Solution().maxSubArray([-1,4,-2,3,-2,3], 2)"
      ],
      "execution_count": 7,
      "outputs": [
        {
          "output_type": "stream",
          "text": [
            "(2, 1, [-1, 4])\n",
            "(3, 1, [4, 2])\n",
            "(4, 1, [4, 5])\n",
            "(5, 1, [5, 3])\n",
            "(6, 1, [5, 6])\n",
            "(3, 2, [3, 2])\n",
            "(4, 2, [3, 7])\n",
            "(5, 2, [7, 5])\n",
            "(6, 2, [7, 8])\n",
            "8\n"
          ],
          "name": "stdout"
        }
      ]
    },
    {
      "metadata": {
        "id": "0qCvq2CXUF_3",
        "colab_type": "text"
      },
      "cell_type": "markdown",
      "source": [
        "### Maximum Subarray IV\n",
        "\n",
        "\n",
        "Given an integer arrays, find a contiguous subarray which has the largest sum and length should be **greater or equal to ** given length k.\n",
        "Return the largest sum, return 0 if there are fewer than k elements in the array.\n",
        "```\n",
        "Example\n",
        "Given the array [-2,2,-3,4,-1,2,1,-5,3] and k = 5, the contiguous subarray [2,-3,4,-1,2,1] has the largest sum = 5.\n",
        "```\n",
        "\n",
        "\n",
        "find $sum[i] - min(sum[j], j= 0, ..., i-k)$"
      ]
    },
    {
      "metadata": {
        "id": "imD4JFZhPfqa",
        "colab_type": "code",
        "colab": {
          "base_uri": "https://localhost:8080/",
          "height": 34
        },
        "outputId": "458e2e7c-dbbd-4f45-9c92-d266cef844cf"
      },
      "cell_type": "code",
      "source": [
        "class Solution(object):\n",
        "    def maxSubarray4(self, nums, k):\n",
        "        if len(nums) < k:\n",
        "            return 0\n",
        "        if len(nums) == k:\n",
        "            return sum(nums)\n",
        "        \n",
        "        # len(nums) > k \n",
        "        cur_sum = [0 for i in range(len(nums)+1)]\n",
        "        cur_sum[0] = 0\n",
        "        max_sum = -65535\n",
        "        min_sum = 0 # include everything \n",
        "        \n",
        "        \n",
        "        for i in range(1, len(nums)+1):\n",
        "            cur_sum[i] =  cur_sum[i-1] + nums[i-1]\n",
        "            if i >= k:\n",
        "                min_sum = min(min_sum, cur_sum[i-k])\n",
        "                max_sum = max(max_sum, cur_sum[i] - min_sum)\n",
        "        return max_sum \n",
        "\n",
        "\n",
        "      \n",
        "if __name__ == \"__main__\":\n",
        "    sample = [-1,-1,-1,-1]\n",
        "    #sample = [5]\n",
        "    s = Solution()\n",
        "    print s.maxSubarray4(sample, 1)"
      ],
      "execution_count": 21,
      "outputs": [
        {
          "output_type": "stream",
          "text": [
            "-1\n"
          ],
          "name": "stdout"
        }
      ]
    },
    {
      "metadata": {
        "id": "6tXzhvZsUGvn",
        "colab_type": "text"
      },
      "cell_type": "markdown",
      "source": [
        "### Maximum Subarray V\n",
        "\n",
        "Given an integer arrays, find a contiguous subarray which has the largest sum and length should be between k1 and k2 (include k1 and k2).\n",
        "\n",
        "Return the largest sum, return 0 if there are fewer than k1 elements in the array.\n",
        "\n",
        "```\n",
        "Example\n",
        "Given the array [-2,2,-3,4,-1,2,1,-5,3] and k1 = 2, k2 = 4, the contiguous subarray [4,-1,2,1] has the largest sum = 6.\n",
        "```\n",
        "\n",
        "find $sum[i] - min(sum[j], k1 <= i - j + 1 <= k2)$\n"
      ]
    },
    {
      "metadata": {
        "id": "wXQRvBtOr0gu",
        "colab_type": "code",
        "colab": {
          "base_uri": "https://localhost:8080/",
          "height": 51
        },
        "outputId": "992e4ea2-324b-4732-8c9b-953d928b3f96"
      },
      "cell_type": "code",
      "source": [
        " class Solution:\n",
        "    \"\"\"\n",
        "    @param nums: an array of integers\n",
        "    @param k1: An integer\n",
        "    @param k2: An integer\n",
        "    @return: the largest sum\n",
        "    \"\"\"\n",
        "      \n",
        "    def maxSubarray5(self, nums, k1, k2):\n",
        "        if len(nums) < k1:\n",
        "            return 0\n",
        "        if len(nums) == k1:\n",
        "            return sum(nums)\n",
        "          \n",
        "        MIN_INT = -65535\n",
        "        from collections import deque\n",
        "        csum = [0] # sum[0] 留空，为了防止一个也不减掉的情况\n",
        "        deck = deque() # deck will save j, i-k2 <= j <= i-k1\n",
        "        max_sum = MIN_INT\n",
        "        \n",
        "        for i in range(1, len(nums)+1):\n",
        "            csum.append(csum[i-1] + nums[i-1])\n",
        "            if i >= k1:\n",
        "                if len(deck) > 0 and deck[0] < i - k2: # j >= i-k2\n",
        "                    deck.popleft()            \n",
        "                while len(deck) > 0 and csum[deck[-1]] > csum[i-k1]:\n",
        "                    deck.pop()            \n",
        "                deck.append(i-k1)\n",
        "                max_sum = max(max_sum, csum[i] - csum[deck[0]]) # len(nums) > k1\n",
        "        return max_sum\n",
        "\n",
        "if __name__ == \"__main__\":\n",
        "    print Solution().maxSubarray5([-2,2,-3,4,-1,2,1,-5,3], 2, 4)\n",
        "    print Solution().maxSubarray5([1,2,3,4,5], 2, 4)\n",
        "        "
      ],
      "execution_count": 9,
      "outputs": [
        {
          "output_type": "stream",
          "text": [
            "6\n",
            "14\n"
          ],
          "name": "stdout"
        }
      ]
    },
    {
      "metadata": {
        "id": "zQEJJSMMwFel",
        "colab_type": "text"
      },
      "cell_type": "markdown",
      "source": [
        "### Maximum Average Subarray I\n",
        "\n",
        "Given an array with positive and negative numbers, find the maximum average subarray which length should be equal to given length k.\n",
        "\n",
        "Example\n",
        "Given nums = [1, 12, -5, -6, 50, 3], k = 3\n",
        "\n",
        "Return 15.667 // (-6 + 50 + 3) / 3 = 15.667"
      ]
    },
    {
      "metadata": {
        "id": "sFyG08WSwO9k",
        "colab_type": "code",
        "colab": {
          "base_uri": "https://localhost:8080/",
          "height": 37
        },
        "outputId": "09d7d4df-972e-4eb1-ff36-1554698d826a"
      },
      "cell_type": "code",
      "source": [
        "class Solution:\n",
        "    \"\"\"\n",
        "    @param: nums: an array with positive and negative numbers\n",
        "    @param: k: an integer\n",
        "    @return: the maximum average\n",
        "    \"\"\"\n",
        "    def findMaxAverage(self, nums, k):\n",
        "        max_avg = -65535\n",
        "        k_sum = 0.0\n",
        "        \n",
        "        for i in range(1, len(nums)+1):\n",
        "            k_sum += nums[i-1]\n",
        "          \n",
        "            if i >= k:\n",
        "                max_avg = max(max_avg, k_sum/k)\n",
        "                k_sum -= nums[i-k]\n",
        "        return max_avg"
      ],
      "execution_count": 10,
      "outputs": []
    },
    {
      "metadata": {
        "id": "QS7rzo-HfCcA",
        "colab_type": "text"
      },
      "cell_type": "markdown",
      "source": [
        "### Maximum Average Subarray II\n",
        "Given an array with positive and negative numbers, find the maximum average subarray which length should be greater or equal to given length k.\n",
        "\n",
        "```\n",
        "Example\n",
        "Given nums = [1, 12, -5, -6, 50, 3], k = 3\n",
        "\n",
        "Return 15.667 // (-6 + 50 + 3) / 3 = 15.667\n",
        "```\n",
        "思路：$\\forall i$ 找到 $max\\lbrace (sum[i] - sum[j])/(i-j) |j=0, ..., i-k\\rbrace$\n",
        "\n",
        "复\n",
        "杂度：O(n * k)\n"
      ]
    },
    {
      "metadata": {
        "id": "FlG2yn5FTVP1",
        "colab_type": "code",
        "colab": {
          "base_uri": "https://localhost:8080/",
          "height": 34
        },
        "outputId": "74ccfa26-c786-494a-bbc9-48d79d6b7247"
      },
      "cell_type": "code",
      "source": [
        "class Solution:\n",
        "    \"\"\"\n",
        "    @param: nums: an array with positive and negative numbers\n",
        "    @param: k: an integer\n",
        "    @return: the maximum average\n",
        "    \"\"\"\n",
        "    def maxAverage2(self, nums, k):\n",
        "        start = min(nums) * 1.0\n",
        "        end = max(nums) * 1.0\n",
        "        eps = 1e-5\n",
        "        \n",
        "        def check(mid):\n",
        "            from sys import maxsize\n",
        "            csum = [0.0]\n",
        "            min_pre = [0.0]\n",
        "            for i in range(1, len(nums)+1):\n",
        "                csum.append(csum[i-1] + nums[i-1] - mid)\n",
        "                min_pre.append(min(min_pre[i-1], csum[i]))\n",
        "                if i >= k and csum[i] - min_pre[i-k] >= 0:\n",
        "                    return True\n",
        "            return False\n",
        "        \n",
        "        while start + eps < end:\n",
        "            mid = start + (end - start)/2\n",
        "            if check(mid):\n",
        "                start = mid\n",
        "            else:\n",
        "                end = mid\n",
        "        \n",
        "        return end\n",
        "      \n",
        "if __name__ == \"__main__\":\n",
        "    print Solution().maxAverage2([-78,-50,18,-93,-35,-31,-21,-14,-73], 5)"
      ],
      "execution_count": 22,
      "outputs": [
        {
          "output_type": "stream",
          "text": [
            "-29.3333315849\n"
          ],
          "name": "stdout"
        }
      ]
    },
    {
      "metadata": {
        "id": "oDTompHhmbC4",
        "colab_type": "text"
      },
      "cell_type": "markdown",
      "source": [
        "### Maximum Average Subarray III\n",
        "Given an array with positive and negative numbers, find the maximum average subarray which length should be [k1, k2]\n",
        "\n",
        "```\n",
        "Example\n",
        "Given nums = [1, 12, -5, -6, 50, 3], k = 3\n",
        "\n",
        "Return 15.667 // (-6 + 50 + 3) / 3 = 15.667\n",
        "```\n",
        "思路：$\\forall i$ 找到 $max\\lbrace (sum[i] - sum[j])/(i-j) |k1<=i−j+1<=k2\\rbrace$\n",
        "复杂度：O(n * k)"
      ]
    },
    {
      "metadata": {
        "id": "MEwP5tAUmbPo",
        "colab_type": "code",
        "colab": {
          "base_uri": "https://localhost:8080/",
          "height": 34
        },
        "outputId": "45f98dc2-7306-40fd-ef40-8e05b5764b0e"
      },
      "cell_type": "code",
      "source": [
        "class Solution:\n",
        "    \"\"\"\n",
        "    @param: nums: an array with positive and negative numbers\n",
        "    @param: k: an integer\n",
        "    @return: the maximum average\n",
        "    \"\"\"\n",
        "    def maxAverage3(self, nums, k1, k2):\n",
        "        start = min(nums) * 1.0\n",
        "        end = max(nums) * 1.0\n",
        "        eps = 1e-12\n",
        "        \n",
        "        def check(mid):\n",
        "            import collections\n",
        "            cum = [0.0]\n",
        "            deck = collections.deque()\n",
        "   \n",
        "            for i in range(1, len(nums)+1):\n",
        "                cum.append(cum[i-1] + nums[i-1] - mid)\n",
        "\n",
        "                if i >= k1:\n",
        "                    if deck and deck[0] < i-k2:\n",
        "                        deck.popleft()\n",
        "                    while deck and cum[deck[-1]] > cum[i-k1]:\n",
        "                        deck.pop()\n",
        "                    deck.append(i-k1)\n",
        "                    if cum[i] - cum[deck[0]] > 0:\n",
        "                        return True\n",
        "            return False\n",
        "        \n",
        "        while start + eps < end:\n",
        "            mid = start + (end - start)/2\n",
        "            if check(mid):\n",
        "                start = mid\n",
        "            else:\n",
        "                end = mid\n",
        "        return end\n",
        "      \n",
        "if __name__ == \"__main__\":\n",
        "    print Solution().maxAverage3([-78,-50,18,-93,35,31,-21,-14,-73], 2, 5)"
      ],
      "execution_count": 28,
      "outputs": [
        {
          "output_type": "stream",
          "text": [
            "33.0\n"
          ],
          "name": "stdout"
        }
      ]
    },
    {
      "metadata": {
        "id": "eVM2JT0eZI0r",
        "colab_type": "code",
        "colab": {
          "base_uri": "https://localhost:8080/",
          "height": 1057
        },
        "outputId": "d0824932-aefb-486e-df90-b1e52375c834"
      },
      "cell_type": "code",
      "source": [
        "# Test for multiprocessing package\n",
        "from multiprocessing import Pool\n",
        "from timeit import timeit\n",
        "import time\n",
        "def testfun(ntimes):\n",
        "    res = timeit(\"Solution().maxAverage2(sample, 1012)\",\n",
        "                  setup=\"from __main__ import Solution, sample\", number=ntimes)\n",
        "    return res\n",
        "\n",
        "if __name__ == \"__main__\":\n",
        "    for i in range(1, 16):\n",
        "        print i, 'started, -------'\n",
        "        a = time.time()\n",
        "        testcases = [30 for _ in range(33)]\n",
        "        testcases.append(10)\n",
        "        pool = Pool(i)\n",
        "        results = pool.map(testfun, testcases)\n",
        "        pool.close()\n",
        "        pool.join()\n",
        "        print sum(results)\n",
        "        print time.time() - a\n",
        "        print i, 'finished, -------'"
      ],
      "execution_count": 5,
      "outputs": [
        {
          "output_type": "stream",
          "text": [
            "1 started, -------\n",
            "94.522649765\n",
            "94.5985639095\n",
            "1 finished, -------\n",
            "2 started, -------\n",
            "175.779512882\n",
            "92.5922288895\n",
            "2 finished, -------\n",
            "3 started, -------\n",
            "269.410157919\n",
            "94.4945039749\n",
            "3 finished, -------\n",
            "4 started, -------\n",
            "357.190777779\n",
            "95.0114197731\n",
            "4 finished, -------\n",
            "5 started, -------\n",
            "449.697618484\n",
            "95.2256600857\n",
            "5 finished, -------\n",
            "6 started, -------\n",
            "538.049463272\n",
            "95.0324380398\n",
            "6 finished, -------\n",
            "7 started, -------\n",
            "603.63419199\n",
            "95.1483259201\n",
            "7 finished, -------\n",
            "8 started, -------\n",
            "737.475235462\n",
            "95.7482600212\n",
            "8 finished, -------\n",
            "9 started, -------\n",
            "815.825096607\n",
            "95.9684710503\n",
            "9 finished, -------\n",
            "10 started, -------\n",
            "895.137821913\n",
            "95.7827749252\n",
            "10 finished, -------\n",
            "11 started, -------\n",
            "1045.61718035\n",
            "96.1937739849\n",
            "11 finished, -------\n",
            "12 started, -------\n",
            "1088.7921412\n",
            "96.808095932\n",
            "12 finished, -------\n",
            "13 started, -------\n",
            "1149.95863104\n",
            "97.7301390171\n",
            "13 finished, -------\n",
            "14 started, -------\n",
            "1238.454283\n",
            "97.9381468296\n",
            "14 finished, -------\n",
            "15 started, -------\n",
            "1353.26945615\n",
            "97.644313097\n",
            "15 finished, -------\n"
          ],
          "name": "stdout"
        }
      ]
    },
    {
      "metadata": {
        "id": "vWuVmOli2Cdn",
        "colab_type": "text"
      },
      "cell_type": "markdown",
      "source": [
        "### Maximum Product Subarray\n",
        "\n",
        "Description\n",
        "Find the contiguous subarray within an array (containing at least one number) \n",
        "which has the largest product.\n",
        "\n",
        "```\n",
        "Example\n",
        "For example, given the array [2,3,-2,4], \n",
        "the contiguous subarray [2,3] has the largest product = 6.\n",
        "```\n",
        "\n"
      ]
    },
    {
      "metadata": {
        "id": "6J7DyDa6jEoB",
        "colab_type": "code",
        "colab": {
          "base_uri": "https://localhost:8080/",
          "height": 34
        },
        "outputId": "88afcba9-1691-440c-f029-d9ab84956bc6"
      },
      "cell_type": "code",
      "source": [
        "class Solution:\n",
        "    # param nums: an integer[]\n",
        "    # return: an integer\n",
        "    def maxProduct(self, nums):\n",
        "        # write your code here\n",
        "        f, g = [], []\n",
        "        f.append(nums[0])\n",
        "        g.append(nums[0])\n",
        "        for i in range(1, len(nums)):\n",
        "            f.append(max(f[i-1]*nums[i], g[i-1]*nums[i], nums[i]))\n",
        "            g.append(min(f[i-1]*nums[i], g[i-1]*nums[i], nums[i]))\n",
        "        \n",
        "        return max(f)\n",
        "      \n",
        "if __name__ == \"__main__\":\n",
        "    print Solution().maxProduct([2,3,-2,4])"
      ],
      "execution_count": 2,
      "outputs": [
        {
          "output_type": "stream",
          "text": [
            "6\n"
          ],
          "name": "stdout"
        }
      ]
    },
    {
      "metadata": {
        "id": "zpKDfktr2Cnt",
        "colab_type": "text"
      },
      "cell_type": "markdown",
      "source": [
        "### Minimum Adjustment Cost\n",
        "Description\n",
        "Given an integer array, adjust each integers so that \n",
        "the difference of every adjacent integers are not greater than a given number target.\n",
        "If the array before adjustment is A, the array after adjustment is B, \n",
        "you should minimize the sum of |A[i]-B[i]|\n",
        "\n",
        "```\n",
        "Notice\n",
        "You can assume each number in the array is a positive integer and not greater than 100.\n",
        "\n",
        "Example\n",
        "Given [1,4,2,3] and target = 1, one of the solutions is [2,3,2,3], \n",
        "the adjustment cost is 2 and it's minimal.\n",
        "Return 2.\n",
        "```\n",
        "\n",
        "\n",
        "f[i][k] = min(f[i][k], f[i-1][j] + abs(A[i-1]-k))\n",
        "\n"
      ]
    },
    {
      "metadata": {
        "id": "THJ-JdLmoMAx",
        "colab_type": "code",
        "colab": {
          "base_uri": "https://localhost:8080/",
          "height": 34
        },
        "outputId": "f19f49ea-ddc7-4488-df80-9a0e2789a6e3"
      },
      "cell_type": "code",
      "source": [
        "class Solution:\n",
        "    # param A: An integer array.\n",
        "    # param target: An integer.\n",
        "    def MinAdjustmentCost(self, A, target):\n",
        "        # write your code here\n",
        "        maxint = 65536\n",
        "        f = [[ maxint for j in range(101)] for i in range(len(A)+1)]\n",
        "        for i in range(101):\n",
        "            f[0][i] = 0\n",
        "        n = len(A)\n",
        "        \n",
        "        for i in range(1,n+1):\n",
        "            for j in range(101):\n",
        "                if f[i-1][j] != maxint:\n",
        "                    for k in range(101):\n",
        "                        if abs(j-k) <= target:\n",
        "                            f[i][k] = min(f[i][k], f[i-1][j] + abs(A[i-1]-k))\n",
        "        \n",
        "        return min(f[n])\n",
        "\n",
        "if __name__ == \"__main__\":\n",
        "    print Solution().MinAdjustmentCost([1,4,2,3], 1)"
      ],
      "execution_count": 29,
      "outputs": [
        {
          "output_type": "stream",
          "text": [
            "2\n"
          ],
          "name": "stdout"
        }
      ]
    },
    {
      "metadata": {
        "id": "D7ZMJ9c1riV8",
        "colab_type": "text"
      },
      "cell_type": "markdown",
      "source": [
        "## 背包型动态规划\n",
        "\n",
        "\n",
        "特点：\n",
        "\t1. 用值作为DP维度\n",
        "\t2. DP过程就是填写矩阵\n",
        "\t3. 可以滚动数组优化\n",
        "Backpack\n",
        "\t1. State:\n",
        "\t\t○ f[i][S] “前i”个物品，取出一些能否组成和为S\n",
        "\t2. Function:\n",
        "\t\t○ f[i][S] = f[i-1][S - a[i]] or f[i-1][S]\n",
        "\t3. Intialize:\n",
        "\t\t○ f[i][0] = true; f[0][1..target] = false\n",
        "\t4. Answer:\n",
        "\t\t○ 检查所有的f[n][j]\n",
        "时间复杂度 O(n*S) ， 滚动数组优化\n",
        "\n",
        "\n",
        "\n"
      ]
    },
    {
      "metadata": {
        "id": "eLcEJ3Z6Ikwi",
        "colab_type": "text"
      },
      "cell_type": "markdown",
      "source": [
        "### Backpack I \n",
        "\n",
        "Backpack\n",
        "Given n items with size Ai, an integer m denotes the size of a backpack. How full you can fill this backpack?\n",
        "\n",
        "Example\n",
        "```\n",
        "If we have 4 items with size [2, 3, 5, 7], the backpack size is 11, we can select [2, 3, 5], so that the max size we can fill this backpack is 10. If the backpack size is 12. we can select [2, 3, 7] so that we can fulfill the backpack.\n",
        "```\n",
        "\n",
        "You function should return the max size we can fill in the given backpack.\n",
        "\n",
        "Challenge:\n",
        "\n",
        "> O(n x m) time and O(m) memory.\n",
        "\n",
        ">O(n x m) memory is also acceptable if you do not know how to optimize memory.\n",
        "\n",
        "Solution: 标准 01背包问题，如下规划方程，选择第i个物品，放还是不放到包里，看是不是能增加更多的重量。\n",
        "\n",
        "> $f_v = max(f_v, \\   f_{v-c_i} + w_i)$\n",
        "\n",
        "\n",
        "> \n",
        "\n",
        "*   要求恰好装满背包，那么在初始化时除了 f[0] 为 0，其它f[1::V ] 均设为 − maxsize这样就可以保证最终得到的 F[V ] 是一种恰好装满背包的最优解。\n",
        "*   如果并没有要求必须把背包装满，而是只希望价格尽量大，初始化时应该将 F[0::V ]\n",
        "全部设为 0\n",
        "*    初始化的 F 数组事实上就是在没有任何物品可以放入背包时的合法状态。如果要求背包恰好装满，那么此时只有容量为 0 的背包可以在什么也不装且价值为 0 的情况下被“恰好装满”，其它容量的背包均没有合法的解，属于未定义的状态，应该被赋值为 -∞ 了。\n",
        "* 如果背包并非必须被装满，那么任何容量的背包都有一个合法解“什么都不装”，这个解的价值为 0，所以初始时状态的值也就全部为 0了。"
      ]
    },
    {
      "metadata": {
        "id": "WzchCvuKIkKz",
        "colab_type": "code",
        "colab": {
          "base_uri": "https://localhost:8080/",
          "height": 103
        },
        "outputId": "7d28b821-d53f-4cf2-c42f-2c63c732bdf2"
      },
      "cell_type": "code",
      "source": [
        "class Solution:\n",
        "    \"\"\"\n",
        "    @param m: An integer m denotes the size of a backpack\n",
        "    @param A: Given n items with size A[i]\n",
        "    @return: The maximum size\n",
        "    \"\"\"\n",
        "    def backPack(self, m, A):\n",
        "        f = [0 for _ in range(m+1)] # dp[v] stands for v size package to fill\n",
        "        f[0] = 0  \n",
        "        for i in range(len(A)):\n",
        "            for v in range(m, A[i]-1, -1): # C[i] = A[i] for any i\n",
        "                f[v] = max(f[v], f[v-A[i]] + A[i]) \n",
        "            print f\n",
        "        return f[m]\n",
        "\n",
        "if __name__ == \"__main__\":\n",
        "    s = Solution()\n",
        "    m = 11\n",
        "    A = [2, 3, 5, 7]\n",
        "    print s.backPack(m, A) \n"
      ],
      "execution_count": 30,
      "outputs": [
        {
          "output_type": "stream",
          "text": [
            "[0, 0, 2, 2, 2, 2, 2, 2, 2, 2, 2, 2]\n",
            "[0, 0, 2, 3, 3, 5, 5, 5, 5, 5, 5, 5]\n",
            "[0, 0, 2, 3, 3, 5, 5, 7, 8, 8, 10, 10]\n",
            "[0, 0, 2, 3, 3, 5, 5, 7, 8, 9, 10, 10]\n",
            "10\n"
          ],
          "name": "stdout"
        }
      ]
    },
    {
      "metadata": {
        "id": "JFIkwsC0Qc9I",
        "colab_type": "text"
      },
      "cell_type": "markdown",
      "source": [
        "### Backpack II, III \n",
        "\n",
        "Given n items with size Ai and value Vi, and a backpack with size m. What's the maximum value can you put into the backpack?\n",
        "\n",
        "Example\n",
        "```\n",
        "Given 4 items with size [2, 3, 5, 7] and value [1, 5, 2, 4], and a backpack with size 10. The maximum value is 9.\n",
        "```\n",
        "Challenge\n",
        "O(n x m) memory is acceptable, can you do it in O(m) memory?"
      ]
    },
    {
      "metadata": {
        "id": "VgF3HJspK6Ky",
        "colab_type": "code",
        "colab": {
          "base_uri": "https://localhost:8080/",
          "height": 120
        },
        "outputId": "2dbceb77-c61a-483b-a625-d4f7b799b117"
      },
      "cell_type": "code",
      "source": [
        "class Solution:\n",
        "    \"\"\"\n",
        "    @param m: An integer m denotes the size of a backpack\n",
        "    @param A: Given n items with size A[i]\n",
        "    @param V: Given n items with value V[i]\n",
        "    @return: The maximum value\n",
        "    \"\"\"\n",
        "    def backPackII(self, m, A, V):\n",
        "        f = [0 for _ in range(m+1)]\n",
        "        for i in range(len(A)):\n",
        "            for v in range(m, A[i]-1 , -1):\n",
        "                f[v] = max(f[v], f[v - A[i]] + V[i])\n",
        "        print f\n",
        "        return f[m]\n",
        "    \n",
        "    def backPackIII(self, m, A, V):\n",
        "        f = [0 for _ in range(m+1)]\n",
        "        for i in range(len(A)):\n",
        "            for v in range(A[i], m+1):\n",
        "                f[v] = max(f[v], f[v - A[i]] + V[i])\n",
        "        print f\n",
        "        return f[m]\n",
        "      \n",
        "    def backPackIII_full(self, m, A, V):\n",
        "        f = [ -65535 for _ in range(m+1)]\n",
        "        f[0] = 0\n",
        "        for i in range(len(A)):\n",
        "            for v in range(A[i], m+1):\n",
        "                f[v] = max(f[v], f[v-A[i]] + V[i])\n",
        "        print f\n",
        "        return f[m]\n",
        "      \n",
        "if __name__ == \"__main__\":\n",
        "    A = [2, 3, 5, 7]\n",
        "    V = [1, 5, 2, 4]\n",
        "    s = Solution()\n",
        "    print s.backPackII(10, A, V)\n",
        "    print s.backPackIII(10, A, V)\n",
        "    print s.backPackIII_full(10, A, V)"
      ],
      "execution_count": 36,
      "outputs": [
        {
          "output_type": "stream",
          "text": [
            "[0, 0, 1, 5, 5, 6, 6, 6, 7, 7, 9]\n",
            "9\n",
            "[0, 0, 1, 5, 5, 6, 10, 10, 11, 15, 15]\n",
            "15\n",
            "[0, -65535, 1, 5, 2, 6, 10, 7, 11, 15, 12]\n",
            "12\n"
          ],
          "name": "stdout"
        }
      ]
    },
    {
      "metadata": {
        "id": "L2EP-hYawE17",
        "colab_type": "text"
      },
      "cell_type": "markdown",
      "source": [
        "### Backpack IV, V, VI\n",
        "\n",
        "Given n items with size nums[i] which an integer array and all positive numbers, no duplicates. An integer target denotes the size of a backpack. Find the number of possible fill the backpack.\n",
        "\n",
        "\n",
        "> IV: 重复选择+唯一排列+装满可能性总数\n",
        "\n",
        "> V:  单次选择+装满可能性总数\n",
        "\n",
        "> VI: 重复选择+不同排列+装满可能性总数 = Combination Sum IV\n",
        "\n",
        "\n",
        "Notes: II~V 能够用一维dp表示的本质其实是因为当前行的值只和上一行有关，因此用动态数组两行就行，如果直接在上一行更新当前行的状态则只需要一行即可，因此其本质就是还是二维dp。但是VI真的是一维dp，即当前容量的填装数量只和之前容量填装的结果有关，只不过每次填装都要遍历整个nums数组来寻找相关的之前容量的状态，因此要用两重for循环。\n",
        "\n"
      ]
    },
    {
      "metadata": {
        "id": "2qx0DfmW8unO",
        "colab_type": "code",
        "colab": {
          "base_uri": "https://localhost:8080/",
          "height": 120
        },
        "outputId": "a6b218df-ebcf-41c7-f9b6-be775428c66a"
      },
      "cell_type": "code",
      "source": [
        "class Solution:\n",
        "  \n",
        "  \n",
        "    def backpackIV(self, nums, target):\n",
        "        dp = [0 for _ in range(target + 1)]\n",
        "        dp[0] = 1\n",
        "        for num in nums:\n",
        "            for j in range(num, target+1):\n",
        "                dp[j] += dp[j-num]\n",
        "        print dp\n",
        "        return dp[target]\n",
        "  \n",
        "    def backpackV(self, nums, target):\n",
        "        dp = [0 for _ in range(target + 1)]\n",
        "        dp[0] = 1\n",
        "        for num in nums:\n",
        "            for j in range(target, num-1, -1):\n",
        "                dp[j] += dp[j-num]\n",
        "        print dp\n",
        "        return dp[target]\n",
        "  \n",
        "    def backpackVI(self, nums, target):\n",
        "        dp = [0 for _ in range(target + 1)]\n",
        "        dp[0] = 1\n",
        "        for j in range(1, target+1):\n",
        "            for num in nums:  \n",
        "                if num <= j:\n",
        "                    dp[j] += dp[j-num]\n",
        "        print dp\n",
        "        return dp[target]\n",
        "  \n",
        "  \n",
        "if __name__ == \"__main__\":  \n",
        "    print Solution().backpackIV([1,2,4], 4)\n",
        "    print Solution().backpackV([1,2,4], 4)\n",
        "    print Solution().backpackVI([1,2,4], 4)\n",
        "    \n",
        "    "
      ],
      "execution_count": 35,
      "outputs": [
        {
          "output_type": "stream",
          "text": [
            "[1, 1, 2, 2, 4]\n",
            "4\n",
            "[1, 1, 1, 1, 1]\n",
            "1\n",
            "[1, 1, 2, 3, 6]\n",
            "6\n"
          ],
          "name": "stdout"
        }
      ]
    },
    {
      "metadata": {
        "id": "3we7BBI12u4i",
        "colab_type": "text"
      },
      "cell_type": "markdown",
      "source": [
        "### K sum\n",
        "Description\n",
        "Given n distinct positive integers, integer k (k <= n) and a number target.\n",
        "Find k numbers where sum is target. Calculate how many solutions there are?\n",
        "\n",
        "```\n",
        "Example\n",
        "Given [1,2,3,4], k = 2, target = 5.\n",
        "There are 2 solutions: [1,4] and [2,3].\n",
        "Return 2.\n",
        "```\n",
        "\n",
        "$ f[i][j][t] = f[i-1][j][t] +f[i-1][j-1][t-nums[i]]$"
      ]
    },
    {
      "metadata": {
        "id": "xFlX8S637iC3",
        "colab_type": "code",
        "colab": {
          "base_uri": "https://localhost:8080/",
          "height": 120
        },
        "outputId": "176c4455-7576-41ef-86a8-b5b6369f9b75"
      },
      "cell_type": "code",
      "source": [
        "class Solution:\n",
        "    def ksum(self, nums, k, target):\n",
        "        f = [[[0 for t in range(target+1)]\n",
        "                 for j in range(k+1)]\n",
        "                 for i in range(len(nums)+1)]\n",
        "\n",
        "        for i in range(len(nums)+1):\n",
        "            f[i][0][0] = 1 # for any i, select 0 item and sum 0 solution is 1 \n",
        "\n",
        "        for i in range(1, len(nums)+1):\n",
        "            for j in range(1, min(i,k)+1):\n",
        "                for t in range(target+1):\n",
        "                    if t >= nums[i-1]:\n",
        "                        f[i][j][t] = ( f[i-1][j][t] + \n",
        "                                       f[i-1][j-1][t-nums[i-1]] )\n",
        "                    else:\n",
        "                        f[i][j][t] = f[i-1][j][t]\n",
        "        for _ in f:\n",
        "            print _\n",
        "        return f[-1][-1][-1]\n",
        "    \n",
        "if __name__ == \"__main__\":\n",
        "    print Solution().ksum([1,2,3,4], 2, 5)"
      ],
      "execution_count": 33,
      "outputs": [
        {
          "output_type": "stream",
          "text": [
            "[[1, 0, 0, 0, 0, 0], [0, 0, 0, 0, 0, 0], [0, 0, 0, 0, 0, 0]]\n",
            "[[1, 0, 0, 0, 0, 0], [0, 1, 0, 0, 0, 0], [0, 0, 0, 0, 0, 0]]\n",
            "[[1, 0, 0, 0, 0, 0], [0, 1, 1, 0, 0, 0], [0, 0, 0, 1, 0, 0]]\n",
            "[[1, 0, 0, 0, 0, 0], [0, 1, 1, 1, 0, 0], [0, 0, 0, 1, 1, 1]]\n",
            "[[1, 0, 0, 0, 0, 0], [0, 1, 1, 1, 1, 0], [0, 0, 0, 1, 1, 2]]\n",
            "2\n"
          ],
          "name": "stdout"
        }
      ]
    },
    {
      "metadata": {
        "id": "pYSh20CBri5F",
        "colab_type": "text"
      },
      "cell_type": "markdown",
      "source": [
        "## 区间型动态规划\n",
        "\n",
        "特点：\n",
        "\t1. 求一段区间的解max/min/count\n",
        "\t2. 转移方程通过区间更新\n",
        "\t3. 从大到小的更新\n",
        "这种题目共性就是区间最后求[0,n-1] 这样一个区间，逆向思维分析，从大到小就能迎刃而解， 逆向 =》 分治类似"
      ]
    },
    {
      "metadata": {
        "id": "py16mejRugor",
        "colab_type": "text"
      },
      "cell_type": "markdown",
      "source": [
        "### Longest Palindromic Subsequence\n",
        "\n",
        "Description\n",
        "Given a string s, find the longest palindromic subsequence's length in s. You may assume that the maximum length of s is 1000.\n",
        "\n",
        "Have you met this question in a real interview?  \n",
        "```\n",
        "Example\n",
        "Given s = \"bbbab\" return 4\n",
        "One possible longest palindromic subsequence is \"bbbb\".\n",
        "```\n",
        "\n",
        "Solution:\n",
        "```\n",
        "dp[i][j]: the longest palindromic subsequence's length of substring(i, j)\n",
        "\n",
        "State transition:\n",
        "dp[i][j] = dp[i+1][j-1] + 2 if s.charAt(i) == s.charAt(j)\n",
        "\n",
        "otherwise, dp[i][j] = Math.max(dp[i+1][j], dp[i][j-1])\n",
        "Initialization: dp[i][i] = 1\n",
        "\n",
        "```"
      ]
    },
    {
      "metadata": {
        "id": "VOkztxx4vThc",
        "colab_type": "code",
        "colab": {
          "base_uri": "https://localhost:8080/",
          "height": 34
        },
        "outputId": "9c2c6b07-e759-4429-fd5c-4447d7c0faaf"
      },
      "cell_type": "code",
      "source": [
        "class Solution(object):\n",
        "    \"\"\"\n",
        "    @param s: the maximum length of s is 1000\n",
        "    @return: the longest palindromic subsequence's length\n",
        "    \"\"\"\n",
        "    def longestPalindromeSubseq(self, s):\n",
        "        if s == \"\":\n",
        "            return 0\n",
        "        f = [[0 for j in range(len(s))] \n",
        "                for i in range(len(s))]\n",
        "        for i in range(len(s)-1, -1, -1):\n",
        "            f[i][i] = 1 \n",
        "            for j in range(i+1, len(s)):\n",
        "                if s[i] == s[j]:\n",
        "                    f[i][j] = f[i+1][j-1] + 2\n",
        "                else:\n",
        "                    f[i][j] = max(f[i+1][j], f[i][j-1])\n",
        "        \n",
        "        return f[0][-1]\n",
        "    \n",
        "    \n",
        "if __name__ == \"__main__\":\n",
        "    print Solution().longestPalindromeSubseq('bbbab')\n",
        "        "
      ],
      "execution_count": 16,
      "outputs": [
        {
          "output_type": "stream",
          "text": [
            "4\n"
          ],
          "name": "stdout"
        }
      ]
    },
    {
      "metadata": {
        "id": "TaV4Ev06uiK7",
        "colab_type": "text"
      },
      "cell_type": "markdown",
      "source": [
        "### Longest Palindromic Substring\n"
      ]
    },
    {
      "metadata": {
        "id": "JTh0tr_OHapI",
        "colab_type": "code",
        "colab": {
          "base_uri": "https://localhost:8080/",
          "height": 34
        },
        "outputId": "f264bee7-2db0-4990-b0fa-b9a817cc09f7"
      },
      "cell_type": "code",
      "source": [
        "class Solution:\n",
        "    \"\"\"\n",
        "    @param s: input string\n",
        "    @return: the longest palindromic substring\n",
        "    \"\"\"\n",
        "    def longestPalindrome(self, s):\n",
        "        res = \"\"\n",
        "        for i in xrange(len(s)):\n",
        "            # odd case, like \"aba\"\n",
        "            tmp = self.helper(s, i, i)\n",
        "            if len(tmp) > len(res):\n",
        "                res = tmp\n",
        "            # even case, like \"abba\"\n",
        "            tmp = self.helper(s, i, i+1)\n",
        "            if len(tmp) > len(res):\n",
        "                res = tmp\n",
        "        return res\n",
        "\n",
        "    # get the longest palindrome, l, r are the middle indexes   \n",
        "    # from inner to outer\n",
        "    def helper(self, s, l, r):\n",
        "        while l >= 0 and r < len(s) and s[l] == s[r]:\n",
        "            l -= 1; r += 1\n",
        "        return s[l+1:r]\n",
        "\n",
        "if __name__ == \"__main__\":\n",
        "    print Solution().longestPalindrome('abbac')\n",
        "        \n",
        "        "
      ],
      "execution_count": 20,
      "outputs": [
        {
          "output_type": "stream",
          "text": [
            "abba\n"
          ],
          "name": "stdout"
        }
      ]
    },
    {
      "metadata": {
        "id": "CGyiXeYXupc0",
        "colab_type": "text"
      },
      "cell_type": "markdown",
      "source": [
        "### Shortest Palindrome"
      ]
    },
    {
      "metadata": {
        "id": "Yb7nRoyVu2JV",
        "colab_type": "text"
      },
      "cell_type": "markdown",
      "source": [
        "### Palindrome Pairs"
      ]
    },
    {
      "metadata": {
        "id": "bIFNuMmArjAl",
        "colab_type": "text"
      },
      "cell_type": "markdown",
      "source": [
        "## 博弈型动态规划\n",
        "\n",
        "\n",
        "博弈有先后手\n",
        "\t1. State:\n",
        "\t\t○ 定义一个人的状态\n",
        "\t2. Function:\n",
        "\t\t○ 考虑两个人的状态做状态更新\n",
        "\t3. Initialize:\n",
        "\t4. Answer:\n",
        "先思考最小状态, 然后思考大的状态-> 往小的递推，那么非常适合记忆化搜索\n"
      ]
    }
  ]
}