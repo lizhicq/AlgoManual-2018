{
  "nbformat": 4,
  "nbformat_minor": 0,
  "metadata": {
    "colab": {
      "name": "Lintcode Solutions.ipynb",
      "version": "0.3.2",
      "provenance": [],
      "collapsed_sections": [
        "JF1PH6BYyFqc",
        "8-veu44AzpHb",
        "oTcS_Evw6hRs"
      ]
    },
    "kernelspec": {
      "name": "python2",
      "display_name": "Python 2"
    },
    "accelerator": "GPU"
  },
  "cells": [
    {
      "cell_type": "markdown",
      "metadata": {
        "id": "view-in-github",
        "colab_type": "text"
      },
      "source": [
        "[View in Colaboratory](https://colab.research.google.com/github/lizhicq/TestProjects/blob/master/Lintcode_Solutions.ipynb)"
      ]
    },
    {
      "metadata": {
        "id": "2pw5MeNIp-qu",
        "colab_type": "text"
      },
      "cell_type": "markdown",
      "source": [
        "# Introduction\n",
        "\n",
        "Hack the coding interview with this manual !"
      ]
    },
    {
      "metadata": {
        "id": "iPg-jJ3uqLK2",
        "colab_type": "text"
      },
      "cell_type": "markdown",
      "source": [
        "### Longest Palindromic Subsequence\n",
        "\n",
        "Description\n",
        "Given a string s, find the longest palindromic subsequence's length in s. You may assume that the maximum length of s is 1000.\n",
        "\n",
        "Have you met this question in a real interview?  \n",
        "```\n",
        "Example\n",
        "Given s = \"bbbab\" return 4\n",
        "One possible longest palindromic subsequence is \"bbbb\".\n",
        "```\n",
        "\n",
        "\n"
      ]
    },
    {
      "metadata": {
        "id": "6ClzufgOqVGG",
        "colab_type": "code",
        "colab": {}
      },
      "cell_type": "code",
      "source": [
        "class Solution:\n",
        "    \"\"\"\n",
        "    @param s: the maximum length of s is 1000\n",
        "    @return: the longest palindromic subsequence's length\n",
        "    \"\"\"\n",
        "    def longestPalindromeSubseq(self, s):\n",
        "        "
      ],
      "execution_count": 0,
      "outputs": []
    },
    {
      "metadata": {
        "id": "LNfsww28z1dE",
        "colab_type": "text"
      },
      "cell_type": "markdown",
      "source": [
        "# Binary Search & Log N"
      ]
    },
    {
      "metadata": {
        "id": "ljJZmr_xqi_U",
        "colab_type": "text"
      },
      "cell_type": "markdown",
      "source": [
        "### Maximum Average Subarray II\n",
        "Given an array with positive and negative numbers, find the maximum average subarray which length should be greater or equal to given length k.\n",
        "\n",
        "```\n",
        "Example\n",
        "Given nums = [1, 12, -5, -6, 50, 3], k = 3\n",
        "\n",
        "Return 15.667 // (-6 + 50 + 3) / 3 = 15.667\n",
        "```\n",
        "\n",
        "我们建立一个累加和数组sums，然后求出原数组中最小值赋给left，最大值赋给right，题目中说了误差是1e-5，所以我们的循环条件就是right比left大1e-5，然后我们算出来mid，定义一个minSum初始化为0，布尔型变量check，初始化为false。然后开始遍历数组，先更新累加和数组sums，注意这个累加和数组不是原始数字的累加，而是它们和mid相减的差值累加。我们的目标是找长度大于等于k的子数组的平均值大于mid，由于我们每个数组都减去了mid，那么就转换为找长度大于等于k的子数组的差累积值大于0。我们建立差值累加数组的意义就在于通过sums[i] - sums[j]来快速算出j和i位置中间数字之和，那么我们只要j和i中间正好差k个数字即可，然后minSum就是用来保存j位置之前的子数组差累积的最小值，所以当i >= k时，我们用sums[i - k]来更新minSum，这里的i - k就是j的位置，然后判断如果sums[i] - minSum > 0了，说明我们找到了一段长度大于等k的子数组平均值大于mid了，就可以更新left为mid了，我们标记check为true，并退出循环。在for循环外面，当check为true的时候，left更新为mid，否则right更新为mid，参见代码如下："
      ]
    },
    {
      "metadata": {
        "id": "cHQ0Oi4eqiUH",
        "colab_type": "code",
        "colab": {
          "base_uri": "https://localhost:8080/",
          "height": 35
        },
        "outputId": "f496172d-a42f-4949-dc12-5a1cbeaf53db"
      },
      "cell_type": "code",
      "source": [
        "class Solution:\n",
        "    \"\"\"\n",
        "    @param: nums: an array with positive and negative numbers\n",
        "    @param: k: an integer\n",
        "    @return: the maximum average\n",
        "    \"\"\"\n",
        "    def maxAverage(self, nums, k):\n",
        "        left = min(nums) * 1.0\n",
        "        right = max(nums)\n",
        "        eps = 1e-5\n",
        "        csum = [0 for i in range(len(nums)+1)]\n",
        "        min_pre = [0 for i in range(len(nums)+1)]\n",
        "        \n",
        "        def check(mid):\n",
        "          csum[0] = 0.0\n",
        "          min_pre[0] = 0.0\n",
        "          \n",
        "          for i in range(1, len(nums)+1):\n",
        "            csum[i] = csum[i-1] + nums[i-1] - mid\n",
        "            min_pre[i] = min(min_pre[i-1], csum[i])\n",
        "            \n",
        "            if i >= k and csum[i] - min_pre[i-k] >= 0:\n",
        "              return True\n",
        "          return False\n",
        "        \n",
        "        while left + eps < right:\n",
        "          mid = left + (right -left)/2\n",
        "          if check(mid):\n",
        "            left = mid\n",
        "          else:\n",
        "            right = mid\n",
        "        \n",
        "        return left\n",
        "      \n",
        "if __name__ == \"__main__\":\n",
        "    print Solution().maxAverage([1,2,3,4], 2)"
      ],
      "execution_count": 14,
      "outputs": [
        {
          "output_type": "stream",
          "text": [
            "3.4999961853\n"
          ],
          "name": "stdout"
        }
      ]
    },
    {
      "metadata": {
        "id": "4mPwJmOX-5TQ",
        "colab_type": "text"
      },
      "cell_type": "markdown",
      "source": [
        "### 458. Last Position of Target\n",
        "\n",
        "Description\n",
        "Find the last position of a target number in a sorted array. Return -1 if target does not exist.\n",
        "\n",
        "Have you met this question in a real interview?  \n",
        "Example\n",
        "Given [1, 2, 2, 4, 5, 5].\n",
        "\n",
        "For target = 2, return 2.\n",
        "\n",
        "For target = 5, return 5.\n",
        "\n",
        "For target = 6, return -1."
      ]
    },
    {
      "metadata": {
        "id": "0UkWrIJ-_CWC",
        "colab_type": "code",
        "colab": {}
      },
      "cell_type": "code",
      "source": [
        "class Solution(object):\n",
        "    def lastPosition(self, nums, target):\n",
        "        if len(nums) == 0:\n",
        "            return -1\n",
        "        start, end = 0, len(nums) - 1\n",
        "        while start + 1 < end:\n",
        "            mid = start + (end - start) // 2 \n",
        "            if nums[mid] <= target:\n",
        "                start = mid\n",
        "            else:\n",
        "                end = mid\n",
        "        if nums[end] == target:\n",
        "            return end\n",
        "        elif nums[start] == target:\n",
        "            return start\n",
        "        else:\n",
        "            return -1"
      ],
      "execution_count": 0,
      "outputs": []
    },
    {
      "metadata": {
        "id": "tPWp_JDw-5eG",
        "colab_type": "text"
      },
      "cell_type": "markdown",
      "source": [
        "### 585. Maximum Number in Mountain Sequence\n",
        "\n",
        "Description\n",
        "Given a mountain sequence of n integers which increase firstly and then decrease, find the mountain top.\n",
        "```\n",
        "Example\n",
        "Given nums = [1, 2, 4, 8, 6, 3] return 8\n",
        "Given nums = [10, 9, 8, 7], return 10\n",
        "```"
      ]
    },
    {
      "metadata": {
        "id": "wD1b4RVd_lEQ",
        "colab_type": "code",
        "colab": {}
      },
      "cell_type": "code",
      "source": [
        "class Solution:\n",
        "    \"\"\"\n",
        "    @param: nums: a mountain sequence which increase firstly and then decrease\n",
        "    @return: then mountain top\n",
        "    \"\"\"\n",
        "    def mountainSequence(self, nums):\n",
        "        if len(nums) == 0: \n",
        "            return None\n",
        "        if len(nums) == 1:\n",
        "            return nums[0]\n",
        "        if len(nums) == 2:\n",
        "            return nums[0] if nums[0] > nums[1] else nums[1]\n",
        "    \n",
        "        start, end = 0, len(nums) - 1 \n",
        "        \n",
        "        while start + 1 < end:\n",
        "            mid = start + (end - start) // 2 \n",
        "            if nums[mid] < nums[mid+1]:\n",
        "                start = mid\n",
        "            elif nums[mid] > nums[mid+1]:\n",
        "                end = mid\n",
        "        if nums[start] > nums[end]:\n",
        "            return nums[start]\n",
        "        elif nums[start] < nums[end]:\n",
        "            return nums[end]\n",
        "        else:\n",
        "            return -1"
      ],
      "execution_count": 0,
      "outputs": []
    },
    {
      "metadata": {
        "id": "LTbWxqcE-5h9",
        "colab_type": "text"
      },
      "cell_type": "markdown",
      "source": [
        "### 75 Find peak element"
      ]
    },
    {
      "metadata": {
        "id": "813gsL6YA0SG",
        "colab_type": "code",
        "colab": {}
      },
      "cell_type": "code",
      "source": [
        "class Solution(object):\n",
        "    def findPeak(self, nums):\n",
        "        start, end = 0, len(nums) - 2 # prevent overlap\n",
        "        while start + 1 < end:\n",
        "            mid = start + (end - start) // 2\n",
        "\n",
        "            if nums[mid] < nums[mid + 1]:\n",
        "               start = mid\n",
        "            else:\n",
        "               end = mid\n",
        "        if nums[start] < nums[end]:\n",
        "            return end\n",
        "        else:\n",
        "            return start"
      ],
      "execution_count": 0,
      "outputs": []
    },
    {
      "metadata": {
        "id": "MXqlaJ7GBoOH",
        "colab_type": "text"
      },
      "cell_type": "markdown",
      "source": [
        "Google有一道难题，要记录在这里"
      ]
    },
    {
      "metadata": {
        "id": "UNjkL2g1Bm2_",
        "colab_type": "code",
        "colab": {}
      },
      "cell_type": "code",
      "source": [
        ""
      ],
      "execution_count": 0,
      "outputs": []
    },
    {
      "metadata": {
        "id": "mtoIImYd-5mE",
        "colab_type": "text"
      },
      "cell_type": "markdown",
      "source": [
        ""
      ]
    },
    {
      "metadata": {
        "id": "oNK7jroA-5uu",
        "colab_type": "text"
      },
      "cell_type": "markdown",
      "source": [
        ""
      ]
    },
    {
      "metadata": {
        "id": "R6QECuRI-50O",
        "colab_type": "text"
      },
      "cell_type": "markdown",
      "source": [
        ""
      ]
    },
    {
      "metadata": {
        "id": "lr0baY37-54V",
        "colab_type": "text"
      },
      "cell_type": "markdown",
      "source": [
        ""
      ]
    },
    {
      "metadata": {
        "id": "JcTlAxkj-58T",
        "colab_type": "text"
      },
      "cell_type": "markdown",
      "source": [
        ""
      ]
    },
    {
      "metadata": {
        "id": "7iAj_JG4-6AE",
        "colab_type": "text"
      },
      "cell_type": "markdown",
      "source": [
        ""
      ]
    },
    {
      "metadata": {
        "id": "bdnq0eiG-6Eo",
        "colab_type": "text"
      },
      "cell_type": "markdown",
      "source": [
        ""
      ]
    },
    {
      "metadata": {
        "id": "gmdI7tLQ-6Im",
        "colab_type": "text"
      },
      "cell_type": "markdown",
      "source": [
        ""
      ]
    },
    {
      "metadata": {
        "id": "tNjGjp_h-6Ln",
        "colab_type": "text"
      },
      "cell_type": "markdown",
      "source": [
        ""
      ]
    },
    {
      "metadata": {
        "id": "K0aKXwhB-6Pf",
        "colab_type": "text"
      },
      "cell_type": "markdown",
      "source": [
        ""
      ]
    },
    {
      "metadata": {
        "id": "5uI4P2vl-6TY",
        "colab_type": "text"
      },
      "cell_type": "markdown",
      "source": [
        ""
      ]
    },
    {
      "metadata": {
        "id": "QikMBq5h-6Xa",
        "colab_type": "text"
      },
      "cell_type": "markdown",
      "source": [
        ""
      ]
    },
    {
      "metadata": {
        "id": "wNKSygxH-6bh",
        "colab_type": "text"
      },
      "cell_type": "markdown",
      "source": [
        ""
      ]
    },
    {
      "metadata": {
        "id": "SFfWF235-6fV",
        "colab_type": "text"
      },
      "cell_type": "markdown",
      "source": [
        ""
      ]
    },
    {
      "metadata": {
        "id": "ociFmGaJ-6jV",
        "colab_type": "text"
      },
      "cell_type": "markdown",
      "source": [
        ""
      ]
    },
    {
      "metadata": {
        "id": "rVqFJEPJ-6nL",
        "colab_type": "text"
      },
      "cell_type": "markdown",
      "source": [
        ""
      ]
    },
    {
      "metadata": {
        "id": "6Fy9h5nO-6rR",
        "colab_type": "text"
      },
      "cell_type": "markdown",
      "source": [
        ""
      ]
    },
    {
      "metadata": {
        "id": "mnBnoZaS-6ve",
        "colab_type": "text"
      },
      "cell_type": "markdown",
      "source": [
        ""
      ]
    },
    {
      "metadata": {
        "id": "Thx-tyyG-62E",
        "colab_type": "text"
      },
      "cell_type": "markdown",
      "source": [
        ""
      ]
    },
    {
      "metadata": {
        "id": "O6wPELr8-65_",
        "colab_type": "text"
      },
      "cell_type": "markdown",
      "source": [
        ""
      ]
    },
    {
      "metadata": {
        "id": "9IDbaNh9-68z",
        "colab_type": "text"
      },
      "cell_type": "markdown",
      "source": [
        ""
      ]
    },
    {
      "metadata": {
        "id": "sMaTix7O-7DP",
        "colab_type": "text"
      },
      "cell_type": "markdown",
      "source": [
        ""
      ]
    },
    {
      "metadata": {
        "id": "Yn9HBl3X-7Hg",
        "colab_type": "text"
      },
      "cell_type": "markdown",
      "source": [
        ""
      ]
    },
    {
      "metadata": {
        "id": "hbfZiAau-7LJ",
        "colab_type": "text"
      },
      "cell_type": "markdown",
      "source": [
        ""
      ]
    },
    {
      "metadata": {
        "id": "c3-_zPHH-70f",
        "colab_type": "text"
      },
      "cell_type": "markdown",
      "source": [
        ""
      ]
    },
    {
      "metadata": {
        "id": "SKSTU9Nf-74m",
        "colab_type": "text"
      },
      "cell_type": "markdown",
      "source": [
        ""
      ]
    },
    {
      "metadata": {
        "id": "8W2U0Pc5-7_C",
        "colab_type": "text"
      },
      "cell_type": "markdown",
      "source": [
        ""
      ]
    },
    {
      "metadata": {
        "id": "LYBcM7oB-8C3",
        "colab_type": "text"
      },
      "cell_type": "markdown",
      "source": [
        ""
      ]
    },
    {
      "metadata": {
        "id": "pvBg89ZC-782",
        "colab_type": "text"
      },
      "cell_type": "markdown",
      "source": [
        ""
      ]
    },
    {
      "metadata": {
        "id": "OBzuk2LW-6z9",
        "colab_type": "text"
      },
      "cell_type": "markdown",
      "source": [
        ""
      ]
    },
    {
      "metadata": {
        "id": "qRgfOvCdz1aE",
        "colab_type": "text"
      },
      "cell_type": "markdown",
      "source": [
        "# Two Pointers"
      ]
    },
    {
      "metadata": {
        "id": "GAJTOZc_HSNN",
        "colab_type": "text"
      },
      "cell_type": "markdown",
      "source": [
        "### 228. Middle of Linked List\n",
        "Description\n",
        "Find the middle node of a linked list.\n",
        "\n",
        "Have you met this question in a real interview?  \n",
        "```\n",
        "Example\n",
        "Given 1->2->3, return the node with value 2.\n",
        "\n",
        "Given 1->2, return the node with value 1.\n",
        "\n",
        "Challenge\n",
        "If the linked list is in a data stream, can you find the middle without iterating the linked list again?\n",
        "```"
      ]
    },
    {
      "metadata": {
        "id": "729mg0sEI8_N",
        "colab_type": "code",
        "colab": {}
      },
      "cell_type": "code",
      "source": [
        "class Solution:\n",
        "    # @ head: the head of linked list.\n",
        "    # @ return: a middle node of the linked list\n",
        "    def middleNode(self, head):\n",
        "        if head is None:\n",
        "            return None\n",
        "        slow = head\n",
        "        fast = slow.next\n",
        "        while fast is not None and fast.next is not None:\n",
        "            slow = slow.next\n",
        "            fast = fast.next.next\n",
        "\n",
        "        return slow"
      ],
      "execution_count": 0,
      "outputs": []
    },
    {
      "metadata": {
        "id": "N6a5ps9lHfYF",
        "colab_type": "text"
      },
      "cell_type": "markdown",
      "source": [
        "### 607. Two Sum III - Data structure design\n",
        "\n",
        "Description\n",
        "Design and implement a TwoSum class. It should support the following operations: add and find.\n",
        "\n",
        "add - Add the number to an internal data structure.\n",
        "find - Find if there exists any pair of numbers which sum is equal to the value.\n",
        "```\n",
        "Have you met this question in a real interview?  \n",
        "Example\n",
        "add(1); add(3); add(5);\n",
        "find(4) // return true\n",
        "find(7) // return false\n",
        "```"
      ]
    },
    {
      "metadata": {
        "id": "b9wGB5_nJMrc",
        "colab_type": "code",
        "colab": {}
      },
      "cell_type": "code",
      "source": [
        "class TwoSum(object):\n",
        "\n",
        "    def __init__(self):\n",
        "        # initialize your data structure here\n",
        "        self.count = {}\n",
        "\n",
        "    # Add the number to an internal data structure.\n",
        "    # @number {int}\n",
        "    # @return nothing\n",
        "    def add(self, number):\n",
        "        # Write your code here\n",
        "        if number in self.count:\n",
        "            self.count[number] += 1\n",
        "        else:\n",
        "            self.count[number] = 1\n",
        "            \n",
        "    # Find if there exists any pair of numbers which sum is equal to the value.\n",
        "    # @value {int}\n",
        "    # @return true if can be found or false\n",
        "    def find(self, value):\n",
        "        # Write your code here\n",
        "        for num in self.count:\n",
        "            if (value - num in self.count and \n",
        "                value - num != num or self.count[num] > 1):\n",
        "                return True\n",
        "        return False"
      ],
      "execution_count": 0,
      "outputs": []
    },
    {
      "metadata": {
        "id": "7kFwcxhmHSqE",
        "colab_type": "text"
      },
      "cell_type": "markdown",
      "source": [
        "### 539. Move Zeroes\n",
        "\n",
        "Description\n",
        "Given an array nums, write a function to move all 0's to the end of it while maintaining the relative order of the non-zero elements.\n",
        "\n",
        "You must do this in-place without making a copy of the array.\n",
        "Minimize the total number of operations.\n",
        "Have you met this question in a real interview?  \n",
        "```\n",
        "Example\n",
        "Given nums = [0, 1, 0, 3, 12], after calling your function, nums should be [1, 3, 12, 0, 0].\n",
        "```"
      ]
    },
    {
      "metadata": {
        "id": "W8I_EajoKIB7",
        "colab_type": "code",
        "colab": {
          "base_uri": "https://localhost:8080/",
          "height": 35
        },
        "outputId": "c6344d1e-1e35-4058-e862-e5fa1eb99fdf"
      },
      "cell_type": "code",
      "source": [
        "class Solution:\n",
        "    # @{int[]} nums an integer array\n",
        "    # @return nothing, do this in-place\n",
        "    def moveZeroes(self, nums):\n",
        "        left = right = 0\n",
        "        while right < len(nums):\n",
        "            if nums[right] != 0:\n",
        "              nums[left], nums[right] = nums[right], nums[left]\n",
        "              left += 1\n",
        "            right += 1\n",
        "        return nums\n",
        "      \n",
        "if __name__ == \"__main__\":\n",
        "  print Solution().moveZeroes([0, 1, 0, 3, 12])"
      ],
      "execution_count": 4,
      "outputs": [
        {
          "output_type": "stream",
          "text": [
            "[1, 3, 12, 0, 0]\n"
          ],
          "name": "stdout"
        }
      ]
    },
    {
      "metadata": {
        "id": "5-JSiUxbHSJL",
        "colab_type": "text"
      },
      "cell_type": "markdown",
      "source": [
        "### 521. Remove Duplicate Numbers in Array\n",
        "\n",
        "Description\n",
        "Given an array of integers, remove the duplicate numbers in it.\n",
        "\n",
        "You should:\n",
        "\n",
        "Do it in place in the array.\n",
        "Move the unique numbers to the front of the array.\n",
        "Return the total number of the unique numbers.\n",
        "You don't need to keep the original order of the integers.\n",
        "\n",
        "Have you met this question in a real interview?  \n",
        "\n",
        "```\n",
        "Example\n",
        "Given nums = [1,3,1,4,4,2], you should:\n",
        "\n",
        "Move duplicate integers to the tail of nums => nums = [1,3,4,2,?,?].\n",
        "Return the number of unique integers in nums => 4.\n",
        "Actually we don't care about what you place in ?, we only care about the part which has no duplicate integers.\n",
        "\n",
        "Challenge\n",
        "Do it in O(n) time complexity.\n",
        "Do it in O(nlogn) time without extra space.\n",
        "```"
      ]
    },
    {
      "metadata": {
        "id": "IMzlFyQ6K_qs",
        "colab_type": "code",
        "colab": {
          "base_uri": "https://localhost:8080/",
          "height": 35
        },
        "outputId": "56f3b544-221c-457f-8e2a-b92ef0740382"
      },
      "cell_type": "code",
      "source": [
        "class Solution:\n",
        "    # @{int[]} nums an array of integers\n",
        "    # @return {int} the number of unique integers\n",
        "    def deduplication(self, nums):\n",
        "        return len(set(nums)) \n",
        "    \n",
        "    def deduplication2(self, nums):\n",
        "        nums.sort()\n",
        "        pvt = 0\n",
        "        for i in range(len(nums)):\n",
        "            if nums[i] != nums[pvt]:\n",
        "                pvt += 1\n",
        "                nums[pvt] = nums[i]\n",
        "        return pvt + 1\n",
        "      \n",
        "if __name__ == \"__main__\":\n",
        "    print(Solution().deduplication2([1,2,3,4,5,1,3,2]))"
      ],
      "execution_count": 1,
      "outputs": [
        {
          "output_type": "stream",
          "text": [
            "5\n"
          ],
          "name": "stdout"
        }
      ]
    },
    {
      "metadata": {
        "id": "E5yCOszQHSG3",
        "colab_type": "text"
      },
      "cell_type": "markdown",
      "source": [
        "### 464. Sort Integers II\n",
        "\n",
        "Description\n",
        "Given an integer array, sort it in ascending order. Use quick sort, merge sort, heap sort or any O(nlogn) algorithm.\n",
        "```\n",
        "Example\n",
        "Given [3, 2, 1, 4, 5], return [1, 2, 3, 4, 5].\n",
        "```"
      ]
    },
    {
      "metadata": {
        "id": "bmumzlo58DdQ",
        "colab_type": "code",
        "colab": {
          "base_uri": "https://localhost:8080/",
          "height": 51
        },
        "outputId": "0c15ab02-3408-4e97-e9c7-08624a7fcc72"
      },
      "cell_type": "code",
      "source": [
        "# quick sort \n",
        "# Your submission beats 67.20% Submissions!\n",
        "class Solution:\n",
        "    \"\"\"\n",
        "    @param A: an integer array\n",
        "    @return: nothing\n",
        "    \"\"\"\n",
        "    def quicksort(self, nums, lo=None, hi=None):\n",
        "        lo = 0 if lo is None else lo\n",
        "        hi = len(nums) - 1 if hi is None else hi\n",
        "        if lo < hi:\n",
        "            p = self.partition(nums, lo, hi)\n",
        "            self.quicksort(nums, lo, p-1)\n",
        "            self.quicksort(nums, p+1, hi)\n",
        "\n",
        "    def quickselect(self, nums, k, lo=None, hi=None):\n",
        "        lo = 0 if lo is None else lo\n",
        "        hi = len(nums) - 1 if hi is None else hi\n",
        "        while True:\n",
        "            if lo == hi:\n",
        "                return nums[lo]\n",
        "            pvt = self.partition(nums, lo, hi)\n",
        "            if k == pvt:\n",
        "                return nums[k]\n",
        "            elif k < pvt:\n",
        "                hi = pvt - 1\n",
        "            else:\n",
        "                lo = pvt + 1\n",
        "\n",
        "    def partition(self, nums, lo=None, hi=None):\n",
        "        lo = 0 if lo is None else lo\n",
        "        hi = len(nums) - 1 if hi is None else hi\n",
        "        pvt = lo\n",
        "        for i in range(lo, hi):\n",
        "            if nums[i] < nums[hi]:\n",
        "                nums[i], nums[pvt] = nums[pvt], nums[i]\n",
        "                pvt += 1\n",
        "        nums[pvt], nums[hi] = nums[hi], nums[pvt]\n",
        "        return pvt\n",
        "\n",
        "if __name__ == \"__main__\":\n",
        "    nums = [1,5,4,2,1,3,2,1,4,2,12,3,2,2,2]\n",
        "    print Solution().quickselect(nums, 10)\n",
        "    Solution().quicksort(nums)\n",
        "    print nums"
      ],
      "execution_count": 3,
      "outputs": [
        {
          "output_type": "stream",
          "text": [
            "3\n",
            "[1, 1, 1, 2, 2, 2, 2, 2, 2, 3, 3, 4, 4, 5, 12]\n"
          ],
          "name": "stdout"
        }
      ]
    },
    {
      "metadata": {
        "id": "fu8Y1KgK8Djx",
        "colab_type": "code",
        "colab": {
          "base_uri": "https://localhost:8080/",
          "height": 34
        },
        "outputId": "9296cfa8-1594-4ddc-e792-c847baa98b61"
      },
      "cell_type": "code",
      "source": [
        "# Merge sort \n",
        "# Your submission beats 33.00% Submissions!\n",
        "class Solution(object):\n",
        "    def mergesort(self, nums, lo=None, hi=None):\n",
        "        lo = 0 if lo is None else lo\n",
        "        hi = len(nums) - 1 if hi is None else hi\n",
        "        if lo == hi:\n",
        "            return [nums[lo]]\n",
        "        mid = (lo + hi) // 2\n",
        "        left = self.mergesort(nums, lo, mid)\n",
        "        right = self.mergesort(nums, mid+1, hi)\n",
        "        return self.merge(left, right)\n",
        "\n",
        "    def merge(self, left, right): # merge two sorted list\n",
        "        res = []\n",
        "        i = j = 0\n",
        "        while i < len(left) and j < len(right):\n",
        "            if left[i] <= right[j]:\n",
        "                res.append(left[i])\n",
        "                i += 1\n",
        "            else:\n",
        "                res.append(right[j])\n",
        "                j += 1\n",
        "        while i < len(left):\n",
        "            res.append(left[i])\n",
        "            i += 1\n",
        "        while j < len(right):\n",
        "            res.append(right[j])\n",
        "            j += 1\n",
        "        return res\n",
        "\n",
        "if __name__ == \"__main__\":\n",
        "    nums = [1, 5, 4, 2, 1, 3, 2, 1, 4, 2, 12, 3, 2, 2, 2]\n",
        "    print Solution().mergesort(nums)"
      ],
      "execution_count": 2,
      "outputs": [
        {
          "output_type": "stream",
          "text": [
            "[1, 1, 1, 2, 2, 2, 2, 2, 2, 3, 3, 4, 4, 5, 12]\n"
          ],
          "name": "stdout"
        }
      ]
    },
    {
      "metadata": {
        "id": "4cdU-E8E8DpY",
        "colab_type": "code",
        "colab": {
          "base_uri": "https://localhost:8080/",
          "height": 34
        },
        "outputId": "90389971-3f2e-49be-9911-55b77d40a683"
      },
      "cell_type": "code",
      "source": [
        "# Heap sort \n",
        "# Your submission beats 16.40% Submissions!\n",
        "\n",
        "class Solution:\n",
        "    \"\"\"\n",
        "    @param A: an integer array\n",
        "    @return: nothing\n",
        "    \"\"\"\n",
        "    def heapsort(self, nums, lo=None, hi=None):\n",
        "        lo = 0 if lo is None else lo\n",
        "        hi = len(nums) - 1 if hi is None else hi\n",
        "\n",
        "        # 1. build the heap\n",
        "        for i in range(hi//2, lo-1, -1):\n",
        "            self.maxheapify(nums, i, hi)\n",
        "        # 2. delete top\n",
        "        for i in range(hi, lo, -1):\n",
        "            nums[lo], nums[i] = nums[i], nums[lo]\n",
        "            # after each iteration, largest goes to ith, next end at i-1\n",
        "            self.maxheapify(nums, lo, i-1)\n",
        "\n",
        "    def maxheapify(self, nums, lo=None, hi=None):\n",
        "        lo = 0 if lo is None else lo\n",
        "        hi = len(nums) - 1 if hi is None else hi\n",
        "        parent = lo\n",
        "        while parent <= hi:\n",
        "            left = parent * 2 + 1\n",
        "            right = parent * 2 + 2\n",
        "            child = -1\n",
        "\n",
        "            if left <= hi and right <= hi:\n",
        "                child = left if nums[left] > nums[right] else right\n",
        "            elif left <= hi:\n",
        "                child = left\n",
        "            else:\n",
        "                return\n",
        "            # max heap root >= left and root >= right\n",
        "            if nums[parent] >= nums[child]:\n",
        "                return\n",
        "            nums[parent], nums[child] = nums[child], nums[parent]\n",
        "            parent = child\n",
        "\n",
        "\n",
        "if __name__ == \"__main__\":\n",
        "    nums = [1,5,4,2,1,3,2,1,4,2,12,3,2,2,2]\n",
        "    # build maxheap\n",
        "    s = Solution()\n",
        "    s.heapsort(nums)\n",
        "    print nums"
      ],
      "execution_count": 1,
      "outputs": [
        {
          "output_type": "stream",
          "text": [
            "[1, 1, 1, 2, 2, 2, 2, 2, 2, 3, 3, 4, 4, 5, 12]\n"
          ],
          "name": "stdout"
        }
      ]
    },
    {
      "metadata": {
        "id": "-24yfHjfHSFy",
        "colab_type": "text"
      },
      "cell_type": "markdown",
      "source": [
        "### 608. Two Sum II - Input array is sorted\n",
        "Description\n",
        "Given an array of integers that is already sorted in ascending order, find two numbers such that they add up to a specific target number.\n",
        "\n",
        "The function twoSum should return indices of the two numbers such that they add up to the target, where index1 must be less than index2. Please note that your returned answers (both index1 and index2) are not zero-based.\n",
        "\n",
        "You may assume that each input would have exactly one solution.\n",
        "\n",
        "```\n",
        "Example\n",
        "Given nums = [2, 7, 11, 15], target = 9\n",
        "return [1, 2]\n",
        "```"
      ]
    },
    {
      "metadata": {
        "id": "eyuutwY1Fq__",
        "colab_type": "code",
        "colab": {}
      },
      "cell_type": "code",
      "source": [
        "class Solution:\n",
        "    \"\"\"\n",
        "    @param nums: an array of Integer\n",
        "    @param target: target = nums[index1] + nums[index2]\n",
        "    @return: [index1 + 1, index2 + 1] (index1 < index2)\n",
        "    \"\"\"\n",
        "    def twoSum(self, nums, target):\n",
        "        start, end = 0, len(nums) - 1\n",
        "        while start < end :\n",
        "            csum = nums[start] + nums[end]\n",
        "            if csum == target:\n",
        "                return [start+1, end+1]\n",
        "            elif csum < target:\n",
        "                start += 1\n",
        "            else:\n",
        "                end -=1\n",
        "        return []"
      ],
      "execution_count": 0,
      "outputs": []
    },
    {
      "metadata": {
        "id": "_fXiQvyaHSB2",
        "colab_type": "text"
      },
      "cell_type": "markdown",
      "source": [
        "### 143. Sort Colors II\n",
        "Description\n",
        "Given an array of n objects with k different colors (numbered from 1 to k), sort them so that objects of the same color are adjacent, with the colors in the order 1, 2, ... k.\n",
        "```\n",
        "Example\n",
        "Given colors=[3, 2, 2, 1, 4], k=4, your code should sort colors in-place to [1, 2, 2, 3, 4].\n",
        "\n",
        "Challenge\n",
        "A rather straight forward solution is a two-pass algorithm using counting sort. That will cost O(k) extra memory. Can you do it without using extra memory?\n",
        "```"
      ]
    },
    {
      "metadata": {
        "id": "2vhuUsYwXavd",
        "colab_type": "code",
        "colab": {
          "base_uri": "https://localhost:8080/",
          "height": 35
        },
        "outputId": "1d97d79b-7fe6-4d5f-81ff-fe093ac555d5"
      },
      "cell_type": "code",
      "source": [
        "class Solution:\n",
        "    \"\"\"\n",
        "    @param colors: A list of integer\n",
        "    @param k: An integer\n",
        "    @return: nothing\n",
        "    \"\"\"\n",
        "    def sortColors2(self, colors, k):\n",
        "        count = [0 for _ in range(k)]\n",
        "        for color in colors:\n",
        "            count[color - 1] += 1\n",
        "        i = 0\n",
        "        for j in range(len(count)):\n",
        "            while count[j] > 0:\n",
        "                colors[i] = j + 1\n",
        "                i += 1\n",
        "                count[j] -= 1\n",
        "        print colors\n",
        "        \n",
        "if __name__ == \"__main__\":\n",
        "    colors = [2,1,1,2,2]\n",
        "    k = 2\n",
        "    Solution().sortColors2(colors, k)"
      ],
      "execution_count": 3,
      "outputs": [
        {
          "output_type": "stream",
          "text": [
            "[1, 1, 2, 2, 2]\n"
          ],
          "name": "stdout"
        }
      ]
    },
    {
      "metadata": {
        "id": "QH3CkLZ_HR-F",
        "colab_type": "text"
      },
      "cell_type": "markdown",
      "source": [
        "### 57. 3Sum\n",
        "Description\n",
        "Given an array S of n integers, are there elements a, b, c in S such that a + b + c = 0? Find all unique triplets in the array which gives the sum of zero.\n",
        "\n",
        "Elements in a triplet (a,b,c) must be in non-descending order. (ie, a ≤ b ≤ c)\n",
        "\n",
        "The solution set must not contain duplicate triplets.\n",
        "```\n",
        "Example\n",
        "For example, given array S = {-1 0 1 2 -1 -4}, A solution set is:\n",
        "\n",
        "(-1, 0, 1)\n",
        "(-1, -1, 2)\n",
        "```"
      ]
    },
    {
      "metadata": {
        "id": "BUlLbDFoHR5o",
        "colab_type": "text"
      },
      "cell_type": "markdown",
      "source": [
        "### 31. Partition Array\n",
        "Description\n",
        "Given an array nums of integers and an int k, partition the array (i.e move the elements in \"nums\") such that:\n",
        "\n",
        "All elements < k are moved to the left\n",
        "All elements >= k are moved to the right\n",
        "Return the partitioning index, i.e the first index i nums[i] >= k.\n",
        "```\n",
        "Example\n",
        "If nums = [3,2,2,1] and k=2, a valid answer is 1.\n",
        "\n",
        "Challenge\n",
        "Can you partition the array in-place and in O(n)?\n",
        "```"
      ]
    },
    {
      "metadata": {
        "id": "9dGr2O3e9Bwi",
        "colab_type": "code",
        "colab": {
          "base_uri": "https://localhost:8080/",
          "height": 35
        },
        "outputId": "ea314f9d-4b3c-484f-860e-4cb6bb6b5127"
      },
      "cell_type": "code",
      "source": [
        "class Solution:\n",
        "    \"\"\"\n",
        "    @param nums: The integer array you should partition\n",
        "    @param k: An integer\n",
        "    @return: The index after partition\n",
        "    \"\"\"\n",
        "    def partitionArray(self, nums, k):\n",
        "        if len(nums) == 0:\n",
        "            return 0 \n",
        "        pvt = 0\n",
        "        while pvt < len(nums):\n",
        "            if nums[pvt] == k: # find the element = k, O(n) as it is not sorted\n",
        "                break\n",
        "            pvt += 1\n",
        "        if pvt == len(nums):\n",
        "            return pvt if k > max(nums) else 0 \n",
        "        nums[pvt], nums[-1] = nums[-1], nums[pvt]\n",
        "        pvt = self.partition(nums, 0, len(nums)-1)\n",
        "        return pvt \n",
        "\n",
        "    def partition(self, nums, lo, hi):\n",
        "        pvt = lo\n",
        "        for i in range(lo, hi):\n",
        "            if nums[i] < nums[hi]:\n",
        "                nums[i], nums[pvt] = nums[pvt], nums[i]\n",
        "                pvt += 1\n",
        "        nums[pvt], nums[hi] = nums[hi], nums[pvt]\n",
        "        return pvt\n",
        "\n",
        "if __name__ == \"__main__\":\n",
        "    nums = [9,9,9,8,9,8,7,9,8,8,8,9,8,9,8,8,6,9]\n",
        "    print Solution().partitionArray(nums, 9)\n",
        "    #print Solution().partition([3, 1, 3, 3, 2, 2], 0, 5)\n",
        "\n",
        "\n"
      ],
      "execution_count": 2,
      "outputs": [
        {
          "output_type": "stream",
          "text": [
            "10\n"
          ],
          "name": "stdout"
        }
      ]
    },
    {
      "metadata": {
        "id": "dX6MXc3SSoBk",
        "colab_type": "text"
      },
      "cell_type": "markdown",
      "source": [
        "### 5. Kth Largest Element\n",
        "Find K-th largest element in an array.\n",
        "```\n",
        "Example\n",
        "In array [9,3,2,4,8], the 3rd largest element is 4.\n",
        "\n",
        "In array [1,2,3,4,5], the 1st largest element is 5, 2nd largest element is 4, 3rd largest element is 3 and etc.\n",
        "\n",
        "Challenge\n",
        "O(n) time, O(1) extra memory.\n",
        "```\n",
        "快速选择算法非常容易写错，要记忆模板，和模板写的一模一样，基于模板改。"
      ]
    },
    {
      "metadata": {
        "id": "pbLEqqmxStNh",
        "colab_type": "code",
        "colab": {
          "base_uri": "https://localhost:8080/",
          "height": 33
        },
        "outputId": "5a3f5384-1cc8-454b-bfef-8e4000c41f37"
      },
      "cell_type": "code",
      "source": [
        "class Solution:\n",
        "    # k & A a integer and an array\n",
        "    # ans a integer\n",
        "    def kthLargestElement(self, k, A):\n",
        "        # method 1\n",
        "        # return self.quickselect(A, len(A)-k)\n",
        "        # method 2 \n",
        "        import heapq\n",
        "        heapq.heapify(A)\n",
        "        return heapq.nlargest(k, A)[-1]\n",
        "\n",
        "    def quickselect(self, nums, k, lo=None, hi=None):\n",
        "        lo = 0 if lo is None else lo\n",
        "        hi = len(nums) - 1 if hi is None else hi\n",
        "        while True:\n",
        "            if lo == hi:\n",
        "                return nums[lo]\n",
        "            pvt = self.partition(nums, lo, hi)\n",
        "            if k == pvt:\n",
        "                return nums[k]\n",
        "            elif k < pvt:\n",
        "                hi = pvt - 1\n",
        "            else:\n",
        "                lo = pvt + 1\n",
        "\n",
        "    def partition(self, nums, lo=None, hi=None):\n",
        "        if lo >= hi: return lo\n",
        "        lo = 0 if lo is None else lo\n",
        "        hi = len(nums) - 1 if hi is None else hi\n",
        "        pvt = lo\n",
        "        for i in range(lo, hi):\n",
        "            if nums[i] < nums[hi]:\n",
        "                nums[i], nums[pvt] = nums[pvt], nums[i]\n",
        "                pvt += 1\n",
        "        nums[hi], nums[pvt] = nums[pvt], nums[hi]\n",
        "        return pvt\n",
        "\n",
        "\n",
        "if __name__ == \"__main__\":\n",
        "    k = 10\n",
        "    A = [1,2,3,4,5,6,8,9,10,7]\n",
        "    print Solution().kthLargestElement(k, A)\n",
        "    "
      ],
      "execution_count": 1,
      "outputs": [
        {
          "output_type": "stream",
          "text": [
            "1\n"
          ],
          "name": "stdout"
        }
      ]
    },
    {
      "metadata": {
        "id": "7mvWXGVyz1Xc",
        "colab_type": "text"
      },
      "cell_type": "markdown",
      "source": [
        "# BFS & Topological Sort"
      ]
    },
    {
      "metadata": {
        "id": "iHYeah4z-RHs",
        "colab_type": "text"
      },
      "cell_type": "markdown",
      "source": [
        "### 0-1 matrix\n",
        "\n",
        "Given a matrix consists of 0 and 1, find the distance of the nearest 0 for each cell.\n",
        "\n",
        "The distance between two adjacent cells is 1.\n",
        "```\n",
        "Example 1: \n",
        "Input:\n",
        "0 0 0\n",
        "0 1 0\n",
        "0 0 0\n",
        "\n",
        "Output:\n",
        "0 0 0\n",
        "0 1 0\n",
        "0 0 0\n",
        "\n",
        "Example 2: \n",
        "Input:\n",
        "0 0 0\n",
        "0 1 0\n",
        "1 1 1\n",
        "\n",
        "Output:\n",
        "0 0 0\n",
        "0 1 0\n",
        "1 2 1\n",
        "```\n",
        "Note:\n",
        "The number of elements of the given matrix will not exceed 10,000.\n",
        "There are at least one 0 in the given matrix.\n",
        "The cells are adjacent in only four directions: up, down, left and right.\n",
        "\n",
        "这道题目的结构就反而是BFS劣于DFS了，因为搜索的宽度不一样"
      ]
    },
    {
      "metadata": {
        "id": "gJQ_mbRC-Vsm",
        "colab_type": "code",
        "colab": {}
      },
      "cell_type": "code",
      "source": [
        "class Solution:\n",
        "  def zero_one_matrix(self, matrix):\n",
        "    pass"
      ],
      "execution_count": 0,
      "outputs": []
    },
    {
      "metadata": {
        "id": "oYST91y6JOcu",
        "colab_type": "text"
      },
      "cell_type": "markdown",
      "source": [
        "### The Maze \n",
        "\n",
        "Description\n",
        "There is a ball in a maze with empty spaces and walls. The ball can go through empty spaces by rolling up, down, left or right, but it won't stop rolling until hitting a wall. When the ball stops, it could choose the next direction.\n",
        "\n",
        "Given the ball's start position, the destination and the maze, determine whether the ball could stop at the destination.\n",
        "\n",
        "The maze is represented by a binary 2D array. 1 means the wall and 0 means the empty space. You may assume that the borders of the maze are all walls. The start and destination coordinates are represented by row and column indexes.\n",
        "\n",
        ">1.There is only one ball and one destination in the maze.\n",
        "\n",
        ">2.Both the ball and the destination exist on an empty space, and they will not be at the same position initially.\n",
        "\n",
        ">3.The given maze does not contain border (like the red rectangle in the example pictures), but you could assume the border of the maze are all walls.\n",
        "5.The maze contains at least 2 empty spaces, and both the width and height of the maze won't exceed 100.\n",
        "\n",
        "```\n",
        "Example\n",
        "Given:\n",
        "a maze represented by a 2D array\n",
        "\n",
        "0 0 1 0 0\n",
        "0 0 0 0 0\n",
        "0 0 0 1 0\n",
        "1 1 0 1 1\n",
        "0 0 0 0 0\n",
        "\n",
        "start coordinate (rowStart, colStart) = (0, 4)\n",
        "destination coordinate (rowDest, colDest) = (4, 4)\n",
        "\n",
        "Return:true\n",
        "```"
      ]
    },
    {
      "metadata": {
        "id": "FuZXWDWZJY0V",
        "colab_type": "code",
        "colab": {}
      },
      "cell_type": "code",
      "source": [
        "class Solution:\n",
        "    \"\"\"\n",
        "    @param maze: the maze\n",
        "    @param start: the start\n",
        "    @param destination: the destination\n",
        "    @return: whether the ball could stop at the destination\n",
        "    \"\"\"\n",
        "    def hasPath(self, maze, start, destination):\n",
        "        pass"
      ],
      "execution_count": 0,
      "outputs": []
    },
    {
      "metadata": {
        "id": "bskuThzRJjzH",
        "colab_type": "code",
        "colab": {}
      },
      "cell_type": "code",
      "source": [
        ""
      ],
      "execution_count": 0,
      "outputs": []
    },
    {
      "metadata": {
        "id": "pxnzpqZpJkKe",
        "colab_type": "text"
      },
      "cell_type": "markdown",
      "source": [
        "### Number of Distinct Islands II\n",
        "\n",
        "Description\n",
        "Given a non-empty 2D array grid of 0's and 1's, an island is a group of 1's (representing land) connected 4-directionally (horizontal or vertical.) You may assume all four edges of the grid are surrounded by water.\n",
        "\n",
        "Count the number of distinct islands. An island is considered to be the same as another if they have the same shape, or have the same shape after rotation (90, 180, or 270 degrees only) or reflection (left/right direction or up/down direction).\n",
        "\n",
        "The length of each dimension in the given grid does not exceed 50.\n",
        "\n",
        "```\n",
        "Example\n",
        "Example 1:\n",
        "\n",
        "11000\n",
        "10000\n",
        "00001\n",
        "00011\n",
        "Given the above grid map, return 1.\n",
        "\n",
        "Notice that:\n",
        "\n",
        "11\n",
        "1\n",
        "and\n",
        "\n",
        " 1\n",
        "11\n",
        "are considered same island shapes. Because if we make a 180 degrees clockwise rotation on the first island, then two islands will have the same shapes.\n",
        "\n",
        "Example 2:\n",
        "\n",
        "11100\n",
        "10001\n",
        "01001\n",
        "01110\n",
        "Given the above grid map, return 2.\n",
        "\n",
        "Here are the two distinct islands:\n",
        "\n",
        "111\n",
        "1\n",
        "and\n",
        "\n",
        "1\n",
        "1\n",
        "Notice that:\n",
        "\n",
        "111\n",
        "1\n",
        "and\n",
        "\n",
        "1\n",
        "111\n",
        "are considered same island shapes. Because if we flip the first array in the up/down direction, then they have the same shapes.\n",
        "```"
      ]
    },
    {
      "metadata": {
        "id": "j42mxlx2z1Uz",
        "colab_type": "text"
      },
      "cell_type": "markdown",
      "source": [
        "\n",
        "# Binary Tree"
      ]
    },
    {
      "metadata": {
        "id": "4CYD6y8Sz1R-",
        "colab_type": "text"
      },
      "cell_type": "markdown",
      "source": [
        "# Combination DFS"
      ]
    },
    {
      "metadata": {
        "id": "J0aJHO6n972w",
        "colab_type": "text"
      },
      "cell_type": "markdown",
      "source": [
        "### 2 Sum"
      ]
    },
    {
      "metadata": {
        "id": "5ORkb6ET991N",
        "colab_type": "text"
      },
      "cell_type": "markdown",
      "source": [
        "### 3 Sum"
      ]
    },
    {
      "metadata": {
        "id": "--qGSD3Z9_dW",
        "colab_type": "text"
      },
      "cell_type": "markdown",
      "source": [
        "### 4 Sum"
      ]
    },
    {
      "metadata": {
        "id": "IhWfnO4Dz1Kn",
        "colab_type": "text"
      },
      "cell_type": "markdown",
      "source": [
        "# Permutation DFS"
      ]
    },
    {
      "metadata": {
        "id": "AGZO2YVBzgXx",
        "colab_type": "text"
      },
      "cell_type": "markdown",
      "source": [
        "# Graph\n",
        "\n"
      ]
    },
    {
      "metadata": {
        "id": "bDDISq3A0iS2",
        "colab_type": "text"
      },
      "cell_type": "markdown",
      "source": [
        "# Stack, Queue, Hash, Heap"
      ]
    },
    {
      "metadata": {
        "id": "lexRlk5b0lTa",
        "colab_type": "text"
      },
      "cell_type": "markdown",
      "source": [
        "# Interval, Array, Martrix, Binary Indexed Tree"
      ]
    },
    {
      "metadata": {
        "id": "7GofdNHzzJ85",
        "colab_type": "text"
      },
      "cell_type": "markdown",
      "source": [
        "# Dynamic Programming"
      ]
    },
    {
      "metadata": {
        "id": "krmlDe01oDwX",
        "colab_type": "text"
      },
      "cell_type": "markdown",
      "source": [
        "## 综述\n",
        "**什么情况下使用动态规划？**\n",
        "\n",
        "\n",
        "\n",
        ">满足下面三个条件之一，极有可能使用动态规划 90% - 95%：\n",
        "\t1. 求最大值，最小值\n",
        "\t2. 判断是否可行\n",
        "\t3. 统计方案个数\n",
        "极不可能使用动态规划的情况：\n",
        "\t1. 求出所有具体的方案而非方案的个数\n",
        "\t2. 输入数据是一个集合而不是序列\n",
        "\t3. 暴力的算法已经是多项式级别\n",
        "\n",
        ">总结：最大值最小值/是否可行/方案总数\n",
        "求所有方案/集合而不是序列/指数级到多项式\n",
        "\n",
        "\n",
        "**动态规划的 4 点要素**\n",
        "1. 状态 State\n",
        "\t灵感，创造⼒，存储小规模问题的结果\n",
        "\t\t○ 最优解 / Maximum / Minimum\n",
        "\t\t○ Yes / No\n",
        "\t\t○ Count(*)\n",
        "2. 状态转移方程 Function\n",
        "\t状态之间的联系，怎么通过⼩的状态，来求得⼤的状态\n",
        "3. 初始化 Intialization\n",
        "\t最极限的小状态是什么，起点\n",
        "4. 答案 Answer\n",
        "\t最⼤的那个状态是什么，终点\n",
        "  \n",
        "  \n",
        "  \n",
        "  \n",
        " **面试常见的动态规划类别及状态特点**\n",
        ">坐标型\n",
        "\n",
        ">接龙型 (单序列,双序列)\n",
        "\n",
        ">划分型\n",
        "\n",
        ">背包型 (背包九讲)\n",
        "\n",
        ">博弈型\n",
        "\n",
        "**两招独孤九剑**\n",
        ">二维DP需要初始化第0行和第0列\n",
        "\n",
        ">n个字符的字符串要开n+1个位置的数组\n"
      ]
    },
    {
      "metadata": {
        "id": "Ui-_FBhCt56j",
        "colab_type": "text"
      },
      "cell_type": "markdown",
      "source": [
        "## 坐标型动态规划\n",
        "\n",
        "\t1. state:\n",
        "\t\t○ f[x] 表示我从起点走到坐标x……\n",
        "\t\t○ f[x][y] 表示我从起点走到坐标x,y……\n",
        "\t2. function: 研究走到x,y这个点之前的一步\n",
        "\t3. initialize: 起点\n",
        "\t4. answer: 终点\n",
        "\n",
        "\n"
      ]
    },
    {
      "metadata": {
        "id": "JF1PH6BYyFqc",
        "colab_type": "text"
      },
      "cell_type": "markdown",
      "source": [
        "### Unique Path I, II"
      ]
    },
    {
      "metadata": {
        "id": "rCshAYNFyNWn",
        "colab_type": "text"
      },
      "cell_type": "markdown",
      "source": [
        "A robot is located at the top-left corner of a m x n grid.\n",
        "\n",
        "The robot can only move either down or right at any point in time. The robot is trying to reach the bottom-right corner of the grid.\n",
        "\n",
        "How many possible unique paths are there?\n",
        "\n",
        "\n",
        "Given m = 3 and n = 3, return 6.\n",
        "Given m = 4 and n = 5, return 35."
      ]
    },
    {
      "metadata": {
        "id": "fC488BXGyQx-",
        "colab_type": "code",
        "colab": {}
      },
      "cell_type": "code",
      "source": [
        "class Solution:\n",
        "    \"\"\"\n",
        "    @param m: positive integer (1 <= m <= 100)\n",
        "    @param n: positive integer (1 <= n <= 100)\n",
        "    @return: An integer\n",
        "    \"\"\"\n",
        "    def uniquePaths(self, m, n):\n",
        "        dp = [[1 for _ in range(n)] for __ in range(m)]\n",
        "        for x in range(1, m):\n",
        "            for y in range(1, n):\n",
        "                dp[x][y] = dp[x-1][y] + dp[x][y-1]\n",
        "        return dp[m-1][n-1]"
      ],
      "execution_count": 0,
      "outputs": []
    },
    {
      "metadata": {
        "id": "CM7zBsciya5u",
        "colab_type": "code",
        "colab": {
          "base_uri": "https://localhost:8080/",
          "height": 34
        },
        "outputId": "43bb612a-d0c8-4850-c3ee-627955598377"
      },
      "cell_type": "code",
      "source": [
        "sample = [3,3]\n",
        "s = Solution()\n",
        "s.uniquePaths(sample[0], sample[1])"
      ],
      "execution_count": 0,
      "outputs": [
        {
          "output_type": "execute_result",
          "data": {
            "text/plain": [
              "6"
            ]
          },
          "metadata": {
            "tags": []
          },
          "execution_count": 5
        }
      ]
    },
    {
      "metadata": {
        "id": "5Av7z5CAy0DB",
        "colab_type": "text"
      },
      "cell_type": "markdown",
      "source": [
        "Follow up for \"Unique Paths\":\n",
        "\n",
        "Now consider if some obstacles are added to the grids. How many unique paths would there be?\n",
        "\n",
        "An obstacle and empty space is marked as 1 and 0 respectively in the grid.\n",
        "\n",
        "For example,\n",
        "There is one obstacle in the middle of a 3x3 grid as illustrated below.\n",
        "\n",
        "[\n",
        "  [0,0,0],\n",
        "  [0,1,0],\n",
        "  [0,0,0]\n",
        "]"
      ]
    },
    {
      "metadata": {
        "id": "FJZ9OICay_N2",
        "colab_type": "code",
        "colab": {}
      },
      "cell_type": "code",
      "source": [
        "class Solution:\n",
        "    \"\"\"\n",
        "    @param obstacleGrid: A list of lists of integers\n",
        "    @return: An integer\n",
        "    \"\"\"\n",
        "    def uniquePathsWithObstacles(self, obstacleGrid):\n",
        "        if len(obstacleGrid) == 0 or len(obstacleGrid[0]) == 0:\n",
        "            return 0\n",
        "        m, n = len(obstacleGrid), len(obstacleGrid[0])\n",
        "        dp = [[0 for _ in range(n)] for __ in range(m)]\n",
        "        # dp[x][y] stands for pos x, y unique path numbers, 0 indexed\n",
        "        # init dp[x][0] = 1 and dp[0][y] = 1\n",
        "\n",
        "        for i in range(m):\n",
        "            if obstacleGrid[i][0] == 0:\n",
        "                dp[i][0] = 1\n",
        "                continue\n",
        "            break\n",
        "        for j in range(n):\n",
        "            if obstacleGrid[0][j] == 0:\n",
        "                dp[0][j] = 1\n",
        "                continue\n",
        "            break\n",
        "\n",
        "        for x in range(1, m):\n",
        "            for y in range(1, n):\n",
        "                dp[x][y] = dp[x-1][y] + dp[x][y-1] if obstacleGrid[x][y] == 0 else 0\n",
        "\n",
        "#        print dp\n",
        "        return dp[m-1][n-1]"
      ],
      "execution_count": 0,
      "outputs": []
    },
    {
      "metadata": {
        "id": "PU1LhBwmyyQN",
        "colab_type": "code",
        "colab": {
          "base_uri": "https://localhost:8080/",
          "height": 34
        },
        "outputId": "9b961a42-5391-43d3-81cb-726b0abf5106"
      },
      "cell_type": "code",
      "source": [
        "sample = [ [0,0,0], [0,1,0], [0,0,0] ]\n",
        "s = Solution()\n",
        "s.uniquePathsWithObstacles(sample)"
      ],
      "execution_count": 0,
      "outputs": [
        {
          "output_type": "execute_result",
          "data": {
            "text/plain": [
              "2"
            ]
          },
          "metadata": {
            "tags": []
          },
          "execution_count": 9
        }
      ]
    },
    {
      "metadata": {
        "id": "8-veu44AzpHb",
        "colab_type": "text"
      },
      "cell_type": "markdown",
      "source": [
        "### Climbing Stairs I, II"
      ]
    },
    {
      "metadata": {
        "id": "bJtPTbFLzwcC",
        "colab_type": "text"
      },
      "cell_type": "markdown",
      "source": [
        "You are climbing a stair case. It takes n steps to reach to the top.\n",
        "\n",
        "Each time you can either climb 1 or 2 steps. In how many distinct ways can you climb to the top?\n",
        "\n",
        "Have you met this question in a real interview?  \n",
        "Example\n",
        "Given an example n=3 , 1+1+1=2+1=1+2=3\n",
        "\n",
        "return 3"
      ]
    },
    {
      "metadata": {
        "id": "s_lphjxmzn3O",
        "colab_type": "code",
        "colab": {}
      },
      "cell_type": "code",
      "source": [
        "class Solution:\n",
        "    \"\"\"\n",
        "    @param n: An integer\n",
        "    @return: An integer\n",
        "    \"\"\"\n",
        "    def climbStairs(self, n):\n",
        "        if n == 0:\n",
        "            return 0\n",
        "        dp = [1 for _ in range(n+1)] \n",
        "        # init dp[1], dp[2] 1 index based \n",
        "        \n",
        "        for i in range(2,n+1):\n",
        "            dp[i] = dp[i-1] + dp[i-2]\n",
        "        return dp[n]"
      ],
      "execution_count": 0,
      "outputs": []
    },
    {
      "metadata": {
        "id": "pMmLnWONzY2m",
        "colab_type": "code",
        "colab": {
          "base_uri": "https://localhost:8080/",
          "height": 34
        },
        "outputId": "e70ef7cd-af29-401d-9b4f-22ddbd264b9c"
      },
      "cell_type": "code",
      "source": [
        "sample = 5\n",
        "s = Solution()\n",
        "print s.climbStairs(sample)"
      ],
      "execution_count": 0,
      "outputs": [
        {
          "output_type": "stream",
          "text": [
            "8\n"
          ],
          "name": "stdout"
        }
      ]
    },
    {
      "metadata": {
        "id": "CB8VMP7l6f6U",
        "colab_type": "text"
      },
      "cell_type": "markdown",
      "source": [
        "Description\n",
        "A child is running up a staircase with n steps, and can hop either 1 step, 2 steps, or 3 steps at a time. Implement a method to count how many possible ways the child can run up the stairs.\n",
        "\n",
        "Have you met this question in a real interview?  \n",
        "Example\n",
        "n=3\n",
        "1+1+1=2+1=1+2=3=3\n",
        "\n",
        "return 4"
      ]
    },
    {
      "metadata": {
        "id": "i9_Nhv_J616T",
        "colab_type": "code",
        "colab": {}
      },
      "cell_type": "code",
      "source": [
        "class Solution:\n",
        "    \"\"\"\n",
        "    @param n: An integer\n",
        "    @return: An Integer\n",
        "    \"\"\"\n",
        "    def climbStairs2(self, n):\n",
        "        if n == 0:\n",
        "            return 1\n",
        "        if n <= 2:\n",
        "            return n\n",
        "        dp = [1 for _ in range(n+1)]\n",
        "        dp[2] = 2\n",
        "        for i in range(3, n+1):\n",
        "            dp[i] = dp[i-1] + dp[i-2] + dp[i-3]\n",
        "        return dp[n]"
      ],
      "execution_count": 0,
      "outputs": []
    },
    {
      "metadata": {
        "id": "zfX1aYOC64ya",
        "colab_type": "code",
        "colab": {
          "base_uri": "https://localhost:8080/",
          "height": 35
        },
        "outputId": "f1252502-462b-49fa-b3cf-68ee7d0ecdfa"
      },
      "cell_type": "code",
      "source": [
        "sample = 5\n",
        "s = Solution()\n",
        "s.climbStairs2(5)"
      ],
      "execution_count": 0,
      "outputs": [
        {
          "output_type": "execute_result",
          "data": {
            "text/plain": [
              "13"
            ]
          },
          "metadata": {
            "tags": []
          },
          "execution_count": 48
        }
      ]
    },
    {
      "metadata": {
        "id": "oTcS_Evw6hRs",
        "colab_type": "text"
      },
      "cell_type": "markdown",
      "source": [
        "### Triangle"
      ]
    },
    {
      "metadata": {
        "id": "PWwhkhGa6lRb",
        "colab_type": "text"
      },
      "cell_type": "markdown",
      "source": [
        "Description\n",
        "Given a triangle, find the minimum path sum from top to bottom. Each step you may move to adjacent numbers on the row below.\n",
        "\n",
        "Bonus point if you are able to do this using only O(n) extra space, where n is the total number of rows in the triangle.\n",
        "\n",
        "Have you met this question in a real interview?  \n",
        "Example\n",
        "Given the following triangle:\n",
        "\n",
        "[\n",
        "     [2],\n",
        "    [3,4],\n",
        "   [6,5,7],\n",
        "  [4,1,8,3]\n",
        "]\n",
        "The minimum path sum from top to bottom is 11 (i.e., 2 + 3 + 5 + 1 = 11)."
      ]
    },
    {
      "metadata": {
        "id": "cKOyfK2a0hdG",
        "colab_type": "code",
        "colab": {}
      },
      "cell_type": "code",
      "source": [
        "class Solution:\n",
        "    \"\"\"\n",
        "    @param triangle: a list of lists of integers\n",
        "    @return: An integer, minimum path sum\n",
        "    \"\"\"\n",
        "    def minimumTotal(self, triangle):\n",
        "        if len(triangle) == 0 or len(triangle[0]) == 0:\n",
        "            return 0\n",
        "        m = len(triangle)\n",
        "        # dp[x][y] stands for position x, y mini sum, 0 indexed\n",
        "        dp = [[0 for j in range(i+1)] for i in range(m)]\n",
        "        dp[0][0] = triangle[0][0]\n",
        "        for x in range(1, m):\n",
        "            for y in range(x+1):\n",
        "                if y == 0:\n",
        "                    dp[x][y] = triangle[x][y] + dp[x - 1][y]\n",
        "                elif y == x:\n",
        "                    dp[x][y] = triangle[x][y] + dp[x-1][y-1]\n",
        "                else:\n",
        "                    dp[x][y] = triangle[x][y] + min(dp[x-1][y], dp[x-1][y-1])\n",
        "        print dp\n",
        "        return min(dp[m-1])"
      ],
      "execution_count": 0,
      "outputs": []
    },
    {
      "metadata": {
        "id": "mv3HWW8E6vBc",
        "colab_type": "code",
        "colab": {
          "base_uri": "https://localhost:8080/",
          "height": 52
        },
        "outputId": "3a17ebdf-8c4e-49de-e26a-2e95fe7f4861"
      },
      "cell_type": "code",
      "source": [
        "sample = [ [2], [3,4], [6,5,7], [4,1,8,3] ] \n",
        "s = Solution()\n",
        "s.minimumTotal(sample)"
      ],
      "execution_count": 0,
      "outputs": [
        {
          "output_type": "stream",
          "text": [
            "[[2], [5, 6], [11, 10, 13], [15, 11, 18, 16]]\n"
          ],
          "name": "stdout"
        },
        {
          "output_type": "execute_result",
          "data": {
            "text/plain": [
              "11"
            ]
          },
          "metadata": {
            "tags": []
          },
          "execution_count": 23
        }
      ]
    },
    {
      "metadata": {
        "id": "5jyniBqS7d3N",
        "colab_type": "text"
      },
      "cell_type": "markdown",
      "source": [
        "### Minimum Sum"
      ]
    },
    {
      "metadata": {
        "id": "DtmKnJ5D7ioW",
        "colab_type": "text"
      },
      "cell_type": "markdown",
      "source": [
        "Description\n",
        "Given a m x n grid filled with non-negative numbers, find a path from top left to bottom right which minimizes the sum of all numbers along its path."
      ]
    },
    {
      "metadata": {
        "id": "uDa8Rlyg7h2T",
        "colab_type": "code",
        "colab": {
          "base_uri": "https://localhost:8080/",
          "height": 35
        },
        "outputId": "2599468a-ce28-4492-8163-1a7934d5aa95"
      },
      "cell_type": "code",
      "source": [
        "class Solution:\n",
        "    \"\"\"\n",
        "    @param grid: a list of lists of integers\n",
        "    @return: An integer, minimizes the sum of all numbers along its path\n",
        "    \"\"\"\n",
        "    def minPathSum(self, grid):\n",
        "        if len(grid) == 0 or len(grid[0]) == 0:\n",
        "            return 0\n",
        "        m, n = len(grid), len(grid[0])\n",
        "        # dp[x][y] stands for position x, y mini path sum, 0 indexed\n",
        "        dp = [[0 for j in range(n)] for i in range(m)]\n",
        "        # dp init for dp[0][y], dp[x][0]\n",
        "        dp[0][0] = grid[0][0]\n",
        "        for i in range(1, m):\n",
        "            dp[i][0] = grid[i][0] + dp[i-1][0]\n",
        "        for j in range(1, n):\n",
        "            dp[0][j] = grid[0][j] + dp[0][j-1]\n",
        "\n",
        "        for i in range(1, m):\n",
        "            for j in range(1, n):\n",
        "                dp[i][j] = min(dp[i-1][j], dp[i][j-1]) + grid[i][j]\n",
        "        #print dp\n",
        "        return dp[m-1][n-1]\n",
        "if __name__ == \"__main__\":\n",
        "  sample = [[1,2],[3,4]]\n",
        "  s = Solution()\n",
        "  print s.minPathSum(sample)"
      ],
      "execution_count": 21,
      "outputs": [
        {
          "output_type": "stream",
          "text": [
            "7\n"
          ],
          "name": "stdout"
        }
      ]
    },
    {
      "metadata": {
        "id": "XJDvwQTMDcR_",
        "colab_type": "text"
      },
      "cell_type": "markdown",
      "source": [
        "### Knight Shortest Path\n",
        "Description\n",
        "Given a knight in a chessboard (a binary matrix with 0 as empty and 1 as barrier) with a source position, find the shortest path to a destination position, return the length of the route.\n",
        "Return -1 if knight can not reached.\n",
        "\n",
        "这道题可以用BFS 也可以用DFS， 推荐使用BFS，因为使用DFS有可能会超时"
      ]
    },
    {
      "metadata": {
        "id": "M9_rYNHFG3u9",
        "colab_type": "text"
      },
      "cell_type": "markdown",
      "source": [
        "可以看到BFS比DFS访问的步数少， 下面用随机数据测试一下，2000次测试10大小的矩阵，大概相差二十倍\n",
        "Time complexity test: "
      ]
    },
    {
      "metadata": {
        "id": "p80_lbYW6eVi",
        "colab_type": "code",
        "colab": {
          "base_uri": "https://localhost:8080/",
          "height": 52
        },
        "outputId": "913c7418-fad0-4943-b3c6-c7c0bbe21ad6"
      },
      "cell_type": "code",
      "source": [
        "class Point:\n",
        "    def __init__(self, a=0, b=0):\n",
        "        self.x = a\n",
        "        self.y = b\n",
        "        \n",
        "class Solution:\n",
        "    \"\"\"\n",
        "    @param grid: a chessboard included 0 (false) and 1 (true)\n",
        "    @param source: a point\n",
        "    @param destination: a point\n",
        "    @return: the shortest path \n",
        "    \"\"\"\n",
        "    def shortestPath_dfs(self, grid, source, destination):\n",
        "        m, n = len(grid), len(grid[0])\n",
        "        import sys\n",
        "        record = [[sys.maxsize for j in range(n)] for i in range(m)]\n",
        "        steps = [[1,2],[1,-2],[-1,2],[-1,-2],\n",
        "                 [2,1],[2,-1],[-2,1],[-2,-1]]\n",
        "        x,y = source.x, source.y\n",
        "        record[x][y] = 0\n",
        "        \n",
        "        def dfs(x,y):\n",
        "          #print x, y\n",
        "          for step in steps:\n",
        "            new_x, new_y = x + step[0], y + step[1]\n",
        "            if 0 <= new_x < m and 0 <= new_y < n and grid[x][y] != 1 \\\n",
        "              and record[new_x][new_y] > record[x][y] + 1:\n",
        "              record[new_x][new_y] = record[x][y] + 1\n",
        "              dfs(new_x, new_y)\n",
        "        \n",
        "        dfs(x,y)\n",
        "        return record[destination.x][destination.y] if record[destination.x][destination.y] != sys.maxsize else -1\n",
        "  \n",
        "    def shortestPath_bfs(self, grid, source, destination):\n",
        "        # Write your code here\n",
        "        m = len(grid)\n",
        "        n = len(grid[0])\n",
        "\n",
        "        import sys\n",
        "        record = [[sys.maxint for _ in xrange(n)] for i in xrange(m)]\n",
        "        x,y = source.x, source.y\n",
        "        record[x][y] = 0\n",
        "        \n",
        "        q = []\n",
        "        q.append((x,y))\n",
        "        steps = [(-2, -1), (-2, 1), (-1, 2), (1, 2), (2, 1), (2, -1), (1, -2), (-1, -2)]\n",
        "        \n",
        "        while len(q) > 0:\n",
        "            x, y = q.pop(0) # pop(0) will take O(1), not O(n) or o(0) \n",
        "            #print x, y\n",
        "            for dx, dy in steps:\n",
        "                new_x, new_y = x + dx, y + dy\n",
        "                if 0 <= new_x < m and 0 <= new_y < n and grid[new_x][new_y] == 0 \\\n",
        "                and record[new_x][new_y] > record[x][y] + 1:\n",
        "                    record[new_x][new_y] = record[x][y] + 1\n",
        "                    q.append((new_x, new_y))\n",
        "\n",
        "        if record[destination.x][destination.y] == sys.maxint:\n",
        "            return -1\n",
        "\n",
        "        return record[destination.x][destination.y]\n",
        "grid = [[0,1,0], [0,0,0], [0,0,0]]\n",
        "s = Point(2,0)\n",
        "d = Point(2,2)\n",
        "Solution().shortestPath_dfs(grid, s, d)\n",
        "print '-'\n",
        "Solution().shortestPath_bfs(grid, s, d)"
      ],
      "execution_count": 24,
      "outputs": [
        {
          "output_type": "stream",
          "text": [
            "-\n"
          ],
          "name": "stdout"
        },
        {
          "output_type": "execute_result",
          "data": {
            "text/plain": [
              "6"
            ]
          },
          "metadata": {
            "tags": []
          },
          "execution_count": 24
        }
      ]
    },
    {
      "metadata": {
        "id": "G2HCHUrdKEKj",
        "colab_type": "code",
        "colab": {
          "base_uri": "https://localhost:8080/",
          "height": 52
        },
        "outputId": "3c3ff800-53e6-4e3c-9f86-7cd064bd91d9"
      },
      "cell_type": "code",
      "source": [
        "import random, timeit\n",
        "import numpy as np\n",
        "grid = np.array([random.choice([0,0,0,0,0,1]) for i in range(100)]).reshape(10,10).tolist()\n",
        "grid[0][0], grid[9][9] = 0, 0\n",
        "s = Point(0,0)\n",
        "d = Point(9,9)\n",
        "S = Solution()\n",
        "print timeit.timeit('S.shortestPath_dfs(grid, s, d)',  \n",
        "                    setup='from __main__ import s,S,d,grid', number=2000)\n",
        "print timeit.timeit('S.shortestPath_bfs(grid, s, d)', \n",
        "                    setup='from __main__ import s,S,d,grid', number=2000)"
      ],
      "execution_count": 25,
      "outputs": [
        {
          "output_type": "stream",
          "text": [
            "6.25314307213\n",
            "0.345813989639\n"
          ],
          "name": "stdout"
        }
      ]
    },
    {
      "metadata": {
        "id": "9cLA-5SUNaCp",
        "colab_type": "text"
      },
      "cell_type": "markdown",
      "source": [
        "其实这道题考搜索多于考DP，应该放在BFS里面复习，还有一道类似的题目，0-1 matrix, 见BFS"
      ]
    },
    {
      "metadata": {
        "id": "NrG1F5IsuFfF",
        "colab_type": "text"
      },
      "cell_type": "markdown",
      "source": [
        "## 接龙型动态规划\n",
        "单序列\n",
        "以字符串居多\n",
        "\t1. state: f[i]表示前i个位置/数字/字符,第i个…\n",
        "\t2. function: f[i] = f[j] … j 是i之前的一个位置\n",
        "\t3. initialize: f[0]..\n",
        "\t4. answer: f[n]..\n",
        "\t\t○ 一般answer是f(n)而不是f(n-1), 因为对于n个字符,包含前0个字符(空串),前1个字符……前n个字符。\n",
        "双序列\n",
        "一般给两个字符串\n",
        "\t1. state: f[i][j]代表了第一个sequence的前i个数字/字符,配上第二个sequence的前j个…\n",
        "\t2. function: f[i][j] = 研究第i个和第j个的匹配关系\n",
        "\t3. initialize: f[i][0] 和 f[0][i]\n",
        "\t4. answer: f[n][m]\n",
        "\t\t○ n = s1.length()\n",
        "\t\t○ m = s2.length()\n"
      ]
    },
    {
      "metadata": {
        "id": "8yynzYn1GYGq",
        "colab_type": "text"
      },
      "cell_type": "markdown",
      "source": [
        "### Jump Game I, II \n",
        "\n",
        "\n",
        "**Jump Game I Description**\n",
        "\n",
        "Given an array of non-negative integers, you are initially positioned at the first index of the array.\n",
        "\n",
        "Each element in the array represents your maximum jump length at that position.\n",
        "\n",
        "Determine if you are able to reach the last index.\n",
        "\n",
        "his problem have two method which is Greedy and Dynamic Programming.\n",
        "\n",
        "The time complexity of Greedy method is O(n).\n",
        "\n",
        "The time complexity of Dynamic Programming method is O(n^2).\n",
        "\n",
        "We manually set the small data set to allow you pass the test in both ways. This is just to let you learn how to use this problem in dynamic programming ways. If you finish it in dynamic programming ways, you can try greedy method to make it accept again.\n",
        "\n",
        "\n",
        "\n",
        "```\n",
        "Example\n",
        "A = [2,3,1,1,4], return true.\n",
        "\n",
        "A = [3,2,1,0,4], return false.\n",
        "```\n",
        "\n",
        "**Jump Game II Description**\n",
        "\n",
        "Given an array of non-negative integers, you are initially positioned at the first index of the array.\n",
        "\n",
        "Each element in the array represents your maximum jump length at that position.\n",
        "\n",
        "Your goal is to reach the last index in the minimum number of jumps.\n",
        "\n",
        "```\n",
        "Example\n",
        "Given array A = [2,3,1,1,4]\n",
        "```\n",
        "\n",
        "\n",
        "\n",
        "The minimum number of jumps to reach the last index is 2. (Jump 1 step from index 0 to 1, then 3 steps to the last index.)\n"
      ]
    },
    {
      "metadata": {
        "id": "_zLHXRVAGxNO",
        "colab_type": "code",
        "colab": {}
      },
      "cell_type": "code",
      "source": [
        "class Solution:\n",
        "    \"\"\"\n",
        "    @param A: A list of integers\n",
        "    @return: A boolean\n",
        "    \"\"\"\n",
        "    # Jump game I \n",
        "    def canJump(self, A):\n",
        "        if len(A) == 0:\n",
        "            return 0\n",
        "        maxJump, i = A[0], 0\n",
        "        count = 0\n",
        "        while i < len(A):\n",
        "            count += 1 \n",
        "            if maxJump >= len(A) - 1:\n",
        "                return True\n",
        "            if i <= maxJump:\n",
        "                maxJump = max(i+A[i], maxJump)\n",
        "                i += 1\n",
        "            if count > len(A):\n",
        "                return False\n",
        "    # Jump game II \n",
        "    def jump(self, A):\n",
        "        if len(A) == 0 or A[0] == 0:\n",
        "            return 0\n",
        "        if A[0] > len(A) - 1:\n",
        "            return 1\n",
        "        maxJmp, end, numJmp = A[0], A[0], 1\n",
        "        i = 1\n",
        "        while maxJmp < len(A) - 1:\n",
        "            if i <= end: # get maxJmp at the next time\n",
        "                maxJmp = max(maxJmp, i+A[i])\n",
        "                i += 1\n",
        "                continue\n",
        "            numJmp += 1\n",
        "            end = maxJmp\n",
        "        return numJmp+1"
      ],
      "execution_count": 0,
      "outputs": []
    },
    {
      "metadata": {
        "id": "3pJ6kzX1GdmH",
        "colab_type": "code",
        "colab": {
          "base_uri": "https://localhost:8080/",
          "height": 70
        },
        "outputId": "2554f308-31db-4ec6-f829-555f48aa590c"
      },
      "cell_type": "code",
      "source": [
        "s = Solution()\n",
        "print s.canJump([2,3,1,1,4])\n",
        "print s.canJump([1,2,3,4,5])\n",
        "print s.jump([1,2,3,4,5])"
      ],
      "execution_count": 0,
      "outputs": [
        {
          "output_type": "stream",
          "text": [
            "True\n",
            "True\n",
            "3\n"
          ],
          "name": "stdout"
        }
      ]
    },
    {
      "metadata": {
        "id": "H-eZwQxH8-Fm",
        "colab_type": "text"
      },
      "cell_type": "markdown",
      "source": [
        "### Frog Jump\n",
        "\n",
        "A frog is crossing a river. The river is divided into x units and at each unit there may or may not exist a stone. The frog can jump on a stone, but it must not jump into the water.\n",
        "\n",
        "Given a list of stones' positions (in units) in sorted ascending order, determine if the frog is able to cross the river by landing on the last stone. Initially, the frog is on the first stone and assume the first jump must be 1 unit.\n",
        "\n",
        "If the frog's last jump was k units, then its next jump must be either k - 1, k, or k + 1 units. Note that the frog can only jump in the forward direction.\n",
        "\n",
        "The number of stones is ≥ 2 and is < 1100.\n",
        "Each stone's position will be a non-negative integer < 2^31.\n",
        "The first stone's position is always 0.\n",
        "\n",
        "```\n",
        "Example\n",
        "Given stones = [0,1,3,5,6,8,12,17]\n",
        "\n",
        "There are a total of 8 stones.\n",
        "The first stone at the 0th unit, second stone at the 1st unit,\n",
        "third stone at the 3rd unit, and so on...\n",
        "The last stone at the 17th unit.\n",
        "\n",
        "Return true. The frog can jump to the last stone by jumping \n",
        "1 unit to the 2nd stone, then 2 units to the 3rd stone, then \n",
        "2 units to the 4th stone, then 3 units to the 6th stone, \n",
        "4 units to the 7th stone, and 5 units to the 8th stone.\n",
        "\n",
        "Given stones = [0,1,2,3,4,8,9,11]\n",
        "\n",
        "Return false. There is no way to jump to the last stone as \n",
        "the gap between the 5th and 6th stone is too large.\n",
        "```\n",
        "Solution:\n",
        "\n",
        ">state:  dp = {stone: steps can be made at this stone}\n",
        "\n",
        "> Init: dp[i]  = set([]) for i in range(len(stones))\n",
        "\n",
        "> Function: \n",
        "\n",
        "          for stone in stones:\n",
        "           for k in dp[stone]:\n",
        "            if stone + k,k-1,k+1 in dp, \n",
        "             put k, k+1,k-1 to corespond stone\n",
        ">ans:\n",
        "  dp[stones[-1]] has some steps to make"
      ]
    },
    {
      "metadata": {
        "id": "Ht7STKrC3mEt",
        "colab_type": "code",
        "colab": {
          "base_uri": "https://localhost:8080/",
          "height": 108
        },
        "outputId": "e9ced1f6-4fc4-4ec3-c271-8ed63f565b3d"
      },
      "cell_type": "code",
      "source": [
        "class Solution:\n",
        "    \"\"\"\n",
        "    @param stones: a list of stones' positions in sorted ascending order\n",
        "    @return: true if the frog is able to cross the river or false\n",
        "    \"\"\"\n",
        "    def canCross(self, stones):\n",
        "        # dp[stone] = steps can be made at this stone\n",
        "        dp = {}\n",
        "        \n",
        "        for stone in stones:\n",
        "            dp[stone] = set()\n",
        "        \n",
        "        dp[0].add(0)\n",
        "        \n",
        "        for stone in stones:\n",
        "          for k in dp[stone]:\n",
        "            if k-1 > 0 and stone + k - 1 in dp:\n",
        "              dp[stone+k-1].add(k-1)\n",
        "            if stone + k in dp:\n",
        "              dp[stone+k].add(k)\n",
        "            if stone + k + 1 in dp:\n",
        "              dp[stone+k+1].add(k+1)\n",
        "        print dp\n",
        "        return len(dp[stones[-1]]) > 0 # 青蛙能跳到某个石头，那个石头的dp就会有一些青蛙可以走的步数\n",
        "\n",
        "if __name__ == \"__main__\":\n",
        "  s = Solution()\n",
        "  stones1 = [0,1,3,5,6,8,12,17]\n",
        "  stones2 = [0,1,2,3,4,8,9,11]\n",
        "  print s.canCross(stones1)\n",
        "  print s.canCross(stones2)"
      ],
      "execution_count": 14,
      "outputs": [
        {
          "output_type": "stream",
          "text": [
            "{0: set([0]), 1: set([1]), 3: set([2]), 5: set([2]), 6: set([1, 3]), 8: set([2, 3]), 12: set([4]), 17: set([5])}\n",
            "True\n",
            "{0: set([0]), 1: set([1]), 2: set([1]), 3: set([1, 2]), 4: set([1, 2]), 8: set([]), 9: set([]), 11: set([])}\n",
            "False\n"
          ],
          "name": "stdout"
        }
      ]
    },
    {
      "metadata": {
        "id": "vnI4NVX9uI7z",
        "colab_type": "text"
      },
      "cell_type": "markdown",
      "source": [
        "### Longest Increasing Subsequence\n",
        "Description\n",
        "Given a sequence of integers, find the longest increasing subsequence (LIS).\n",
        "\n",
        "You code should return the length of the LIS.\n",
        "\n",
        "\n",
        "Clarification\n",
        "What's the definition of longest increasing subsequence?\n",
        "\n",
        "The longest increasing subsequence problem is to find a subsequence of a given sequence in which the subsequence's elements are in sorted order, lowest to highest, and in which the subsequence is as long as possible. This subsequence is not necessarily contiguous, or unique.\n",
        "\n",
        "https://en.wikipedia.org/wiki/Longest_increasing_subsequence\n",
        "\n",
        "Example\n",
        "\n",
        "\n",
        "```\n",
        "For [5, 4, 1, 2, 3], the LIS is [1, 2, 3], return 3\n",
        "For [4, 2, 4, 5, 3, 7], the LIS is [2, 4, 5, 7], return 4\n",
        "```\n",
        "\n",
        "\n",
        "\n",
        "Challenge\n",
        "Time complexity O(n^2) or O(nlogn)"
      ]
    },
    {
      "metadata": {
        "id": "UKqoJm1NuUtb",
        "colab_type": "code",
        "colab": {}
      },
      "cell_type": "code",
      "source": [
        "class Solution:\n",
        "    \"\"\"\n",
        "    @param nums: An integer array\n",
        "    @return: The length of LIS (longest increasing subsequence)\n",
        "    \"\"\"\n",
        "    \n",
        "    # O(n^2) method\n",
        "    def longestIncreasingSubsequence(self, nums):\n",
        "        if len(nums) <= 1:\n",
        "            return len(nums)\n",
        "        n = len(nums)\n",
        "        # dp[i] stands for len of LIS of dp[:i], 0 index\n",
        "        dp = [1 for i in range(n)]\n",
        "        for i in range(1, n):\n",
        "            for j in range(0, i):\n",
        "                if nums[j] < nums[i]:\n",
        "                    dp[i] = max(dp[i], dp[j] + 1) # dp function\n",
        "        return max(dp)\n",
        "    \n",
        "    # O(nlogn) method\n",
        "    def lis(self, nums):\n",
        "        if len(nums) <= 1:\n",
        "            return len(nums)\n",
        "        import bisect\n",
        "        dp = []\n",
        "        maxlen = 0\n",
        "        for n in nums:\n",
        "            i = bisect.bisect_left(dp, n)\n",
        "            if i == len(dp):\n",
        "              dp.append(n)\n",
        "            else:\n",
        "              dp[i] = n\n",
        "            maxlen = maxlen + 1 if maxlen == i else maxlen\n",
        "        return maxlen"
      ],
      "execution_count": 0,
      "outputs": []
    },
    {
      "metadata": {
        "id": "Us5BJzV1Gx3N",
        "colab_type": "text"
      },
      "cell_type": "markdown",
      "source": [
        "Time Complexity test "
      ]
    },
    {
      "metadata": {
        "id": "QwgNalFVKMiI",
        "colab_type": "code",
        "colab": {
          "base_uri": "https://localhost:8080/",
          "height": 52
        },
        "outputId": "4fad6deb-13e5-4ee4-a5dc-9047d1f1b752"
      },
      "cell_type": "code",
      "source": [
        "import random, timeit\n",
        "s = Solution()\n",
        "sample = random.sample(range(1000), 500)\n",
        "print timeit.timeit('s.longestIncreasingSubsequence(sample)',  \n",
        "                    setup='from __main__ import s, sample', number=100)\n",
        "print timeit.timeit('s.lis(sample)', \n",
        "                    setup='from __main__ import s, sample', number=100)"
      ],
      "execution_count": 0,
      "outputs": [
        {
          "output_type": "stream",
          "text": [
            "1.63590192795\n",
            "0.0157740116119\n"
          ],
          "name": "stdout"
        }
      ]
    },
    {
      "metadata": {
        "id": "7QllN7EmN24D",
        "colab_type": "text"
      },
      "cell_type": "markdown",
      "source": [
        "### Largest Divisible Subset\n",
        "\n",
        "Given a set of distinct positive integers, find the largest subset such that every pair (Si, Sj) of elements in this subset satisfies: Si % Sj = 0 or Sj % Si = 0.\n",
        "\n",
        "If there are multiple solutions, return any subset is fine.\n",
        "\n",
        "```  \n",
        "Example\n",
        "Given nums = [1,2,3], return [1,2] or [1,3]\n",
        "\n",
        "Given nums = [1,2,4,8], return [1,2,4,8]\n",
        "```\n"
      ]
    },
    {
      "metadata": {
        "id": "s80rg1LIN_WE",
        "colab_type": "code",
        "colab": {
          "base_uri": "https://localhost:8080/",
          "height": 52
        },
        "outputId": "b88a7d93-da69-4042-cb73-a677dc4be1e0"
      },
      "cell_type": "code",
      "source": [
        "class Solution:\n",
        "    \"\"\"\n",
        "    @param: nums: a set of distinct positive integers\n",
        "    @return: the largest subset\n",
        "    \"\"\"\n",
        "    def largestDivisibleSubset(self, nums):\n",
        "        # write your code here\n",
        "        if len(nums) <= 1:\n",
        "            return nums\n",
        "        n = len(nums)\n",
        "        nums.sort()\n",
        "        # dp[i] stands for len of LIS of dp[:i], 0 index\n",
        "        dp = [1 for i in range(n)]\n",
        "        father = [-1 for j in range(n)]\n",
        "        for i in range(1, n):\n",
        "            for j in range(0, i):\n",
        "                if nums[i] % nums[j] == 0:\n",
        "                    if dp[j] + 1 > dp[i]:\n",
        "                      dp[i] = max(dp[i], dp[j] + 1)\n",
        "                      father[i] = j\n",
        "        m = max(dp)\n",
        "        index = dp.index(m)\n",
        "        ans = []\n",
        "        for i in range(m, 0, -1):\n",
        "            ans.append(nums[index])\n",
        "            index = father[index]\n",
        "        return ans\n",
        "    \n",
        "s = Solution()\n",
        "sample = [1,2,3]\n",
        "print s.largestDivisibleSubset(sample)\n",
        "sample = [1,2,4,8]\n",
        "print s.largestDivisibleSubset(sample)"
      ],
      "execution_count": 20,
      "outputs": [
        {
          "output_type": "stream",
          "text": [
            "[2, 1]\n",
            "[8, 4, 2, 1]\n"
          ],
          "name": "stdout"
        }
      ]
    },
    {
      "metadata": {
        "id": "8Sq2O8gNOlIL",
        "colab_type": "text"
      },
      "cell_type": "markdown",
      "source": [
        "### Russian Doll Envelopes\n",
        "\n",
        "Description\n",
        "You have a number of envelopes with widths and heights given as a pair of integers (w, h). One envelope can fit into another if and only if both the width and height of one envelope is greater than the width and height of the other envelope.\n",
        "\n",
        "What is the maximum number of envelopes can you Russian doll? (put one inside other)\n",
        "\n",
        "```\n",
        "Example\n",
        "Given envelopes = [[5,4],[6,4],[6,7],[2,3]],\n",
        "the maximum number of envelopes you can Russian doll is 3 ([2,3] => [5,4] => [6,7]).\n",
        "```"
      ]
    },
    {
      "metadata": {
        "id": "XBw0-QvXOzGN",
        "colab_type": "code",
        "colab": {
          "base_uri": "https://localhost:8080/",
          "height": 35
        },
        "outputId": "f44fee36-71d6-42b8-f021-dc799fe5dbbd"
      },
      "cell_type": "code",
      "source": [
        "class Solution:\n",
        "    \"\"\"\n",
        "    @param: envelopes: a number of envelopes with widths and heights\n",
        "    @return: the maximum number of envelopes\n",
        "    \"\"\"\n",
        "    def maxEnvelopes(self, envelopes):\n",
        "        if len(envelopes) == 0:\n",
        "            return 0\n",
        "        envelopes.sort(key = lambda x:(x[0], -x[1]))\n",
        "        nums = [x[1] for x in envelopes]\n",
        "        return self.lis(nums)\n",
        "\n",
        "    def lis(self, nums):\n",
        "        if len(nums) <= 1:\n",
        "            return len(nums)\n",
        "        import bisect\n",
        "        dp = [0 for _ in range(len(nums))]\n",
        "        maxlen = 0\n",
        "        for n in nums:\n",
        "            i = bisect.bisect_left(dp, n, 0, maxlen)\n",
        "            dp[i] = n\n",
        "            maxlen = maxlen + 1 if maxlen == i else maxlen\n",
        "        return maxlen\n",
        "sample = [[3419,8423],[164,2627],[3139,7517],[1751,4154],[9489,86],[6637,3814],\n",
        "          [8056,4472],[1361,7808],[8951,7291],[2729,3128],[3981,8815],[492,3230],\n",
        "          [8077,8257],[1046,8951],[7601,3995],[8077,2335],[7913,6100],[2120,552],\n",
        "          [8052,7377],[3699,4314],[4956,9383],[1398,9645],[5612,3194],[1041,7969],\n",
        "          [9353,9504],[3498,6074],[3778,6387],[6444,926],[8188,3068],[7573,9346],\n",
        "          [1947,2744],[3161,1583],[6931,2466],[3123,2746],[3063,9465],[5436,4950],\n",
        "          [2706,2321],[705,4817],[6848,3079],[7513,2377],[3314,3572],[1932,2535],\n",
        "          [2635,6677],[31,1250],[3553,3075],[8978,2303],[6216,5277],[6544,5712],\n",
        "          [8566,6145],[3541,9898],[7554,842],[1566,7443],[3891,2823],[8698,8532],\n",
        "          [1692,6859],[4094,8342],[5207,9744],[3020,3461],[4752,6631],[2033,1323],\n",
        "          [6094,3315],[16,8209],[3776,2627],[8889,2818],[755,2167],[9267,8809],\n",
        "          [9701,777],[9464,9921],[2657,9329],[8606,8059],[6912,9454],[133,6606],\n",
        "          [7149,5042],[7765,6180],[5361,4592],[7149,1438],[847,9109],[732,786],\n",
        "          [9824,548],[9833,2443],[9920,232],[9957,8386],[1792,5312],[2950,3834],\n",
        "          [3650,7948],[900,5644],[9741,7375]]\n",
        "s = Solution()\n",
        "s.maxEnvelopes(sample)\n",
        "        "
      ],
      "execution_count": 19,
      "outputs": [
        {
          "output_type": "execute_result",
          "data": {
            "text/plain": [
              "19"
            ]
          },
          "metadata": {
            "tags": []
          },
          "execution_count": 19
        }
      ]
    },
    {
      "metadata": {
        "id": "zE3K2JxeOUMJ",
        "colab_type": "text"
      },
      "cell_type": "markdown",
      "source": [
        "### Perfect Square\n",
        "\n",
        "Description\n",
        "Given a positive integer n, find the least number of perfect square numbers (for example, 1, 4, 9, 16, ...) which sum to n.\n",
        "\n",
        "Have you met this question in a real interview?  \n",
        "Example\n",
        "\n",
        "\n",
        "Given n = 12, return 3 because 12 = 4 + 4 + 4\n",
        "\n",
        "Given n = 13, return 2 because 13 = 4 + 9"
      ]
    },
    {
      "metadata": {
        "id": "6Vsky6OzOmHI",
        "colab_type": "text"
      },
      "cell_type": "markdown",
      "source": [
        "这道题写几个数就明白了\n",
        "```\n",
        "dp[0] = 0 \n",
        "dp[1] = dp[0]+1 = 1\n",
        "dp[2] = dp[1]+1 = 2\n",
        "dp[3] = dp[2]+1 = 3\n",
        "dp[4] = Min{ dp[4-1*1]+1, dp[4-2*2]+1 } \n",
        "      = Min{ dp[3]+1, dp[0]+1 } \n",
        "      = 1\t\t\t\t\n",
        "dp[5] = Min{ dp[5-1*1]+1, dp[5-2*2]+1 } \n",
        "      = Min{ dp[4]+1, dp[1]+1 } \n",
        "      = 2\n",
        "\t\t\t\t\t\t.\n",
        "\t\t\t\t\t\t.\n",
        "\t\t\t\t\t\t.\n",
        "dp[13] = Min{ dp[13-1*1]+1, dp[13-2*2]+1, dp[13-3*3]+1 } \n",
        "       = Min{ dp[12]+1, dp[9]+1, dp[4]+1 } \n",
        "       = 2\n",
        "```\n",
        "\n",
        "\n",
        ">$ dp[n] = min(dp[n - i * i] + 1), n - i*i >=0, i >= 1$\n",
        "\n",
        "     "
      ]
    },
    {
      "metadata": {
        "id": "uwn-DYv0Oh25",
        "colab_type": "code",
        "colab": {
          "base_uri": "https://localhost:8080/",
          "height": 35
        },
        "outputId": "55f54cc3-6ed1-4b15-f31d-42f511ccc0e5"
      },
      "cell_type": "code",
      "source": [
        "import sys\n",
        "import math\n",
        "class Solution:\n",
        "    \"\"\"\n",
        "    @param n: a positive integer\n",
        "    @return: An integer\n",
        "    \"\"\"\n",
        "    #O(n * sqrt(n)) method \n",
        "    def numSquares(self, n):\n",
        "      dp = [sys.maxsize for _ in range(n+1)]\n",
        "      dp[0] = 0\n",
        "      for i in range(1, n+1):\n",
        "        for j in range(1, i+1):\n",
        "          if i - j*j < 0: break\n",
        "          dp[i] = min(dp[i], dp[i-j*j] + 1)\n",
        "      \n",
        "      print dp\n",
        "      return dp[n]\n",
        "    \n",
        "if __name__ == \"__main__\":    \n",
        "  n = 12\n",
        "  Solution().numSquares(n)"
      ],
      "execution_count": 18,
      "outputs": [
        {
          "output_type": "stream",
          "text": [
            "[0, 1, 2, 3, 1, 2, 3, 4, 2, 1, 2, 3, 3]\n"
          ],
          "name": "stdout"
        }
      ]
    },
    {
      "metadata": {
        "id": "QCIx_VE2rg9Q",
        "colab_type": "text"
      },
      "cell_type": "markdown",
      "source": [
        "## 划分型动态规划(subarray 20题)\n",
        "\n",
        "\n",
        "题目：给一个序列，求一次划分区间，求区间中的最大值\n",
        "\t1. state: f[i] 表⽰示前 个元素的最大值\n",
        "\t2. function: f[i] = 前 i 个元素里⾯选一个区间的最⼤值\n",
        "\t3. initialize: f[0]..\n",
        "\t4. answer: f[n-1]..\n",
        "\n",
        "优化\n",
        "\t1. state:\n",
        "\t\t○ gobal[i] 表示前 i 个元素的最大值\n",
        "\t\t○ local[i] 表⽰示包含第 i 个元素前 i 个元素的最大值\n",
        "\t2. function:\n",
        "\t\t○ global[i] = 通过 local[i] 更新\n",
        "\t\t○ local[i] = 通过原序列或者 global[i] 更新\n",
        "\t3. initialize: global[0].. Local[i]\n",
        "\t4. answer: global[n-1]..\n",
        "\n",
        "\n",
        "\n"
      ]
    },
    {
      "metadata": {
        "id": "lW46e-AS-5Rd",
        "colab_type": "text"
      },
      "cell_type": "markdown",
      "source": [
        "### Maximum SubArray I\n",
        "\n",
        "Description\n",
        "Given an array of integers, find a contiguous subarray which has the largest sum.\n",
        "\n",
        "Notice\n",
        "The subarray should contain at least one number.\n",
        "```\n",
        "Example\n",
        "Given the array [−2,2,−3,4,−1,2,1,−5,3], \n",
        "the contiguous subarray [4,−1,2,1] has the largest sum = 6.\n",
        "\n",
        "Challenge \n",
        "Can you do it in time complexity O(n)?\n",
        "```\n",
        "\n",
        "$ f[i] = max(f[i-1] + nums[i-1], nums[i-1])$ "
      ]
    },
    {
      "metadata": {
        "id": "MgevrmuV-4pl",
        "colab_type": "code",
        "colab": {
          "base_uri": "https://localhost:8080/",
          "height": 35
        },
        "outputId": "03938bb1-647e-4be2-8960-0d41cf889ebf"
      },
      "cell_type": "code",
      "source": [
        "class Solution:\n",
        "  def max_sub_array(self, nums):\n",
        "    if nums == []:\n",
        "      return \n",
        "    \n",
        "    cur_sum = max_sum = nums[0]\n",
        "    \n",
        "    for num in nums[1:]:\n",
        "      cur_sum = max(cur_sum + num, num)\n",
        "      max_sum = max(max_sum, cur_sum)\n",
        "    \n",
        "    return max_sum\n",
        "\n",
        "if __name__ == \"__main__\":\n",
        "  \n",
        "  print Solution().max_sub_array([-2,2,-3,4,-1,2,1,-5,3])\n",
        "    \n",
        "    "
      ],
      "execution_count": 13,
      "outputs": [
        {
          "output_type": "stream",
          "text": [
            "6\n"
          ],
          "name": "stdout"
        }
      ]
    },
    {
      "metadata": {
        "id": "W0wI3PVKA-tE",
        "colab_type": "text"
      },
      "cell_type": "markdown",
      "source": [
        "### Maximum Subarray II \n",
        "\n",
        "Description\n",
        "Given an array of integers, find two non-overlapping subarrays which have the largest sum.\n",
        "The number in each subarray should be contiguous.\n",
        "Return the largest sum.\n",
        "\n",
        "Notice:\n",
        "\n",
        "The subarray should contain at least one number\n",
        "```\n",
        "Example\n",
        "For given [1, 3, -1, 2, -1, 2], \n",
        "the two subarrays are [1, 3] and [2, -1, 2] or [1, 3, -1, 2] and [2], \n",
        "they both have the largest sum 7.\n",
        "```\n",
        "Challenge: \n",
        "Can you do it in time complexity O(n) ?"
      ]
    },
    {
      "metadata": {
        "id": "4n-bvY0OCeqa",
        "colab_type": "code",
        "colab": {
          "base_uri": "https://localhost:8080/",
          "height": 52
        },
        "outputId": "27daaada-be85-450c-eb5f-2333e9b54702"
      },
      "cell_type": "code",
      "source": [
        "class Solution(object):\n",
        "  \n",
        "  def maxTwoSubArrays(self, nums):\n",
        "      pass\n",
        "    \n",
        "      \n",
        "if __name__ == \"__main__\":\n",
        "\n",
        "  print Solution().maxTwoSubArrays([1,1,1,1,1,1,1,1,1,1,1,1,1,1,1,1,1,1,1,\n",
        "                                    1,1,1,1,1,1,1,-2,1,-15,1,1,1,1,1,1,1,\n",
        "                                    1,1,1,1,1,1,1,1,1,1,1])"
      ],
      "execution_count": 1,
      "outputs": [
        {
          "output_type": "stream",
          "text": [
            "28 0 46 1\n",
            "28\n"
          ],
          "name": "stdout"
        }
      ]
    },
    {
      "metadata": {
        "id": "JN9u0bv-2CLf",
        "colab_type": "text"
      },
      "cell_type": "markdown",
      "source": [
        "### Maximum Subarray III\n",
        "Description\n",
        "Given an array of integers and a number k, \n",
        "find k non-overlapping subarrays which have the largest sum.\n",
        "The number in each subarray should be contiguous.\n",
        "Return the largest sum.\n",
        "```\n",
        "Notice\n",
        "The subarray should contain at least one number\n",
        "\n",
        "Example\n",
        "Given [-1,4,-2,3,-2,3], k=2, return 8\n",
        "```\n",
        "\n",
        "两个思路：\n",
        "1. $ f[i][j]  =   f[i][j-1] + maxSum(num[j:i+1]) $ # 从j开始到i再求maxsubArray, 注意是从j不是从j-1，写成代码，就是j-1不是j-2开始\n",
        "2.  \n",
        "\n",
        "     $dp[i][j][0] = max(dp[i - 1][j][1],\\   dp[i - 1][j][0])$ # 第i个数没有放进背包\n",
        "\n",
        "      $dp[i][j][1] = max( dp[i-1][j][1],\\  dp[i-1][j-1][1],\\ dp[i-1][j-1][0]) + nums[i-1]$ # 第i个数放进背包\n",
        "      \n",
        "      Notes: 为什么要多一个变量来记录，A = [-1，4，-2，3]\n",
        "     \n",
        "     dp[3][1] = max(dp[2][1], dp[2][1]+A[3], dp[2][0] + A[3]) = max(4, 4+3, 3) = 7, 错，dp[3][1] = 5, 因为没有确保连续性，所以dp错了。"
      ]
    },
    {
      "metadata": {
        "id": "qq9LsMBzHWts",
        "colab_type": "code",
        "colab": {
          "base_uri": "https://localhost:8080/",
          "height": 191
        },
        "outputId": "9cdff9b3-d8c7-4655-a7ce-7e006ccafc0c"
      },
      "cell_type": "code",
      "source": [
        "MIN_INT = -2 ** 16\n",
        "class Solution:\n",
        "  \n",
        "    def maxSubArray(self, nums, k):\n",
        "\n",
        "        f = [[[MIN_INT for t in range(2)]\n",
        "                 for j in range(k+1)]\n",
        "                 for i in range(len(nums)+1)]\n",
        "        for i in range(1, len(nums)+1):\n",
        "          f[i][0][0] = 0 # 重要，如果没有这个，[-1,4] 最后出来结果是3S\n",
        "        for j in range(1, k+1):\n",
        "          f[j][j][1] = sum(nums[:j])\n",
        "          for i in range(j+1, len(nums)+1):\n",
        "            f[i][j][0] = max(f[i-1][j][0], f[i-1][j][1])\n",
        "            f[i][j][1] = max(f[i-1][j][1], f[i-1][j-1][0], \n",
        "                             f[i-1][j-1][1]) + nums[i-1]\n",
        "        \n",
        "            print(i,j, f[i][j])\n",
        "        \n",
        "        return max(f[-1][-1])\n",
        "    \n",
        "if __name__ == \"__main__\":\n",
        "    print Solution().maxSubArray([-1,4,-2,3,-2,3], 2)"
      ],
      "execution_count": 13,
      "outputs": [
        {
          "output_type": "stream",
          "text": [
            "(2, 1, [-1, 4])\n",
            "(3, 1, [4, 2])\n",
            "(4, 1, [4, 5])\n",
            "(5, 1, [5, 3])\n",
            "(6, 1, [5, 6])\n",
            "(3, 2, [3, 2])\n",
            "(4, 2, [3, 7])\n",
            "(5, 2, [7, 5])\n",
            "(6, 2, [7, 8])\n",
            "8\n"
          ],
          "name": "stdout"
        }
      ]
    },
    {
      "metadata": {
        "id": "0qCvq2CXUF_3",
        "colab_type": "text"
      },
      "cell_type": "markdown",
      "source": [
        "### Maximum Subarray IV\n",
        "\n",
        "\n",
        "Given an integer arrays, find a contiguous subarray which has the largest sum and length should be **greater or equal to ** given length k.\n",
        "Return the largest sum, return 0 if there are fewer than k elements in the array.\n",
        "```\n",
        "Example\n",
        "Given the array [-2,2,-3,4,-1,2,1,-5,3] and k = 5, the contiguous subarray [2,-3,4,-1,2,1] has the largest sum = 5.\n",
        "```\n",
        "\n",
        "\n",
        "find $sum[i] - min(sum[j], j= 0, ..., i-k)$"
      ]
    },
    {
      "metadata": {
        "id": "imD4JFZhPfqa",
        "colab_type": "code",
        "colab": {
          "base_uri": "https://localhost:8080/",
          "height": 34
        },
        "outputId": "54efb22c-5951-4c57-babe-89a875e5fc03"
      },
      "cell_type": "code",
      "source": [
        "class Solution(object):\n",
        "    def maxSubarray4(self, nums, k):\n",
        "        if len(nums) < k:\n",
        "          return 0\n",
        "        if len(nums) == k:\n",
        "          return sum(nums)\n",
        "        \n",
        "        # len(nums) > k \n",
        "        cur_sum = [0 for i in range(len(nums))]\n",
        "        cur_sum[0] = nums[0]\n",
        "        max_sum = -65535\n",
        "        min_sum = 0 # include everything \n",
        "        \n",
        "        \n",
        "        for i in range(1, len(nums)):\n",
        "          cur_sum[i] =  cur_sum[i-1] + nums[i]\n",
        "          if i >= k:\n",
        "            min_sum = min(min_sum, cur_sum[i-k])\n",
        "            max_sum = max(max_sum, cur_sum[i] - min_sum)\n",
        "        return max_sum \n",
        "\n",
        "\n",
        "      \n",
        "if __name__ == \"__main__\":\n",
        "    #sample = [-1,-1,-1,-1]\n",
        "    sample = [5]\n",
        "    s = Solution()\n",
        "    print s.maxSubarray4(sample, 1)"
      ],
      "execution_count": 15,
      "outputs": [
        {
          "output_type": "stream",
          "text": [
            "-65535\n"
          ],
          "name": "stdout"
        }
      ]
    },
    {
      "metadata": {
        "id": "6tXzhvZsUGvn",
        "colab_type": "text"
      },
      "cell_type": "markdown",
      "source": [
        "### Maximum Subarray V\n",
        "\n",
        "Given an integer arrays, find a contiguous subarray which has the largest sum and length should be between k1 and k2 (include k1 and k2).\n",
        "\n",
        "Return the largest sum, return 0 if there are fewer than k1 elements in the array.\n",
        "\n",
        "```\n",
        "Example\n",
        "Given the array [-2,2,-3,4,-1,2,1,-5,3] and k1 = 2, k2 = 4, the contiguous subarray [4,-1,2,1] has the largest sum = 6.\n",
        "```\n",
        "\n",
        "find $sum[i] - min(sum[j], k1 <= i - j + 1 <= k2)$\n"
      ]
    },
    {
      "metadata": {
        "id": "wXQRvBtOr0gu",
        "colab_type": "code",
        "colab": {
          "base_uri": "https://localhost:8080/",
          "height": 52
        },
        "outputId": "1136894d-bd58-45b7-9335-9b6f5f9ed42c"
      },
      "cell_type": "code",
      "source": [
        " class Solution:\n",
        "    \"\"\"\n",
        "    @param nums: an array of integers\n",
        "    @param k1: An integer\n",
        "    @param k2: An integer\n",
        "    @return: the largest sum\n",
        "    \"\"\"\n",
        "      \n",
        "    def maxSubarray5(self, nums, k1, k2):\n",
        "        if len(nums) < k1:\n",
        "          return 0\n",
        "        if len(nums) == k1:\n",
        "          return sum(nums)\n",
        "          \n",
        "        MIN_INT = -65535\n",
        "        from collections import deque\n",
        "        csum = [0] # sum[0] 留空，为了防止一个也不减掉的情况\n",
        "        deck = deque() # deck will save j, i-k2 <= j <= i-k1\n",
        "        max_sum = MIN_INT\n",
        "        \n",
        "        for i in range(1, len(nums)+1):\n",
        "          csum.append(csum[i-1] + nums[i-1])\n",
        "          if i >= k1:\n",
        "            if len(deck) > 0 and deck[0] < i - k2: # j >= i-k2\n",
        "                deck.popleft()            \n",
        "            while len(deck) > 0 and csum[deck[-1]] > csum[i-k1]:\n",
        "              deck.pop()            \n",
        "            deck.append(i-k1)\n",
        "            max_sum = max(max_sum, csum[i] - csum[deck[0]]) # len(nums) > k1\n",
        "        \n",
        "        return max_sum\n",
        "\n",
        "if __name__ == \"__main__\":\n",
        "    print Solution().maxSubarray5([-2,2,-3,4,-1,2,1,-5,3], 2, 4)\n",
        "    print Solution().maxSubarray5([1,2,3,4,5], 2, 4)\n",
        "        "
      ],
      "execution_count": 1,
      "outputs": [
        {
          "output_type": "stream",
          "text": [
            "6\n",
            "14\n"
          ],
          "name": "stdout"
        }
      ]
    },
    {
      "metadata": {
        "id": "zQEJJSMMwFel",
        "colab_type": "text"
      },
      "cell_type": "markdown",
      "source": [
        "### Maximum Average Subarray I\n",
        "\n",
        "Given an array with positive and negative numbers, find the maximum average subarray which length should be equal to given length k.\n",
        "\n",
        "Example\n",
        "Given nums = [1, 12, -5, -6, 50, 3], k = 3\n",
        "\n",
        "Return 15.667 // (-6 + 50 + 3) / 3 = 15.667"
      ]
    },
    {
      "metadata": {
        "id": "sFyG08WSwO9k",
        "colab_type": "code",
        "colab": {}
      },
      "cell_type": "code",
      "source": [
        "class Solution:\n",
        "    \"\"\"\n",
        "    @param: nums: an array with positive and negative numbers\n",
        "    @param: k: an integer\n",
        "    @return: the maximum average\n",
        "    \"\"\"\n",
        "    def findMaxAverage(self, nums, k):\n",
        "        max_avg = -65535\n",
        "        k_sum = 0.0\n",
        "        \n",
        "        for i in range(1, len(nums)+1):\n",
        "          k_sum += nums[i-1]\n",
        "          \n",
        "          if i >= k:\n",
        "            max_avg = max(max_avg, k_sum/k)\n",
        "            k_sum -= nums[i-k]\n",
        "        return max_avg"
      ],
      "execution_count": 0,
      "outputs": []
    },
    {
      "metadata": {
        "id": "QS7rzo-HfCcA",
        "colab_type": "text"
      },
      "cell_type": "markdown",
      "source": [
        "### Maximum Average Subarray II\n",
        "Given an array with positive and negative numbers, find the maximum average subarray which length should be greater or equal to given length k.\n",
        "\n",
        "```\n",
        "Example\n",
        "Given nums = [1, 12, -5, -6, 50, 3], k = 3\n",
        "\n",
        "Return 15.667 // (-6 + 50 + 3) / 3 = 15.667\n",
        "```\n",
        "思路：$\\forall i$ 找到 $max\\lbrace (sum[i] - sum[j])/(i-j) |j=0, ..., i-k\\rbrace$\n",
        "\n",
        "复\n",
        "杂度：O(n * k)\n"
      ]
    },
    {
      "metadata": {
        "id": "FlG2yn5FTVP1",
        "colab_type": "code",
        "colab": {
          "base_uri": "https://localhost:8080/",
          "height": 35
        },
        "outputId": "9d72fdf6-4cac-470e-fe34-978547c13acb"
      },
      "cell_type": "code",
      "source": [
        "class Solution:\n",
        "    \"\"\"\n",
        "    @param: nums: an array with positive and negative numbers\n",
        "    @param: k: an integer\n",
        "    @return: the maximum average\n",
        "    \"\"\"\n",
        "    def maxAverage(self, nums, k):\n",
        "        ksum = [0.0]\n",
        "        max_avg = - 2 **32\n",
        "        for i in range(1, len(nums)+1):\n",
        "          ksum.append(ksum[i-1] + nums[i-1])\n",
        "          if i >= k:\n",
        "            for j in range(i-k+1):\n",
        "              if max_avg * (i-j) < ksum[i] - ksum[j]:\n",
        "                 max_avg = (ksum[i] - ksum[j]) / (i-j) # less divide operation\n",
        "        return max_avg\n",
        "\n",
        "    def maxAverage2(self, nums, k):\n",
        "        left = min(nums) *1.0\n",
        "        right = max(nums)\n",
        "        eps = 1e-5\n",
        "        \n",
        "        def check(mid):\n",
        "          #print mid\n",
        "          csum = [0.0]\n",
        "          min_pre = [0.0]\n",
        "          \n",
        "          for i in range(1, len(nums)+1):\n",
        "            csum.append(csum[i-1] + nums[i-1] - mid)\n",
        "            min_pre.append(min(min_pre[i-1], csum[i]))\n",
        "            \n",
        "            if i >= k and csum[i] - min_pre[i-k] >= 0:\n",
        "              return True\n",
        "          return False\n",
        "        \n",
        "        while left + eps < right:\n",
        "          mid = left + (right -left)/2\n",
        "          if check(mid):\n",
        "            left = mid\n",
        "          else:\n",
        "            right = mid\n",
        "        \n",
        "        return left\n",
        "      \n",
        "if __name__ == \"__main__\":\n",
        "    print Solution().maxAverage2([-78,-50,18,-93,-35,-31,-21,-14,-73], 5)"
      ],
      "execution_count": 2,
      "outputs": [
        {
          "output_type": "stream",
          "text": [
            "-29.333338201\n"
          ],
          "name": "stdout"
        }
      ]
    },
    {
      "metadata": {
        "id": "itn4sWVQt_MN",
        "colab_type": "code",
        "colab": {
          "base_uri": "https://localhost:8080/",
          "height": 52
        },
        "outputId": "f7fbbeb4-5e35-4015-96fc-4aa10f836a45"
      },
      "cell_type": "code",
      "source": [
        "sample = [-78,-50,18,-93,-35,-31,-21,-14,-73,-38,-77,14,-80,-62,5,-36,-67,-51,24,-48,-64,-75,42,-38,-56,-49,2,-11,-98,-34,-13,-75,-42,-47,-99,-82,-34,-34,10,-94,-12,-67,-75,-88,-20,-98,22,-82,46,4,-93,30,-45,-1,32,43,-73,-2,-3,-58,19,-89,-54,-62,-47,12,2,-20,-6,-41,-89,-89,28,-91,28,7,8,-47,-37,-4,27,44,19,-13,-2,-85,-75,-80,-81,36,-30,46,8,-53,24,41,-16,41,45,-35,8,-78,39,-97,14,-73,37,47,36,-42,-89,-96,10,-69,35,-83,-50,47,26,-27,-76,-28,-42,9,17,-86,-57,27,44,4,-54,-80,45,-53,49,-36,-56,13,-19,-57,16,-31,-42,31,-53,-17,24,35,-52,-4,-85,-22,-14,-2,-97,-45,-6,-47,-81,-76,-35,-16,-46,-97,-32,-57,-4,-41,-41,-34,5,-2,-65,25,16,40,-90,19,13,-53,30,-50,7,-30,-14,-10,18,-65,50,42,-48,27,15,-66,-65,-48,-35,-36,-8,16,41,-45,-65,-77,30,-4,2,-57,-92,10,-41,44,-55,-68,-98,23,-79,18,-99,-60,44,39,-55,-35,-18,47,-40,-37,35,45,-57,-52,-55,-58,-93,-25,-81,-14,44,29,0,-71,45,-71,-56,-2,-61,12,-96,-16,50,-17,-73,-29,-38,41,-68,-43,-50,-98,43,0,-48,-95,15,-48,-87,-4,39,-72,8,-66,-75,-95,-51,28,-36,-90,37,-59,-60,30,-80,-30,21,-44,15,-26,22,-18,-25,-10,-39,30,-50,-43,-72,-71,-85,-3,-7,4,-26,-37,-96,-93,-11,-82,-31,-71,-49,-60,-68,-71,46,6,29,10,25,-94,-56,13,-70,-30,-98,-8,-8,-99,-43,-61,-67,25,-8,-55,-69,33,-30,23,-7,-51,-87,-100,1,-36,-95,-9,21,-73,-23,-8,-30,9,-47,41,-9,50,-58,41,-9,-27,42,35,7,-59,49,43,-52,-89,45,-87,29,-57,-34,-84,26,-9,-24,-55,34,16,-72,4,-89,-62,-87,17,-44,-82,-10,13,28,-36,47,-60,-28,-71,-93,-81,-16,11,-66,3,-85,-72,-6,-100,27,13,-97,-37,-32,-90,-49,-48,-89,-28,-100,-10,-48,-64,0,-68,-8,-5,-95,-19,-29,17,-45,-13,35,-81,36,-80,-66,30,10,-3,-68,26,-54,-63,36,-38,-50,-25,7,-56,-51,37,-14,-82,-27,-22,-99,-7,-53,33,-40,-1,-14,13,-75,-45,-100,35,-51,-26,-48,-86,34,-8,37,-14,-78,-76,-82,-43,43,-74,17,-96,26,-100,35,28,-17,39,-17,19,18,30,43,-95,-93,-13,0,-61,-16,-96,-33,37,-46,-30,-28,28,-46,6,-30,32,31,38,-88,21,26,-26,-73,16,-32,-50,-30,-27,-71,-60,12,30,-22,-46,-96,-9,-4,19,14,42,-27,-59,-5,-92,-90,28,27,37,-78,-36,-37,-76,-24,42,17,7,-73,-18,-23,22,35,-28,-73,-7,-80,-73,-42,-57,-83,7,36,-69,-6,9,-33,23,-9,26,-98,-37,44,-52,42,-54,35,-99,-13,46,23,-25,-51,-6,-56,-85,-39,45,-32,34,-42,-28,-57,27,-19,-45,-42,-54,31,-72,-22,-5,-85,-97,22,-19,-95,-6,-59,-18,-52,48,20,-19,35,12,-53,-44,36,-57,24,-62,-47,-14,-49,9,-58,-59,17,-60,7,-10,3,15,-81,29,8,15,20,-47,-73,33,-36,-95,35,-73,-37,-41,-90,-9,-2,-23,-83,-82,-26,24,32,-61,-34,-26,-26,-2,-3,-6,-6,-60,-35,-30,-58,5,-91,29,-29,-32,16,-4,-49,14,-67,-57,-62,10,-65,-17,-39,19,-93,-11,17,2,-3,30,-37,-18,-67,-43,-72,11,-64,-85,-8,26,-96,24,10,-80,-16,2,-89,-17,-90,-55,-19,6,-77,-19,-51,-61,4,-48,32,36,-30,-35,-7,-62,-18,-63,-33,-60,-22,15,-91,36,25,-78,-86,-82,-55,-74,-28,-5,5,-13,-26,23,-6,-62,-58,-89,40,-14,-44,-71,1,40,-86,-4,34,9,-8,30,-31,42,41,23,-34,-82,41,11,-27,-12,-47,-2,-35,0,23,-25,3,-17,41,-69,-83,-2,46,-86,1,2,31,-97,5,-100,-73,-30,-78,-83,-98,-1,-10,-78,35,-29,-98,-3,-50,-31,-45,34,46,6,-25,-84,40,-92,-57,-32,-7,39,10,25,31,-3,-99,38,-22,37,34,29,-13,-33,48,-51,-64,23,-48,-47,-33,-95,-32,7,-8,-99,-13,39,-41,-94,32,-55,-50,-46,-15,-42,1,7,-40,-79,-5,-83,-17,29,24,27,47,26,8,37,4,22,-97,24,-27,12,46,-24,-57,15,-85,48,-93,48,-16,-73,-5,7,-70,-19,-78,6,23,35,-81,-96,-94,-92,-12,-37,36,5,-50,-8,29,-23,46,-66,-30,-30,-8,-100,17,-17,36,-19,-24,-87,20,-44,-14,20,-22,23,-66,-100,-61,-59,9,-41,-90,-96,35,-91,13,-50,-32,11,27,-23,-51,-84,-9,0,-73,-71,35,-40,-45,-16,-17,-30,11,-89,40,-75,-89,-48,17,13,-38,-22,29,26,-29,47,-94,-78,-90,-18,50,-6,-24,-12,40,-92,46,-37,-34,-32,-79,3,47,-17,-53,-60,-27,-94,-51,27,-53,-39,9,-79,10,-73,-53,29,-29,33,14,38,-29,-89,-97,27,-26,33,-30,-47,-2,-18,9,26,-89,-12,-25,-89,-9,-82,-72,-10,-11,-92,45,-80,-55,-54,-76,-14,-57,-40,-9,-77,1,-85,-2,-66,26,-11,-27,-17,-74,-62,-68,-34,-21,-57,-24,-41,-78,25,27,-93,17,-69,22,-62,-79,-66,-10,-45,-39,-78,-16,2,-71,-76,-21,45,-62,11,-5,-59,34,-85,1,-25,-75,43,14,-12,-87,-63,-38,22,-16,44,-37,-94,-93,-59,-51,25,28,37,49,31,-35,-62,-21,44,-78,-87,32,-54,-12,-33,5,2,47,31,-97,-85,-28,-28,-79,-40,-51,-19,-34,27,-86,-11,-32,-21,-84,-1,25,-84,48,-65,-3,-32,-72,-90,4,-75,-3,9,-40,-21,5,-28,31,-59,23,3,-85,25,-48,-43,39,-13,-5,-77,16,12,-51,-49,-16,-16,-23,-95,38,-24,7,-81,-54,-75,-60,-43,32,-9,-76,-10,30,-56,13,-76,26,42,-47,21,17,-22,25,-92,-44,-35,23,-73,-76,-69,33,-36,-50,-71,-93,31,-85,15,44,11,-23,-97,-99,-7,25,-100,29,-46,6,-22,4,-30,-73,-52,42,1,-79,-29,-80,20,44,-82,-69,-76,-26,31,-4,13,-30,45,-12,-95,-92,-25,-98,-40,-42,-29,0,-41,-85,-32,-96,-96,-14,-67,8,-76,-9,20,-17,-17,-83,-31,7,-7,33,46,-48,21,-100,-98,-4,34,36,33,-29,-47,24,20,5,-3,-66,42,-45,-92,-78,-3,-55,-77,-6,32,0,-33,-85,18,-4,-39,50,-43,39,-21,28,-69,-22,-64,-91,3,-25,37,-24,-50,-80,42,25,-6,-90,13,-75,-88,4,45,9,-100,-32,-63,14,-28,19,-97,-6,-73,-78,11,-87,-57,-92,0,-74,-40,5,-30,-75,-70,-51,-22,-88,-8,-99,-94,25,13,-48,-44,-21,-56,12,-98,-6,-47,-6,-36,7,-90,-49,-66,-6,-15,-9,-69,-14,11,15,6,-62,-31,-16,0,20,-13,-19,48,27,-20,32,-40,-69,-52,-62,-61,-92,3,21,-10,-65,-28,42,-93,-9,-92,38,-8,-90,-35,-4,44,12,-77,-35,26,-93,36,-11,42,-46,-19,-73,-25,9,-74,40,-85,-67,-32,-84,-37,-69,26,-3,-32,-12,-91,45,5,10,13,-39,-53,46,5,-19,-6,-52,44,11,24,-49,27,-55,-22,-18,9,17,-3,-76,41,-96,-57,-52,-35,-17,-99,-93,-15,41,-58,-69,-13,-13,-67,-45,-56,17,-87,-48,-3,-82,6,28,-61,19,-92,-35,-88,38,-51,-84,34,50,-83,-10,4,-26,-96,-40,43,-70,-1,-70,21,13,-32,25,-17,-49,-60,24,-58,-91,49,28,-84,-4,39,-64,-80,-12,5,23,-44,26,-52,42,-85,-35,16,5,0,-19,41,-74,-53,-2,14,0,-95,-53,5,-25,-20,-98,-89,-69,16,21,-51,-38,10,-14,-93,41,-88,35,7,-6,-84,-7,41,-50,33,-54,29,-99,49,-3,35,-90,-46,-63,-82,-2,-35,-5,-76,33,-31,-13,-84,-39,-1,27,16,-48,10,-58,-12,12,-58,35,-94,-34,-54,-36,-51,12,-77,-66,6,3,26,-47,3,12,-46,-100,-50,1,-58,-21,-75,-85,-49,-8,-28,0,1,-56,42,-81,-13,-18,29,-64,-53,-58,-5,-28,-55,15,-47,-55,-80,-19,-38,7,22,-18,-14,13,-26,-92,-84,-46,2,3,-82,-34,23,-55,-30,-47,42,9,34,-69,50,45,34,-99,-30,48,-38,7,-59,-52,-71,-26,-1,-80,41,-47,9,-91,-91,-24,15,-29,-90,7,-58,-41,32,-68,-99,-82,-75,-28,36,22,12,7,-85,-82,-85,7,-5,-58,36,-27,-57,-85,42,-60,-1,11,11,-58,-85,-38,41,40,32,-99,-42,-32,-54,-24,49,-86,-32,-34,-7,-66,17,1,24,-19,-33,26,-62,16,44,-5,47,-60,-88,-29,31,-83,-20,-56,-51,-42,-23,4,29,0,-82,-36,-95,11,46,-52,49,-79,42,48,-31,-58,-84,-47,-13,-91,-28,-25,38,-82,-91,-75,-77,3,-24,17,2,-1,-21,-94,-8,-62,-7,-99,9,-16,30,29,-20,-60,38,0,31,-38,2,-37,-34,28,-30,-60,-37,-30,-91,45,-69,9,-65,-76,-10,38,-2,18,-96,25,22,-43,6,-94,-63,-3,-98,4,17,-78,-66,29,40,-48,46,-65,-81,21,-8,-97,-37,27,-37,-18,-19,-82,-93,-69,-62,-77,-98,17,-88,14,-66,-38,-9,-49,-4,34,-1,29,-84,-88,23,-10,-9,-74,-43,-29,-100,-40,40,-93,-42,-23,-86,26,-88,-69,27,45,-49,-100,-99,-73,-49,-69,34,-4,-38,32,30,47,-86,29,-88,-4,14,-20,-83,-8,30,5,-42,46,-59,36,-38,-22,35,-92,-87,-12,-66,44,-45,-30,5,-41,20,-2,37,-46,-6,16,-41,-46,40,5,-86,-92,-11,44,-79,-31,-14,-15,0,-31,-8,-57,-92,-57,27,-50,-85,-20,-58,15,-88,1,36,-67,-70,-32,37,-70,-50,-94,6,-78,-79,-53,9,0,41,32,-12,-78,-40,-88,-61,25,13,33,21,3,-26,-90,-76,36,-42,-19,21,15,-23,15,20,24,-22,-13,0,-100,15,-16,-32,-81,-58,-34,-19,16,-96,-30,-59,-15,42,38,27,-47,50,-86,-41,-87,-16,3,-100,-98,-96,26,46,16,-73,46,10,-57,-3,-11,-80,2,11,31,-82,20,-69,-93,2,-75,-11,4,33,-86,31,-85,-43,-5,-58,22,-37,39,-47,-87,38,-97,-13,-56,39,50,-31,-57,4,35,-65,-81,-46,-80,-30,-76,-73,-43,24,-37,6,1,-33,-95,6,-9,-64,-30,42,-1,-90,34,44,-26,10,43,-53,-22,-29,-82,29,-45,-22,-68,-74,44,-67,-100,-32,-57,-80,-80,11,15,-6,48,-54,-42,12,-30,21,-80,-60,-60,41,-75,-71,-46,50,38,-79,-36,6,38,29,13,-81,-19,5,-82,-6,0,-33,16,-4,-2,-22,-72,-30,-18,-75,1,-18,-84,-75,-1,-85,-49,28,24,-99,-88,-51,33,-58,-99,-51,35,-9,-34,-97,-23,-64,49,-74,11,27,17,-90,-53,4,4,-63,-68,28,-31,-43,16,30,-69,16,38,-71,-99,-28,-33,-32,19,47,-98,-30,19,9,-62,-22,-50,-49,-90,49,14,18,-37,-16,-22,-49,-50,29,-99,38,-64,20,40,5,-41,-17,-100,39,-11,-93,-90,-39,17,-50,47,-3,-69,-59,-67,34,-26,-100,-92,-59,-17,2,-67,5,-76,-46,33,-31,-74,12,-23,-81,22,-95,-4,-46,-40,-42,-40,-15,-16,22,-51,-98,14,-76,41,-40,-58,-87,29,-59,40,-88,-86,-3,-31,-29,2,-8,19,26,17,31,48,-55,-4,46,-18,29,50,-75,21,-78,20,-52,-53,-39,25,30,-25,-35,-59,-67,-51,7,-94,-45,25,18,-69,-47,36,16,20,-6,4,-35,-90,50,-71,-31,-73,-65,-78,-97,-86,-75,39,-48,-67,42,-1,-22,-70,-33,-74,31,2,40,-16,-59,-83,41,50,-28,-53,19,-20,-71,-23,-52,-47,-56,-62,-63,33,-16,28,-35,-14,18,35,-88,-56,41,41,-100,-46,-22,-11,38,10,-28,-45,-92,-39,-11,-17,22,14,-97,-48,-63,-82,-47,18,-55,44,-2,-87,-55,-94,45,30,8,-3,-55,-20,-56,28,43,1,40,6,4,-64,-95,17,-11,-23,-69,-94,1,0,-6,-82,-25,-82,-2,-25,38,-37,-15,-1,38,-80,-64,-62,24,-6,39,7,-88,-6,-53,-8,35,18,10,10,-22,20,16,32,-71,-66,20,-63,5,-34,10,-49,-32,-26,41,7,-20,-5,47,33,-28,-55,-69,-29,0,9,-72,-60,1,18,27,-85,-66,-16,-4,45,-59,31,-30,-96,38,-32,6,-51,-81,-18,44,26,26,-1,-11,32,-63,-3,-73,-71,30,-21,6,10,-66,-11,45,-50,36,-56,-55,-9,-90,30,21,47,20,-17,-64,-60,19,32,-86,29,-82,-13,-92,-81,-53,-48,8,-65,9,16,30,-63,-60,-63,0,-83,30,21,-86,-72,-82,-43,30,-51,42,26,-64,25,-28,38,-77,-11,-64,-69,-57,-94,-11,-21,44,-40,0,41,-47,-49,-54,-48,-81,41,-61,-26,-18,-71,-100,-14,-39,-14,16,-28,-26,-84,-95,-17,-65,17,-87,-3,-75,37,-49,49,44,21,-7,39,-69,-96,-78,40,-94,-67,-59,42,-51,40,-41,-45,41,-86,8,-1,-74,47,-97,29,-39,-61,24,26,30,-89,-81,-54,-59,20,44,48,-31,12,-61,-98,6,-42,-24,8,-46,26,-6,9,-11,-38,-75,-96,22,-38,-26,-71,17,-70,-66,-63,-10,-93,-39,-22,-45,-95,38,-20,-38,-74,36,-68,-76,-35,34,-69,0,-98,-86,-81,13,-12,-36,12,19,27,-22,10,-18,-3,18,-6,48,-89,1,19,-99,26,-67,-52,36,-28,-94,-99,-46,11,-67,33,-43,10,-100,-23,24,-52,-2,-27,-56,43,-62,-40,27,19,-82,-67,-61,-16,-10,-94,15,-65,23,-22,35,15,-68,-45,-43,11,-97,-81,44,-68,2,5,-8,-38,-21,2,20,-70,17,-44,-17,-59,-43,39,48,-17,16,34,-18,19,3,-47,11,-92,-10,-19,23,-75,-9,-57,-91,40,40,-16,31,-18,35,44,-53,-33,23,-100,-27,-78,-95,-74,23,32,-15,-86,-91,22,-61,11,-68,15,-27,9,-2,-27,29,-100,-55,-99,-61,10,4,-81,-83,-2,49,-48,42,-59,-51,10,-16,-39,30,-15,-17,33,47,-91,-72,13,-20,-9,-9,-4,-93,-25,-27,-2,-49,46,27,1,-9,24,-1,-65,-18,-9,28,49,43,-89,10,26,-21,-12,6,6,-21,-19,12,-33,10,-37,-23,-49,-16,-68,-16,7,-66,-1,1,-33,-24,-75,-53,-72,-26,-63,42,5,9,18,22,46,-3,21,-80,3,-88,-29,-84,-44,31,46,-18,-97,16,22,-91,-66,-60,8,-71,-5,23,-15,-29,45,11,14,-13,4,-55,-73,30,45,-42,33,-8,34,-83,-68,-40,25,34,-38,-69,-89,-45,-19,45,5,-92,-78,47,-38,47,47,-21,-3,-65,-82,-17,-17,-6,-6,-10,43,9,-45,-80,31,-13,-28,-78,30,-52,-41,-67,-30,-59,-68,-37,-52,-21,0,40,-51,0,12,-48,-53,16,-60,13,-6,-64,-34,-26,0,-86,16,28,-81,-12,-47,-68,-83,34,-58,13,-33,-89,-64,-10,22,-77,-49,39,-17,-39,-60,42,21,-9,-3,8,-90,-55,-72,-71,-100,-32,-13,-1,48,-6,-20,-71,5,-99,-83,-63,-93,46,-7,22,-59,-81,-46,-29,34,-79,-72,-13,-99,3,-48,-9,-73,13,-96,-40,37,-49,-48,-85,-32,44,45,1,-44,20,-56,18,13,3,-51,28,-100,-26,-75,-55,-25,-17,9,-19,-90,-8,-15,-13,-37,-77,-42,-79,-67,-10,25,-30,7,-100,28,-71,-81,-27,5,5,-20,-35,-26,20,-72,-84,12,-21,-29,-68,-86,-96,37,25,-27,-24,-71,48,28,43,38,25,-25,16,-97,31,-9,-51,-54,12,-55,-70,-32,-35,23,-32,-68,-55,-67,45,-41,-77,45,29,-88,38,-6,32,24,9,-88,-84,-80,29,-6,-88,-43,47,-3,50,1,19,-7,-56,-3,-27,-90,-90,-53,-47,-1,-63,7,-49,-93,-99,50,-72,25,47,-26,-95,-72,19,-6,-91,29,34,-44,20,-34,-15,-25,9,-18,-56,-74,-78,-16,15,-48,35,-48,-40,-12,2,-25,-93,-69,32,-3,41,-48,-50,-41,-81,-8,25,-43,-9,49,25,-21,-56,45,-26,13,15,-5,32,-53,-73,-12,-12,-78,-22,14,-23,1,-45,-10,48,-21,-67,24,-14,37,49,-72,-56,-71,44,-8,-71,3,-16,-93,44,-52,-2,-84,-100,-93,-2,13,-61,-40,-14,-36,-63,-49,-63,-22,34,-90,-25,-32,8,34,-59,-89,10,-21,-47,-27,-27,-4,-5,-10,-46,-27,-86,37,14,-7,41,-20,-95,-53,-12,-44,-70,-69,-91,-43,35,0,-36,34,-15,21,-3,34,9,-84,-72,-91,35,-3,-32,-54,-36,47,-86,-22,-34,-70,-52,-25,11,-60,-83,-52,-76,-43,-95,37,-4,-30,-5,-72,-63,-24,-70,-94,-72,21,-2,-90,-97,29,-49,-91,49,-47,-75,-48,-9,-90,-65,12,-94,-83,-6,-52,6,-17,6,-12,-27,-13,-32,-24,42,-5,-92,15,-94,31,-62,-10,-86,-20,-73,-38,-22,-26,18,-9,-34,-65,-54,-31,-88,-24,3,42,-29,-94,-100,-43,17,-88,-100,-56,-1,-83,-82,40,-38,34,-52,-3,-54,-63,47,-63,25,-89,-21,-90,29,-21,20,-58,36,-5,-84,11,4,-67,-87,-90,29,9,-55,-1,11,-46,46,-72,-87,-63,-28,2,-93,12,20,44,9,-74,-99,1,-89,-24,-55,31,-49,-84,1,-46,-89,6,32,-54,29,-9,-19,-17,38,17,-63,-26,1,23,-54,-83,-27,-22,38,11,-79,-59,24,39,-9,-35,-42,-35,34,5,30,-97,-18,-54,-96,-26,16,3,14,27,28,-30,-43,-19,46,-4,14,48,-36,-27,1,-75,17,-95,8,20,40,43,-40,33,-36,-50,32,-68,39,-25,33,-77,-17,-50,11,-41,-7,-9,-64,-93,-50,-43,-30,37,48,-92,-58,38,6,16,50,-32,-48,-15,-85,30,-86,7,-73,23,-20,-61,-1,35,-10,50,-99,1,35,-61,9,-77,-80,47,-56,-64,-93,-83,-63,-90,-33,33,-60,-24,29,-12,-54,39,-71,-8,-48,-31,1,-32,-31,3,6,-64,-37,-56,-9,6,-77,-88,-86,-96,-19,4,-48,37,-17,-30,-39,-69,48,-31,40,-65,-49,-91,-42,31,-35,1,-87,27,-23,-87,-74,-50,45,-37,34,-40,-7,46,-50,-98,22,-34,36,-15,-15,-46,-34,-66,29,-91,-31,-22,-95,-87,-97,-93,7,-30,-50,-96,46,47,-46,-16,-27,40,26,-92,-13,-81,33,-33,-14,-7,49,-63,-32,-41,-78,-94,-79,-38,-49,28,22,-34,-12,-12,5,47,-31,26,-73,-97,-21,6,-66,-45,-86,-23,20,-94,-27,-87,41,16,31,-48,10,26,-87,-72,-93,46,-78,37,-23,10,-97,-9,-98,-17,-40,-64,-6,-80,-98,-25,2,26,37,-35,-54,-59,1,23,-39,0,-79,36,29,-68,-76,-19,7,-53,21,10,-57,-58,4,8,37,35,11,-34,-11,-12,-41,32,-45,22,28,-35,-15,30,-28,-59,-71,28,-73,22,25,1,-31,-36,-41,-75,-45,-11,-82,-82,-33,-73,2,-6,-36,24,-66,-6,-51,32,-20,11,-35,19,20,-53,50,-84,45,-64,-2,-61,-85,-25,-55,-40,23,-96,37,-14,-62,-67,-39,23,18,3,-53,-98,42,37,-91,-19,-19,-80,33,-90,14,-98,-92,-42,2,0,-80,-32,-61,47,-71,13,-20,-28,-69,-34,-58,14,-36,-21,7,-34,-75,-88,-99,-45,-77,30,-50,-69,-50,-40,30,-42,19,44,-96,-27,-45,8,16,-6,-97,-19,-11,-96,-17,49,8,25,-99,8,46,46,-94,-59,21,-91,-45,-16,-68,5,-46,48,-70,-63,24,17,-32,-76,-69,-40,-45,31,-98,34,-36,-30,-73,1,-72,41,-53,-17,36,26,-78,2,9,-41,-71,-64,24,-69,-71,-35,-71,-34,-58,-12,-26,12,12,-23,18,-84,-1,-72,-74,-24,-59,-9,-35,-56,-38,-70,49,-41,-54,-26,40,-52,-61,-11,46,0,-26,-70,35,-23,-18,-90,25,-3,-71,12,6,-72,7,43,-95,-88,33,19,-7,-93,2,-70,-59,-91,-49,21,-81,20,-47,-6,24,24,4,7,-6,-26,-10,41,50,-89,2,39,-26,-91,-100,40,-89,-50,-47,-70,-7,-100,30,19,-36,33,-43,-62,-77,20,-69,4,-20,-60,-61,-3,-82,-66,-52,-83,-97,-64,-27,46,-73,-2,4,-56,-38,-87,11,45,19,-79,35,-14,17,44,-47,-36,-8,-2,24,-62,-46,-71,-83,19,33,-80,-93,-2,47,-83,18,-60,-21,-97,-56,-53,31,-8,6,-78,-54,-49,24,37,-64,-47,-62,-11,-32,18,-43,-49,12,-72,42,-62,-47,-92,-80,8,-2,-19,44,49,14,37,-56,7,-93,-87,31,24,18,11,24,8,36,-75,12,-23,-98,28,33,-98,-98,-59,-26,-77,-89,-83,-43,-73,-15,48,-13,6,22,8,-23,0,-18,-25,-74,-29,-93,3,5,35,-50,-60,-81,35,37,48,-79,6,-8,-80,30,-35,-66,49,39,25,-91,-59,-62,-84,-88,41,9,-16,-93,-25,25,2,-78,46,15,-29,-12,6,25,0,21,-39,-46,-19,-83,29,15,-36,-72,39,-12,-95,16,45,-7,-8,-2,9,-31,2,32,-98,17,-61,-82,11,-47,31,20,19,-14,12,24,-16,-31,-59,-68,25,37,36,24,9,50,-3,-52,-9,-69,-88,26,20,-1,-11,7,50,-8,-65,21,-67,-8,38,-64,-56,8,-66,-62,-25,-62,-1,-58,-65,-77,-72,-61,-80,39,-18,10,-64,-48,-16,19,-76,40,-74,-98,-88,-29,-35,43,-11,28,-52,45,-56,-33,42,-99,-92,6,35,24,-6,38,19,-34,45,12,6,-32,-86,-21,-99,-22,-35,-72,6,43,-90,-40,-38,-51,-31,-45,-82,-66,-57,-24,47,-15,-8,-99,-74,39,-52,-30,-52,-4,-38,-13,-33,-35,-23,-15,42,-99,-49,-59,45,43,-25,-23,-91,25,47,-21,10,-84,13,0,-78,-26,-59,-54,5,5,-83,-86,19,13,-74,8,-97,-66,-74,-75,39,-25,-32,9,-33,-18,-90,-7,-4,-97,13,44,-57,22,-51,-35,21,-42,-64,-40,23,-1,-47,40,-95,34,-78,-59,-22,4,-15,-34,-33,47,-50,-61,43,13,9,-55,-87,-58,-47,31,14,2,7,-72,37,-36,37,-97,-93,-47,-96,50,8,-54,36,-31,-41,-88,13,-50,44,-60,17,25,-99,-40,-21,-98,-21,-97,0,-61,25,-76,41,-4,-11,16,22,-42,-43,-41,18,29,46,42,-35,-62,10,-63,30,-6,-78,5,44,-24,31,-35,-3,-75,-47,-41,-1,-31,9,-16,8,50,-6,-38,-20,46,-51,-68,50,44,40,-96,-5,-27,-6,-39,-70,-5,8,-44,-18,-4,-28,-2,-43,-94,-37,8,49,24,-58,12,-33,-68,-66,-6,-38,-5,-36,-74,-94,36,35,-19,-46,44,11,-85,19,-73,27,-86,28,-64,-37,8,27,-23,-89,13,-88,-43,-1,8,-34,46,-39,6,-39,32,-39,13,10,5,-40,-15,-26,50,-62,-42,-16,-44,28,-16,18,-25,19,-96,-87,-34,-27,11,39,0,45,-27,-87,-51,21,20,47,-25,-71,14,20,-76,46,-67,-87,31,16,-60,-23,-28,-39,-66,-36,1,38,-93,-50,18,-14,-56,-31,-39,5,-13,-10,-37,5,34,17,44,0,-93,-20,-62,34,37,-53,-69,-26,45,-5,-23,-76,38,36,7,50,-20,35,-55,-27,45,-53,4,46,-16,-76,41,-38,-60,21,-86,8,46,38,-59,-69,-49,11,42,-95,-86,15,36,17,-88,14,41,-29,-80,16,-92,-86,-86,31,-58,2,-97,-34,36,-56,29,32,32,-84,-40,-10,-75,-97,-62,39,-53,35,37,-84,-94,-39,-24,-3,-88,1,-70,45,-61,-55,-17,13,-17,-74,-59,17,-29,-49,9,-34,-38,-25,-48,9,-74,-96,10,-94,-14,-78,-67,-31,-35,-84,-22,-96,-31,-67,47,-28,-98,14,46,12,-32,11,-79,-93,41,37,-77,-98,-97,16,2,-62,27,25,33,-35,-50,-39,-12,39,45,-30,-75,-41,-39,-71,33,36,-25,-22,-87,-64,-21,-84,-43,-92,44,-72,-80,25,-49,-97,-87,-75,-46,-45,-76,21,-15,-100,14,47,-30,-75,3,-27,0,47,-23,-35,-22,-18,-31,-56,-94,-10,13,-4,-93,-62,-69,-12,20,-6,36,18,-100,-12,3,-42,-18,26,-1,-20,-88,-71,-77,-50,-5,-47,-6,26,-82,-56,33,42,-52,-82,16,-82,-21,-17,-25,15,-80,-76,-82,36,-10,-53,-94,32,-47,-53,11,-15,-50,10,-93,12,-63,38,-92,-61,-50,-95,10,19,24,12,-8,34,25,-41,-77,5,16,-96,1,-74,-16,-14,5,49,-42,-49,-64,-9,-52,-68,15,21,-81,-81,23,14,-40,50,-25,-29,-54,48,42,19,-43,11,29,24,-89,-51,-84,-20,8,-5,27,-78,-80,-80,-13,26,-74,-23,29,-78,-31,-45,-18,-50,49,-98,-94,8,-46,-21,41,-33,-46,-90,-12,-70,-81,-37,-75,-72,-2,-75,-45,37,17,-72,-43,-81,9,-31,-39,47,38,-88,5,6,19,-34,6,-18,36,10,-45,-30,-82,27,-8,-11,-78,-56,-81,32,37,-13,-11,-71,3,44,-34,-32,-73,-22,-71,-21,26,-16,-52,-38,28,-50,-20,-2,10,11,12,-36,-29,4,28,-24,-49,-10,-11,-46,-48,22,-37,-53,-71,8,-38,-52,-41,-63,-100,36,46,-62,-30,22,-26,-20,-13,-95,39,-14,10,-100,44,-99,-41,3,-9,-80,49,-39,2,-57,-3,-29,22,-61,-75,-22,-76,-14,-26,-31,-73,-31,-43,-10,-52,-44,32,-43,34,-51,-40,8,35,22,-13,1,-57,44,13,-69,16,-14,-1,-8,-72,-100,15,-10,10,-75,-31,-89,13,-22,-32,-1,-83,-78,-6,7,-15,36,-52,-72,4,-56,25,24,-75,28,-15,-95,-70,40,40,-85,-50,-84,-94,-32,-13,-43,-56,36,-88,42,-14,-99,-30,-83,1,-50,33,-13,-71,9,-34,-85,27,-19,18,-3,-83,-98,-4,-97,-86,-68,12,-33,6,42,-24,-33,41,22,-26,-18,-92,25,-31,-26,27,-7,-12,-1,-11,-17,-22,-90,-68,-44,-94,23,-95,15,-59,-39,-50,-1,28,12,-100,-86,20,9,-18,-76,23,-75,-92,34,-97,-1,-18,-85,-90,13,-66,-33,-83,-70,-5,-7,-17,-20,-2,46,-88,48,-37,43,49,-95,6,-74,29,-32,32,-23,39,-10,-17,12,42,-55,23,-15,36,-16,15,-2,2,12,-52,15,16,-41,29,22,-96,38,44,-31,2,-90,19,42,-29,43,-59,-37,0,-42,-50,-25,34,-63,31,-100,-72,-43,-70,-82,-61,-44,-38,-17,-4,-98,21,-6,30,-4,-23,43,9,-22,-2,17,-66,-78,-59,-32,31,-63,48,-30,-87,-11,46,43,-21,-4,14,-9,48,48,32,39,-99,-40,-46,37,-1,2,-60,-84,24,11,12,-60,22,3,8,-69,21,-36,32,-43,-2,-55,47,6,-17,10,22,-83,49,-15,-67,-84,29,-43,45,-85,-28,-3,-96,43,49,1,-72,-22,32,-56,-75,11,-94,35,-14,-73,-29,43,-7,-78,-14,-84,-47,-84,-47,0,33,-71,-62,46,-62,49,-97,-2,-15,0,48,17,49,-78,42,-36,37,23,-37,34,-25,-39,-50,-8,-53,32,-56,-91,-4,-74,-77,-84,-3,7,1,-13,43,-85,-79,-80,43,-63,5,44,-76,-25,-73,-89,-28,-5,-74,-13,-91,-74,-93,-31,-98,49,-29,12,-42,-29,-61,-54,30,23,-45,-36,-43,-17,29,-40,-54,-56,-75,-31,-34,32,-95,31,2,-38,48,-84,32,-52,-7,3,-71,-100,-96,-97,-54,33,40,-82,11,-54,-42,-44,-40,-4,-43,23,-100,-30,-41,19,-18,-72,22,-2,-30,-48,34,-24,-72,-24,49,-42,-43,-35,16,22,-52,-24,-54,12,-7,-32,39,-19,-43,36,26,15,0,18,-88,-38,34,-46,-48,-81,-20,-47,-7,32,33,-79,0,-26,-31,-56,-63,48,-32,-17,-93,-19,-50,-58,-61,26,-60,-64,-37,-51,9,-89,-29,7,-59,-46,-78,24,-30,-33,-54,15,-48,4,-1,-86,3,-44,-43,35,42,45,37,-80,34,-6,-37,-21,17,-98,-13,0,6,-96,7,38,13,-35,-74,26,-94,0,37,-70,-74,-61,-15,-69,-9,-86,-99,0,-80,-32,-24,5,-86,-33,-15,0,26,-3,0,-12,-29,-13,30,-69,-53,-49,-1,-8,21,29,-56,14,-63,30,-20,-7,13,-100,-55,-14,-100,36,-68,31,12,-11,3,-28,45,-55,-33,-64,47,29,41,-48,9,-13,-99,-68,-83,-59,-18,-19,42,-87,-77,15,-74,33,-36,-43,-30,-7,-35,-98,-100,16,-22,25,-84,-50,-92,-22,-46,-37,-82,-41,26,-52,-84,30,-79,-76,-3,37,-15,26,7,21,10,-49,-78,-57,-14,40,-33,47,22,-48,35,-31,-4,-79,-3,-83,12,-70,20,46,-75,-86,-13,34,42,23,-68,36,-81,48,-66,-27,12,-73,-38,-76,-80,24,-16,-85,-67,30,31,4,-65,29,-34,9,30,48,-51,-3,-81,-63,-50,7,-96,16,50,-50,-89,-17,-13,-91,-84,-88,-67,-98,-63,-75,-38,12,-10,43,48,6,-94,46,5,-92,-72,-61,-68,-92,40,-74,-65,-24,44,-11,-92,-59,-15,-91,23,-83,-67,-72,29,-64,-36,-21,20,-64,-14,-72,-80,-71,-48,-63,-94,43,36,8,-55,15,4,-33,27,34,-98,25,-37,-62,-59,-46,7,-35,-73,3,-5,-99,12,-98,-72,21,-10,-37,-34,37,-1,-53,-75,-35,17,-84,-15,-91,-35,-56,-13,-44,-26,-45,-8,-82,12,-74,-20,-59,-95,-42,-84,-18,-85,43,-42,-32,-17,-95,24,-29,-12,-26,-98,45,-25,33,-33,-43,-24,-50,-2,-1,37,15,-98,-56,3,33,-5,-23,-64,-21,20,-96,-13,-81,-1,1,-56,-81,-52,-17,-71,-92,-41,-4,-21,-75,26,44,-38,-98,44,-56,-65,-93,24,-66,-57,32,-36,19,-10,-9,-47,-49,1,26,-59,-7,-50,37,30,-45,-58,25,-55,-61,-36,45,-79,25,-89,23,-26,-69,-72,-52,-88,43,39,-56,-77,-41,-18,-38,-10,-86,-35,19,-19,48,-32,14,-79,7,-14,-37,-75,-48,36,-11,-57,35,-52,-1,34,-65,-56,50,-71,-35,2,-25,-10,-63,23,-88,-78,41,47,-57,-6,29,-21,-55,0,50,42,-98,-21,38,-76,-11,23,13,49,13,2,-75,21,-27,35,-16,-63,46,-54,16,-69,-87,-67,24,-53,27,21,-56,-56,-59,-66,-70,-61,-59,34,-68,-58,-27,-43,-4,-99,10,-61,-65,-60,-10,41,-70,37,-36,31,-54,-67,-11,-33,44,-83,-76,-84,-71,-7,-61,-49,21,38,-31,6,47,-60,16,20,-11,-87,-31,-47,47,34,40,18,-77,-41,-22,18,44,49,-82,-20,-30,-68,8,-43,-84,-95,-38,-49,-25,-24,-29,1,-51,-99,4,5,-46,-95,-35,-79,-34,22,-57,2,-25,-9,-77,-89,47,-31,38,-44,-6,-52,32,42,-9,-66,39,46,-61,5,-70,49,1,-14,-63,-56,-49,-47,39,26,-24,-88,-73,28,47,15,-29,-81,-70,34,-38,2,-59,-4,-86,-24,37,49,-51,44,25,-42,8,30,-17,45,0,7,-76,-86,-19,26,-92,-9,32,4,-46,-96,-39,-34,-17,-28,-14,17,-95,-26,47,-11,20,-62,-3,45,-34,-24,-69,-74,-25,-18,17,28,-55,-72,-97,41,-79,-91,-4,-68,-82,-65,-66,-69,-61,5,-90,7,-24,-20,38,-75,29,-13,-54,13,14,-67,50,2,-35,-78,34,-34,-86,39,-9,35,-45,-55,35,6,-90,46,-49,41,46,-17,37,45,-77,23,-35,-90,5,4,-64,-95,-78,-74,10,-6,-49,-8,-59,-6,-27,50,39,15,43,-51,45,5,-77,5,-63,-81,2,-82,27,-3,-33,-35,-3,-11,-92,-53,44,-20,12,-37,49,-47,-30,-48,36,6,-15,25,-62,-17,-35,-95,29,-90,-97,-76,-78,40,35,-18,-47,-60,-67,41,-63,-81,15,-82,-13,-16,-40,-87,49,-69,-44,-92,-26,42,26,-6,49,-67,44,-84,-51,32,-35,-97,-88,-52,-94,22,-40,-19,-59,-95,-27,41,31,-14,-51,32,-54,-8,-83,-81,-80,-44,-22,-61,34,-38,-37,-88,-13,-11,-77,-77,-36,11,2,-37,47,-3,40,-99,-90,5,-11,1,-35,30,34,-76,14,-95,-11,-20,-21,44,-12,37,-50,32,-12,36,-19,-58,-13,-43,-39,15,-99,35,-93,-96,-48,-53,-48,-40,25,-11,37,-1,-34,45,-19,35,-94,-65,47,-68,22,10,15,47,17,-52,-97,-47,-87,-96,-57,1,48,39,-34,48,-56,42,17,46,-83,5,-2,34,20,28,21,-25,-63,-67,-35,-33,34,-18,1,5,-100,-24,-16,4,-25,8,-9,-60,-33,-62,-58,-24,-52,-16,-21,-43,-35,38,-48,20,-94,-60,-45,32,7,-69,-88,-35,42,-55,49,50,31,-3,-100,-19,-96,-62,-73,31,31,-3,-90,14,-86,15,-84,41,-93,-20,28,5,39,-89,-53,-70,23,27,15,-28,-100,-46,42,16,-87,2,-47,-91,-40,-37,-8,21,-24,-34,20,-58,-51,-43,46,32,20,12,-42,42,-93,35,-23,-40,-100,24,-58,-61,-79,4,39,-45,-13,48,-10,-47,-64,-91,-4,-56,-78,-61,31,-49,-60,-39,-85,11,-69,-37,47,16,-94,11,-36,48,-58,-39,23,-73,46,38,-71,-76,-50,8,-41,-95,-8,-28,-39,-48,24,-18,-32,23,15,-90,12,-6,49,-62,-25,-81,-21,-46,-22,-74,-51,2,-36,-7,-43,33,23,-2,-86,41,-85,9,13,-48,-87,5,-38,-30,-57,-68,-5,-8,-38,-75,13,-99,-75,-69,-74,33,11,38,-3,-65,44,-93,15,39,-84,5,-88,-48,-78,-64,50,-36,-69,3,47,12,-73,12,33,-64,-13,-68,26,-49,-41,-32,-31,4,-73,-12,-22,27,-8,-12,33,-49,12,-67,-22,-15,23,-29,-43,-49,-78,-93,-21,-87,19,-48,-69,27,22,12,44,0,-34,30,-54,-11,-99,44,-65,-8,-13,-17,-64,-77,33,-31,-39,6,46,0,2,-31,-36,27,-20,-76,-79,12,-65,-60,46,-87,-56,-75,-54,35,-29,-40,40,-82,36,-34,-4,-2,-34,-40,-42,45,-78,-41,-27,-92,21,-23,43,27,-17,12,-33,-30,-11,-52,36,-29,-62,28,-19,-53,28,-100,-82,37,-32,-96,-85,-22,-81,-66,12,19,-2,-51,17,12,-84,-62,-47,-14,-83,29,-42,-2,-66,46,22,-83,-74,-81,0,-17,-10,-62,-65,-66,-88,-63,-13,20,-64,-57,-22,-79,-63,45,-9,-64,-74,45,8,-10,-35,-27,-61,-83,36,-96,-82,40,13,-5,-76,-20,-85,-69,-50,48,13,-94,-33,9,-28,-67,7,-8,-12,-71,-81,-64,45,50,18,-90,-71,43,22,-69,-44,-69,-13,40,0,-24,-84,-61,-84,-85,-96,-18,-35,-87,13,-56,21,-49,-75,40,38,3,-19,-20,-86,-62,-94,-59,-48,8,27,-8,16,-92,-29,-99,-53,-40,-59,-1,-26,-42,-48,-55,-60,-84,-95,-93,-72,35,45,11,-76,-36,40,-37,12,4,42,43,-4,26,-39,-58,-54,-12,29,-73,-32,14,-55,3,-51,-28,29,-18,-84,-68,-2,-2,-87,-4,9,10,45,-79,-79,7,-71,-8,-54,41,-98,-67,-35,-22,11,33,7,11,-47,-92,-88,21,24,-33,17,14,-68,-2,-13,6,-81,8,20,11,-93,-58,-29,-77,-38,-81,0,-69,-13,18,-60,50,9,29,40,0,50,-53,-47,-83,-60,-91,-84,5,-8,-10,-94,-23,-36,-55,-29,-26,-46,38,7,30,-64,-8,36,-68,-45,4,-82,-52,-29,-5,5,-50,-5,-92,35,-25,-51,-42,25,-14,-91,-98,-77,44,-53,-90,-83,-98,-34,44,-39,-11,11,-98,-42,-44,-28,-22,40,-22,-53,8,-12,-52,-39,-48,-47,-42,1,21,-30,-78,-47,-49,-52,-21,23,16,14,-40,0,14,5,-67,-41,-53,-77,-92,-52,13,-91,-31,-76,-70,31,34,-63,-71,-35,-27,-4,-47,-19,35,-45,30,24,-82,-5,-97,-30,-15,4,42,-60,42,-16,48,-89,-88,22,-91,43,-3,18,37,-81,-35,-58,5,0,-99,-6,-90,-55,-100,-47,32,18,-76,-95,1,-40,48,47,-57,21,-96,-45,-70,-10,2,22,-77,38,-36,-61,-81,2,-74,-76,-81,1,-12,28,-89,-68,-59,-4,-49,22,-74,-86,24,-40,-64,49,16,-26,-34,16,-83,-89,26,-11,9,6,-87,-1,-35,-11,-41,35,18,-80,37,37,0,-62,41,16,8,-20,-57,7,-55,16,19,-28,-37,-66,-4,-90,-81,-13,-87,-26,-78,39,-41,-32,19,41,13,43,-35,-47,49,-25,35,38,3,-14,13,-35,-13,-88,-31,-36,-24,-52,-96,-59,-73,31,-23,-28,26,29,-8,44,-23,-89,45,-96,-35,43,28,15,-9,-1,-13,-96,35,-34,-43,-20,13,-76,-23,16,4,-78,-17,9,-96,12,-63,44,-20,-59,39,-90,-18,28,-92,20,-7,-35,15,-20,29,44,7,31,15,7,-49,-25,-75,-86,-98,44,-81,-15,-17,15,-47,-6,1,40,-7,9,-18,-6,-83,9,-69,10,46,-68,3,20,3,45,-50,-70,35,-44,-40,-75,-26,-78,-44,-30,15,20,46,-3,-9,-8,37,-25,-24,-19,-99,20,-67,-89,17,47,-27,15,24,-8,16,14,-43,-93,49,-82,-15,-97,-22,36,21,-30,-49,36,2,-7,24,-77,32,-32,16,-4,-14,-5,-100,-59,29,-55,-89,-89,-24,-27,-73,-31,-36,-15,10,-99,-8,-19,48,-75,6,-42,-21,-54,-51,-72,-17,6,-34,-70,22,-29,11,-15,-2,-93,-28,46,-11,-50,-88,5,-36,-84,-52,-21,-35,-67,-20,-22,-35,-71,-35,44,-99,-95,12,-92,-21,-4,-27,-94,-98,-93,-78,-38,46,-63,-59,-31,-24,-46,-61,14,-5,-40,-82,20,-47,11,41,-20,-47,-97,-61,-37,19,-25,-64,44,-22,16,-2,25,-50,14,-88,-7,-40,-56,-73,-19,-53,30,-55,-80,-16,-73,-6,32,-100,1,-55,-93,4,25,15,-53,46,22,-5,-24,28,18,-61,-81,-62,1,-2,-45,30,34,5,-49,10,-37,-77,-96,-97,-60,-37,18,38,-92,6,19,42,8,6,-13,-91,28,-38,7,-14,-21,-73,20,17,-69,-29,-82,-25,-78,9,50,-38,0,-55,-6,37,-74,-29,40,-72,-88,31,2,-35,-78,-89,9,45,20,-49,-37,-55,-51,40,-64,-69,-18,-88,-77,44,-96,6,-63,-62,-64,-77,-25,42,-26,-43,-9,-3,-47,-62,30,-38,-2,-84,-16,-77,-90,-65,-44,-62,9,40,-84,5,37,-18,-95,-36,-74,36,-39,1,-33,-74,-16,34,5,-93,30,26,-17,9,-91,13,-32,17,-92,0,-28,14,15,-75,-14,10,-44,12,-17,-48,-86,-33,-99,-75,16,-46,-56,39,-57,-36,-81,28,-79,-17,18,28,-4,-25,-85,-82,-79,-61,-95,13,-18,-24,35,8,-31,8,-95,2,-22,-1,34,-10,4,-80,-58,-87,28,7,32,-13,8,-51,-98,24,1,-64,-55,35,23,-78,1,2,-54,-48,-1,-10,50,15,-64,17,50,-24,46,33,-11,16,-31,-78,9,-10,14,-51,-75,-45,21,-17,37,-38,-75,31,47,33,-73,-4,-83,47,-95,27,-24,-35,-72,37,-8,-2,50,-12,37,-86,-27,-84,23,21,-92,50,-16,-83,-73,-37,-8,-83,-68,4,6,-74,34,-60,18,-64,-60,-73,32,15,-4,-90,10,11,31,14,-99,-70,12,25,-11,24,40,-41,36,-23,-14,1,26,50,49,33,21,-40,-88,-41,-28,25,-61,20,-95,-33,-49,1,-90,-73,37,-87,-68,-36,-73,-61,-46,-41,-52,-69,-56,-59,-96,32,33,14,-11,1,-62,-78,-80,-99,-54,10,31,-44,-14,-3,46,-56,8,-89,50,-68,-36,-46,-94,-26,-1,-73,35,-69,-13,-81,-85,-34,26,-98,32,-80,-90,13,23,-26,-27,9,-86,-54,-91,50,23,44,6,-36,40,34,13,-68,-19,-15,-92,46,-88,40,-25,-18,-54,-49,24,-55,17,-84,-5,-95,-8,-98,15,17,8,-3,-19,18,15,-4,22,-24,-69,-3,-66,-20,-76,-44,-11,-81,29,-7,34,-39,-39,-58,-75,-27,21,-4,-80,20,-61,1,-68,34,-6,-71,-70,-92,-33,37,24,40,-93,-46,-38,-73,27,-77,-11,-94,-72,-9,-52,-43,49,-35,17,-45,-100,-3,-95,-34,16,-22,26,-47,16,-19,-51,41,-98,41,-16,31,41,-87,-84,-77,-78,-5,-88,-1,-96,41,-46,-69,24,1,-51,-30,-54,-45,-37,-36,38,36,-9,-86,-68,-54,-63,28,5,-32,18,-65,-42,-13,-34,21,-16,-79,40,-35,20,-25,30,1,-37,47,43,38,-80,13,2,17,-70,43,-60,14,-61,-68,-33,-53,-24,12,-69,-30,-39,-20,-29,28,36,-23,-14,-70,17,50,-60,-33,6,-22,-56,34,36,-84,-52,6,-42,-97,-95,28,-72,4,-19,9,-92,-30,38,-14,-17,-10,14,48,-82,8,-93,-82,-92,-56,17,-2,-39,-80,-58,-68,-58,-78,-63,-96,37,18,-34,-42,-95,49,48,-65,-58,31,-24,-57,-55,-96,-26,-29,9,41,-54,45,-74,-32,16,6,-34,38,5,-68,27,-9,-55,-35,-18,-18,-59,26,-4,-64,35,45,-43,-55,15,17,-85,-28,1,-35,25,35,-77,-84,-51,-92,-3,-2,-73,-16,-86,-81,-97,2,-13,5,-54,-89,-13,33,-53,27,-2,-66,-85,-89,-35,39,-89,-97,33,47,-46,-49,-22,-36,18,-82,5,42,-80,45,22,-34,7,-16,27,-26,-86,-30,-90,-11,-87,-38,2,-68,-39,15,-31,-80,0,9,-86,-20,-68,15,-97,19,-45,18,-74,-34,-92,-66,-44,23,-90,-68,2,-43,-60,2,-87,49,-85,-39,4,-18,-36,-23,14,32,-93,-53,-8,-63,-32,46,-67,43,-48,-55,-63,46,-24,40,10,-10,41,23,0,8,-70,-32,-3,-85,4,-99,-91,2,-77,22,5,34,-70,-17,3,20,-12,27,-60,42,2,-63,-14,30,-80,-92,32,-22,-94,-22,18,-38,45,38,-83,30,25,-92,11,-34,-72,11,-12,-94,-93,17,-74,-30,-28,40,-14,-76,-26,37,-82,-63,8,38,-68,-1,-31,11,-37,-38,-96,-17,-56,-80,-46,-99,2,16,12,-1,-61,-30,-19,13,-20,-14,29,-12,-48,44,-37,-3,16,-79,-28,-98,-9,-33,-29,-57,-4,10,-38,-61,-80,18,39,-23,-8,-83,-44,-57,-75,44,-89,50,17,-57,-63,-3,45,-21,12,-57,-22,-41,-10,10,-90,-90,-5,42,-98,2,-67,-58,45,-69,-49,6,-62,-94,21,-56,-36,-21,15,-90,-19,-46,-27,22,-37,6,-28,38,23,-53,-82,2,-38,-81,-15,1,50,-65,-27,42,-65,-67,39,-93,-5,15,-32,-40,-8,-26,-25,37,-11,-100,42,28,-12,44,-7,-32,-72,-78,-85,16,-90,-13,-91,-12,-69,-1,-54,-41,-27,-84,-100,22,37,-66,48,46,27,-8,-47,-34,-52,-83,-27,0,-67,-68,-64,-7,3,-90,-54,-21,-35,-78,-55,-49,44,-87,-63,-38,-4,-57,-89,-73,-27,-96,49,-91,35,-93,38,-91,-20,-99,-88,12,-38,49,-99,-41,-76,34,17,7,16,-61,-64,19,-46,-31,-24,-94,-10,37,-75,25,33,-36,-16,-44,-93,-30,-17,-34,-51,-99,-86,-5,-1,-38,-1,-18,25,-77,50,43,-95,8,8,-3,-91,-36,-100,-61,-48,44,-64,-1,-75,-70,-69,-43,-19,-9,6,-1,-60,44,39,-84,39,-8,-25,-97,32,-23,-62,-34,-69,-53,49,24,-49,43,-31,-2,-74,-49,-36,42,-29,45,-81,-22,-33,47,-59,14,-69,-8,38,-6,-2,-75,8,-62,-69,16,-89,14,-92,32,-35,9,3,3,-57,-33,-20,-93,-5,-6,-31,16,-76,-68,-33,-20,-57,11,10,-36,29,-28,-86,-61,-82,-100,-7,-38,-49,41,-24,19,-9,4,-13,28,43,-97,-38,10,-69,42,6,9,-14,-95,6,5,-75,32,-41,-34,-25,-53,13,7,-66,-96,44,44,-100,-58,-70,-71,-4,-83,36,-18,-34,12,-80,-90,-34,-21,-23,-24,12,-33,8,32,46,-4,-31,31,-51,40,-32,-47,-93,-90,-23,-32,-37,-78,-60,-28,15,-7,-11,-31,38,50,-52,-9,-32,15,-48,-90,-79,-61,-28,-54,-98,-51,-80,-22,41,36,-82,-59,-84,1,35,34,29,20,43,24,39,5,-12,-21,-4,-23,-14,-29,17,-5,-67,-59,45,20,2,-75,-96,48,47,-27,-29,-42,-14,-89,-78,-36,-58,-39,21,-6,27,-60,-67,-1,-77,-24,-53,-17,44,-54,-14,-25,22,-24,23,-35,4,48,-63,-75,-54,-36,-55,-35,1,-47,-90,-76,-33,-82,4,-76,-30,-52,43,-86,-62,-87,16,-32,-16,-13,-42,-17,-41,-32,-94,35,5,7,-52,43,-53,-80,-77,-87,-41,-99,-88,30,37,14,-9,-91,-66,-36,24,-82,-7,35,-19,-41,39,18,25,-35,-89,-6,36,19,-33,-37,46,49,45,46,42,37,28,-10,-19,5,33,-35,-64,-30,-72,-90,-90,7,-62,-23,-89,-64,-41,10,-14,46,-98,-73,-40,-72,4,27,-7,-15,43,-33,49,-73,43,-48,-49,40,45,-18,-74,23,-66,45,-65,1,-36,-21,44,26,-69,-80,17,18,34,-58,-87,32,-83,-64,32,-16,-48,-37,45,38,1,45,-28,37,-63,-25,46,-78,-81,-36,-48,43,23,-60,47,48,-24,-81,-51,-4,14,49,-97,11,40,-19,-80,-82,31,-92,7,49,18,-74,-40,-49,-50,-74,-56,-42,-69,-74,24,-87,-35,2,-86,-64,-16,20,-100,31,-97,-18,-9,-29,-73,36,-65,18,-79,17,22,36,18,12,21,-6,-68,28,-94,-13,20,-27,-7,-76,39,-98,-89,-16,32,-40,-59,-5,-98,-75,-30,45,-86,25,12,-46,32,38,-37,28,-19,24,-46,29,40,-60,13,-87,37,-91,-87,7,-94,17,39,-23,2,27,-19,17,-71,41,-25,-73,-88,-44,-47,39,-12,-96,-60,-34,-36,-87,-47,-53,14,13,-19,-63,-1,40,-37,36,-59,-3,38,-18,-53,-41,-41,40,-24,1,-57,34,-7,50,-70,-75,-26,25,-96,-99,3,-22,-77,-20,-36,-90,1,-8,-42,-16,-44,-63,24,-61,-24,-9,-65,9,-18,-65,-18,-53,-58,-77,-76,-24,-23,28,-91,2,4,-88,0,-37,-11,-95,30,13,35,-11,-42,45,30,-11,33,-16,-23,-30,37,-44,-85,-8,-18,-40,49,-32,-38,-26,-50,-14,30,-52,15,24,4,-29,-50,21,36,-78,-39,-7,12,-18,-89,-23,-7,-71,-3,10,28,-75,-49,-90,-26,22,-27,-25,-11,22,-62,-3,-78,-82,-10,20,38,28,-51,35,-22,-82,-87,-9,-30,-42,-17,-87,-44,-32,20,5,-86,-37,41,-92,-82,42,-41,-45,-70,-75,-36,-65,35,-93,-46,-3,-80,-64,47,20,11,-59,42,-37,16,6,25,-37,-90,-17,31,37,-8,-52,-68,-37,-80,4,32,15,29,8,-92,-77,40,-66,29,28,6,35,-90,-95,-84,-23,-71,6,-56,-49,30,-25,-27,-67,-76,-97,-15,20,-1,29,-95,-13,-22,-58,50,-83,44,-57,-70,16,11,-31,49,-69,4,-31,-95,49,6,-22,-7,12,-43,-25,-66,19,-1,-87,-49,-59,12,-19,-67,11,1,-83,2,48,-53,-48,-94,-46,-32,-38,-78,-19,-39,11,29,9,-49,41,-32,35,6,-7,-31,-65,-11,23,-68,40,-34,-31,47,-45,-86,-6,37,-55,-24,50,31,-44,-19,25,-29,7,40,-17,-35,-84,-61,-80,5,-51,19,-54,19,41,-100,-32,19,-22,-86,-36,-98,-75,26,-51,-92,-19,-28,-81,-80,-31,9,-93,-60,42,43,45,-5,-5,-77,-57,-54,-82,29,41,-47,2,-67,9,-36,-43,-57,-53,46,-84,-52,-83,2,-36,-16,-72,-6,20,-13,-33,-68,-47,-55,-35,-37,29,-13,-95,-1,48,-97,-83,13,-96,-2,-35,-16,-37,-82,45,-45,-30,-5,14,-47,20,-68,-76,-77,-58,-92,-35,-30,48,-37,-74,-10,-73,-60,17,-21,-54,-5,-22,-25,-9,-1,29,-23,-74,-70,-1,-91,-2,-77,-67,-35,17,27,0,11,1,23,42,12,18,5,-7,27,41,0,-43,-77,-80,-25,-17,-13,45,-80,-67,-81,-30,-93,20,35,-1,-69,-80,-96,-54,-68,-15,-69,8,-51,-71,17,-2,-19,41,-32,24,16,-40,11,-5,5,-98,-99,-87,-52,-89,-4,-50,-47,-27,-98,-56,9,19,-50,-96,-82,-57,-34,-68,-54,41,18,-24,39,-100,-4,30,-72,-93,-62,-64,16,48,-88,38,-52,-7,27,22,-76,23,-46,25,-33,14,-94,-22,-60,-41,-8,-96,-50,-40,3,-30,-73,-3,-4,10,-2,0,-75,-21,35,-96,-67,13,-93,36,7,-91,-47,35,-48,-94,31,-42,-24,-53,-28,-51,-23,-81,15,15,29,-92,3,19,-30,24,-59,-39,-93,-73,-79,45,-84,-31,-13,44,-9,-77,33,-47,-55,-55,6,-44,-29,48,-41,-97,-6,39,3,-48,-93,-35,42,-76,-93,-16,35,-36,-20,48,-76,42,47,-30,46,-90,19,-97,-61,26,40,41,-63,-85,30,-63,-69,7,10,-43,-8,8,-60,-85,-85,16,16,36,-88,-25,-94,-72,37,-44,-70,18,29,-32,-2,-54,-55,-16,-79,-61,-6,-74,-41,-68,-66,38,-57,-19,45,21,-26,-62,31,18,-65,35,-59,19,-45,-63,-2,24,-86,-87,-63,49,-29,-50,-30,36,-72,25,8,3,-39,-13,-87,3,-56,22,-56,33,-5,-38,-90,-93,44,-64,-25,27,-100,44,12,25,-20,4,-62,-70,-24,7,-74,-34,20,7,-97,-23,27,-23,-77,-77,24,37,30,-86,-3,29,-59,-97,-46,-37,-24,-75,-46,-44,-35,-9,-46,-11,-35,-78,33,-79,17,-83,-75,-76,20,14,16,40,-15,0,31,-26,25,-64,-20,-22,-91,-91,-14,-77,4,-11,-2,-60,-88,2,-81,-54,-27,4,-33,-86,-40,-8,-68,14,-4,-80,47,-83,36,-42,-69,23,-61,21,-87,-64,-56,-51,20,-88,-77,-3,-59,-62,4,-85,-6,-69,-61,-39,-44,-27,25,3,39,36,-82,-65,-52,2,19,-62,0,-37,7,19,-16,37,-58,-21,-38,8,8,0,-60,-7,13,26,-24,-54,-43,-33,46,40,-22,-59,21,44,25,-95,-35,-44,-85,-68,-51,-37,43,-19,-51,-47,39,10,5,44,-97,4,-80,-36,17,38,-31,-53,-6,-60,-71,-19,11,0,48,-44,24,-59,-51,-64,-5,-43,-61,-50,-57,-34,-39,-79,-92,-60,-98,-55,-84,-41,-90,-51,35,-51,-100,12,25,36,25,22,-48,-46,-33,-3,4,-33,-79,-50,-54,24,13,2,41,-74,31,-91,47,-27,-4,-22,-60,48,-47,-36,25,14,-70,-88,13,24,-63,6,-41,-53,1,-90,-83,-73,12,-53,-47,33,-68,-44,5,-58,39,45,47,-7,-57,-95,-30,32,-2,-10,-89,-99,-18,-88,20,-6,1,-98,-29,-46,-58,-52,1,-30,30,-30,-17,-39,-98,-60,-16,-23,-5,-23,32,-70,31,-69,-54,-66,22,-9,-95,9,1,-60,-76,31,-39,-63,-45,23,-72,-36,-31,-36,18,-73,-89,-20,-19,-55,36,-98,-95,8,-75,-72,-34,-2,-23,-8,-92,-23,-3,-61,13,45,-23,-51,16,-42,-47,-25,-90,-31,-6,26,-21,9,-62,50,1,-84,-67,-73,-40,21,34,21,43,-38,-8,-59,-20,18,39,44,-42,-14,-72,30,-20,6,48,40,31,15,43,-37,-19,-26,-29,-74,24,-46,22,0,9,0,4,-97,20,-2,41,-20,-96,-17,-26,34,41,-49,21,37,-61,8,-13,-4,23,-18,-80,39,30,-88,-93,49,-35,-7,17,27,-22,15,10,30,-90,-77,-74,42,-65,19,-92,9,-17,-51,-59,-1,22,-33,-24,-61,-12,-18]\n",
        "k = 1012\n",
        "import time\n",
        "a = time.time()\n",
        "Solution().maxAverage(sample, k)\n",
        "print time. time() - a \n",
        "a = time.time()\n",
        "Solution().maxAverage2(sample, k)\n",
        "print time.time() - a "
      ],
      "execution_count": 3,
      "outputs": [
        {
          "output_type": "stream",
          "text": [
            "4.80715107918\n",
            "0.0950200557709\n"
          ],
          "name": "stdout"
        }
      ]
    },
    {
      "metadata": {
        "id": "eVM2JT0eZI0r",
        "colab_type": "code",
        "colab": {
          "base_uri": "https://localhost:8080/",
          "height": 1057
        },
        "outputId": "d0824932-aefb-486e-df90-b1e52375c834"
      },
      "cell_type": "code",
      "source": [
        "from multiprocessing import Pool\n",
        "from timeit import timeit\n",
        "import time\n",
        "def testfun(ntimes):\n",
        "     res = timeit(\"Solution().maxAverage2(sample, 1012)\",\n",
        "                  setup=\"from __main__ import Solution, sample\", number=ntimes)\n",
        "     return res\n",
        "if __name__ == \"__main__\":\n",
        "    for i in range(1, 16):\n",
        "        print i, 'started, -------'\n",
        "        a = time.time()\n",
        "        testcases = [30 for _ in range(33)]\n",
        "        testcases.append(10)\n",
        "        pool = Pool(i)\n",
        "        results = pool.map(testfun, testcases)\n",
        "        pool.close()\n",
        "        pool.join()\n",
        "        print sum(results)\n",
        "        print time.time() - a\n",
        "        print i, 'finished, -------'"
      ],
      "execution_count": 5,
      "outputs": [
        {
          "output_type": "stream",
          "text": [
            "1 started, -------\n",
            "94.522649765\n",
            "94.5985639095\n",
            "1 finished, -------\n",
            "2 started, -------\n",
            "175.779512882\n",
            "92.5922288895\n",
            "2 finished, -------\n",
            "3 started, -------\n",
            "269.410157919\n",
            "94.4945039749\n",
            "3 finished, -------\n",
            "4 started, -------\n",
            "357.190777779\n",
            "95.0114197731\n",
            "4 finished, -------\n",
            "5 started, -------\n",
            "449.697618484\n",
            "95.2256600857\n",
            "5 finished, -------\n",
            "6 started, -------\n",
            "538.049463272\n",
            "95.0324380398\n",
            "6 finished, -------\n",
            "7 started, -------\n",
            "603.63419199\n",
            "95.1483259201\n",
            "7 finished, -------\n",
            "8 started, -------\n",
            "737.475235462\n",
            "95.7482600212\n",
            "8 finished, -------\n",
            "9 started, -------\n",
            "815.825096607\n",
            "95.9684710503\n",
            "9 finished, -------\n",
            "10 started, -------\n",
            "895.137821913\n",
            "95.7827749252\n",
            "10 finished, -------\n",
            "11 started, -------\n",
            "1045.61718035\n",
            "96.1937739849\n",
            "11 finished, -------\n",
            "12 started, -------\n",
            "1088.7921412\n",
            "96.808095932\n",
            "12 finished, -------\n",
            "13 started, -------\n",
            "1149.95863104\n",
            "97.7301390171\n",
            "13 finished, -------\n",
            "14 started, -------\n",
            "1238.454283\n",
            "97.9381468296\n",
            "14 finished, -------\n",
            "15 started, -------\n",
            "1353.26945615\n",
            "97.644313097\n",
            "15 finished, -------\n"
          ],
          "name": "stdout"
        }
      ]
    },
    {
      "metadata": {
        "id": "SgRhQdVvh5jX",
        "colab_type": "code",
        "colab": {
          "base_uri": "https://localhost:8080/",
          "height": 34
        },
        "outputId": "47f321a8-e30e-4190-f5ce-42087d0e017f"
      },
      "cell_type": "code",
      "source": [
        "sample = [-78,-50,18,-93,-35,-31,-21,-14,-73,-38,-77,14,-80,-62,5,-36,-67,-51,24,-48,-64,-75,42,-38,-56,-49,2,-11,-98,-34,-13,-75,-42,-47,-99,-82,-34,-34,10,-94,-12,-67,-75,-88,-20,-98,22,-82,46,4,-93,30,-45,-1,32,43,-73,-2,-3,-58,19,-89,-54,-62,-47,12,2,-20,-6,-41,-89,-89,28,-91,28,7,8,-47,-37,-4,27,44,19,-13,-2,-85,-75,-80,-81,36,-30,46,8,-53,24,41,-16,41,45,-35,8,-78,39,-97,14,-73,37,47,36,-42,-89,-96,10,-69,35,-83,-50,47,26,-27,-76,-28,-42,9,17,-86,-57,27,44,4,-54,-80,45,-53,49,-36,-56,13,-19,-57,16,-31,-42,31,-53,-17,24,35,-52,-4,-85,-22,-14,-2,-97,-45,-6,-47,-81,-76,-35,-16,-46,-97,-32,-57,-4,-41,-41,-34,5,-2,-65,25,16,40,-90,19,13,-53,30,-50,7,-30,-14,-10,18,-65,50,42,-48,27,15,-66,-65,-48,-35,-36,-8,16,41,-45,-65,-77,30,-4,2,-57,-92,10,-41,44,-55,-68,-98,23,-79,18,-99,-60,44,39,-55,-35,-18,47,-40,-37,35,45,-57,-52,-55,-58,-93,-25,-81,-14,44,29,0,-71,45,-71,-56,-2,-61,12,-96,-16,50,-17,-73,-29,-38,41,-68,-43,-50,-98,43,0,-48,-95,15,-48,-87,-4,39,-72,8,-66,-75,-95,-51,28,-36,-90,37,-59,-60,30,-80,-30,21,-44,15,-26,22,-18,-25,-10,-39,30,-50,-43,-72,-71,-85,-3,-7,4,-26,-37,-96,-93,-11,-82,-31,-71,-49,-60,-68,-71,46,6,29,10,25,-94,-56,13,-70,-30,-98,-8,-8,-99,-43,-61,-67,25,-8,-55,-69,33,-30,23,-7,-51,-87,-100,1,-36,-95,-9,21,-73,-23,-8,-30,9,-47,41,-9,50,-58,41,-9,-27,42,35,7,-59,49,43,-52,-89,45,-87,29,-57,-34,-84,26,-9,-24,-55,34,16,-72,4,-89,-62,-87,17,-44,-82,-10,13,28,-36,47,-60,-28,-71,-93,-81,-16,11,-66,3,-85,-72,-6,-100,27,13,-97,-37,-32,-90,-49,-48,-89,-28,-100,-10,-48,-64,0,-68,-8,-5,-95,-19,-29,17,-45,-13,35,-81,36,-80,-66,30,10,-3,-68,26,-54,-63,36,-38,-50,-25,7,-56,-51,37,-14,-82,-27,-22,-99,-7,-53,33,-40,-1,-14,13,-75,-45,-100,35,-51,-26,-48,-86,34,-8,37,-14,-78,-76,-82,-43,43,-74,17,-96,26,-100,35,28,-17,39,-17,19,18,30,43,-95,-93,-13,0,-61,-16,-96,-33,37,-46,-30,-28,28,-46,6,-30,32,31,38,-88,21,26,-26,-73,16,-32,-50,-30,-27,-71,-60,12,30,-22,-46,-96,-9,-4,19,14,42,-27,-59,-5,-92,-90,28,27,37,-78,-36,-37,-76,-24,42,17,7,-73,-18,-23,22,35,-28,-73,-7,-80,-73,-42,-57,-83,7,36,-69,-6,9,-33,23,-9,26,-98,-37,44,-52,42,-54,35,-99,-13,46,23,-25,-51,-6,-56,-85,-39,45,-32,34,-42,-28,-57,27,-19,-45,-42,-54,31,-72,-22,-5,-85,-97,22,-19,-95,-6,-59,-18,-52,48,20,-19,35,12,-53,-44,36,-57,24,-62,-47,-14,-49,9,-58,-59,17,-60,7,-10,3,15,-81,29,8,15,20,-47,-73,33,-36,-95,35,-73,-37,-41,-90,-9,-2,-23,-83,-82,-26,24,32,-61,-34,-26,-26,-2,-3,-6,-6,-60,-35,-30,-58,5,-91,29,-29,-32,16,-4,-49,14,-67,-57,-62,10,-65,-17,-39,19,-93,-11,17,2,-3,30,-37,-18,-67,-43,-72,11,-64,-85,-8,26,-96,24,10,-80,-16,2,-89,-17,-90,-55,-19,6,-77,-19,-51,-61,4,-48,32,36,-30,-35,-7,-62,-18,-63,-33,-60,-22,15,-91,36,25,-78,-86,-82,-55,-74,-28,-5,5,-13,-26,23,-6,-62,-58,-89,40,-14,-44,-71,1,40,-86,-4,34,9,-8,30,-31,42,41,23,-34,-82,41,11,-27,-12,-47,-2,-35,0,23,-25,3,-17,41,-69,-83,-2,46,-86,1,2,31,-97,5,-100,-73,-30,-78,-83,-98,-1,-10,-78,35,-29,-98,-3,-50,-31,-45,34,46,6,-25,-84,40,-92,-57,-32,-7,39,10,25,31,-3,-99,38,-22,37,34,29,-13,-33,48,-51,-64,23,-48,-47,-33,-95,-32,7,-8,-99,-13,39,-41,-94,32,-55,-50,-46,-15,-42,1,7,-40,-79,-5,-83,-17,29,24,27,47,26,8,37,4,22,-97,24,-27,12,46,-24,-57,15,-85,48,-93,48,-16,-73,-5,7,-70,-19,-78,6,23,35,-81,-96,-94,-92,-12,-37,36,5,-50,-8,29,-23,46,-66,-30,-30,-8,-100,17,-17,36,-19,-24,-87,20,-44,-14,20,-22,23,-66,-100,-61,-59,9,-41,-90,-96,35,-91,13,-50,-32,11,27,-23,-51,-84,-9,0,-73,-71,35,-40,-45,-16,-17,-30,11,-89,40,-75,-89,-48,17,13,-38,-22,29,26,-29,47,-94,-78,-90,-18,50,-6,-24,-12,40,-92,46,-37,-34,-32,-79,3,47,-17,-53,-60,-27,-94,-51,27,-53,-39,9,-79,10,-73,-53,29,-29,33,14,38,-29,-89,-97,27,-26,33,-30,-47,-2,-18,9,26,-89,-12,-25,-89,-9,-82,-72,-10,-11,-92,45,-80,-55,-54,-76,-14,-57,-40,-9,-77,1,-85,-2,-66,26,-11,-27,-17,-74,-62,-68,-34,-21,-57,-24,-41,-78,25,27,-93,17,-69,22,-62,-79,-66,-10,-45,-39,-78,-16,2,-71,-76,-21,45,-62,11,-5,-59,34,-85,1,-25,-75,43,14,-12,-87,-63,-38,22,-16,44,-37,-94,-93,-59,-51,25,28,37,49,31,-35,-62,-21,44,-78,-87,32,-54,-12,-33,5,2,47,31,-97,-85,-28,-28,-79,-40,-51,-19,-34,27,-86,-11,-32,-21,-84,-1,25,-84,48,-65,-3,-32,-72,-90,4,-75,-3,9,-40,-21,5,-28,31,-59,23,3,-85,25,-48,-43,39,-13,-5,-77,16,12,-51,-49,-16,-16,-23,-95,38,-24,7,-81,-54,-75,-60,-43,32,-9,-76,-10,30,-56,13,-76,26,42,-47,21,17,-22,25,-92,-44,-35,23,-73,-76,-69,33,-36,-50,-71,-93,31,-85,15,44,11,-23,-97,-99,-7,25,-100,29,-46,6,-22,4,-30,-73,-52,42,1,-79,-29,-80,20,44,-82,-69,-76,-26,31,-4,13,-30,45,-12,-95,-92,-25,-98,-40,-42,-29,0,-41,-85,-32,-96,-96,-14,-67,8,-76,-9,20,-17,-17,-83,-31,7,-7,33,46,-48,21,-100,-98,-4,34,36,33,-29,-47,24,20,5,-3,-66,42,-45,-92,-78,-3,-55,-77,-6,32,0,-33,-85,18,-4,-39,50,-43,39,-21,28,-69,-22,-64,-91,3,-25,37,-24,-50,-80,42,25,-6,-90,13,-75,-88,4,45,9,-100,-32,-63,14,-28,19,-97,-6,-73,-78,11,-87,-57,-92,0,-74,-40,5,-30,-75,-70,-51,-22,-88,-8,-99,-94,25,13,-48,-44,-21,-56,12,-98,-6,-47,-6,-36,7,-90,-49,-66,-6,-15,-9,-69,-14,11,15,6,-62,-31,-16,0,20,-13,-19,48,27,-20,32,-40,-69,-52,-62,-61,-92,3,21,-10,-65,-28,42,-93,-9,-92,38,-8,-90,-35,-4,44,12,-77,-35,26,-93,36,-11,42,-46,-19,-73,-25,9,-74,40,-85,-67,-32,-84,-37,-69,26,-3,-32,-12,-91,45,5,10,13,-39,-53,46,5,-19,-6,-52,44,11,24,-49,27,-55,-22,-18,9,17,-3,-76,41,-96,-57,-52,-35,-17,-99,-93,-15,41,-58,-69,-13,-13,-67,-45,-56,17,-87,-48,-3,-82,6,28,-61,19,-92,-35,-88,38,-51,-84,34,50,-83,-10,4,-26,-96,-40,43,-70,-1,-70,21,13,-32,25,-17,-49,-60,24,-58,-91,49,28,-84,-4,39,-64,-80,-12,5,23,-44,26,-52,42,-85,-35,16,5,0,-19,41,-74,-53,-2,14,0,-95,-53,5,-25,-20,-98,-89,-69,16,21,-51,-38,10,-14,-93,41,-88,35,7,-6,-84,-7,41,-50,33,-54,29,-99,49,-3,35,-90,-46,-63,-82,-2,-35,-5,-76,33,-31,-13,-84,-39,-1,27,16,-48,10,-58,-12,12,-58,35,-94,-34,-54,-36,-51,12,-77,-66,6,3,26,-47,3,12,-46,-100,-50,1,-58,-21,-75,-85,-49,-8,-28,0,1,-56,42,-81,-13,-18,29,-64,-53,-58,-5,-28,-55,15,-47,-55,-80,-19,-38,7,22,-18,-14,13,-26,-92,-84,-46,2,3,-82,-34,23,-55,-30,-47,42,9,34,-69,50,45,34,-99,-30,48,-38,7,-59,-52,-71,-26,-1,-80,41,-47,9,-91,-91,-24,15,-29,-90,7,-58,-41,32,-68,-99,-82,-75,-28,36,22,12,7,-85,-82,-85,7,-5,-58,36,-27,-57,-85,42,-60,-1,11,11,-58,-85,-38,41,40,32,-99,-42,-32,-54,-24,49,-86,-32,-34,-7,-66,17,1,24,-19,-33,26,-62,16,44,-5,47,-60,-88,-29,31,-83,-20,-56,-51,-42,-23,4,29,0,-82,-36,-95,11,46,-52,49,-79,42,48,-31,-58,-84,-47,-13,-91,-28,-25,38,-82,-91,-75,-77,3,-24,17,2,-1,-21,-94,-8,-62,-7,-99,9,-16,30,29,-20,-60,38,0,31,-38,2,-37,-34,28,-30,-60,-37,-30,-91,45,-69,9,-65,-76,-10,38,-2,18,-96,25,22,-43,6,-94,-63,-3,-98,4,17,-78,-66,29,40,-48,46,-65,-81,21,-8,-97,-37,27,-37,-18,-19,-82,-93,-69,-62,-77,-98,17,-88,14,-66,-38,-9,-49,-4,34,-1,29,-84,-88,23,-10,-9,-74,-43,-29,-100,-40,40,-93,-42,-23,-86,26,-88,-69,27,45,-49,-100,-99,-73,-49,-69,34,-4,-38,32,30,47,-86,29,-88,-4,14,-20,-83,-8,30,5,-42,46,-59,36,-38,-22,35,-92,-87,-12,-66,44,-45,-30,5,-41,20,-2,37,-46,-6,16,-41,-46,40,5,-86,-92,-11,44,-79,-31,-14,-15,0,-31,-8,-57,-92,-57,27,-50,-85,-20,-58,15,-88,1,36,-67,-70,-32,37,-70,-50,-94,6,-78,-79,-53,9,0,41,32,-12,-78,-40,-88,-61,25,13,33,21,3,-26,-90,-76,36,-42,-19,21,15,-23,15,20,24,-22,-13,0,-100,15,-16,-32,-81,-58,-34,-19,16,-96,-30,-59,-15,42,38,27,-47,50,-86,-41,-87,-16,3,-100,-98,-96,26,46,16,-73,46,10,-57,-3,-11,-80,2,11,31,-82,20,-69,-93,2,-75,-11,4,33,-86,31,-85,-43,-5,-58,22,-37,39,-47,-87,38,-97,-13,-56,39,50,-31,-57,4,35,-65,-81,-46,-80,-30,-76,-73,-43,24,-37,6,1,-33,-95,6,-9,-64,-30,42,-1,-90,34,44,-26,10,43,-53,-22,-29,-82,29,-45,-22,-68,-74,44,-67,-100,-32,-57,-80,-80,11,15,-6,48,-54,-42,12,-30,21,-80,-60,-60,41,-75,-71,-46,50,38,-79,-36,6,38,29,13,-81,-19,5,-82,-6,0,-33,16,-4,-2,-22,-72,-30,-18,-75,1,-18,-84,-75,-1,-85,-49,28,24,-99,-88,-51,33,-58,-99,-51,35,-9,-34,-97,-23,-64,49,-74,11,27,17,-90,-53,4,4,-63,-68,28,-31,-43,16,30,-69,16,38,-71,-99,-28,-33,-32,19,47,-98,-30,19,9,-62,-22,-50,-49,-90,49,14,18,-37,-16,-22,-49,-50,29,-99,38,-64,20,40,5,-41,-17,-100,39,-11,-93,-90,-39,17,-50,47,-3,-69,-59,-67,34,-26,-100,-92,-59,-17,2,-67,5,-76,-46,33,-31,-74,12,-23,-81,22,-95,-4,-46,-40,-42,-40,-15,-16,22,-51,-98,14,-76,41,-40,-58,-87,29,-59,40,-88,-86,-3,-31,-29,2,-8,19,26,17,31,48,-55,-4,46,-18,29,50,-75,21,-78,20,-52,-53,-39,25,30,-25,-35,-59,-67,-51,7,-94,-45,25,18,-69,-47,36,16,20,-6,4,-35,-90,50,-71,-31,-73,-65,-78,-97,-86,-75,39,-48,-67,42,-1,-22,-70,-33,-74,31,2,40,-16,-59,-83,41,50,-28,-53,19,-20,-71,-23,-52,-47,-56,-62,-63,33,-16,28,-35,-14,18,35,-88,-56,41,41,-100,-46,-22,-11,38,10,-28,-45,-92,-39,-11,-17,22,14,-97,-48,-63,-82,-47,18,-55,44,-2,-87,-55,-94,45,30,8,-3,-55,-20,-56,28,43,1,40,6,4,-64,-95,17,-11,-23,-69,-94,1,0,-6,-82,-25,-82,-2,-25,38,-37,-15,-1,38,-80,-64,-62,24,-6,39,7,-88,-6,-53,-8,35,18,10,10,-22,20,16,32,-71,-66,20,-63,5,-34,10,-49,-32,-26,41,7,-20,-5,47,33,-28,-55,-69,-29,0,9,-72,-60,1,18,27,-85,-66,-16,-4,45,-59,31,-30,-96,38,-32,6,-51,-81,-18,44,26,26,-1,-11,32,-63,-3,-73,-71,30,-21,6,10,-66,-11,45,-50,36,-56,-55,-9,-90,30,21,47,20,-17,-64,-60,19,32,-86,29,-82,-13,-92,-81,-53,-48,8,-65,9,16,30,-63,-60,-63,0,-83,30,21,-86,-72,-82,-43,30,-51,42,26,-64,25,-28,38,-77,-11,-64,-69,-57,-94,-11,-21,44,-40,0,41,-47,-49,-54,-48,-81,41,-61,-26,-18,-71,-100,-14,-39,-14,16,-28,-26,-84,-95,-17,-65,17,-87,-3,-75,37,-49,49,44,21,-7,39,-69,-96,-78,40,-94,-67,-59,42,-51,40,-41,-45,41,-86,8,-1,-74,47,-97,29,-39,-61,24,26,30,-89,-81,-54,-59,20,44,48,-31,12,-61,-98,6,-42,-24,8,-46,26,-6,9,-11,-38,-75,-96,22,-38,-26,-71,17,-70,-66,-63,-10,-93,-39,-22,-45,-95,38,-20,-38,-74,36,-68,-76,-35,34,-69,0,-98,-86,-81,13,-12,-36,12,19,27,-22,10,-18,-3,18,-6,48,-89,1,19,-99,26,-67,-52,36,-28,-94,-99,-46,11,-67,33,-43,10,-100,-23,24,-52,-2,-27,-56,43,-62,-40,27,19,-82,-67,-61,-16,-10,-94,15,-65,23,-22,35,15,-68,-45,-43,11,-97,-81,44,-68,2,5,-8,-38,-21,2,20,-70,17,-44,-17,-59,-43,39,48,-17,16,34,-18,19,3,-47,11,-92,-10,-19,23,-75,-9,-57,-91,40,40,-16,31,-18,35,44,-53,-33,23,-100,-27,-78,-95,-74,23,32,-15,-86,-91,22,-61,11,-68,15,-27,9,-2,-27,29,-100,-55,-99,-61,10,4,-81,-83,-2,49,-48,42,-59,-51,10,-16,-39,30,-15,-17,33,47,-91,-72,13,-20,-9,-9,-4,-93,-25,-27,-2,-49,46,27,1,-9,24,-1,-65,-18,-9,28,49,43,-89,10,26,-21,-12,6,6,-21,-19,12,-33,10,-37,-23,-49,-16,-68,-16,7,-66,-1,1,-33,-24,-75,-53,-72,-26,-63,42,5,9,18,22,46,-3,21,-80,3,-88,-29,-84,-44,31,46,-18,-97,16,22,-91,-66,-60,8,-71,-5,23,-15,-29,45,11,14,-13,4,-55,-73,30,45,-42,33,-8,34,-83,-68,-40,25,34,-38,-69,-89,-45,-19,45,5,-92,-78,47,-38,47,47,-21,-3,-65,-82,-17,-17,-6,-6,-10,43,9,-45,-80,31,-13,-28,-78,30,-52,-41,-67,-30,-59,-68,-37,-52,-21,0,40,-51,0,12,-48,-53,16,-60,13,-6,-64,-34,-26,0,-86,16,28,-81,-12,-47,-68,-83,34,-58,13,-33,-89,-64,-10,22,-77,-49,39,-17,-39,-60,42,21,-9,-3,8,-90,-55,-72,-71,-100,-32,-13,-1,48,-6,-20,-71,5,-99,-83,-63,-93,46,-7,22,-59,-81,-46,-29,34,-79,-72,-13,-99,3,-48,-9,-73,13,-96,-40,37,-49,-48,-85,-32,44,45,1,-44,20,-56,18,13,3,-51,28,-100,-26,-75,-55,-25,-17,9,-19,-90,-8,-15,-13,-37,-77,-42,-79,-67,-10,25,-30,7,-100,28,-71,-81,-27,5,5,-20,-35,-26,20,-72,-84,12,-21,-29,-68,-86,-96,37,25,-27,-24,-71,48,28,43,38,25,-25,16,-97,31,-9,-51,-54,12,-55,-70,-32,-35,23,-32,-68,-55,-67,45,-41,-77,45,29,-88,38,-6,32,24,9,-88,-84,-80,29,-6,-88,-43,47,-3,50,1,19,-7,-56,-3,-27,-90,-90,-53,-47,-1,-63,7,-49,-93,-99,50,-72,25,47,-26,-95,-72,19,-6,-91,29,34,-44,20,-34,-15,-25,9,-18,-56,-74,-78,-16,15,-48,35,-48,-40,-12,2,-25,-93,-69,32,-3,41,-48,-50,-41,-81,-8,25,-43,-9,49,25,-21,-56,45,-26,13,15,-5,32,-53,-73,-12,-12,-78,-22,14,-23,1,-45,-10,48,-21,-67,24,-14,37,49,-72,-56,-71,44,-8,-71,3,-16,-93,44,-52,-2,-84,-100,-93,-2,13,-61,-40,-14,-36,-63,-49,-63,-22,34,-90,-25,-32,8,34,-59,-89,10,-21,-47,-27,-27,-4,-5,-10,-46,-27,-86,37,14,-7,41,-20,-95,-53,-12,-44,-70,-69,-91,-43,35,0,-36,34,-15,21,-3,34,9,-84,-72,-91,35,-3,-32,-54,-36,47,-86,-22,-34,-70,-52,-25,11,-60,-83,-52,-76,-43,-95,37,-4,-30,-5,-72,-63,-24,-70,-94,-72,21,-2,-90,-97,29,-49,-91,49,-47,-75,-48,-9,-90,-65,12,-94,-83,-6,-52,6,-17,6,-12,-27,-13,-32,-24,42,-5,-92,15,-94,31,-62,-10,-86,-20,-73,-38,-22,-26,18,-9,-34,-65,-54,-31,-88,-24,3,42,-29,-94,-100,-43,17,-88,-100,-56,-1,-83,-82,40,-38,34,-52,-3,-54,-63,47,-63,25,-89,-21,-90,29,-21,20,-58,36,-5,-84,11,4,-67,-87,-90,29,9,-55,-1,11,-46,46,-72,-87,-63,-28,2,-93,12,20,44,9,-74,-99,1,-89,-24,-55,31,-49,-84,1,-46,-89,6,32,-54,29,-9,-19,-17,38,17,-63,-26,1,23,-54,-83,-27,-22,38,11,-79,-59,24,39,-9,-35,-42,-35,34,5,30,-97,-18,-54,-96,-26,16,3,14,27,28,-30,-43,-19,46,-4,14,48,-36,-27,1,-75,17,-95,8,20,40,43,-40,33,-36,-50,32,-68,39,-25,33,-77,-17,-50,11,-41,-7,-9,-64,-93,-50,-43,-30,37,48,-92,-58,38,6,16,50,-32,-48,-15,-85,30,-86,7,-73,23,-20,-61,-1,35,-10,50,-99,1,35,-61,9,-77,-80,47,-56,-64,-93,-83,-63,-90,-33,33,-60,-24,29,-12,-54,39,-71,-8,-48,-31,1,-32,-31,3,6,-64,-37,-56,-9,6,-77,-88,-86,-96,-19,4,-48,37,-17,-30,-39,-69,48,-31,40,-65,-49,-91,-42,31,-35,1,-87,27,-23,-87,-74,-50,45,-37,34,-40,-7,46,-50,-98,22,-34,36,-15,-15,-46,-34,-66,29,-91,-31,-22,-95,-87,-97,-93,7,-30,-50,-96,46,47,-46,-16,-27,40,26,-92,-13,-81,33,-33,-14,-7,49,-63,-32,-41,-78,-94,-79,-38,-49,28,22,-34,-12,-12,5,47,-31,26,-73,-97,-21,6,-66,-45,-86,-23,20,-94,-27,-87,41,16,31,-48,10,26,-87,-72,-93,46,-78,37,-23,10,-97,-9,-98,-17,-40,-64,-6,-80,-98,-25,2,26,37,-35,-54,-59,1,23,-39,0,-79,36,29,-68,-76,-19,7,-53,21,10,-57,-58,4,8,37,35,11,-34,-11,-12,-41,32,-45,22,28,-35,-15,30,-28,-59,-71,28,-73,22,25,1,-31,-36,-41,-75,-45,-11,-82,-82,-33,-73,2,-6,-36,24,-66,-6,-51,32,-20,11,-35,19,20,-53,50,-84,45,-64,-2,-61,-85,-25,-55,-40,23,-96,37,-14,-62,-67,-39,23,18,3,-53,-98,42,37,-91,-19,-19,-80,33,-90,14,-98,-92,-42,2,0,-80,-32,-61,47,-71,13,-20,-28,-69,-34,-58,14,-36,-21,7,-34,-75,-88,-99,-45,-77,30,-50,-69,-50,-40,30,-42,19,44,-96,-27,-45,8,16,-6,-97,-19,-11,-96,-17,49,8,25,-99,8,46,46,-94,-59,21,-91,-45,-16,-68,5,-46,48,-70,-63,24,17,-32,-76,-69,-40,-45,31,-98,34,-36,-30,-73,1,-72,41,-53,-17,36,26,-78,2,9,-41,-71,-64,24,-69,-71,-35,-71,-34,-58,-12,-26,12,12,-23,18,-84,-1,-72,-74,-24,-59,-9,-35,-56,-38,-70,49,-41,-54,-26,40,-52,-61,-11,46,0,-26,-70,35,-23,-18,-90,25,-3,-71,12,6,-72,7,43,-95,-88,33,19,-7,-93,2,-70,-59,-91,-49,21,-81,20,-47,-6,24,24,4,7,-6,-26,-10,41,50,-89,2,39,-26,-91,-100,40,-89,-50,-47,-70,-7,-100,30,19,-36,33,-43,-62,-77,20,-69,4,-20,-60,-61,-3,-82,-66,-52,-83,-97,-64,-27,46,-73,-2,4,-56,-38,-87,11,45,19,-79,35,-14,17,44,-47,-36,-8,-2,24,-62,-46,-71,-83,19,33,-80,-93,-2,47,-83,18,-60,-21,-97,-56,-53,31,-8,6,-78,-54,-49,24,37,-64,-47,-62,-11,-32,18,-43,-49,12,-72,42,-62,-47,-92,-80,8,-2,-19,44,49,14,37,-56,7,-93,-87,31,24,18,11,24,8,36,-75,12,-23,-98,28,33,-98,-98,-59,-26,-77,-89,-83,-43,-73,-15,48,-13,6,22,8,-23,0,-18,-25,-74,-29,-93,3,5,35,-50,-60,-81,35,37,48,-79,6,-8,-80,30,-35,-66,49,39,25,-91,-59,-62,-84,-88,41,9,-16,-93,-25,25,2,-78,46,15,-29,-12,6,25,0,21,-39,-46,-19,-83,29,15,-36,-72,39,-12,-95,16,45,-7,-8,-2,9,-31,2,32,-98,17,-61,-82,11,-47,31,20,19,-14,12,24,-16,-31,-59,-68,25,37,36,24,9,50,-3,-52,-9,-69,-88,26,20,-1,-11,7,50,-8,-65,21,-67,-8,38,-64,-56,8,-66,-62,-25,-62,-1,-58,-65,-77,-72,-61,-80,39,-18,10,-64,-48,-16,19,-76,40,-74,-98,-88,-29,-35,43,-11,28,-52,45,-56,-33,42,-99,-92,6,35,24,-6,38,19,-34,45,12,6,-32,-86,-21,-99,-22,-35,-72,6,43,-90,-40,-38,-51,-31,-45,-82,-66,-57,-24,47,-15,-8,-99,-74,39,-52,-30,-52,-4,-38,-13,-33,-35,-23,-15,42,-99,-49,-59,45,43,-25,-23,-91,25,47,-21,10,-84,13,0,-78,-26,-59,-54,5,5,-83,-86,19,13,-74,8,-97,-66,-74,-75,39,-25,-32,9,-33,-18,-90,-7,-4,-97,13,44,-57,22,-51,-35,21,-42,-64,-40,23,-1,-47,40,-95,34,-78,-59,-22,4,-15,-34,-33,47,-50,-61,43,13,9,-55,-87,-58,-47,31,14,2,7,-72,37,-36,37,-97,-93,-47,-96,50,8,-54,36,-31,-41,-88,13,-50,44,-60,17,25,-99,-40,-21,-98,-21,-97,0,-61,25,-76,41,-4,-11,16,22,-42,-43,-41,18,29,46,42,-35,-62,10,-63,30,-6,-78,5,44,-24,31,-35,-3,-75,-47,-41,-1,-31,9,-16,8,50,-6,-38,-20,46,-51,-68,50,44,40,-96,-5,-27,-6,-39,-70,-5,8,-44,-18,-4,-28,-2,-43,-94,-37,8,49,24,-58,12,-33,-68,-66,-6,-38,-5,-36,-74,-94,36,35,-19,-46,44,11,-85,19,-73,27,-86,28,-64,-37,8,27,-23,-89,13,-88,-43,-1,8,-34,46,-39,6,-39,32,-39,13,10,5,-40,-15,-26,50,-62,-42,-16,-44,28,-16,18,-25,19,-96,-87,-34,-27,11,39,0,45,-27,-87,-51,21,20,47,-25,-71,14,20,-76,46,-67,-87,31,16,-60,-23,-28,-39,-66,-36,1,38,-93,-50,18,-14,-56,-31,-39,5,-13,-10,-37,5,34,17,44,0,-93,-20,-62,34,37,-53,-69,-26,45,-5,-23,-76,38,36,7,50,-20,35,-55,-27,45,-53,4,46,-16,-76,41,-38,-60,21,-86,8,46,38,-59,-69,-49,11,42,-95,-86,15,36,17,-88,14,41,-29,-80,16,-92,-86,-86,31,-58,2,-97,-34,36,-56,29,32,32,-84,-40,-10,-75,-97,-62,39,-53,35,37,-84,-94,-39,-24,-3,-88,1,-70,45,-61,-55,-17,13,-17,-74,-59,17,-29,-49,9,-34,-38,-25,-48,9,-74,-96,10,-94,-14,-78,-67,-31,-35,-84,-22,-96,-31,-67,47,-28,-98,14,46,12,-32,11,-79,-93,41,37,-77,-98,-97,16,2,-62,27,25,33,-35,-50,-39,-12,39,45,-30,-75,-41,-39,-71,33,36,-25,-22,-87,-64,-21,-84,-43,-92,44,-72,-80,25,-49,-97,-87,-75,-46,-45,-76,21,-15,-100,14,47,-30,-75,3,-27,0,47,-23,-35,-22,-18,-31,-56,-94,-10,13,-4,-93,-62,-69,-12,20,-6,36,18,-100,-12,3,-42,-18,26,-1,-20,-88,-71,-77,-50,-5,-47,-6,26,-82,-56,33,42,-52,-82,16,-82,-21,-17,-25,15,-80,-76,-82,36,-10,-53,-94,32,-47,-53,11,-15,-50,10,-93,12,-63,38,-92,-61,-50,-95,10,19,24,12,-8,34,25,-41,-77,5,16,-96,1,-74,-16,-14,5,49,-42,-49,-64,-9,-52,-68,15,21,-81,-81,23,14,-40,50,-25,-29,-54,48,42,19,-43,11,29,24,-89,-51,-84,-20,8,-5,27,-78,-80,-80,-13,26,-74,-23,29,-78,-31,-45,-18,-50,49,-98,-94,8,-46,-21,41,-33,-46,-90,-12,-70,-81,-37,-75,-72,-2,-75,-45,37,17,-72,-43,-81,9,-31,-39,47,38,-88,5,6,19,-34,6,-18,36,10,-45,-30,-82,27,-8,-11,-78,-56,-81,32,37,-13,-11,-71,3,44,-34,-32,-73,-22,-71,-21,26,-16,-52,-38,28,-50,-20,-2,10,11,12,-36,-29,4,28,-24,-49,-10,-11,-46,-48,22,-37,-53,-71,8,-38,-52,-41,-63,-100,36,46,-62,-30,22,-26,-20,-13,-95,39,-14,10,-100,44,-99,-41,3,-9,-80,49,-39,2,-57,-3,-29,22,-61,-75,-22,-76,-14,-26,-31,-73,-31,-43,-10,-52,-44,32,-43,34,-51,-40,8,35,22,-13,1,-57,44,13,-69,16,-14,-1,-8,-72,-100,15,-10,10,-75,-31,-89,13,-22,-32,-1,-83,-78,-6,7,-15,36,-52,-72,4,-56,25,24,-75,28,-15,-95,-70,40,40,-85,-50,-84,-94,-32,-13,-43,-56,36,-88,42,-14,-99,-30,-83,1,-50,33,-13,-71,9,-34,-85,27,-19,18,-3,-83,-98,-4,-97,-86,-68,12,-33,6,42,-24,-33,41,22,-26,-18,-92,25,-31,-26,27,-7,-12,-1,-11,-17,-22,-90,-68,-44,-94,23,-95,15,-59,-39,-50,-1,28,12,-100,-86,20,9,-18,-76,23,-75,-92,34,-97,-1,-18,-85,-90,13,-66,-33,-83,-70,-5,-7,-17,-20,-2,46,-88,48,-37,43,49,-95,6,-74,29,-32,32,-23,39,-10,-17,12,42,-55,23,-15,36,-16,15,-2,2,12,-52,15,16,-41,29,22,-96,38,44,-31,2,-90,19,42,-29,43,-59,-37,0,-42,-50,-25,34,-63,31,-100,-72,-43,-70,-82,-61,-44,-38,-17,-4,-98,21,-6,30,-4,-23,43,9,-22,-2,17,-66,-78,-59,-32,31,-63,48,-30,-87,-11,46,43,-21,-4,14,-9,48,48,32,39,-99,-40,-46,37,-1,2,-60,-84,24,11,12,-60,22,3,8,-69,21,-36,32,-43,-2,-55,47,6,-17,10,22,-83,49,-15,-67,-84,29,-43,45,-85,-28,-3,-96,43,49,1,-72,-22,32,-56,-75,11,-94,35,-14,-73,-29,43,-7,-78,-14,-84,-47,-84,-47,0,33,-71,-62,46,-62,49,-97,-2,-15,0,48,17,49,-78,42,-36,37,23,-37,34,-25,-39,-50,-8,-53,32,-56,-91,-4,-74,-77,-84,-3,7,1,-13,43,-85,-79,-80,43,-63,5,44,-76,-25,-73,-89,-28,-5,-74,-13,-91,-74,-93,-31,-98,49,-29,12,-42,-29,-61,-54,30,23,-45,-36,-43,-17,29,-40,-54,-56,-75,-31,-34,32,-95,31,2,-38,48,-84,32,-52,-7,3,-71,-100,-96,-97,-54,33,40,-82,11,-54,-42,-44,-40,-4,-43,23,-100,-30,-41,19,-18,-72,22,-2,-30,-48,34,-24,-72,-24,49,-42,-43,-35,16,22,-52,-24,-54,12,-7,-32,39,-19,-43,36,26,15,0,18,-88,-38,34,-46,-48,-81,-20,-47,-7,32,33,-79,0,-26,-31,-56,-63,48,-32,-17,-93,-19,-50,-58,-61,26,-60,-64,-37,-51,9,-89,-29,7,-59,-46,-78,24,-30,-33,-54,15,-48,4,-1,-86,3,-44,-43,35,42,45,37,-80,34,-6,-37,-21,17,-98,-13,0,6,-96,7,38,13,-35,-74,26,-94,0,37,-70,-74,-61,-15,-69,-9,-86,-99,0,-80,-32,-24,5,-86,-33,-15,0,26,-3,0,-12,-29,-13,30,-69,-53,-49,-1,-8,21,29,-56,14,-63,30,-20,-7,13,-100,-55,-14,-100,36,-68,31,12,-11,3,-28,45,-55,-33,-64,47,29,41,-48,9,-13,-99,-68,-83,-59,-18,-19,42,-87,-77,15,-74,33,-36,-43,-30,-7,-35,-98,-100,16,-22,25,-84,-50,-92,-22,-46,-37,-82,-41,26,-52,-84,30,-79,-76,-3,37,-15,26,7,21,10,-49,-78,-57,-14,40,-33,47,22,-48,35,-31,-4,-79,-3,-83,12,-70,20,46,-75,-86,-13,34,42,23,-68,36,-81,48,-66,-27,12,-73,-38,-76,-80,24,-16,-85,-67,30,31,4,-65,29,-34,9,30,48,-51,-3,-81,-63,-50,7,-96,16,50,-50,-89,-17,-13,-91,-84,-88,-67,-98,-63,-75,-38,12,-10,43,48,6,-94,46,5,-92,-72,-61,-68,-92,40,-74,-65,-24,44,-11,-92,-59,-15,-91,23,-83,-67,-72,29,-64,-36,-21,20,-64,-14,-72,-80,-71,-48,-63,-94,43,36,8,-55,15,4,-33,27,34,-98,25,-37,-62,-59,-46,7,-35,-73,3,-5,-99,12,-98,-72,21,-10,-37,-34,37,-1,-53,-75,-35,17,-84,-15,-91,-35,-56,-13,-44,-26,-45,-8,-82,12,-74,-20,-59,-95,-42,-84,-18,-85,43,-42,-32,-17,-95,24,-29,-12,-26,-98,45,-25,33,-33,-43,-24,-50,-2,-1,37,15,-98,-56,3,33,-5,-23,-64,-21,20,-96,-13,-81,-1,1,-56,-81,-52,-17,-71,-92,-41,-4,-21,-75,26,44,-38,-98,44,-56,-65,-93,24,-66,-57,32,-36,19,-10,-9,-47,-49,1,26,-59,-7,-50,37,30,-45,-58,25,-55,-61,-36,45,-79,25,-89,23,-26,-69,-72,-52,-88,43,39,-56,-77,-41,-18,-38,-10,-86,-35,19,-19,48,-32,14,-79,7,-14,-37,-75,-48,36,-11,-57,35,-52,-1,34,-65,-56,50,-71,-35,2,-25,-10,-63,23,-88,-78,41,47,-57,-6,29,-21,-55,0,50,42,-98,-21,38,-76,-11,23,13,49,13,2,-75,21,-27,35,-16,-63,46,-54,16,-69,-87,-67,24,-53,27,21,-56,-56,-59,-66,-70,-61,-59,34,-68,-58,-27,-43,-4,-99,10,-61,-65,-60,-10,41,-70,37,-36,31,-54,-67,-11,-33,44,-83,-76,-84,-71,-7,-61,-49,21,38,-31,6,47,-60,16,20,-11,-87,-31,-47,47,34,40,18,-77,-41,-22,18,44,49,-82,-20,-30,-68,8,-43,-84,-95,-38,-49,-25,-24,-29,1,-51,-99,4,5,-46,-95,-35,-79,-34,22,-57,2,-25,-9,-77,-89,47,-31,38,-44,-6,-52,32,42,-9,-66,39,46,-61,5,-70,49,1,-14,-63,-56,-49,-47,39,26,-24,-88,-73,28,47,15,-29,-81,-70,34,-38,2,-59,-4,-86,-24,37,49,-51,44,25,-42,8,30,-17,45,0,7,-76,-86,-19,26,-92,-9,32,4,-46,-96,-39,-34,-17,-28,-14,17,-95,-26,47,-11,20,-62,-3,45,-34,-24,-69,-74,-25,-18,17,28,-55,-72,-97,41,-79,-91,-4,-68,-82,-65,-66,-69,-61,5,-90,7,-24,-20,38,-75,29,-13,-54,13,14,-67,50,2,-35,-78,34,-34,-86,39,-9,35,-45,-55,35,6,-90,46,-49,41,46,-17,37,45,-77,23,-35,-90,5,4,-64,-95,-78,-74,10,-6,-49,-8,-59,-6,-27,50,39,15,43,-51,45,5,-77,5,-63,-81,2,-82,27,-3,-33,-35,-3,-11,-92,-53,44,-20,12,-37,49,-47,-30,-48,36,6,-15,25,-62,-17,-35,-95,29,-90,-97,-76,-78,40,35,-18,-47,-60,-67,41,-63,-81,15,-82,-13,-16,-40,-87,49,-69,-44,-92,-26,42,26,-6,49,-67,44,-84,-51,32,-35,-97,-88,-52,-94,22,-40,-19,-59,-95,-27,41,31,-14,-51,32,-54,-8,-83,-81,-80,-44,-22,-61,34,-38,-37,-88,-13,-11,-77,-77,-36,11,2,-37,47,-3,40,-99,-90,5,-11,1,-35,30,34,-76,14,-95,-11,-20,-21,44,-12,37,-50,32,-12,36,-19,-58,-13,-43,-39,15,-99,35,-93,-96,-48,-53,-48,-40,25,-11,37,-1,-34,45,-19,35,-94,-65,47,-68,22,10,15,47,17,-52,-97,-47,-87,-96,-57,1,48,39,-34,48,-56,42,17,46,-83,5,-2,34,20,28,21,-25,-63,-67,-35,-33,34,-18,1,5,-100,-24,-16,4,-25,8,-9,-60,-33,-62,-58,-24,-52,-16,-21,-43,-35,38,-48,20,-94,-60,-45,32,7,-69,-88,-35,42,-55,49,50,31,-3,-100,-19,-96,-62,-73,31,31,-3,-90,14,-86,15,-84,41,-93,-20,28,5,39,-89,-53,-70,23,27,15,-28,-100,-46,42,16,-87,2,-47,-91,-40,-37,-8,21,-24,-34,20,-58,-51,-43,46,32,20,12,-42,42,-93,35,-23,-40,-100,24,-58,-61,-79,4,39,-45,-13,48,-10,-47,-64,-91,-4,-56,-78,-61,31,-49,-60,-39,-85,11,-69,-37,47,16,-94,11,-36,48,-58,-39,23,-73,46,38,-71,-76,-50,8,-41,-95,-8,-28,-39,-48,24,-18,-32,23,15,-90,12,-6,49,-62,-25,-81,-21,-46,-22,-74,-51,2,-36,-7,-43,33,23,-2,-86,41,-85,9,13,-48,-87,5,-38,-30,-57,-68,-5,-8,-38,-75,13,-99,-75,-69,-74,33,11,38,-3,-65,44,-93,15,39,-84,5,-88,-48,-78,-64,50,-36,-69,3,47,12,-73,12,33,-64,-13,-68,26,-49,-41,-32,-31,4,-73,-12,-22,27,-8,-12,33,-49,12,-67,-22,-15,23,-29,-43,-49,-78,-93,-21,-87,19,-48,-69,27,22,12,44,0,-34,30,-54,-11,-99,44,-65,-8,-13,-17,-64,-77,33,-31,-39,6,46,0,2,-31,-36,27,-20,-76,-79,12,-65,-60,46,-87,-56,-75,-54,35,-29,-40,40,-82,36,-34,-4,-2,-34,-40,-42,45,-78,-41,-27,-92,21,-23,43,27,-17,12,-33,-30,-11,-52,36,-29,-62,28,-19,-53,28,-100,-82,37,-32,-96,-85,-22,-81,-66,12,19,-2,-51,17,12,-84,-62,-47,-14,-83,29,-42,-2,-66,46,22,-83,-74,-81,0,-17,-10,-62,-65,-66,-88,-63,-13,20,-64,-57,-22,-79,-63,45,-9,-64,-74,45,8,-10,-35,-27,-61,-83,36,-96,-82,40,13,-5,-76,-20,-85,-69,-50,48,13,-94,-33,9,-28,-67,7,-8,-12,-71,-81,-64,45,50,18,-90,-71,43,22,-69,-44,-69,-13,40,0,-24,-84,-61,-84,-85,-96,-18,-35,-87,13,-56,21,-49,-75,40,38,3,-19,-20,-86,-62,-94,-59,-48,8,27,-8,16,-92,-29,-99,-53,-40,-59,-1,-26,-42,-48,-55,-60,-84,-95,-93,-72,35,45,11,-76,-36,40,-37,12,4,42,43,-4,26,-39,-58,-54,-12,29,-73,-32,14,-55,3,-51,-28,29,-18,-84,-68,-2,-2,-87,-4,9,10,45,-79,-79,7,-71,-8,-54,41,-98,-67,-35,-22,11,33,7,11,-47,-92,-88,21,24,-33,17,14,-68,-2,-13,6,-81,8,20,11,-93,-58,-29,-77,-38,-81,0,-69,-13,18,-60,50,9,29,40,0,50,-53,-47,-83,-60,-91,-84,5,-8,-10,-94,-23,-36,-55,-29,-26,-46,38,7,30,-64,-8,36,-68,-45,4,-82,-52,-29,-5,5,-50,-5,-92,35,-25,-51,-42,25,-14,-91,-98,-77,44,-53,-90,-83,-98,-34,44,-39,-11,11,-98,-42,-44,-28,-22,40,-22,-53,8,-12,-52,-39,-48,-47,-42,1,21,-30,-78,-47,-49,-52,-21,23,16,14,-40,0,14,5,-67,-41,-53,-77,-92,-52,13,-91,-31,-76,-70,31,34,-63,-71,-35,-27,-4,-47,-19,35,-45,30,24,-82,-5,-97,-30,-15,4,42,-60,42,-16,48,-89,-88,22,-91,43,-3,18,37,-81,-35,-58,5,0,-99,-6,-90,-55,-100,-47,32,18,-76,-95,1,-40,48,47,-57,21,-96,-45,-70,-10,2,22,-77,38,-36,-61,-81,2,-74,-76,-81,1,-12,28,-89,-68,-59,-4,-49,22,-74,-86,24,-40,-64,49,16,-26,-34,16,-83,-89,26,-11,9,6,-87,-1,-35,-11,-41,35,18,-80,37,37,0,-62,41,16,8,-20,-57,7,-55,16,19,-28,-37,-66,-4,-90,-81,-13,-87,-26,-78,39,-41,-32,19,41,13,43,-35,-47,49,-25,35,38,3,-14,13,-35,-13,-88,-31,-36,-24,-52,-96,-59,-73,31,-23,-28,26,29,-8,44,-23,-89,45,-96,-35,43,28,15,-9,-1,-13,-96,35,-34,-43,-20,13,-76,-23,16,4,-78,-17,9,-96,12,-63,44,-20,-59,39,-90,-18,28,-92,20,-7,-35,15,-20,29,44,7,31,15,7,-49,-25,-75,-86,-98,44,-81,-15,-17,15,-47,-6,1,40,-7,9,-18,-6,-83,9,-69,10,46,-68,3,20,3,45,-50,-70,35,-44,-40,-75,-26,-78,-44,-30,15,20,46,-3,-9,-8,37,-25,-24,-19,-99,20,-67,-89,17,47,-27,15,24,-8,16,14,-43,-93,49,-82,-15,-97,-22,36,21,-30,-49,36,2,-7,24,-77,32,-32,16,-4,-14,-5,-100,-59,29,-55,-89,-89,-24,-27,-73,-31,-36,-15,10,-99,-8,-19,48,-75,6,-42,-21,-54,-51,-72,-17,6,-34,-70,22,-29,11,-15,-2,-93,-28,46,-11,-50,-88,5,-36,-84,-52,-21,-35,-67,-20,-22,-35,-71,-35,44,-99,-95,12,-92,-21,-4,-27,-94,-98,-93,-78,-38,46,-63,-59,-31,-24,-46,-61,14,-5,-40,-82,20,-47,11,41,-20,-47,-97,-61,-37,19,-25,-64,44,-22,16,-2,25,-50,14,-88,-7,-40,-56,-73,-19,-53,30,-55,-80,-16,-73,-6,32,-100,1,-55,-93,4,25,15,-53,46,22,-5,-24,28,18,-61,-81,-62,1,-2,-45,30,34,5,-49,10,-37,-77,-96,-97,-60,-37,18,38,-92,6,19,42,8,6,-13,-91,28,-38,7,-14,-21,-73,20,17,-69,-29,-82,-25,-78,9,50,-38,0,-55,-6,37,-74,-29,40,-72,-88,31,2,-35,-78,-89,9,45,20,-49,-37,-55,-51,40,-64,-69,-18,-88,-77,44,-96,6,-63,-62,-64,-77,-25,42,-26,-43,-9,-3,-47,-62,30,-38,-2,-84,-16,-77,-90,-65,-44,-62,9,40,-84,5,37,-18,-95,-36,-74,36,-39,1,-33,-74,-16,34,5,-93,30,26,-17,9,-91,13,-32,17,-92,0,-28,14,15,-75,-14,10,-44,12,-17,-48,-86,-33,-99,-75,16,-46,-56,39,-57,-36,-81,28,-79,-17,18,28,-4,-25,-85,-82,-79,-61,-95,13,-18,-24,35,8,-31,8,-95,2,-22,-1,34,-10,4,-80,-58,-87,28,7,32,-13,8,-51,-98,24,1,-64,-55,35,23,-78,1,2,-54,-48,-1,-10,50,15,-64,17,50,-24,46,33,-11,16,-31,-78,9,-10,14,-51,-75,-45,21,-17,37,-38,-75,31,47,33,-73,-4,-83,47,-95,27,-24,-35,-72,37,-8,-2,50,-12,37,-86,-27,-84,23,21,-92,50,-16,-83,-73,-37,-8,-83,-68,4,6,-74,34,-60,18,-64,-60,-73,32,15,-4,-90,10,11,31,14,-99,-70,12,25,-11,24,40,-41,36,-23,-14,1,26,50,49,33,21,-40,-88,-41,-28,25,-61,20,-95,-33,-49,1,-90,-73,37,-87,-68,-36,-73,-61,-46,-41,-52,-69,-56,-59,-96,32,33,14,-11,1,-62,-78,-80,-99,-54,10,31,-44,-14,-3,46,-56,8,-89,50,-68,-36,-46,-94,-26,-1,-73,35,-69,-13,-81,-85,-34,26,-98,32,-80,-90,13,23,-26,-27,9,-86,-54,-91,50,23,44,6,-36,40,34,13,-68,-19,-15,-92,46,-88,40,-25,-18,-54,-49,24,-55,17,-84,-5,-95,-8,-98,15,17,8,-3,-19,18,15,-4,22,-24,-69,-3,-66,-20,-76,-44,-11,-81,29,-7,34,-39,-39,-58,-75,-27,21,-4,-80,20,-61,1,-68,34,-6,-71,-70,-92,-33,37,24,40,-93,-46,-38,-73,27,-77,-11,-94,-72,-9,-52,-43,49,-35,17,-45,-100,-3,-95,-34,16,-22,26,-47,16,-19,-51,41,-98,41,-16,31,41,-87,-84,-77,-78,-5,-88,-1,-96,41,-46,-69,24,1,-51,-30,-54,-45,-37,-36,38,36,-9,-86,-68,-54,-63,28,5,-32,18,-65,-42,-13,-34,21,-16,-79,40,-35,20,-25,30,1,-37,47,43,38,-80,13,2,17,-70,43,-60,14,-61,-68,-33,-53,-24,12,-69,-30,-39,-20,-29,28,36,-23,-14,-70,17,50,-60,-33,6,-22,-56,34,36,-84,-52,6,-42,-97,-95,28,-72,4,-19,9,-92,-30,38,-14,-17,-10,14,48,-82,8,-93,-82,-92,-56,17,-2,-39,-80,-58,-68,-58,-78,-63,-96,37,18,-34,-42,-95,49,48,-65,-58,31,-24,-57,-55,-96,-26,-29,9,41,-54,45,-74,-32,16,6,-34,38,5,-68,27,-9,-55,-35,-18,-18,-59,26,-4,-64,35,45,-43,-55,15,17,-85,-28,1,-35,25,35,-77,-84,-51,-92,-3,-2,-73,-16,-86,-81,-97,2,-13,5,-54,-89,-13,33,-53,27,-2,-66,-85,-89,-35,39,-89,-97,33,47,-46,-49,-22,-36,18,-82,5,42,-80,45,22,-34,7,-16,27,-26,-86,-30,-90,-11,-87,-38,2,-68,-39,15,-31,-80,0,9,-86,-20,-68,15,-97,19,-45,18,-74,-34,-92,-66,-44,23,-90,-68,2,-43,-60,2,-87,49,-85,-39,4,-18,-36,-23,14,32,-93,-53,-8,-63,-32,46,-67,43,-48,-55,-63,46,-24,40,10,-10,41,23,0,8,-70,-32,-3,-85,4,-99,-91,2,-77,22,5,34,-70,-17,3,20,-12,27,-60,42,2,-63,-14,30,-80,-92,32,-22,-94,-22,18,-38,45,38,-83,30,25,-92,11,-34,-72,11,-12,-94,-93,17,-74,-30,-28,40,-14,-76,-26,37,-82,-63,8,38,-68,-1,-31,11,-37,-38,-96,-17,-56,-80,-46,-99,2,16,12,-1,-61,-30,-19,13,-20,-14,29,-12,-48,44,-37,-3,16,-79,-28,-98,-9,-33,-29,-57,-4,10,-38,-61,-80,18,39,-23,-8,-83,-44,-57,-75,44,-89,50,17,-57,-63,-3,45,-21,12,-57,-22,-41,-10,10,-90,-90,-5,42,-98,2,-67,-58,45,-69,-49,6,-62,-94,21,-56,-36,-21,15,-90,-19,-46,-27,22,-37,6,-28,38,23,-53,-82,2,-38,-81,-15,1,50,-65,-27,42,-65,-67,39,-93,-5,15,-32,-40,-8,-26,-25,37,-11,-100,42,28,-12,44,-7,-32,-72,-78,-85,16,-90,-13,-91,-12,-69,-1,-54,-41,-27,-84,-100,22,37,-66,48,46,27,-8,-47,-34,-52,-83,-27,0,-67,-68,-64,-7,3,-90,-54,-21,-35,-78,-55,-49,44,-87,-63,-38,-4,-57,-89,-73,-27,-96,49,-91,35,-93,38,-91,-20,-99,-88,12,-38,49,-99,-41,-76,34,17,7,16,-61,-64,19,-46,-31,-24,-94,-10,37,-75,25,33,-36,-16,-44,-93,-30,-17,-34,-51,-99,-86,-5,-1,-38,-1,-18,25,-77,50,43,-95,8,8,-3,-91,-36,-100,-61,-48,44,-64,-1,-75,-70,-69,-43,-19,-9,6,-1,-60,44,39,-84,39,-8,-25,-97,32,-23,-62,-34,-69,-53,49,24,-49,43,-31,-2,-74,-49,-36,42,-29,45,-81,-22,-33,47,-59,14,-69,-8,38,-6,-2,-75,8,-62,-69,16,-89,14,-92,32,-35,9,3,3,-57,-33,-20,-93,-5,-6,-31,16,-76,-68,-33,-20,-57,11,10,-36,29,-28,-86,-61,-82,-100,-7,-38,-49,41,-24,19,-9,4,-13,28,43,-97,-38,10,-69,42,6,9,-14,-95,6,5,-75,32,-41,-34,-25,-53,13,7,-66,-96,44,44,-100,-58,-70,-71,-4,-83,36,-18,-34,12,-80,-90,-34,-21,-23,-24,12,-33,8,32,46,-4,-31,31,-51,40,-32,-47,-93,-90,-23,-32,-37,-78,-60,-28,15,-7,-11,-31,38,50,-52,-9,-32,15,-48,-90,-79,-61,-28,-54,-98,-51,-80,-22,41,36,-82,-59,-84,1,35,34,29,20,43,24,39,5,-12,-21,-4,-23,-14,-29,17,-5,-67,-59,45,20,2,-75,-96,48,47,-27,-29,-42,-14,-89,-78,-36,-58,-39,21,-6,27,-60,-67,-1,-77,-24,-53,-17,44,-54,-14,-25,22,-24,23,-35,4,48,-63,-75,-54,-36,-55,-35,1,-47,-90,-76,-33,-82,4,-76,-30,-52,43,-86,-62,-87,16,-32,-16,-13,-42,-17,-41,-32,-94,35,5,7,-52,43,-53,-80,-77,-87,-41,-99,-88,30,37,14,-9,-91,-66,-36,24,-82,-7,35,-19,-41,39,18,25,-35,-89,-6,36,19,-33,-37,46,49,45,46,42,37,28,-10,-19,5,33,-35,-64,-30,-72,-90,-90,7,-62,-23,-89,-64,-41,10,-14,46,-98,-73,-40,-72,4,27,-7,-15,43,-33,49,-73,43,-48,-49,40,45,-18,-74,23,-66,45,-65,1,-36,-21,44,26,-69,-80,17,18,34,-58,-87,32,-83,-64,32,-16,-48,-37,45,38,1,45,-28,37,-63,-25,46,-78,-81,-36,-48,43,23,-60,47,48,-24,-81,-51,-4,14,49,-97,11,40,-19,-80,-82,31,-92,7,49,18,-74,-40,-49,-50,-74,-56,-42,-69,-74,24,-87,-35,2,-86,-64,-16,20,-100,31,-97,-18,-9,-29,-73,36,-65,18,-79,17,22,36,18,12,21,-6,-68,28,-94,-13,20,-27,-7,-76,39,-98,-89,-16,32,-40,-59,-5,-98,-75,-30,45,-86,25,12,-46,32,38,-37,28,-19,24,-46,29,40,-60,13,-87,37,-91,-87,7,-94,17,39,-23,2,27,-19,17,-71,41,-25,-73,-88,-44,-47,39,-12,-96,-60,-34,-36,-87,-47,-53,14,13,-19,-63,-1,40,-37,36,-59,-3,38,-18,-53,-41,-41,40,-24,1,-57,34,-7,50,-70,-75,-26,25,-96,-99,3,-22,-77,-20,-36,-90,1,-8,-42,-16,-44,-63,24,-61,-24,-9,-65,9,-18,-65,-18,-53,-58,-77,-76,-24,-23,28,-91,2,4,-88,0,-37,-11,-95,30,13,35,-11,-42,45,30,-11,33,-16,-23,-30,37,-44,-85,-8,-18,-40,49,-32,-38,-26,-50,-14,30,-52,15,24,4,-29,-50,21,36,-78,-39,-7,12,-18,-89,-23,-7,-71,-3,10,28,-75,-49,-90,-26,22,-27,-25,-11,22,-62,-3,-78,-82,-10,20,38,28,-51,35,-22,-82,-87,-9,-30,-42,-17,-87,-44,-32,20,5,-86,-37,41,-92,-82,42,-41,-45,-70,-75,-36,-65,35,-93,-46,-3,-80,-64,47,20,11,-59,42,-37,16,6,25,-37,-90,-17,31,37,-8,-52,-68,-37,-80,4,32,15,29,8,-92,-77,40,-66,29,28,6,35,-90,-95,-84,-23,-71,6,-56,-49,30,-25,-27,-67,-76,-97,-15,20,-1,29,-95,-13,-22,-58,50,-83,44,-57,-70,16,11,-31,49,-69,4,-31,-95,49,6,-22,-7,12,-43,-25,-66,19,-1,-87,-49,-59,12,-19,-67,11,1,-83,2,48,-53,-48,-94,-46,-32,-38,-78,-19,-39,11,29,9,-49,41,-32,35,6,-7,-31,-65,-11,23,-68,40,-34,-31,47,-45,-86,-6,37,-55,-24,50,31,-44,-19,25,-29,7,40,-17,-35,-84,-61,-80,5,-51,19,-54,19,41,-100,-32,19,-22,-86,-36,-98,-75,26,-51,-92,-19,-28,-81,-80,-31,9,-93,-60,42,43,45,-5,-5,-77,-57,-54,-82,29,41,-47,2,-67,9,-36,-43,-57,-53,46,-84,-52,-83,2,-36,-16,-72,-6,20,-13,-33,-68,-47,-55,-35,-37,29,-13,-95,-1,48,-97,-83,13,-96,-2,-35,-16,-37,-82,45,-45,-30,-5,14,-47,20,-68,-76,-77,-58,-92,-35,-30,48,-37,-74,-10,-73,-60,17,-21,-54,-5,-22,-25,-9,-1,29,-23,-74,-70,-1,-91,-2,-77,-67,-35,17,27,0,11,1,23,42,12,18,5,-7,27,41,0,-43,-77,-80,-25,-17,-13,45,-80,-67,-81,-30,-93,20,35,-1,-69,-80,-96,-54,-68,-15,-69,8,-51,-71,17,-2,-19,41,-32,24,16,-40,11,-5,5,-98,-99,-87,-52,-89,-4,-50,-47,-27,-98,-56,9,19,-50,-96,-82,-57,-34,-68,-54,41,18,-24,39,-100,-4,30,-72,-93,-62,-64,16,48,-88,38,-52,-7,27,22,-76,23,-46,25,-33,14,-94,-22,-60,-41,-8,-96,-50,-40,3,-30,-73,-3,-4,10,-2,0,-75,-21,35,-96,-67,13,-93,36,7,-91,-47,35,-48,-94,31,-42,-24,-53,-28,-51,-23,-81,15,15,29,-92,3,19,-30,24,-59,-39,-93,-73,-79,45,-84,-31,-13,44,-9,-77,33,-47,-55,-55,6,-44,-29,48,-41,-97,-6,39,3,-48,-93,-35,42,-76,-93,-16,35,-36,-20,48,-76,42,47,-30,46,-90,19,-97,-61,26,40,41,-63,-85,30,-63,-69,7,10,-43,-8,8,-60,-85,-85,16,16,36,-88,-25,-94,-72,37,-44,-70,18,29,-32,-2,-54,-55,-16,-79,-61,-6,-74,-41,-68,-66,38,-57,-19,45,21,-26,-62,31,18,-65,35,-59,19,-45,-63,-2,24,-86,-87,-63,49,-29,-50,-30,36,-72,25,8,3,-39,-13,-87,3,-56,22,-56,33,-5,-38,-90,-93,44,-64,-25,27,-100,44,12,25,-20,4,-62,-70,-24,7,-74,-34,20,7,-97,-23,27,-23,-77,-77,24,37,30,-86,-3,29,-59,-97,-46,-37,-24,-75,-46,-44,-35,-9,-46,-11,-35,-78,33,-79,17,-83,-75,-76,20,14,16,40,-15,0,31,-26,25,-64,-20,-22,-91,-91,-14,-77,4,-11,-2,-60,-88,2,-81,-54,-27,4,-33,-86,-40,-8,-68,14,-4,-80,47,-83,36,-42,-69,23,-61,21,-87,-64,-56,-51,20,-88,-77,-3,-59,-62,4,-85,-6,-69,-61,-39,-44,-27,25,3,39,36,-82,-65,-52,2,19,-62,0,-37,7,19,-16,37,-58,-21,-38,8,8,0,-60,-7,13,26,-24,-54,-43,-33,46,40,-22,-59,21,44,25,-95,-35,-44,-85,-68,-51,-37,43,-19,-51,-47,39,10,5,44,-97,4,-80,-36,17,38,-31,-53,-6,-60,-71,-19,11,0,48,-44,24,-59,-51,-64,-5,-43,-61,-50,-57,-34,-39,-79,-92,-60,-98,-55,-84,-41,-90,-51,35,-51,-100,12,25,36,25,22,-48,-46,-33,-3,4,-33,-79,-50,-54,24,13,2,41,-74,31,-91,47,-27,-4,-22,-60,48,-47,-36,25,14,-70,-88,13,24,-63,6,-41,-53,1,-90,-83,-73,12,-53,-47,33,-68,-44,5,-58,39,45,47,-7,-57,-95,-30,32,-2,-10,-89,-99,-18,-88,20,-6,1,-98,-29,-46,-58,-52,1,-30,30,-30,-17,-39,-98,-60,-16,-23,-5,-23,32,-70,31,-69,-54,-66,22,-9,-95,9,1,-60,-76,31,-39,-63,-45,23,-72,-36,-31,-36,18,-73,-89,-20,-19,-55,36,-98,-95,8,-75,-72,-34,-2,-23,-8,-92,-23,-3,-61,13,45,-23,-51,16,-42,-47,-25,-90,-31,-6,26,-21,9,-62,50,1,-84,-67,-73,-40,21,34,21,43,-38,-8,-59,-20,18,39,44,-42,-14,-72,30,-20,6,48,40,31,15,43,-37,-19,-26,-29,-74,24,-46,22,0,9,0,4,-97,20,-2,41,-20,-96,-17,-26,34,41,-49,21,37,-61,8,-13,-4,23,-18,-80,39,30,-88,-93,49,-35,-7,17,27,-22,15,10,30,-90,-77,-74,42,-65,19,-92,9,-17,-51,-59,-1,22,-33,-24,-61,-12,-18]\n",
        "k = 1012\n",
        "\n",
        "from timeit import timeit\n",
        "timeit(\"Solution().maxAverage2(sample, k)\", \n",
        "       setup=\"from __main__ import Solution, sample, k\",\n",
        "       number=1000)"
      ],
      "execution_count": 13,
      "outputs": [
        {
          "output_type": "execute_result",
          "data": {
            "text/plain": [
              "93.60724997520447"
            ]
          },
          "metadata": {
            "tags": []
          },
          "execution_count": 13
        }
      ]
    },
    {
      "metadata": {
        "id": "hxkxXM_bldq_",
        "colab_type": "code",
        "colab": {
          "base_uri": "https://localhost:8080/",
          "height": 34
        },
        "outputId": "d63a6ce7-0b08-442e-bd86-7c7efbab20dd"
      },
      "cell_type": "code",
      "source": [
        "sample = [-78,-50,18,-93,-35,-31,-21,-14,-73,-38,-77,14,-80,-62,5,-36,-67,-51,24,-48,-64,-75,42,-38,-56,-49,2,-11,-98,-34,-13,-75,-42,-47,-99,-82,-34,-34,10,-94,-12,-67,-75,-88,-20,-98,22,-82,46,4,-93,30,-45,-1,32,43,-73,-2,-3,-58,19,-89,-54,-62,-47,12,2,-20,-6,-41,-89,-89,28,-91,28,7,8,-47,-37,-4,27,44,19,-13,-2,-85,-75,-80,-81,36,-30,46,8,-53,24,41,-16,41,45,-35,8,-78,39,-97,14,-73,37,47,36,-42,-89,-96,10,-69,35,-83,-50,47,26,-27,-76,-28,-42,9,17,-86,-57,27,44,4,-54,-80,45,-53,49,-36,-56,13,-19,-57,16,-31,-42,31,-53,-17,24,35,-52,-4,-85,-22,-14,-2,-97,-45,-6,-47,-81,-76,-35,-16,-46,-97,-32,-57,-4,-41,-41,-34,5,-2,-65,25,16,40,-90,19,13,-53,30,-50,7,-30,-14,-10,18,-65,50,42,-48,27,15,-66,-65,-48,-35,-36,-8,16,41,-45,-65,-77,30,-4,2,-57,-92,10,-41,44,-55,-68,-98,23,-79,18,-99,-60,44,39,-55,-35,-18,47,-40,-37,35,45,-57,-52,-55,-58,-93,-25,-81,-14,44,29,0,-71,45,-71,-56,-2,-61,12,-96,-16,50,-17,-73,-29,-38,41,-68,-43,-50,-98,43,0,-48,-95,15,-48,-87,-4,39,-72,8,-66,-75,-95,-51,28,-36,-90,37,-59,-60,30,-80,-30,21,-44,15,-26,22,-18,-25,-10,-39,30,-50,-43,-72,-71,-85,-3,-7,4,-26,-37,-96,-93,-11,-82,-31,-71,-49,-60,-68,-71,46,6,29,10,25,-94,-56,13,-70,-30,-98,-8,-8,-99,-43,-61,-67,25,-8,-55,-69,33,-30,23,-7,-51,-87,-100,1,-36,-95,-9,21,-73,-23,-8,-30,9,-47,41,-9,50,-58,41,-9,-27,42,35,7,-59,49,43,-52,-89,45,-87,29,-57,-34,-84,26,-9,-24,-55,34,16,-72,4,-89,-62,-87,17,-44,-82,-10,13,28,-36,47,-60,-28,-71,-93,-81,-16,11,-66,3,-85,-72,-6,-100,27,13,-97,-37,-32,-90,-49,-48,-89,-28,-100,-10,-48,-64,0,-68,-8,-5,-95,-19,-29,17,-45,-13,35,-81,36,-80,-66,30,10,-3,-68,26,-54,-63,36,-38,-50,-25,7,-56,-51,37,-14,-82,-27,-22,-99,-7,-53,33,-40,-1,-14,13,-75,-45,-100,35,-51,-26,-48,-86,34,-8,37,-14,-78,-76,-82,-43,43,-74,17,-96,26,-100,35,28,-17,39,-17,19,18,30,43,-95,-93,-13,0,-61,-16,-96,-33,37,-46,-30,-28,28,-46,6,-30,32,31,38,-88,21,26,-26,-73,16,-32,-50,-30,-27,-71,-60,12,30,-22,-46,-96,-9,-4,19,14,42,-27,-59,-5,-92,-90,28,27,37,-78,-36,-37,-76,-24,42,17,7,-73,-18,-23,22,35,-28,-73,-7,-80,-73,-42,-57,-83,7,36,-69,-6,9,-33,23,-9,26,-98,-37,44,-52,42,-54,35,-99,-13,46,23,-25,-51,-6,-56,-85,-39,45,-32,34,-42,-28,-57,27,-19,-45,-42,-54,31,-72,-22,-5,-85,-97,22,-19,-95,-6,-59,-18,-52,48,20,-19,35,12,-53,-44,36,-57,24,-62,-47,-14,-49,9,-58,-59,17,-60,7,-10,3,15,-81,29,8,15,20,-47,-73,33,-36,-95,35,-73,-37,-41,-90,-9,-2,-23,-83,-82,-26,24,32,-61,-34,-26,-26,-2,-3,-6,-6,-60,-35,-30,-58,5,-91,29,-29,-32,16,-4,-49,14,-67,-57,-62,10,-65,-17,-39,19,-93,-11,17,2,-3,30,-37,-18,-67,-43,-72,11,-64,-85,-8,26,-96,24,10,-80,-16,2,-89,-17,-90,-55,-19,6,-77,-19,-51,-61,4,-48,32,36,-30,-35,-7,-62,-18,-63,-33,-60,-22,15,-91,36,25,-78,-86,-82,-55,-74,-28,-5,5,-13,-26,23,-6,-62,-58,-89,40,-14,-44,-71,1,40,-86,-4,34,9,-8,30,-31,42,41,23,-34,-82,41,11,-27,-12,-47,-2,-35,0,23,-25,3,-17,41,-69,-83,-2,46,-86,1,2,31,-97,5,-100,-73,-30,-78,-83,-98,-1,-10,-78,35,-29,-98,-3,-50,-31,-45,34,46,6,-25,-84,40,-92,-57,-32,-7,39,10,25,31,-3,-99,38,-22,37,34,29,-13,-33,48,-51,-64,23,-48,-47,-33,-95,-32,7,-8,-99,-13,39,-41,-94,32,-55,-50,-46,-15,-42,1,7,-40,-79,-5,-83,-17,29,24,27,47,26,8,37,4,22,-97,24,-27,12,46,-24,-57,15,-85,48,-93,48,-16,-73,-5,7,-70,-19,-78,6,23,35,-81,-96,-94,-92,-12,-37,36,5,-50,-8,29,-23,46,-66,-30,-30,-8,-100,17,-17,36,-19,-24,-87,20,-44,-14,20,-22,23,-66,-100,-61,-59,9,-41,-90,-96,35,-91,13,-50,-32,11,27,-23,-51,-84,-9,0,-73,-71,35,-40,-45,-16,-17,-30,11,-89,40,-75,-89,-48,17,13,-38,-22,29,26,-29,47,-94,-78,-90,-18,50,-6,-24,-12,40,-92,46,-37,-34,-32,-79,3,47,-17,-53,-60,-27,-94,-51,27,-53,-39,9,-79,10,-73,-53,29,-29,33,14,38,-29,-89,-97,27,-26,33,-30,-47,-2,-18,9,26,-89,-12,-25,-89,-9,-82,-72,-10,-11,-92,45,-80,-55,-54,-76,-14,-57,-40,-9,-77,1,-85,-2,-66,26,-11,-27,-17,-74,-62,-68,-34,-21,-57,-24,-41,-78,25,27,-93,17,-69,22,-62,-79,-66,-10,-45,-39,-78,-16,2,-71,-76,-21,45,-62,11,-5,-59,34,-85,1,-25,-75,43,14,-12,-87,-63,-38,22,-16,44,-37,-94,-93,-59,-51,25,28,37,49,31,-35,-62,-21,44,-78,-87,32,-54,-12,-33,5,2,47,31,-97,-85,-28,-28,-79,-40,-51,-19,-34,27,-86,-11,-32,-21,-84,-1,25,-84,48,-65,-3,-32,-72,-90,4,-75,-3,9,-40,-21,5,-28,31,-59,23,3,-85,25,-48,-43,39,-13,-5,-77,16,12,-51,-49,-16,-16,-23,-95,38,-24,7,-81,-54,-75,-60,-43,32,-9,-76,-10,30,-56,13,-76,26,42,-47,21,17,-22,25,-92,-44,-35,23,-73,-76,-69,33,-36,-50,-71,-93,31,-85,15,44,11,-23,-97,-99,-7,25,-100,29,-46,6,-22,4,-30,-73,-52,42,1,-79,-29,-80,20,44,-82,-69,-76,-26,31,-4,13,-30,45,-12,-95,-92,-25,-98,-40,-42,-29,0,-41,-85,-32,-96,-96,-14,-67,8,-76,-9,20,-17,-17,-83,-31,7,-7,33,46,-48,21,-100,-98,-4,34,36,33,-29,-47,24,20,5,-3,-66,42,-45,-92,-78,-3,-55,-77,-6,32,0,-33,-85,18,-4,-39,50,-43,39,-21,28,-69,-22,-64,-91,3,-25,37,-24,-50,-80,42,25,-6,-90,13,-75,-88,4,45,9,-100,-32,-63,14,-28,19,-97,-6,-73,-78,11,-87,-57,-92,0,-74,-40,5,-30,-75,-70,-51,-22,-88,-8,-99,-94,25,13,-48,-44,-21,-56,12,-98,-6,-47,-6,-36,7,-90,-49,-66,-6,-15,-9,-69,-14,11,15,6,-62,-31,-16,0,20,-13,-19,48,27,-20,32,-40,-69,-52,-62,-61,-92,3,21,-10,-65,-28,42,-93,-9,-92,38,-8,-90,-35,-4,44,12,-77,-35,26,-93,36,-11,42,-46,-19,-73,-25,9,-74,40,-85,-67,-32,-84,-37,-69,26,-3,-32,-12,-91,45,5,10,13,-39,-53,46,5,-19,-6,-52,44,11,24,-49,27,-55,-22,-18,9,17,-3,-76,41,-96,-57,-52,-35,-17,-99,-93,-15,41,-58,-69,-13,-13,-67,-45,-56,17,-87,-48,-3,-82,6,28,-61,19,-92,-35,-88,38,-51,-84,34,50,-83,-10,4,-26,-96,-40,43,-70,-1,-70,21,13,-32,25,-17,-49,-60,24,-58,-91,49,28,-84,-4,39,-64,-80,-12,5,23,-44,26,-52,42,-85,-35,16,5,0,-19,41,-74,-53,-2,14,0,-95,-53,5,-25,-20,-98,-89,-69,16,21,-51,-38,10,-14,-93,41,-88,35,7,-6,-84,-7,41,-50,33,-54,29,-99,49,-3,35,-90,-46,-63,-82,-2,-35,-5,-76,33,-31,-13,-84,-39,-1,27,16,-48,10,-58,-12,12,-58,35,-94,-34,-54,-36,-51,12,-77,-66,6,3,26,-47,3,12,-46,-100,-50,1,-58,-21,-75,-85,-49,-8,-28,0,1,-56,42,-81,-13,-18,29,-64,-53,-58,-5,-28,-55,15,-47,-55,-80,-19,-38,7,22,-18,-14,13,-26,-92,-84,-46,2,3,-82,-34,23,-55,-30,-47,42,9,34,-69,50,45,34,-99,-30,48,-38,7,-59,-52,-71,-26,-1,-80,41,-47,9,-91,-91,-24,15,-29,-90,7,-58,-41,32,-68,-99,-82,-75,-28,36,22,12,7,-85,-82,-85,7,-5,-58,36,-27,-57,-85,42,-60,-1,11,11,-58,-85,-38,41,40,32,-99,-42,-32,-54,-24,49,-86,-32,-34,-7,-66,17,1,24,-19,-33,26,-62,16,44,-5,47,-60,-88,-29,31,-83,-20,-56,-51,-42,-23,4,29,0,-82,-36,-95,11,46,-52,49,-79,42,48,-31,-58,-84,-47,-13,-91,-28,-25,38,-82,-91,-75,-77,3,-24,17,2,-1,-21,-94,-8,-62,-7,-99,9,-16,30,29,-20,-60,38,0,31,-38,2,-37,-34,28,-30,-60,-37,-30,-91,45,-69,9,-65,-76,-10,38,-2,18,-96,25,22,-43,6,-94,-63,-3,-98,4,17,-78,-66,29,40,-48,46,-65,-81,21,-8,-97,-37,27,-37,-18,-19,-82,-93,-69,-62,-77,-98,17,-88,14,-66,-38,-9,-49,-4,34,-1,29,-84,-88,23,-10,-9,-74,-43,-29,-100,-40,40,-93,-42,-23,-86,26,-88,-69,27,45,-49,-100,-99,-73,-49,-69,34,-4,-38,32,30,47,-86,29,-88,-4,14,-20,-83,-8,30,5,-42,46,-59,36,-38,-22,35,-92,-87,-12,-66,44,-45,-30,5,-41,20,-2,37,-46,-6,16,-41,-46,40,5,-86,-92,-11,44,-79,-31,-14,-15,0,-31,-8,-57,-92,-57,27,-50,-85,-20,-58,15,-88,1,36,-67,-70,-32,37,-70,-50,-94,6,-78,-79,-53,9,0,41,32,-12,-78,-40,-88,-61,25,13,33,21,3,-26,-90,-76,36,-42,-19,21,15,-23,15,20,24,-22,-13,0,-100,15,-16,-32,-81,-58,-34,-19,16,-96,-30,-59,-15,42,38,27,-47,50,-86,-41,-87,-16,3,-100,-98,-96,26,46,16,-73,46,10,-57,-3,-11,-80,2,11,31,-82,20,-69,-93,2,-75,-11,4,33,-86,31,-85,-43,-5,-58,22,-37,39,-47,-87,38,-97,-13,-56,39,50,-31,-57,4,35,-65,-81,-46,-80,-30,-76,-73,-43,24,-37,6,1,-33,-95,6,-9,-64,-30,42,-1,-90,34,44,-26,10,43,-53,-22,-29,-82,29,-45,-22,-68,-74,44,-67,-100,-32,-57,-80,-80,11,15,-6,48,-54,-42,12,-30,21,-80,-60,-60,41,-75,-71,-46,50,38,-79,-36,6,38,29,13,-81,-19,5,-82,-6,0,-33,16,-4,-2,-22,-72,-30,-18,-75,1,-18,-84,-75,-1,-85,-49,28,24,-99,-88,-51,33,-58,-99,-51,35,-9,-34,-97,-23,-64,49,-74,11,27,17,-90,-53,4,4,-63,-68,28,-31,-43,16,30,-69,16,38,-71,-99,-28,-33,-32,19,47,-98,-30,19,9,-62,-22,-50,-49,-90,49,14,18,-37,-16,-22,-49,-50,29,-99,38,-64,20,40,5,-41,-17,-100,39,-11,-93,-90,-39,17,-50,47,-3,-69,-59,-67,34,-26,-100,-92,-59,-17,2,-67,5,-76,-46,33,-31,-74,12,-23,-81,22,-95,-4,-46,-40,-42,-40,-15,-16,22,-51,-98,14,-76,41,-40,-58,-87,29,-59,40,-88,-86,-3,-31,-29,2,-8,19,26,17,31,48,-55,-4,46,-18,29,50,-75,21,-78,20,-52,-53,-39,25,30,-25,-35,-59,-67,-51,7,-94,-45,25,18,-69,-47,36,16,20,-6,4,-35,-90,50,-71,-31,-73,-65,-78,-97,-86,-75,39,-48,-67,42,-1,-22,-70,-33,-74,31,2,40,-16,-59,-83,41,50,-28,-53,19,-20,-71,-23,-52,-47,-56,-62,-63,33,-16,28,-35,-14,18,35,-88,-56,41,41,-100,-46,-22,-11,38,10,-28,-45,-92,-39,-11,-17,22,14,-97,-48,-63,-82,-47,18,-55,44,-2,-87,-55,-94,45,30,8,-3,-55,-20,-56,28,43,1,40,6,4,-64,-95,17,-11,-23,-69,-94,1,0,-6,-82,-25,-82,-2,-25,38,-37,-15,-1,38,-80,-64,-62,24,-6,39,7,-88,-6,-53,-8,35,18,10,10,-22,20,16,32,-71,-66,20,-63,5,-34,10,-49,-32,-26,41,7,-20,-5,47,33,-28,-55,-69,-29,0,9,-72,-60,1,18,27,-85,-66,-16,-4,45,-59,31,-30,-96,38,-32,6,-51,-81,-18,44,26,26,-1,-11,32,-63,-3,-73,-71,30,-21,6,10,-66,-11,45,-50,36,-56,-55,-9,-90,30,21,47,20,-17,-64,-60,19,32,-86,29,-82,-13,-92,-81,-53,-48,8,-65,9,16,30,-63,-60,-63,0,-83,30,21,-86,-72,-82,-43,30,-51,42,26,-64,25,-28,38,-77,-11,-64,-69,-57,-94,-11,-21,44,-40,0,41,-47,-49,-54,-48,-81,41,-61,-26,-18,-71,-100,-14,-39,-14,16,-28,-26,-84,-95,-17,-65,17,-87,-3,-75,37,-49,49,44,21,-7,39,-69,-96,-78,40,-94,-67,-59,42,-51,40,-41,-45,41,-86,8,-1,-74,47,-97,29,-39,-61,24,26,30,-89,-81,-54,-59,20,44,48,-31,12,-61,-98,6,-42,-24,8,-46,26,-6,9,-11,-38,-75,-96,22,-38,-26,-71,17,-70,-66,-63,-10,-93,-39,-22,-45,-95,38,-20,-38,-74,36,-68,-76,-35,34,-69,0,-98,-86,-81,13,-12,-36,12,19,27,-22,10,-18,-3,18,-6,48,-89,1,19,-99,26,-67,-52,36,-28,-94,-99,-46,11,-67,33,-43,10,-100,-23,24,-52,-2,-27,-56,43,-62,-40,27,19,-82,-67,-61,-16,-10,-94,15,-65,23,-22,35,15,-68,-45,-43,11,-97,-81,44,-68,2,5,-8,-38,-21,2,20,-70,17,-44,-17,-59,-43,39,48,-17,16,34,-18,19,3,-47,11,-92,-10,-19,23,-75,-9,-57,-91,40,40,-16,31,-18,35,44,-53,-33,23,-100,-27,-78,-95,-74,23,32,-15,-86,-91,22,-61,11,-68,15,-27,9,-2,-27,29,-100,-55,-99,-61,10,4,-81,-83,-2,49,-48,42,-59,-51,10,-16,-39,30,-15,-17,33,47,-91,-72,13,-20,-9,-9,-4,-93,-25,-27,-2,-49,46,27,1,-9,24,-1,-65,-18,-9,28,49,43,-89,10,26,-21,-12,6,6,-21,-19,12,-33,10,-37,-23,-49,-16,-68,-16,7,-66,-1,1,-33,-24,-75,-53,-72,-26,-63,42,5,9,18,22,46,-3,21,-80,3,-88,-29,-84,-44,31,46,-18,-97,16,22,-91,-66,-60,8,-71,-5,23,-15,-29,45,11,14,-13,4,-55,-73,30,45,-42,33,-8,34,-83,-68,-40,25,34,-38,-69,-89,-45,-19,45,5,-92,-78,47,-38,47,47,-21,-3,-65,-82,-17,-17,-6,-6,-10,43,9,-45,-80,31,-13,-28,-78,30,-52,-41,-67,-30,-59,-68,-37,-52,-21,0,40,-51,0,12,-48,-53,16,-60,13,-6,-64,-34,-26,0,-86,16,28,-81,-12,-47,-68,-83,34,-58,13,-33,-89,-64,-10,22,-77,-49,39,-17,-39,-60,42,21,-9,-3,8,-90,-55,-72,-71,-100,-32,-13,-1,48,-6,-20,-71,5,-99,-83,-63,-93,46,-7,22,-59,-81,-46,-29,34,-79,-72,-13,-99,3,-48,-9,-73,13,-96,-40,37,-49,-48,-85,-32,44,45,1,-44,20,-56,18,13,3,-51,28,-100,-26,-75,-55,-25,-17,9,-19,-90,-8,-15,-13,-37,-77,-42,-79,-67,-10,25,-30,7,-100,28,-71,-81,-27,5,5,-20,-35,-26,20,-72,-84,12,-21,-29,-68,-86,-96,37,25,-27,-24,-71,48,28,43,38,25,-25,16,-97,31,-9,-51,-54,12,-55,-70,-32,-35,23,-32,-68,-55,-67,45,-41,-77,45,29,-88,38,-6,32,24,9,-88,-84,-80,29,-6,-88,-43,47,-3,50,1,19,-7,-56,-3,-27,-90,-90,-53,-47,-1,-63,7,-49,-93,-99,50,-72,25,47,-26,-95,-72,19,-6,-91,29,34,-44,20,-34,-15,-25,9,-18,-56,-74,-78,-16,15,-48,35,-48,-40,-12,2,-25,-93,-69,32,-3,41,-48,-50,-41,-81,-8,25,-43,-9,49,25,-21,-56,45,-26,13,15,-5,32,-53,-73,-12,-12,-78,-22,14,-23,1,-45,-10,48,-21,-67,24,-14,37,49,-72,-56,-71,44,-8,-71,3,-16,-93,44,-52,-2,-84,-100,-93,-2,13,-61,-40,-14,-36,-63,-49,-63,-22,34,-90,-25,-32,8,34,-59,-89,10,-21,-47,-27,-27,-4,-5,-10,-46,-27,-86,37,14,-7,41,-20,-95,-53,-12,-44,-70,-69,-91,-43,35,0,-36,34,-15,21,-3,34,9,-84,-72,-91,35,-3,-32,-54,-36,47,-86,-22,-34,-70,-52,-25,11,-60,-83,-52,-76,-43,-95,37,-4,-30,-5,-72,-63,-24,-70,-94,-72,21,-2,-90,-97,29,-49,-91,49,-47,-75,-48,-9,-90,-65,12,-94,-83,-6,-52,6,-17,6,-12,-27,-13,-32,-24,42,-5,-92,15,-94,31,-62,-10,-86,-20,-73,-38,-22,-26,18,-9,-34,-65,-54,-31,-88,-24,3,42,-29,-94,-100,-43,17,-88,-100,-56,-1,-83,-82,40,-38,34,-52,-3,-54,-63,47,-63,25,-89,-21,-90,29,-21,20,-58,36,-5,-84,11,4,-67,-87,-90,29,9,-55,-1,11,-46,46,-72,-87,-63,-28,2,-93,12,20,44,9,-74,-99,1,-89,-24,-55,31,-49,-84,1,-46,-89,6,32,-54,29,-9,-19,-17,38,17,-63,-26,1,23,-54,-83,-27,-22,38,11,-79,-59,24,39,-9,-35,-42,-35,34,5,30,-97,-18,-54,-96,-26,16,3,14,27,28,-30,-43,-19,46,-4,14,48,-36,-27,1,-75,17,-95,8,20,40,43,-40,33,-36,-50,32,-68,39,-25,33,-77,-17,-50,11,-41,-7,-9,-64,-93,-50,-43,-30,37,48,-92,-58,38,6,16,50,-32,-48,-15,-85,30,-86,7,-73,23,-20,-61,-1,35,-10,50,-99,1,35,-61,9,-77,-80,47,-56,-64,-93,-83,-63,-90,-33,33,-60,-24,29,-12,-54,39,-71,-8,-48,-31,1,-32,-31,3,6,-64,-37,-56,-9,6,-77,-88,-86,-96,-19,4,-48,37,-17,-30,-39,-69,48,-31,40,-65,-49,-91,-42,31,-35,1,-87,27,-23,-87,-74,-50,45,-37,34,-40,-7,46,-50,-98,22,-34,36,-15,-15,-46,-34,-66,29,-91,-31,-22,-95,-87,-97,-93,7,-30,-50,-96,46,47,-46,-16,-27,40,26,-92,-13,-81,33,-33,-14,-7,49,-63,-32,-41,-78,-94,-79,-38,-49,28,22,-34,-12,-12,5,47,-31,26,-73,-97,-21,6,-66,-45,-86,-23,20,-94,-27,-87,41,16,31,-48,10,26,-87,-72,-93,46,-78,37,-23,10,-97,-9,-98,-17,-40,-64,-6,-80,-98,-25,2,26,37,-35,-54,-59,1,23,-39,0,-79,36,29,-68,-76,-19,7,-53,21,10,-57,-58,4,8,37,35,11,-34,-11,-12,-41,32,-45,22,28,-35,-15,30,-28,-59,-71,28,-73,22,25,1,-31,-36,-41,-75,-45,-11,-82,-82,-33,-73,2,-6,-36,24,-66,-6,-51,32,-20,11,-35,19,20,-53,50,-84,45,-64,-2,-61,-85,-25,-55,-40,23,-96,37,-14,-62,-67,-39,23,18,3,-53,-98,42,37,-91,-19,-19,-80,33,-90,14,-98,-92,-42,2,0,-80,-32,-61,47,-71,13,-20,-28,-69,-34,-58,14,-36,-21,7,-34,-75,-88,-99,-45,-77,30,-50,-69,-50,-40,30,-42,19,44,-96,-27,-45,8,16,-6,-97,-19,-11,-96,-17,49,8,25,-99,8,46,46,-94,-59,21,-91,-45,-16,-68,5,-46,48,-70,-63,24,17,-32,-76,-69,-40,-45,31,-98,34,-36,-30,-73,1,-72,41,-53,-17,36,26,-78,2,9,-41,-71,-64,24,-69,-71,-35,-71,-34,-58,-12,-26,12,12,-23,18,-84,-1,-72,-74,-24,-59,-9,-35,-56,-38,-70,49,-41,-54,-26,40,-52,-61,-11,46,0,-26,-70,35,-23,-18,-90,25,-3,-71,12,6,-72,7,43,-95,-88,33,19,-7,-93,2,-70,-59,-91,-49,21,-81,20,-47,-6,24,24,4,7,-6,-26,-10,41,50,-89,2,39,-26,-91,-100,40,-89,-50,-47,-70,-7,-100,30,19,-36,33,-43,-62,-77,20,-69,4,-20,-60,-61,-3,-82,-66,-52,-83,-97,-64,-27,46,-73,-2,4,-56,-38,-87,11,45,19,-79,35,-14,17,44,-47,-36,-8,-2,24,-62,-46,-71,-83,19,33,-80,-93,-2,47,-83,18,-60,-21,-97,-56,-53,31,-8,6,-78,-54,-49,24,37,-64,-47,-62,-11,-32,18,-43,-49,12,-72,42,-62,-47,-92,-80,8,-2,-19,44,49,14,37,-56,7,-93,-87,31,24,18,11,24,8,36,-75,12,-23,-98,28,33,-98,-98,-59,-26,-77,-89,-83,-43,-73,-15,48,-13,6,22,8,-23,0,-18,-25,-74,-29,-93,3,5,35,-50,-60,-81,35,37,48,-79,6,-8,-80,30,-35,-66,49,39,25,-91,-59,-62,-84,-88,41,9,-16,-93,-25,25,2,-78,46,15,-29,-12,6,25,0,21,-39,-46,-19,-83,29,15,-36,-72,39,-12,-95,16,45,-7,-8,-2,9,-31,2,32,-98,17,-61,-82,11,-47,31,20,19,-14,12,24,-16,-31,-59,-68,25,37,36,24,9,50,-3,-52,-9,-69,-88,26,20,-1,-11,7,50,-8,-65,21,-67,-8,38,-64,-56,8,-66,-62,-25,-62,-1,-58,-65,-77,-72,-61,-80,39,-18,10,-64,-48,-16,19,-76,40,-74,-98,-88,-29,-35,43,-11,28,-52,45,-56,-33,42,-99,-92,6,35,24,-6,38,19,-34,45,12,6,-32,-86,-21,-99,-22,-35,-72,6,43,-90,-40,-38,-51,-31,-45,-82,-66,-57,-24,47,-15,-8,-99,-74,39,-52,-30,-52,-4,-38,-13,-33,-35,-23,-15,42,-99,-49,-59,45,43,-25,-23,-91,25,47,-21,10,-84,13,0,-78,-26,-59,-54,5,5,-83,-86,19,13,-74,8,-97,-66,-74,-75,39,-25,-32,9,-33,-18,-90,-7,-4,-97,13,44,-57,22,-51,-35,21,-42,-64,-40,23,-1,-47,40,-95,34,-78,-59,-22,4,-15,-34,-33,47,-50,-61,43,13,9,-55,-87,-58,-47,31,14,2,7,-72,37,-36,37,-97,-93,-47,-96,50,8,-54,36,-31,-41,-88,13,-50,44,-60,17,25,-99,-40,-21,-98,-21,-97,0,-61,25,-76,41,-4,-11,16,22,-42,-43,-41,18,29,46,42,-35,-62,10,-63,30,-6,-78,5,44,-24,31,-35,-3,-75,-47,-41,-1,-31,9,-16,8,50,-6,-38,-20,46,-51,-68,50,44,40,-96,-5,-27,-6,-39,-70,-5,8,-44,-18,-4,-28,-2,-43,-94,-37,8,49,24,-58,12,-33,-68,-66,-6,-38,-5,-36,-74,-94,36,35,-19,-46,44,11,-85,19,-73,27,-86,28,-64,-37,8,27,-23,-89,13,-88,-43,-1,8,-34,46,-39,6,-39,32,-39,13,10,5,-40,-15,-26,50,-62,-42,-16,-44,28,-16,18,-25,19,-96,-87,-34,-27,11,39,0,45,-27,-87,-51,21,20,47,-25,-71,14,20,-76,46,-67,-87,31,16,-60,-23,-28,-39,-66,-36,1,38,-93,-50,18,-14,-56,-31,-39,5,-13,-10,-37,5,34,17,44,0,-93,-20,-62,34,37,-53,-69,-26,45,-5,-23,-76,38,36,7,50,-20,35,-55,-27,45,-53,4,46,-16,-76,41,-38,-60,21,-86,8,46,38,-59,-69,-49,11,42,-95,-86,15,36,17,-88,14,41,-29,-80,16,-92,-86,-86,31,-58,2,-97,-34,36,-56,29,32,32,-84,-40,-10,-75,-97,-62,39,-53,35,37,-84,-94,-39,-24,-3,-88,1,-70,45,-61,-55,-17,13,-17,-74,-59,17,-29,-49,9,-34,-38,-25,-48,9,-74,-96,10,-94,-14,-78,-67,-31,-35,-84,-22,-96,-31,-67,47,-28,-98,14,46,12,-32,11,-79,-93,41,37,-77,-98,-97,16,2,-62,27,25,33,-35,-50,-39,-12,39,45,-30,-75,-41,-39,-71,33,36,-25,-22,-87,-64,-21,-84,-43,-92,44,-72,-80,25,-49,-97,-87,-75,-46,-45,-76,21,-15,-100,14,47,-30,-75,3,-27,0,47,-23,-35,-22,-18,-31,-56,-94,-10,13,-4,-93,-62,-69,-12,20,-6,36,18,-100,-12,3,-42,-18,26,-1,-20,-88,-71,-77,-50,-5,-47,-6,26,-82,-56,33,42,-52,-82,16,-82,-21,-17,-25,15,-80,-76,-82,36,-10,-53,-94,32,-47,-53,11,-15,-50,10,-93,12,-63,38,-92,-61,-50,-95,10,19,24,12,-8,34,25,-41,-77,5,16,-96,1,-74,-16,-14,5,49,-42,-49,-64,-9,-52,-68,15,21,-81,-81,23,14,-40,50,-25,-29,-54,48,42,19,-43,11,29,24,-89,-51,-84,-20,8,-5,27,-78,-80,-80,-13,26,-74,-23,29,-78,-31,-45,-18,-50,49,-98,-94,8,-46,-21,41,-33,-46,-90,-12,-70,-81,-37,-75,-72,-2,-75,-45,37,17,-72,-43,-81,9,-31,-39,47,38,-88,5,6,19,-34,6,-18,36,10,-45,-30,-82,27,-8,-11,-78,-56,-81,32,37,-13,-11,-71,3,44,-34,-32,-73,-22,-71,-21,26,-16,-52,-38,28,-50,-20,-2,10,11,12,-36,-29,4,28,-24,-49,-10,-11,-46,-48,22,-37,-53,-71,8,-38,-52,-41,-63,-100,36,46,-62,-30,22,-26,-20,-13,-95,39,-14,10,-100,44,-99,-41,3,-9,-80,49,-39,2,-57,-3,-29,22,-61,-75,-22,-76,-14,-26,-31,-73,-31,-43,-10,-52,-44,32,-43,34,-51,-40,8,35,22,-13,1,-57,44,13,-69,16,-14,-1,-8,-72,-100,15,-10,10,-75,-31,-89,13,-22,-32,-1,-83,-78,-6,7,-15,36,-52,-72,4,-56,25,24,-75,28,-15,-95,-70,40,40,-85,-50,-84,-94,-32,-13,-43,-56,36,-88,42,-14,-99,-30,-83,1,-50,33,-13,-71,9,-34,-85,27,-19,18,-3,-83,-98,-4,-97,-86,-68,12,-33,6,42,-24,-33,41,22,-26,-18,-92,25,-31,-26,27,-7,-12,-1,-11,-17,-22,-90,-68,-44,-94,23,-95,15,-59,-39,-50,-1,28,12,-100,-86,20,9,-18,-76,23,-75,-92,34,-97,-1,-18,-85,-90,13,-66,-33,-83,-70,-5,-7,-17,-20,-2,46,-88,48,-37,43,49,-95,6,-74,29,-32,32,-23,39,-10,-17,12,42,-55,23,-15,36,-16,15,-2,2,12,-52,15,16,-41,29,22,-96,38,44,-31,2,-90,19,42,-29,43,-59,-37,0,-42,-50,-25,34,-63,31,-100,-72,-43,-70,-82,-61,-44,-38,-17,-4,-98,21,-6,30,-4,-23,43,9,-22,-2,17,-66,-78,-59,-32,31,-63,48,-30,-87,-11,46,43,-21,-4,14,-9,48,48,32,39,-99,-40,-46,37,-1,2,-60,-84,24,11,12,-60,22,3,8,-69,21,-36,32,-43,-2,-55,47,6,-17,10,22,-83,49,-15,-67,-84,29,-43,45,-85,-28,-3,-96,43,49,1,-72,-22,32,-56,-75,11,-94,35,-14,-73,-29,43,-7,-78,-14,-84,-47,-84,-47,0,33,-71,-62,46,-62,49,-97,-2,-15,0,48,17,49,-78,42,-36,37,23,-37,34,-25,-39,-50,-8,-53,32,-56,-91,-4,-74,-77,-84,-3,7,1,-13,43,-85,-79,-80,43,-63,5,44,-76,-25,-73,-89,-28,-5,-74,-13,-91,-74,-93,-31,-98,49,-29,12,-42,-29,-61,-54,30,23,-45,-36,-43,-17,29,-40,-54,-56,-75,-31,-34,32,-95,31,2,-38,48,-84,32,-52,-7,3,-71,-100,-96,-97,-54,33,40,-82,11,-54,-42,-44,-40,-4,-43,23,-100,-30,-41,19,-18,-72,22,-2,-30,-48,34,-24,-72,-24,49,-42,-43,-35,16,22,-52,-24,-54,12,-7,-32,39,-19,-43,36,26,15,0,18,-88,-38,34,-46,-48,-81,-20,-47,-7,32,33,-79,0,-26,-31,-56,-63,48,-32,-17,-93,-19,-50,-58,-61,26,-60,-64,-37,-51,9,-89,-29,7,-59,-46,-78,24,-30,-33,-54,15,-48,4,-1,-86,3,-44,-43,35,42,45,37,-80,34,-6,-37,-21,17,-98,-13,0,6,-96,7,38,13,-35,-74,26,-94,0,37,-70,-74,-61,-15,-69,-9,-86,-99,0,-80,-32,-24,5,-86,-33,-15,0,26,-3,0,-12,-29,-13,30,-69,-53,-49,-1,-8,21,29,-56,14,-63,30,-20,-7,13,-100,-55,-14,-100,36,-68,31,12,-11,3,-28,45,-55,-33,-64,47,29,41,-48,9,-13,-99,-68,-83,-59,-18,-19,42,-87,-77,15,-74,33,-36,-43,-30,-7,-35,-98,-100,16,-22,25,-84,-50,-92,-22,-46,-37,-82,-41,26,-52,-84,30,-79,-76,-3,37,-15,26,7,21,10,-49,-78,-57,-14,40,-33,47,22,-48,35,-31,-4,-79,-3,-83,12,-70,20,46,-75,-86,-13,34,42,23,-68,36,-81,48,-66,-27,12,-73,-38,-76,-80,24,-16,-85,-67,30,31,4,-65,29,-34,9,30,48,-51,-3,-81,-63,-50,7,-96,16,50,-50,-89,-17,-13,-91,-84,-88,-67,-98,-63,-75,-38,12,-10,43,48,6,-94,46,5,-92,-72,-61,-68,-92,40,-74,-65,-24,44,-11,-92,-59,-15,-91,23,-83,-67,-72,29,-64,-36,-21,20,-64,-14,-72,-80,-71,-48,-63,-94,43,36,8,-55,15,4,-33,27,34,-98,25,-37,-62,-59,-46,7,-35,-73,3,-5,-99,12,-98,-72,21,-10,-37,-34,37,-1,-53,-75,-35,17,-84,-15,-91,-35,-56,-13,-44,-26,-45,-8,-82,12,-74,-20,-59,-95,-42,-84,-18,-85,43,-42,-32,-17,-95,24,-29,-12,-26,-98,45,-25,33,-33,-43,-24,-50,-2,-1,37,15,-98,-56,3,33,-5,-23,-64,-21,20,-96,-13,-81,-1,1,-56,-81,-52,-17,-71,-92,-41,-4,-21,-75,26,44,-38,-98,44,-56,-65,-93,24,-66,-57,32,-36,19,-10,-9,-47,-49,1,26,-59,-7,-50,37,30,-45,-58,25,-55,-61,-36,45,-79,25,-89,23,-26,-69,-72,-52,-88,43,39,-56,-77,-41,-18,-38,-10,-86,-35,19,-19,48,-32,14,-79,7,-14,-37,-75,-48,36,-11,-57,35,-52,-1,34,-65,-56,50,-71,-35,2,-25,-10,-63,23,-88,-78,41,47,-57,-6,29,-21,-55,0,50,42,-98,-21,38,-76,-11,23,13,49,13,2,-75,21,-27,35,-16,-63,46,-54,16,-69,-87,-67,24,-53,27,21,-56,-56,-59,-66,-70,-61,-59,34,-68,-58,-27,-43,-4,-99,10,-61,-65,-60,-10,41,-70,37,-36,31,-54,-67,-11,-33,44,-83,-76,-84,-71,-7,-61,-49,21,38,-31,6,47,-60,16,20,-11,-87,-31,-47,47,34,40,18,-77,-41,-22,18,44,49,-82,-20,-30,-68,8,-43,-84,-95,-38,-49,-25,-24,-29,1,-51,-99,4,5,-46,-95,-35,-79,-34,22,-57,2,-25,-9,-77,-89,47,-31,38,-44,-6,-52,32,42,-9,-66,39,46,-61,5,-70,49,1,-14,-63,-56,-49,-47,39,26,-24,-88,-73,28,47,15,-29,-81,-70,34,-38,2,-59,-4,-86,-24,37,49,-51,44,25,-42,8,30,-17,45,0,7,-76,-86,-19,26,-92,-9,32,4,-46,-96,-39,-34,-17,-28,-14,17,-95,-26,47,-11,20,-62,-3,45,-34,-24,-69,-74,-25,-18,17,28,-55,-72,-97,41,-79,-91,-4,-68,-82,-65,-66,-69,-61,5,-90,7,-24,-20,38,-75,29,-13,-54,13,14,-67,50,2,-35,-78,34,-34,-86,39,-9,35,-45,-55,35,6,-90,46,-49,41,46,-17,37,45,-77,23,-35,-90,5,4,-64,-95,-78,-74,10,-6,-49,-8,-59,-6,-27,50,39,15,43,-51,45,5,-77,5,-63,-81,2,-82,27,-3,-33,-35,-3,-11,-92,-53,44,-20,12,-37,49,-47,-30,-48,36,6,-15,25,-62,-17,-35,-95,29,-90,-97,-76,-78,40,35,-18,-47,-60,-67,41,-63,-81,15,-82,-13,-16,-40,-87,49,-69,-44,-92,-26,42,26,-6,49,-67,44,-84,-51,32,-35,-97,-88,-52,-94,22,-40,-19,-59,-95,-27,41,31,-14,-51,32,-54,-8,-83,-81,-80,-44,-22,-61,34,-38,-37,-88,-13,-11,-77,-77,-36,11,2,-37,47,-3,40,-99,-90,5,-11,1,-35,30,34,-76,14,-95,-11,-20,-21,44,-12,37,-50,32,-12,36,-19,-58,-13,-43,-39,15,-99,35,-93,-96,-48,-53,-48,-40,25,-11,37,-1,-34,45,-19,35,-94,-65,47,-68,22,10,15,47,17,-52,-97,-47,-87,-96,-57,1,48,39,-34,48,-56,42,17,46,-83,5,-2,34,20,28,21,-25,-63,-67,-35,-33,34,-18,1,5,-100,-24,-16,4,-25,8,-9,-60,-33,-62,-58,-24,-52,-16,-21,-43,-35,38,-48,20,-94,-60,-45,32,7,-69,-88,-35,42,-55,49,50,31,-3,-100,-19,-96,-62,-73,31,31,-3,-90,14,-86,15,-84,41,-93,-20,28,5,39,-89,-53,-70,23,27,15,-28,-100,-46,42,16,-87,2,-47,-91,-40,-37,-8,21,-24,-34,20,-58,-51,-43,46,32,20,12,-42,42,-93,35,-23,-40,-100,24,-58,-61,-79,4,39,-45,-13,48,-10,-47,-64,-91,-4,-56,-78,-61,31,-49,-60,-39,-85,11,-69,-37,47,16,-94,11,-36,48,-58,-39,23,-73,46,38,-71,-76,-50,8,-41,-95,-8,-28,-39,-48,24,-18,-32,23,15,-90,12,-6,49,-62,-25,-81,-21,-46,-22,-74,-51,2,-36,-7,-43,33,23,-2,-86,41,-85,9,13,-48,-87,5,-38,-30,-57,-68,-5,-8,-38,-75,13,-99,-75,-69,-74,33,11,38,-3,-65,44,-93,15,39,-84,5,-88,-48,-78,-64,50,-36,-69,3,47,12,-73,12,33,-64,-13,-68,26,-49,-41,-32,-31,4,-73,-12,-22,27,-8,-12,33,-49,12,-67,-22,-15,23,-29,-43,-49,-78,-93,-21,-87,19,-48,-69,27,22,12,44,0,-34,30,-54,-11,-99,44,-65,-8,-13,-17,-64,-77,33,-31,-39,6,46,0,2,-31,-36,27,-20,-76,-79,12,-65,-60,46,-87,-56,-75,-54,35,-29,-40,40,-82,36,-34,-4,-2,-34,-40,-42,45,-78,-41,-27,-92,21,-23,43,27,-17,12,-33,-30,-11,-52,36,-29,-62,28,-19,-53,28,-100,-82,37,-32,-96,-85,-22,-81,-66,12,19,-2,-51,17,12,-84,-62,-47,-14,-83,29,-42,-2,-66,46,22,-83,-74,-81,0,-17,-10,-62,-65,-66,-88,-63,-13,20,-64,-57,-22,-79,-63,45,-9,-64,-74,45,8,-10,-35,-27,-61,-83,36,-96,-82,40,13,-5,-76,-20,-85,-69,-50,48,13,-94,-33,9,-28,-67,7,-8,-12,-71,-81,-64,45,50,18,-90,-71,43,22,-69,-44,-69,-13,40,0,-24,-84,-61,-84,-85,-96,-18,-35,-87,13,-56,21,-49,-75,40,38,3,-19,-20,-86,-62,-94,-59,-48,8,27,-8,16,-92,-29,-99,-53,-40,-59,-1,-26,-42,-48,-55,-60,-84,-95,-93,-72,35,45,11,-76,-36,40,-37,12,4,42,43,-4,26,-39,-58,-54,-12,29,-73,-32,14,-55,3,-51,-28,29,-18,-84,-68,-2,-2,-87,-4,9,10,45,-79,-79,7,-71,-8,-54,41,-98,-67,-35,-22,11,33,7,11,-47,-92,-88,21,24,-33,17,14,-68,-2,-13,6,-81,8,20,11,-93,-58,-29,-77,-38,-81,0,-69,-13,18,-60,50,9,29,40,0,50,-53,-47,-83,-60,-91,-84,5,-8,-10,-94,-23,-36,-55,-29,-26,-46,38,7,30,-64,-8,36,-68,-45,4,-82,-52,-29,-5,5,-50,-5,-92,35,-25,-51,-42,25,-14,-91,-98,-77,44,-53,-90,-83,-98,-34,44,-39,-11,11,-98,-42,-44,-28,-22,40,-22,-53,8,-12,-52,-39,-48,-47,-42,1,21,-30,-78,-47,-49,-52,-21,23,16,14,-40,0,14,5,-67,-41,-53,-77,-92,-52,13,-91,-31,-76,-70,31,34,-63,-71,-35,-27,-4,-47,-19,35,-45,30,24,-82,-5,-97,-30,-15,4,42,-60,42,-16,48,-89,-88,22,-91,43,-3,18,37,-81,-35,-58,5,0,-99,-6,-90,-55,-100,-47,32,18,-76,-95,1,-40,48,47,-57,21,-96,-45,-70,-10,2,22,-77,38,-36,-61,-81,2,-74,-76,-81,1,-12,28,-89,-68,-59,-4,-49,22,-74,-86,24,-40,-64,49,16,-26,-34,16,-83,-89,26,-11,9,6,-87,-1,-35,-11,-41,35,18,-80,37,37,0,-62,41,16,8,-20,-57,7,-55,16,19,-28,-37,-66,-4,-90,-81,-13,-87,-26,-78,39,-41,-32,19,41,13,43,-35,-47,49,-25,35,38,3,-14,13,-35,-13,-88,-31,-36,-24,-52,-96,-59,-73,31,-23,-28,26,29,-8,44,-23,-89,45,-96,-35,43,28,15,-9,-1,-13,-96,35,-34,-43,-20,13,-76,-23,16,4,-78,-17,9,-96,12,-63,44,-20,-59,39,-90,-18,28,-92,20,-7,-35,15,-20,29,44,7,31,15,7,-49,-25,-75,-86,-98,44,-81,-15,-17,15,-47,-6,1,40,-7,9,-18,-6,-83,9,-69,10,46,-68,3,20,3,45,-50,-70,35,-44,-40,-75,-26,-78,-44,-30,15,20,46,-3,-9,-8,37,-25,-24,-19,-99,20,-67,-89,17,47,-27,15,24,-8,16,14,-43,-93,49,-82,-15,-97,-22,36,21,-30,-49,36,2,-7,24,-77,32,-32,16,-4,-14,-5,-100,-59,29,-55,-89,-89,-24,-27,-73,-31,-36,-15,10,-99,-8,-19,48,-75,6,-42,-21,-54,-51,-72,-17,6,-34,-70,22,-29,11,-15,-2,-93,-28,46,-11,-50,-88,5,-36,-84,-52,-21,-35,-67,-20,-22,-35,-71,-35,44,-99,-95,12,-92,-21,-4,-27,-94,-98,-93,-78,-38,46,-63,-59,-31,-24,-46,-61,14,-5,-40,-82,20,-47,11,41,-20,-47,-97,-61,-37,19,-25,-64,44,-22,16,-2,25,-50,14,-88,-7,-40,-56,-73,-19,-53,30,-55,-80,-16,-73,-6,32,-100,1,-55,-93,4,25,15,-53,46,22,-5,-24,28,18,-61,-81,-62,1,-2,-45,30,34,5,-49,10,-37,-77,-96,-97,-60,-37,18,38,-92,6,19,42,8,6,-13,-91,28,-38,7,-14,-21,-73,20,17,-69,-29,-82,-25,-78,9,50,-38,0,-55,-6,37,-74,-29,40,-72,-88,31,2,-35,-78,-89,9,45,20,-49,-37,-55,-51,40,-64,-69,-18,-88,-77,44,-96,6,-63,-62,-64,-77,-25,42,-26,-43,-9,-3,-47,-62,30,-38,-2,-84,-16,-77,-90,-65,-44,-62,9,40,-84,5,37,-18,-95,-36,-74,36,-39,1,-33,-74,-16,34,5,-93,30,26,-17,9,-91,13,-32,17,-92,0,-28,14,15,-75,-14,10,-44,12,-17,-48,-86,-33,-99,-75,16,-46,-56,39,-57,-36,-81,28,-79,-17,18,28,-4,-25,-85,-82,-79,-61,-95,13,-18,-24,35,8,-31,8,-95,2,-22,-1,34,-10,4,-80,-58,-87,28,7,32,-13,8,-51,-98,24,1,-64,-55,35,23,-78,1,2,-54,-48,-1,-10,50,15,-64,17,50,-24,46,33,-11,16,-31,-78,9,-10,14,-51,-75,-45,21,-17,37,-38,-75,31,47,33,-73,-4,-83,47,-95,27,-24,-35,-72,37,-8,-2,50,-12,37,-86,-27,-84,23,21,-92,50,-16,-83,-73,-37,-8,-83,-68,4,6,-74,34,-60,18,-64,-60,-73,32,15,-4,-90,10,11,31,14,-99,-70,12,25,-11,24,40,-41,36,-23,-14,1,26,50,49,33,21,-40,-88,-41,-28,25,-61,20,-95,-33,-49,1,-90,-73,37,-87,-68,-36,-73,-61,-46,-41,-52,-69,-56,-59,-96,32,33,14,-11,1,-62,-78,-80,-99,-54,10,31,-44,-14,-3,46,-56,8,-89,50,-68,-36,-46,-94,-26,-1,-73,35,-69,-13,-81,-85,-34,26,-98,32,-80,-90,13,23,-26,-27,9,-86,-54,-91,50,23,44,6,-36,40,34,13,-68,-19,-15,-92,46,-88,40,-25,-18,-54,-49,24,-55,17,-84,-5,-95,-8,-98,15,17,8,-3,-19,18,15,-4,22,-24,-69,-3,-66,-20,-76,-44,-11,-81,29,-7,34,-39,-39,-58,-75,-27,21,-4,-80,20,-61,1,-68,34,-6,-71,-70,-92,-33,37,24,40,-93,-46,-38,-73,27,-77,-11,-94,-72,-9,-52,-43,49,-35,17,-45,-100,-3,-95,-34,16,-22,26,-47,16,-19,-51,41,-98,41,-16,31,41,-87,-84,-77,-78,-5,-88,-1,-96,41,-46,-69,24,1,-51,-30,-54,-45,-37,-36,38,36,-9,-86,-68,-54,-63,28,5,-32,18,-65,-42,-13,-34,21,-16,-79,40,-35,20,-25,30,1,-37,47,43,38,-80,13,2,17,-70,43,-60,14,-61,-68,-33,-53,-24,12,-69,-30,-39,-20,-29,28,36,-23,-14,-70,17,50,-60,-33,6,-22,-56,34,36,-84,-52,6,-42,-97,-95,28,-72,4,-19,9,-92,-30,38,-14,-17,-10,14,48,-82,8,-93,-82,-92,-56,17,-2,-39,-80,-58,-68,-58,-78,-63,-96,37,18,-34,-42,-95,49,48,-65,-58,31,-24,-57,-55,-96,-26,-29,9,41,-54,45,-74,-32,16,6,-34,38,5,-68,27,-9,-55,-35,-18,-18,-59,26,-4,-64,35,45,-43,-55,15,17,-85,-28,1,-35,25,35,-77,-84,-51,-92,-3,-2,-73,-16,-86,-81,-97,2,-13,5,-54,-89,-13,33,-53,27,-2,-66,-85,-89,-35,39,-89,-97,33,47,-46,-49,-22,-36,18,-82,5,42,-80,45,22,-34,7,-16,27,-26,-86,-30,-90,-11,-87,-38,2,-68,-39,15,-31,-80,0,9,-86,-20,-68,15,-97,19,-45,18,-74,-34,-92,-66,-44,23,-90,-68,2,-43,-60,2,-87,49,-85,-39,4,-18,-36,-23,14,32,-93,-53,-8,-63,-32,46,-67,43,-48,-55,-63,46,-24,40,10,-10,41,23,0,8,-70,-32,-3,-85,4,-99,-91,2,-77,22,5,34,-70,-17,3,20,-12,27,-60,42,2,-63,-14,30,-80,-92,32,-22,-94,-22,18,-38,45,38,-83,30,25,-92,11,-34,-72,11,-12,-94,-93,17,-74,-30,-28,40,-14,-76,-26,37,-82,-63,8,38,-68,-1,-31,11,-37,-38,-96,-17,-56,-80,-46,-99,2,16,12,-1,-61,-30,-19,13,-20,-14,29,-12,-48,44,-37,-3,16,-79,-28,-98,-9,-33,-29,-57,-4,10,-38,-61,-80,18,39,-23,-8,-83,-44,-57,-75,44,-89,50,17,-57,-63,-3,45,-21,12,-57,-22,-41,-10,10,-90,-90,-5,42,-98,2,-67,-58,45,-69,-49,6,-62,-94,21,-56,-36,-21,15,-90,-19,-46,-27,22,-37,6,-28,38,23,-53,-82,2,-38,-81,-15,1,50,-65,-27,42,-65,-67,39,-93,-5,15,-32,-40,-8,-26,-25,37,-11,-100,42,28,-12,44,-7,-32,-72,-78,-85,16,-90,-13,-91,-12,-69,-1,-54,-41,-27,-84,-100,22,37,-66,48,46,27,-8,-47,-34,-52,-83,-27,0,-67,-68,-64,-7,3,-90,-54,-21,-35,-78,-55,-49,44,-87,-63,-38,-4,-57,-89,-73,-27,-96,49,-91,35,-93,38,-91,-20,-99,-88,12,-38,49,-99,-41,-76,34,17,7,16,-61,-64,19,-46,-31,-24,-94,-10,37,-75,25,33,-36,-16,-44,-93,-30,-17,-34,-51,-99,-86,-5,-1,-38,-1,-18,25,-77,50,43,-95,8,8,-3,-91,-36,-100,-61,-48,44,-64,-1,-75,-70,-69,-43,-19,-9,6,-1,-60,44,39,-84,39,-8,-25,-97,32,-23,-62,-34,-69,-53,49,24,-49,43,-31,-2,-74,-49,-36,42,-29,45,-81,-22,-33,47,-59,14,-69,-8,38,-6,-2,-75,8,-62,-69,16,-89,14,-92,32,-35,9,3,3,-57,-33,-20,-93,-5,-6,-31,16,-76,-68,-33,-20,-57,11,10,-36,29,-28,-86,-61,-82,-100,-7,-38,-49,41,-24,19,-9,4,-13,28,43,-97,-38,10,-69,42,6,9,-14,-95,6,5,-75,32,-41,-34,-25,-53,13,7,-66,-96,44,44,-100,-58,-70,-71,-4,-83,36,-18,-34,12,-80,-90,-34,-21,-23,-24,12,-33,8,32,46,-4,-31,31,-51,40,-32,-47,-93,-90,-23,-32,-37,-78,-60,-28,15,-7,-11,-31,38,50,-52,-9,-32,15,-48,-90,-79,-61,-28,-54,-98,-51,-80,-22,41,36,-82,-59,-84,1,35,34,29,20,43,24,39,5,-12,-21,-4,-23,-14,-29,17,-5,-67,-59,45,20,2,-75,-96,48,47,-27,-29,-42,-14,-89,-78,-36,-58,-39,21,-6,27,-60,-67,-1,-77,-24,-53,-17,44,-54,-14,-25,22,-24,23,-35,4,48,-63,-75,-54,-36,-55,-35,1,-47,-90,-76,-33,-82,4,-76,-30,-52,43,-86,-62,-87,16,-32,-16,-13,-42,-17,-41,-32,-94,35,5,7,-52,43,-53,-80,-77,-87,-41,-99,-88,30,37,14,-9,-91,-66,-36,24,-82,-7,35,-19,-41,39,18,25,-35,-89,-6,36,19,-33,-37,46,49,45,46,42,37,28,-10,-19,5,33,-35,-64,-30,-72,-90,-90,7,-62,-23,-89,-64,-41,10,-14,46,-98,-73,-40,-72,4,27,-7,-15,43,-33,49,-73,43,-48,-49,40,45,-18,-74,23,-66,45,-65,1,-36,-21,44,26,-69,-80,17,18,34,-58,-87,32,-83,-64,32,-16,-48,-37,45,38,1,45,-28,37,-63,-25,46,-78,-81,-36,-48,43,23,-60,47,48,-24,-81,-51,-4,14,49,-97,11,40,-19,-80,-82,31,-92,7,49,18,-74,-40,-49,-50,-74,-56,-42,-69,-74,24,-87,-35,2,-86,-64,-16,20,-100,31,-97,-18,-9,-29,-73,36,-65,18,-79,17,22,36,18,12,21,-6,-68,28,-94,-13,20,-27,-7,-76,39,-98,-89,-16,32,-40,-59,-5,-98,-75,-30,45,-86,25,12,-46,32,38,-37,28,-19,24,-46,29,40,-60,13,-87,37,-91,-87,7,-94,17,39,-23,2,27,-19,17,-71,41,-25,-73,-88,-44,-47,39,-12,-96,-60,-34,-36,-87,-47,-53,14,13,-19,-63,-1,40,-37,36,-59,-3,38,-18,-53,-41,-41,40,-24,1,-57,34,-7,50,-70,-75,-26,25,-96,-99,3,-22,-77,-20,-36,-90,1,-8,-42,-16,-44,-63,24,-61,-24,-9,-65,9,-18,-65,-18,-53,-58,-77,-76,-24,-23,28,-91,2,4,-88,0,-37,-11,-95,30,13,35,-11,-42,45,30,-11,33,-16,-23,-30,37,-44,-85,-8,-18,-40,49,-32,-38,-26,-50,-14,30,-52,15,24,4,-29,-50,21,36,-78,-39,-7,12,-18,-89,-23,-7,-71,-3,10,28,-75,-49,-90,-26,22,-27,-25,-11,22,-62,-3,-78,-82,-10,20,38,28,-51,35,-22,-82,-87,-9,-30,-42,-17,-87,-44,-32,20,5,-86,-37,41,-92,-82,42,-41,-45,-70,-75,-36,-65,35,-93,-46,-3,-80,-64,47,20,11,-59,42,-37,16,6,25,-37,-90,-17,31,37,-8,-52,-68,-37,-80,4,32,15,29,8,-92,-77,40,-66,29,28,6,35,-90,-95,-84,-23,-71,6,-56,-49,30,-25,-27,-67,-76,-97,-15,20,-1,29,-95,-13,-22,-58,50,-83,44,-57,-70,16,11,-31,49,-69,4,-31,-95,49,6,-22,-7,12,-43,-25,-66,19,-1,-87,-49,-59,12,-19,-67,11,1,-83,2,48,-53,-48,-94,-46,-32,-38,-78,-19,-39,11,29,9,-49,41,-32,35,6,-7,-31,-65,-11,23,-68,40,-34,-31,47,-45,-86,-6,37,-55,-24,50,31,-44,-19,25,-29,7,40,-17,-35,-84,-61,-80,5,-51,19,-54,19,41,-100,-32,19,-22,-86,-36,-98,-75,26,-51,-92,-19,-28,-81,-80,-31,9,-93,-60,42,43,45,-5,-5,-77,-57,-54,-82,29,41,-47,2,-67,9,-36,-43,-57,-53,46,-84,-52,-83,2,-36,-16,-72,-6,20,-13,-33,-68,-47,-55,-35,-37,29,-13,-95,-1,48,-97,-83,13,-96,-2,-35,-16,-37,-82,45,-45,-30,-5,14,-47,20,-68,-76,-77,-58,-92,-35,-30,48,-37,-74,-10,-73,-60,17,-21,-54,-5,-22,-25,-9,-1,29,-23,-74,-70,-1,-91,-2,-77,-67,-35,17,27,0,11,1,23,42,12,18,5,-7,27,41,0,-43,-77,-80,-25,-17,-13,45,-80,-67,-81,-30,-93,20,35,-1,-69,-80,-96,-54,-68,-15,-69,8,-51,-71,17,-2,-19,41,-32,24,16,-40,11,-5,5,-98,-99,-87,-52,-89,-4,-50,-47,-27,-98,-56,9,19,-50,-96,-82,-57,-34,-68,-54,41,18,-24,39,-100,-4,30,-72,-93,-62,-64,16,48,-88,38,-52,-7,27,22,-76,23,-46,25,-33,14,-94,-22,-60,-41,-8,-96,-50,-40,3,-30,-73,-3,-4,10,-2,0,-75,-21,35,-96,-67,13,-93,36,7,-91,-47,35,-48,-94,31,-42,-24,-53,-28,-51,-23,-81,15,15,29,-92,3,19,-30,24,-59,-39,-93,-73,-79,45,-84,-31,-13,44,-9,-77,33,-47,-55,-55,6,-44,-29,48,-41,-97,-6,39,3,-48,-93,-35,42,-76,-93,-16,35,-36,-20,48,-76,42,47,-30,46,-90,19,-97,-61,26,40,41,-63,-85,30,-63,-69,7,10,-43,-8,8,-60,-85,-85,16,16,36,-88,-25,-94,-72,37,-44,-70,18,29,-32,-2,-54,-55,-16,-79,-61,-6,-74,-41,-68,-66,38,-57,-19,45,21,-26,-62,31,18,-65,35,-59,19,-45,-63,-2,24,-86,-87,-63,49,-29,-50,-30,36,-72,25,8,3,-39,-13,-87,3,-56,22,-56,33,-5,-38,-90,-93,44,-64,-25,27,-100,44,12,25,-20,4,-62,-70,-24,7,-74,-34,20,7,-97,-23,27,-23,-77,-77,24,37,30,-86,-3,29,-59,-97,-46,-37,-24,-75,-46,-44,-35,-9,-46,-11,-35,-78,33,-79,17,-83,-75,-76,20,14,16,40,-15,0,31,-26,25,-64,-20,-22,-91,-91,-14,-77,4,-11,-2,-60,-88,2,-81,-54,-27,4,-33,-86,-40,-8,-68,14,-4,-80,47,-83,36,-42,-69,23,-61,21,-87,-64,-56,-51,20,-88,-77,-3,-59,-62,4,-85,-6,-69,-61,-39,-44,-27,25,3,39,36,-82,-65,-52,2,19,-62,0,-37,7,19,-16,37,-58,-21,-38,8,8,0,-60,-7,13,26,-24,-54,-43,-33,46,40,-22,-59,21,44,25,-95,-35,-44,-85,-68,-51,-37,43,-19,-51,-47,39,10,5,44,-97,4,-80,-36,17,38,-31,-53,-6,-60,-71,-19,11,0,48,-44,24,-59,-51,-64,-5,-43,-61,-50,-57,-34,-39,-79,-92,-60,-98,-55,-84,-41,-90,-51,35,-51,-100,12,25,36,25,22,-48,-46,-33,-3,4,-33,-79,-50,-54,24,13,2,41,-74,31,-91,47,-27,-4,-22,-60,48,-47,-36,25,14,-70,-88,13,24,-63,6,-41,-53,1,-90,-83,-73,12,-53,-47,33,-68,-44,5,-58,39,45,47,-7,-57,-95,-30,32,-2,-10,-89,-99,-18,-88,20,-6,1,-98,-29,-46,-58,-52,1,-30,30,-30,-17,-39,-98,-60,-16,-23,-5,-23,32,-70,31,-69,-54,-66,22,-9,-95,9,1,-60,-76,31,-39,-63,-45,23,-72,-36,-31,-36,18,-73,-89,-20,-19,-55,36,-98,-95,8,-75,-72,-34,-2,-23,-8,-92,-23,-3,-61,13,45,-23,-51,16,-42,-47,-25,-90,-31,-6,26,-21,9,-62,50,1,-84,-67,-73,-40,21,34,21,43,-38,-8,-59,-20,18,39,44,-42,-14,-72,30,-20,6,48,40,31,15,43,-37,-19,-26,-29,-74,24,-46,22,0,9,0,4,-97,20,-2,41,-20,-96,-17,-26,34,41,-49,21,37,-61,8,-13,-4,23,-18,-80,39,30,-88,-93,49,-35,-7,17,27,-22,15,10,30,-90,-77,-74,42,-65,19,-92,9,-17,-51,-59,-1,22,-33,-24,-61,-12,-18]\n",
        "k = 1012\n",
        "\n",
        "from timeit import timeit\n",
        "timeit(\"Solution().maxAverage2(sample, k)\", \n",
        "       setup=\"from __main__ import Solution, sample, k\",\n",
        "       number=1000)"
      ],
      "execution_count": 9,
      "outputs": [
        {
          "output_type": "execute_result",
          "data": {
            "text/plain": [
              "80.46891188621521"
            ]
          },
          "metadata": {
            "tags": []
          },
          "execution_count": 9
        }
      ]
    },
    {
      "metadata": {
        "id": "vWuVmOli2Cdn",
        "colab_type": "text"
      },
      "cell_type": "markdown",
      "source": [
        "### Maximum Product Subarray\n",
        "\n",
        "Description\n",
        "Find the contiguous subarray within an array (containing at least one number) \n",
        "which has the largest product.\n",
        "\n",
        "```\n",
        "Example\n",
        "For example, given the array [2,3,-2,4], \n",
        "the contiguous subarray [2,3] has the largest product = 6.\n",
        "```\n",
        "\n"
      ]
    },
    {
      "metadata": {
        "id": "6J7DyDa6jEoB",
        "colab_type": "code",
        "colab": {
          "base_uri": "https://localhost:8080/",
          "height": 34
        },
        "outputId": "88afcba9-1691-440c-f029-d9ab84956bc6"
      },
      "cell_type": "code",
      "source": [
        "class Solution:\n",
        "    # param nums: an integer[]\n",
        "    # return: an integer\n",
        "    def maxProduct(self, nums):\n",
        "        # write your code here\n",
        "        f, g = [], []\n",
        "        f.append(nums[0])\n",
        "        g.append(nums[0])\n",
        "        for i in range(1, len(nums)):\n",
        "            f.append(max(f[i-1]*nums[i], g[i-1]*nums[i], nums[i]))\n",
        "            g.append(min(f[i-1]*nums[i], g[i-1]*nums[i], nums[i]))\n",
        "        \n",
        "        return max(f)\n",
        "      \n",
        "if __name__ == \"__main__\":\n",
        "    print Solution().maxProduct([2,3,-2,4])"
      ],
      "execution_count": 2,
      "outputs": [
        {
          "output_type": "stream",
          "text": [
            "6\n"
          ],
          "name": "stdout"
        }
      ]
    },
    {
      "metadata": {
        "id": "zpKDfktr2Cnt",
        "colab_type": "text"
      },
      "cell_type": "markdown",
      "source": [
        "### Minimum Adjustment Cost\n",
        "Description\n",
        "Given an integer array, adjust each integers so that \n",
        "the difference of every adjacent integers are not greater than a given number target.\n",
        "If the array before adjustment is A, the array after adjustment is B, \n",
        "you should minimize the sum of |A[i]-B[i]|\n",
        "\n",
        "```\n",
        "Notice\n",
        "You can assume each number in the array is a positive integer and not greater than 100.\n",
        "\n",
        "Example\n",
        "Given [1,4,2,3] and target = 1, one of the solutions is [2,3,2,3], \n",
        "the adjustment cost is 2 and it's minimal.\n",
        "Return 2.\n",
        "```\n",
        "\n",
        "\n",
        "f[i][k] = min(f[i][k], f[i-1][j] + abs(A[i-1]-k))\n",
        "\n"
      ]
    },
    {
      "metadata": {
        "id": "THJ-JdLmoMAx",
        "colab_type": "code",
        "colab": {
          "base_uri": "https://localhost:8080/",
          "height": 34
        },
        "outputId": "4549eb4b-3469-43e6-b368-8643bafc3d92"
      },
      "cell_type": "code",
      "source": [
        "class Solution:\n",
        "    # param A: An integer array.\n",
        "    # param target: An integer.\n",
        "    def MinAdjustmentCost(self, A, target):\n",
        "        # write your code here\n",
        "        maxint = 65536\n",
        "        f = [[ maxint for j in range(101)] for i in range(len(A)+1)]\n",
        "        for i in range(101):\n",
        "            f[0][i] = 0\n",
        "        n = len(A)\n",
        "        \n",
        "        for i in range(1,n+1):\n",
        "          for j in range(101):\n",
        "            if f[i-1][j] != maxint:\n",
        "              for k in range(101):\n",
        "                if abs(j-k) <= target:\n",
        "                  f[i][k] = min(f[i][k], f[i-1][j] + abs(A[i-1]-k))\n",
        "        \n",
        "        return min(f[n])\n",
        "\n",
        "if __name__ == \"__main__\":\n",
        "    print Solution().MinAdjustmentCost([1,4,2,3], 1)"
      ],
      "execution_count": 7,
      "outputs": [
        {
          "output_type": "stream",
          "text": [
            "2\n"
          ],
          "name": "stdout"
        }
      ]
    },
    {
      "metadata": {
        "id": "D7ZMJ9c1riV8",
        "colab_type": "text"
      },
      "cell_type": "markdown",
      "source": [
        "## 背包型动态规划\n",
        "\n",
        "\n",
        "特点：\n",
        "\t1. 用值作为DP维度\n",
        "\t2. DP过程就是填写矩阵\n",
        "\t3. 可以滚动数组优化\n",
        "Backpack\n",
        "\t1. State:\n",
        "\t\t○ f[i][S] “前i”个物品，取出一些能否组成和为S\n",
        "\t2. Function:\n",
        "\t\t○ f[i][S] = f[i-1][S - a[i]] or f[i-1][S]\n",
        "\t3. Intialize:\n",
        "\t\t○ f[i][0] = true; f[0][1..target] = false\n",
        "\t4. Answer:\n",
        "\t\t○ 检查所有的f[n][j]\n",
        "时间复杂度 O(n*S) ， 滚动数组优化\n",
        "\n",
        "\n",
        "\n"
      ]
    },
    {
      "metadata": {
        "id": "eLcEJ3Z6Ikwi",
        "colab_type": "text"
      },
      "cell_type": "markdown",
      "source": [
        "### Backpack I \n",
        "\n",
        "Backpack\n",
        "Given n items with size Ai, an integer m denotes the size of a backpack. How full you can fill this backpack?\n",
        "\n",
        "Example\n",
        "```\n",
        "If we have 4 items with size [2, 3, 5, 7], the backpack size is 11, we can select [2, 3, 5], so that the max size we can fill this backpack is 10. If the backpack size is 12. we can select [2, 3, 7] so that we can fulfill the backpack.\n",
        "```\n",
        "\n",
        "You function should return the max size we can fill in the given backpack.\n",
        "\n",
        "Challenge:\n",
        "\n",
        "> O(n x m) time and O(m) memory.\n",
        "\n",
        ">O(n x m) memory is also acceptable if you do not know how to optimize memory.\n",
        "\n",
        "Solution: 标准 01背包问题，如下规划方程，选择第i个物品，放还是不放到包里，看是不是能增加更多的重量。\n",
        "\n",
        "> $f_v = max(f_v, \\   f_{v-c_i} + w_i)$\n",
        "\n",
        "\n",
        "> \n",
        "\n",
        "*   要求恰好装满背包，那么在初始化时除了 f[0] 为 0，其它f[1::V ] 均设为 − maxsize这样就可以保证最终得到的 F[V ] 是一种恰好装满背包的最优解。\n",
        "*   如果并没有要求必须把背包装满，而是只希望价格尽量大，初始化时应该将 F[0::V ]\n",
        "全部设为 0\n",
        "*    初始化的 F 数组事实上就是在没有任何物品可以放入背包时的合法状态。如果要求背包恰好装满，那么此时只有容量为 0 的背包可以在什么也不装且价值为 0 的情况下被“恰好装满”，其它容量的背包均没有合法的解，属于未定义的状态，应该被赋值为 -∞ 了。\n",
        "* 如果背包并非必须被装满，那么任何容量的背包都有一个合法解“什么都不装”，这个解的价值为 0，所以初始时状态的值也就全部为 0了。"
      ]
    },
    {
      "metadata": {
        "id": "WzchCvuKIkKz",
        "colab_type": "code",
        "colab": {
          "base_uri": "https://localhost:8080/",
          "height": 52
        },
        "outputId": "ebbcf4c3-2edd-4aea-d81e-ed2d12712127"
      },
      "cell_type": "code",
      "source": [
        "class Solution:\n",
        "    \"\"\"\n",
        "    @param m: An integer m denotes the size of a backpack\n",
        "    @param A: Given n items with size A[i]\n",
        "    @return: The maximum size\n",
        "    \"\"\"\n",
        "    def backPack(self, m, A):\n",
        "        f = [0 for _ in range(m+1)] # dp[v] stands for v size package to fill\n",
        "        f[0] = 0  \n",
        "        for i in range(len(A)):\n",
        "          for v in range(m, A[i]-1, -1): # C[i] = A[i] for any i\n",
        "            f[v] = max(f[v], f[v-A[i]] + A[i]) \n",
        "        print f\n",
        "        return f[m]\n",
        "\n",
        "if __name__ == \"__main__\":\n",
        "  s = Solution()\n",
        "  m = 11\n",
        "  A = [2, 3, 5, 7]\n",
        "  print s.backPack(m, A) \n"
      ],
      "execution_count": 15,
      "outputs": [
        {
          "output_type": "stream",
          "text": [
            "[0, 0, 2, 3, 3, 5, 5, 7, 8, 9, 10, 10]\n",
            "10\n"
          ],
          "name": "stdout"
        }
      ]
    },
    {
      "metadata": {
        "id": "JFIkwsC0Qc9I",
        "colab_type": "text"
      },
      "cell_type": "markdown",
      "source": [
        "### Backpack II, III \n",
        "\n",
        "Given n items with size Ai and value Vi, and a backpack with size m. What's the maximum value can you put into the backpack?\n",
        "\n",
        "Example\n",
        "```\n",
        "Given 4 items with size [2, 3, 5, 7] and value [1, 5, 2, 4], and a backpack with size 10. The maximum value is 9.\n",
        "```\n",
        "Challenge\n",
        "O(n x m) memory is acceptable, can you do it in O(m) memory?"
      ]
    },
    {
      "metadata": {
        "id": "VgF3HJspK6Ky",
        "colab_type": "code",
        "colab": {
          "base_uri": "https://localhost:8080/",
          "height": 124
        },
        "outputId": "e5ca6183-94fd-4867-b7ac-839bdfd2cd63"
      },
      "cell_type": "code",
      "source": [
        "class Solution:\n",
        "    \"\"\"\n",
        "    @param m: An integer m denotes the size of a backpack\n",
        "    @param A: Given n items with size A[i]\n",
        "    @param V: Given n items with value V[i]\n",
        "    @return: The maximum value\n",
        "    \"\"\"\n",
        "    def backPackII(self, m, A, V):\n",
        "        f = [0 for _ in range(m+1)]\n",
        "        for i in range(len(A)):\n",
        "          for v in range(m, A[i]-1 , -1):\n",
        "            f[v] = max(f[v], f[v - A[i]] + V[i])\n",
        "        print f\n",
        "        return f[m]\n",
        "    \n",
        "    def backPackIII(self, m, A, V):\n",
        "        f = [0 for _ in range(m+1)]\n",
        "        for i in range(len(A)):\n",
        "          for v in range(A[i], m+1):\n",
        "            f[v] = max(f[v], f[v - A[i]] + V[i])\n",
        "        print f\n",
        "        return f[m]\n",
        "      \n",
        "    def backPackIII_full(self, m, A, V):\n",
        "        f = [ -65535 for _ in range(m+1)]\n",
        "        f[0] = 0\n",
        "        for i in range(len(A)):\n",
        "          for v in range(A[i], m+1):\n",
        "            f[v] = max(f[v], f[v-A[i]] + V[i])\n",
        "        print f\n",
        "        return f[m]\n",
        "      \n",
        "      \n",
        "if __name__ == \"__main__\":\n",
        "  A = [2, 3, 5, 7]\n",
        "  V = [1, 5, 2, 4]\n",
        "  s = Solution()\n",
        "  print s.backPackII(10, A, V)\n",
        "  print s.backPackIII(10, A, V)\n",
        "  print s.backPackIII_full(10, A, V)"
      ],
      "execution_count": 23,
      "outputs": [
        {
          "output_type": "stream",
          "text": [
            "[0, 0, 1, 5, 5, 6, 6, 6, 7, 7, 9]\n",
            "9\n",
            "[0, 0, 1, 5, 5, 6, 10, 10, 11, 15, 15]\n",
            "15\n",
            "[0, -65535, 1, 5, 2, 6, 10, 7, 11, 15, 12]\n",
            "12\n"
          ],
          "name": "stdout"
        }
      ]
    },
    {
      "metadata": {
        "id": "L2EP-hYawE17",
        "colab_type": "text"
      },
      "cell_type": "markdown",
      "source": [
        "### Backpack IV, V, VI\n",
        "\n",
        "Given n items with size nums[i] which an integer array and all positive numbers, no duplicates. An integer target denotes the size of a backpack. Find the number of possible fill the backpack.\n",
        "\n",
        "\n",
        "> IV: 重复选择+唯一排列+装满可能性总数\n",
        "\n",
        "> V:  单次选择+装满可能性总数\n",
        "\n",
        "> VI: 重复选择+不同排列+装满可能性总数 = Combination Sum IV\n",
        "\n",
        "\n",
        "Notes: II~V 能够用一维dp表示的本质其实是因为当前行的值只和上一行有关，因此用动态数组两行就行，如果直接在上一行更新当前行的状态则只需要一行即可，因此其本质就是还是二维dp。但是VI真的是一维dp，即当前容量的填装数量只和之前容量填装的结果有关，只不过每次填装都要遍历整个nums数组来寻找相关的之前容量的状态，因此要用两重for循环。\n",
        "\n"
      ]
    },
    {
      "metadata": {
        "id": "2qx0DfmW8unO",
        "colab_type": "code",
        "colab": {
          "base_uri": "https://localhost:8080/",
          "height": 248
        },
        "outputId": "8c590e33-391e-4b47-9b3e-b99e72af5cf1"
      },
      "cell_type": "code",
      "source": [
        "class Solution:\n",
        "  \n",
        "  \n",
        "  def backpackIV(self, nums, target):\n",
        "    dp = [0 for _ in range(target + 1)]\n",
        "    dp[0] = 1\n",
        "    for num in nums:\n",
        "      for j in range(num, target+1):\n",
        "        dp[j] += dp[j-num]\n",
        "      print dp\n",
        "    return dp[target]\n",
        "  \n",
        "  def backpackV(self, nums, target):\n",
        "    dp = [0 for _ in range(target + 1)]\n",
        "    dp[0] = 1\n",
        "    for num in nums:\n",
        "      for j in range(target, num-1, -1):\n",
        "        dp[j] += dp[j-num]\n",
        "      print dp\n",
        "    return dp[target]\n",
        "  \n",
        "  def backpackVI(self, nums, target):\n",
        "    dp = [0 for _ in range(target + 1)]\n",
        "    dp[0] = 1\n",
        "    for j in range(1, target+1):\n",
        "      for num in nums:  \n",
        "        if num <= j:\n",
        "          dp[j] += dp[j-num]\n",
        "      print dp\n",
        "    return dp[target]\n",
        "  \n",
        "  \n",
        "if __name__ == \"__main__\":\n",
        "  \n",
        "  print Solution().backpackIV([1,2,4], 4)\n",
        "  print Solution().backpackV([1,2,4], 4)\n",
        "  print Solution().backpackVI([1,2,4], 4)\n",
        "    \n",
        "    "
      ],
      "execution_count": 13,
      "outputs": [
        {
          "output_type": "stream",
          "text": [
            "[1, 1, 1, 1, 1]\n",
            "[1, 1, 2, 2, 3]\n",
            "[1, 1, 2, 2, 4]\n",
            "4\n",
            "[1, 1, 0, 0, 0]\n",
            "[1, 1, 1, 1, 0]\n",
            "[1, 1, 1, 1, 1]\n",
            "1\n",
            "[1, 1, 0, 0, 0]\n",
            "[1, 1, 2, 0, 0]\n",
            "[1, 1, 2, 3, 0]\n",
            "[1, 1, 2, 3, 6]\n",
            "6\n"
          ],
          "name": "stdout"
        }
      ]
    },
    {
      "metadata": {
        "id": "3we7BBI12u4i",
        "colab_type": "text"
      },
      "cell_type": "markdown",
      "source": [
        "### K sum\n",
        "Description\n",
        "Given n distinct positive integers, integer k (k <= n) and a number target.\n",
        "Find k numbers where sum is target. Calculate how many solutions there are?\n",
        "\n",
        "```\n",
        "Example\n",
        "Given [1,2,3,4], k = 2, target = 5.\n",
        "There are 2 solutions: [1,4] and [2,3].\n",
        "Return 2.\n",
        "```\n",
        "\n",
        "$ f[i][j][t] = f[i-1][j][t] +f[i-1][j-1][t-nums[i]]$"
      ]
    },
    {
      "metadata": {
        "id": "xFlX8S637iC3",
        "colab_type": "code",
        "colab": {
          "base_uri": "https://localhost:8080/",
          "height": 106
        },
        "outputId": "a0d065a2-7ed1-41ca-bdd1-5c80ce73d09e"
      },
      "cell_type": "code",
      "source": [
        "class Solution:\n",
        "  def ksum(self, nums, k, target):\n",
        "    f = [[[0 for t in range(target+1)]\n",
        "             for j in range(k+1)]\n",
        "             for i in range(len(nums)+1)]\n",
        "    \n",
        "    for i in range(len(nums)+1):\n",
        "      f[i][0][0] = 1 # for any i, select 0 item and sum 0 solution is 1 \n",
        "    \n",
        "    for i in range(1, len(nums)+1):\n",
        "      for j in range(1, min(i,k)+1):\n",
        "        for t in range(target+1):\n",
        "          if t >= nums[i-1]:\n",
        "            f[i][j][t] = f[i-1][j][t] + f[i-1][j-1][t-nums[i-1]]\n",
        "          else:\n",
        "            f[i][j][t] = f[i-1][j][t]\n",
        "    \n",
        "    for _ in f:\n",
        "      print _\n",
        "      \n",
        "    return f[-1][-1][-1]\n",
        "  \n",
        "if __name__ == \"__main__\":\n",
        "  Solution().ksum([1,2,3,4], 2, 5)"
      ],
      "execution_count": 4,
      "outputs": [
        {
          "output_type": "stream",
          "text": [
            "[[1, 0, 0, 0, 0, 0], [0, 0, 0, 0, 0, 0], [0, 0, 0, 0, 0, 0]]\n",
            "[[1, 0, 0, 0, 0, 0], [0, 1, 0, 0, 0, 0], [0, 0, 0, 0, 0, 0]]\n",
            "[[1, 0, 0, 0, 0, 0], [0, 1, 1, 0, 0, 0], [0, 0, 0, 1, 0, 0]]\n",
            "[[1, 0, 0, 0, 0, 0], [0, 1, 1, 1, 0, 0], [0, 0, 0, 1, 1, 1]]\n",
            "[[1, 0, 0, 0, 0, 0], [0, 1, 1, 1, 1, 0], [0, 0, 0, 1, 1, 2]]\n"
          ],
          "name": "stdout"
        }
      ]
    },
    {
      "metadata": {
        "id": "pYSh20CBri5F",
        "colab_type": "text"
      },
      "cell_type": "markdown",
      "source": [
        "## 区间型动态规划\n",
        "\n",
        "特点：\n",
        "\t1. 求一段区间的解max/min/count\n",
        "\t2. 转移方程通过区间更新\n",
        "\t3. 从大到小的更新\n",
        "这种题目共性就是区间最后求[0,n-1] 这样一个区间，逆向思维分析，从大到小就能迎刃而解， 逆向 =》 分治类似"
      ]
    },
    {
      "metadata": {
        "id": "py16mejRugor",
        "colab_type": "text"
      },
      "cell_type": "markdown",
      "source": [
        "### Longest Palindromic Subsequence\n",
        "\n",
        "Description\n",
        "Given a string s, find the longest palindromic subsequence's length in s. You may assume that the maximum length of s is 1000.\n",
        "\n",
        "Have you met this question in a real interview?  \n",
        "```\n",
        "Example\n",
        "Given s = \"bbbab\" return 4\n",
        "One possible longest palindromic subsequence is \"bbbb\".\n",
        "```\n",
        "\n",
        "Solution:\n",
        "```\n",
        "dp[i][j]: the longest palindromic subsequence's length of substring(i, j)\n",
        "\n",
        "State transition:\n",
        "dp[i][j] = dp[i+1][j-1] + 2 if s.charAt(i) == s.charAt(j)\n",
        "\n",
        "otherwise, dp[i][j] = Math.max(dp[i+1][j], dp[i][j-1])\n",
        "Initialization: dp[i][i] = 1\n",
        "\n",
        "```"
      ]
    },
    {
      "metadata": {
        "id": "VOkztxx4vThc",
        "colab_type": "code",
        "colab": {
          "base_uri": "https://localhost:8080/",
          "height": 34
        },
        "outputId": "9c2c6b07-e759-4429-fd5c-4447d7c0faaf"
      },
      "cell_type": "code",
      "source": [
        "class Solution(object):\n",
        "    \"\"\"\n",
        "    @param s: the maximum length of s is 1000\n",
        "    @return: the longest palindromic subsequence's length\n",
        "    \"\"\"\n",
        "    def longestPalindromeSubseq(self, s):\n",
        "        if s == \"\":\n",
        "          return 0\n",
        "        f = [[0 for j in range(len(s))] \n",
        "                for i in range(len(s))]\n",
        "        for i in range(len(s)-1, -1, -1):\n",
        "          f[i][i] = 1 \n",
        "          for j in range(i+1, len(s)):\n",
        "            if s[i] == s[j]:\n",
        "              f[i][j] = f[i+1][j-1] + 2\n",
        "            else:\n",
        "              f[i][j] = max(f[i+1][j], f[i][j-1])\n",
        "        return f[0][-1]\n",
        "    \n",
        "    \n",
        "if __name__ == \"__main__\":\n",
        "    print Solution().longestPalindromeSubseq('bbbab')\n",
        "        "
      ],
      "execution_count": 16,
      "outputs": [
        {
          "output_type": "stream",
          "text": [
            "4\n"
          ],
          "name": "stdout"
        }
      ]
    },
    {
      "metadata": {
        "id": "TaV4Ev06uiK7",
        "colab_type": "text"
      },
      "cell_type": "markdown",
      "source": [
        "### Longest Palindromic Substring\n"
      ]
    },
    {
      "metadata": {
        "id": "JTh0tr_OHapI",
        "colab_type": "code",
        "colab": {
          "base_uri": "https://localhost:8080/",
          "height": 34
        },
        "outputId": "f264bee7-2db0-4990-b0fa-b9a817cc09f7"
      },
      "cell_type": "code",
      "source": [
        "class Solution:\n",
        "    \"\"\"\n",
        "    @param s: input string\n",
        "    @return: the longest palindromic substring\n",
        "    \"\"\"\n",
        "    def longestPalindrome(self, s):\n",
        "        res = \"\"\n",
        "        for i in xrange(len(s)):\n",
        "            # odd case, like \"aba\"\n",
        "            tmp = self.helper(s, i, i)\n",
        "            if len(tmp) > len(res):\n",
        "                res = tmp\n",
        "            # even case, like \"abba\"\n",
        "            tmp = self.helper(s, i, i+1)\n",
        "            if len(tmp) > len(res):\n",
        "                res = tmp\n",
        "        return res\n",
        "\n",
        "    # get the longest palindrome, l, r are the middle indexes   \n",
        "    # from inner to outer\n",
        "    def helper(self, s, l, r):\n",
        "        while l >= 0 and r < len(s) and s[l] == s[r]:\n",
        "            l -= 1; r += 1\n",
        "        return s[l+1:r]\n",
        "\n",
        "if __name__ == \"__main__\":\n",
        "    print Solution().longestPalindrome('abbac')\n",
        "        \n",
        "        "
      ],
      "execution_count": 20,
      "outputs": [
        {
          "output_type": "stream",
          "text": [
            "abba\n"
          ],
          "name": "stdout"
        }
      ]
    },
    {
      "metadata": {
        "id": "CGyiXeYXupc0",
        "colab_type": "text"
      },
      "cell_type": "markdown",
      "source": [
        "### Shortest Palindrome"
      ]
    },
    {
      "metadata": {
        "id": "Yb7nRoyVu2JV",
        "colab_type": "text"
      },
      "cell_type": "markdown",
      "source": [
        "### Palindrome Pairs"
      ]
    },
    {
      "metadata": {
        "id": "bIFNuMmArjAl",
        "colab_type": "text"
      },
      "cell_type": "markdown",
      "source": [
        "## 博弈型动态规划\n",
        "\n",
        "\n",
        "博弈有先后手\n",
        "\t1. State:\n",
        "\t\t○ 定义一个人的状态\n",
        "\t2. Function:\n",
        "\t\t○ 考虑两个人的状态做状态更新\n",
        "\t3. Initialize:\n",
        "\t4. Answer:\n",
        "先思考最小状态, 然后思考大的状态-> 往小的递推，那么非常适合记忆化搜索\n"
      ]
    },
    {
      "metadata": {
        "id": "H-TbGuZD6gTh",
        "colab_type": "code",
        "colab": {}
      },
      "cell_type": "code",
      "source": [
        ""
      ],
      "execution_count": 0,
      "outputs": []
    }
  ]
}