{
 "cells": [
  {
   "cell_type": "code",
   "execution_count": 48,
   "metadata": {},
   "outputs": [],
   "source": [
    "### Solution 3 \n",
    "\n",
    "import pandas as pd\n",
    "class FileChecker(object):\n",
    "    \n",
    "    def __init__(self, file):\n",
    "        df = pd.read_csv(file, sep=\"|\")\n",
    "        \n",
    "    def check1(self):\n",
    "        '''\n",
    "        Check if file column num is constant \n",
    "        '''\n",
    "        return any(df.isnull())\n",
    "    \n",
    "    def check2(self, num):\n",
    "        '''\n",
    "        Check if file col num is num\n",
    "        '''\n",
    "        return df.shape[1] == num\n",
    "    \n",
    "    def check3(self, num=100):\n",
    "        '''\n",
    "        Check if file row num is greater num\n",
    "        '''\n",
    "        return df.shape[0] > num\n",
    "    \n",
    "    def check4(self, num):\n",
    "        '''\n",
    "        Check if file row num is num\n",
    "        '''\n",
    "        return df.shape[1] == num\n",
    "    \n",
    "    def check5(self, col_num, string):\n",
    "        '''\n",
    "        Check if a column contains string\n",
    "        '''\n",
    "        return any(df.iloc[:,col_num-1].str.contains(string))\n",
    "    \n",
    "    \n",
    "    def check6(self, col_num=1, string='SSE'):\n",
    "        '''\n",
    "        Check if a column not contains string\n",
    "        '''\n",
    "        return not any(df.iloc[:,col_num-1].str.contains(string))\n",
    "    \n",
    "    def check7(self, col_num, value):\n",
    "        '''\n",
    "        Check if a column has some value\n",
    "        '''\n",
    "        s = df.iloc[:,col_num-1]\n",
    "        return len(s[s == value]) > 0 \n",
    "    \n",
    "    \n",
    "    def check7(self, col_num, a, b):\n",
    "        '''\n",
    "        Check if a column is in range(a,b)\n",
    "        '''\n",
    "        s = df.iloc[:,col_num-1]\n",
    "        return len(s[s>a][s<b]) > 0 \n",
    "    "
   ]
  },
  {
   "cell_type": "code",
   "execution_count": 69,
   "metadata": {},
   "outputs": [
    {
     "name": "stdout",
     "output_type": "stream",
     "text": [
      "Please check input, only, support 1 ~ 6 check\n",
      "Please check input, only, support 1 ~ 6 check\n",
      "False\n"
     ]
    }
   ],
   "source": [
    "if __name__ == \"__main__\":\n",
    "    from sys import argv\n",
    "    try:\n",
    "        sample = map(str, range(1,7))\n",
    "        for v in argv[1:]:\n",
    "            if v not in list(sample):\n",
    "                print ('Please check input, only, support 1 ~ 6 check')\n",
    "\n",
    "        s = FileChecker('3.quotes.txt')\n",
    "        check = {'1':s.check1, \n",
    "                 '2':s.check2,\n",
    "                 '3':s.check3,\n",
    "                 '4':s.check4,\n",
    "                 '5':s.check5,\n",
    "                 '6':s.check6,}\n",
    "        \n",
    "        flag = True\n",
    "        for v in ['1','3','6']:\n",
    "            if check[v]():\n",
    "                flag = False\n",
    "                break\n",
    "        \n",
    "        print(flag)\n",
    "        \n",
    "        \n",
    "        \n",
    "    except:\n",
    "        raise ValueError('invalid input')"
   ]
  },
  {
   "cell_type": "code",
   "execution_count": 70,
   "metadata": {},
   "outputs": [],
   "source": [
    "sample = map(str, range(1,7))"
   ]
  }
 ],
 "metadata": {
  "kernelspec": {
   "display_name": "Python 3",
   "language": "python",
   "name": "python3"
  },
  "language_info": {
   "codemirror_mode": {
    "name": "ipython",
    "version": 3
   },
   "file_extension": ".py",
   "mimetype": "text/x-python",
   "name": "python",
   "nbconvert_exporter": "python",
   "pygments_lexer": "ipython3",
   "version": "3.6.6"
  }
 },
 "nbformat": 4,
 "nbformat_minor": 2
}
